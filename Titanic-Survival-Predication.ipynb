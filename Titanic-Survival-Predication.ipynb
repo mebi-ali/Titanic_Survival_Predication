{
 "cells": [
  {
   "cell_type": "markdown",
   "id": "b1fd8eba",
   "metadata": {
    "_cell_guid": "b1076dfc-b9ad-4769-8c92-a6c4dae69d19",
    "_uuid": "8f2839f25d086af736a60e9eeb907d3b93b6e0e5",
    "execution": {
     "iopub.execute_input": "2022-12-02T18:13:06.723663Z",
     "iopub.status.busy": "2022-12-02T18:13:06.722752Z",
     "iopub.status.idle": "2022-12-02T18:13:06.753192Z",
     "shell.execute_reply": "2022-12-02T18:13:06.752034Z",
     "shell.execute_reply.started": "2022-12-02T18:13:06.723556Z"
    },
    "papermill": {
     "duration": 0.016498,
     "end_time": "2022-12-20T08:45:25.980861",
     "exception": false,
     "start_time": "2022-12-20T08:45:25.964363",
     "status": "completed"
    },
    "tags": []
   },
   "source": [
    "# *Titanic - Machine Learning from Disaster*\n",
    "\n",
    "## Probelem Statement\n",
    "\n",
    "The sinking of the Titanic is one of the most infamous shipwrecks in history.\n",
    "\n",
    "On April 15, 1912, during her maiden voyage, the widely considered “unsinkable” RMS Titanic sank after colliding with an iceberg. Unfortunately, there weren’t enough lifeboats for everyone onboard, resulting in the death of 1502 out of 2224 passengers and crew.\n",
    "\n",
    "While there was some element of luck involved in surviving, it seems some groups of people were more likely to survive than others.\n",
    "\n",
    "In this challenge, we ask you to build a predictive model that answers the question: “what sorts of people were more likely to survive?” using passenger data (ie name, age, gender, socio-economic class, etc).\n",
    "\n",
    "## Statement Analysis\n",
    "* Supervised Machine Learning Problem.\n",
    "* The Target Value is **Survived**.\n",
    "\n",
    "## Goal\n",
    "Using this model, We will try to understand what sort of people were more likely to **survive** than others."
   ]
  },
  {
   "cell_type": "markdown",
   "id": "e98aec05",
   "metadata": {
    "papermill": {
     "duration": 0.014238,
     "end_time": "2022-12-20T08:45:26.011565",
     "exception": false,
     "start_time": "2022-12-20T08:45:25.997327",
     "status": "completed"
    },
    "tags": []
   },
   "source": [
    "# *Hypothesis Generation*\n",
    "* Females have more chance of surviving.\n",
    "* Children have more chance of surviving.\n",
    "* Upper Class (VIPS) have more chance of surviving.\n",
    "* People with less siblings have more chance of surviving.\n",
    "* Person with no family/sibings have more chance of surviving.\n",
    "* Swimmers have more chance of surviving.\n"
   ]
  },
  {
   "cell_type": "markdown",
   "id": "6535c31f",
   "metadata": {
    "papermill": {
     "duration": 0.014515,
     "end_time": "2022-12-20T08:45:26.040996",
     "exception": false,
     "start_time": "2022-12-20T08:45:26.026481",
     "status": "completed"
    },
    "tags": []
   },
   "source": [
    "# *Libraries*"
   ]
  },
  {
   "cell_type": "code",
   "execution_count": 1,
   "id": "0ec66b22",
   "metadata": {
    "execution": {
     "iopub.execute_input": "2022-12-20T08:45:26.072441Z",
     "iopub.status.busy": "2022-12-20T08:45:26.071389Z",
     "iopub.status.idle": "2022-12-20T08:45:27.290575Z",
     "shell.execute_reply": "2022-12-20T08:45:27.289310Z"
    },
    "papermill": {
     "duration": 1.238441,
     "end_time": "2022-12-20T08:45:27.293832",
     "exception": false,
     "start_time": "2022-12-20T08:45:26.055391",
     "status": "completed"
    },
    "tags": []
   },
   "outputs": [],
   "source": [
    "# This Python 3 environment comes with many helpful analytics libraries installed\n",
    "# It is defined by the kaggle/python Docker image: https://github.com/kaggle/docker-python\n",
    "# For example, here's several helpful packages to load\n",
    "\n",
    "import os # Path to file\n",
    "import numpy as np # linear algebra\n",
    "import pandas as pd # data processing, CSV file I/O (e.g. pd.read_csv)\n",
    "import matplotlib.pyplot  as plt # Data visulization\n",
    "import seaborn as sns  # Data visulization\n",
    "import warnings # warning filter\n",
    "%matplotlib inline\n",
    "\n",
    "# Import Coounter\n",
    "from collections import Counter\n",
    "\n",
    "# Scaling Libraries\n",
    "from sklearn.preprocessing import OneHotEncoder, LabelEncoder, StandardScaler\n",
    "\n",
    "#train test split\n",
    "from sklearn.model_selection import train_test_split\n",
    "\n",
    "# Machine Learning Models\n",
    "from sklearn.ensemble import RandomForestClassifier, AdaBoostClassifier, GradientBoostingClassifier, ExtraTreesClassifier, VotingClassifier\n",
    "from sklearn.discriminant_analysis import LinearDiscriminantAnalysis\n",
    "from sklearn.linear_model import LogisticRegression\n",
    "from sklearn.neighbors import KNeighborsClassifier\n",
    "from sklearn.tree import DecisionTreeClassifier\n",
    "from sklearn.neural_network import MLPClassifier\n",
    "from sklearn.svm import SVC\n",
    "\n",
    "# Score Matrics\n",
    "from sklearn.metrics import accuracy_score, confusion_matrix, classification_report\n",
    "from sklearn.model_selection import GridSearchCV, cross_val_score as CVS, StratifiedKFold, learning_curve\n",
    "\n",
    "## Setting Seaborn\n",
    "sns.set(style='white', context='paper', palette='cividis')\n",
    "\n",
    "# Warnings\n",
    "import warnings\n",
    "warnings.filterwarnings('ignore')"
   ]
  },
  {
   "cell_type": "code",
   "execution_count": 2,
   "id": "2d96a3be",
   "metadata": {
    "execution": {
     "iopub.execute_input": "2022-12-20T08:45:27.378979Z",
     "iopub.status.busy": "2022-12-20T08:45:27.378624Z",
     "iopub.status.idle": "2022-12-20T08:45:27.385281Z",
     "shell.execute_reply": "2022-12-20T08:45:27.384265Z"
    },
    "papermill": {
     "duration": 0.045526,
     "end_time": "2022-12-20T08:45:27.389012",
     "exception": false,
     "start_time": "2022-12-20T08:45:27.343486",
     "status": "completed"
    },
    "tags": []
   },
   "outputs": [
    {
     "name": "stdout",
     "output_type": "stream",
     "text": [
      "/kaggle/input/titanic/train.csv\n",
      "/kaggle/input/titanic/test.csv\n",
      "/kaggle/input/titanic/gender_submission.csv\n"
     ]
    }
   ],
   "source": [
    "\n",
    "# Input data files are available in the read-only \"../input/\" directory\n",
    "# For example, running this (by clicking run or pressing Shift+Enter) will list all files under the input directory\n",
    "\n",
    "for dirname, _, filenames in os.walk('/kaggle/input'):\n",
    "    for filename in filenames:\n",
    "        print(os.path.join(dirname, filename))\n",
    "\n",
    "# You can write up to 20GB to the current directory (/kaggle/working/) that gets preserved as output when you create a version using \"Save & Run All\" \n",
    "# You can also write temporary files to /kaggle/temp/, but they won't be saved outside of the current session"
   ]
  },
  {
   "cell_type": "code",
   "execution_count": 3,
   "id": "b00bb49a",
   "metadata": {
    "execution": {
     "iopub.execute_input": "2022-12-20T08:45:27.446851Z",
     "iopub.status.busy": "2022-12-20T08:45:27.446316Z",
     "iopub.status.idle": "2022-12-20T08:45:27.474469Z",
     "shell.execute_reply": "2022-12-20T08:45:27.473399Z"
    },
    "papermill": {
     "duration": 0.058022,
     "end_time": "2022-12-20T08:45:27.476681",
     "exception": false,
     "start_time": "2022-12-20T08:45:27.418659",
     "status": "completed"
    },
    "tags": []
   },
   "outputs": [],
   "source": [
    "# Loading Data.\n",
    "train = pd.read_csv('/kaggle/input/titanic/train.csv')\n",
    "test = pd.read_csv('/kaggle/input/titanic/test.csv')\n"
   ]
  },
  {
   "cell_type": "code",
   "execution_count": 4,
   "id": "cdc714a1",
   "metadata": {
    "execution": {
     "iopub.execute_input": "2022-12-20T08:45:27.521561Z",
     "iopub.status.busy": "2022-12-20T08:45:27.520486Z",
     "iopub.status.idle": "2022-12-20T08:45:27.576975Z",
     "shell.execute_reply": "2022-12-20T08:45:27.575999Z"
    },
    "papermill": {
     "duration": 0.081908,
     "end_time": "2022-12-20T08:45:27.579370",
     "exception": false,
     "start_time": "2022-12-20T08:45:27.497462",
     "status": "completed"
    },
    "tags": []
   },
   "outputs": [
    {
     "name": "stdout",
     "output_type": "stream",
     "text": [
      "Train Dataset (row, col): (891, 12) \n",
      "\n",
      "\n",
      "Train Dataset Information:\n",
      "\n",
      "<class 'pandas.core.frame.DataFrame'>\n",
      "RangeIndex: 891 entries, 0 to 890\n",
      "Data columns (total 12 columns):\n",
      " #   Column       Non-Null Count  Dtype  \n",
      "---  ------       --------------  -----  \n",
      " 0   PassengerId  891 non-null    int64  \n",
      " 1   Survived     891 non-null    int64  \n",
      " 2   Pclass       891 non-null    int64  \n",
      " 3   Name         891 non-null    object \n",
      " 4   Sex          891 non-null    object \n",
      " 5   Age          714 non-null    float64\n",
      " 6   SibSp        891 non-null    int64  \n",
      " 7   Parch        891 non-null    int64  \n",
      " 8   Ticket       891 non-null    object \n",
      " 9   Fare         891 non-null    float64\n",
      " 10  Cabin        204 non-null    object \n",
      " 11  Embarked     889 non-null    object \n",
      "dtypes: float64(2), int64(5), object(5)\n",
      "memory usage: 83.7+ KB\n",
      "None\n",
      "\n",
      "Test Dataset (row, col): (418, 11) \n",
      "\n",
      "\n",
      "Test Dataset Information:\n",
      "\n",
      "<class 'pandas.core.frame.DataFrame'>\n",
      "RangeIndex: 418 entries, 0 to 417\n",
      "Data columns (total 11 columns):\n",
      " #   Column       Non-Null Count  Dtype  \n",
      "---  ------       --------------  -----  \n",
      " 0   PassengerId  418 non-null    int64  \n",
      " 1   Pclass       418 non-null    int64  \n",
      " 2   Name         418 non-null    object \n",
      " 3   Sex          418 non-null    object \n",
      " 4   Age          332 non-null    float64\n",
      " 5   SibSp        418 non-null    int64  \n",
      " 6   Parch        418 non-null    int64  \n",
      " 7   Ticket       418 non-null    object \n",
      " 8   Fare         417 non-null    float64\n",
      " 9   Cabin        91 non-null     object \n",
      " 10  Embarked     418 non-null    object \n",
      "dtypes: float64(2), int64(4), object(5)\n",
      "memory usage: 36.0+ KB\n",
      "None\n",
      "\n",
      "Train Dataset Values:\n",
      "\n"
     ]
    },
    {
     "data": {
      "text/plain": [
       "PassengerId    [1, 2, 3, 4, 5, 6, 7, 8, 9, 10, 11, 12, 13, 14...\n",
       "Survived                                                  [0, 1]\n",
       "Pclass                                                 [3, 1, 2]\n",
       "Name           [Braund, Mr. Owen Harris, Cumings, Mrs. John B...\n",
       "Sex                                               [male, female]\n",
       "Age            [22.0, 38.0, 26.0, 35.0, nan, 54.0, 2.0, 27.0,...\n",
       "SibSp                                      [1, 0, 3, 4, 2, 5, 8]\n",
       "Parch                                      [0, 1, 2, 5, 3, 4, 6]\n",
       "Ticket         [A/5 21171, PC 17599, STON/O2. 3101282, 113803...\n",
       "Fare           [7.25, 71.2833, 7.925, 53.1, 8.05, 8.4583, 51....\n",
       "Cabin          [nan, C85, C123, E46, G6, C103, D56, A6, C23 C...\n",
       "Embarked                                          [S, C, Q, nan]\n",
       "dtype: object"
      ]
     },
     "execution_count": 4,
     "metadata": {},
     "output_type": "execute_result"
    }
   ],
   "source": [
    "# lets check data\n",
    "print(f'Train Dataset (row, col): {train.shape} \\n')\n",
    "print('\\nTrain Dataset Information:\\n')\n",
    "print(train.info())\n",
    "\n",
    "print(f'\\nTest Dataset (row, col): {test.shape} \\n')\n",
    "print('\\nTest Dataset Information:\\n')\n",
    "print(test.info())\n",
    "\n",
    "print('\\nTrain Dataset Values:\\n')\n",
    "train.apply(lambda x:x.unique())\n"
   ]
  },
  {
   "cell_type": "markdown",
   "id": "9326a90c",
   "metadata": {
    "papermill": {
     "duration": 0.023496,
     "end_time": "2022-12-20T08:45:27.626352",
     "exception": false,
     "start_time": "2022-12-20T08:45:27.602856",
     "status": "completed"
    },
    "tags": []
   },
   "source": [
    "## About Dataset\n",
    "\n",
    "This dataset is named Titanic Survival. The dataset contains a set of **891** records under **12** attributes:\n",
    "\n",
    "## Column Name and their Description\n",
    "\n",
    "* **PassengerId**: Unique passenger ID.\n",
    "* **Name** : name of passenger.\n",
    "* **Pclass** : Ticket class (A proxy for **socio-economic status** (SES)).\n",
    "* **Sex** : gender of passenger.\n",
    "* **Age** : age of passenger.\n",
    "* **SibSp**: number of siblings/spouse of passenger.\n",
    "* **Parch** : number of parents of passenger.\n",
    "* **Ticket** : ticket number.\n",
    "* **Fare** :Passenger fare.\n",
    "* **Cabin** : Cabin number.\n",
    "* **Embarked** : Port of Embarkation.\n",
    "\n",
    "## Variable Notes\n",
    "**Pclass**: A proxy for socio-economic status (SES)\n",
    "* 1st = Upper\n",
    "* 2nd = Middle\n",
    "* 3rd = Lower\n",
    "\n",
    "**Age**: Age is fractional if less than 1. If the age is estimated, is it in the form of xx.5\n",
    "\n",
    "**sibsp**: The dataset defines family relations in this way...\n",
    "* **Sibling** = brother, sister, stepbrother, stepsister\n",
    "* **Spouse** = husband, wife (mistresses and fiancés were ignored)\n",
    "\n",
    "**parch**: The dataset defines family relations in this way...\n",
    "* **Parent** = mother, father\n",
    "* **Child** = daughter, son, stepdaughter, stepson\n",
    "* Some children travelled only with a nanny, therefore **parch=0** for them.\n"
   ]
  },
  {
   "cell_type": "markdown",
   "id": "e7936562",
   "metadata": {
    "papermill": {
     "duration": 0.023947,
     "end_time": "2022-12-20T08:45:27.673781",
     "exception": false,
     "start_time": "2022-12-20T08:45:27.649834",
     "status": "completed"
    },
    "tags": []
   },
   "source": [
    "# *Future Analysis*\n",
    "\n"
   ]
  },
  {
   "cell_type": "code",
   "execution_count": 5,
   "id": "beb8f1af",
   "metadata": {
    "execution": {
     "iopub.execute_input": "2022-12-20T08:45:27.723387Z",
     "iopub.status.busy": "2022-12-20T08:45:27.722905Z",
     "iopub.status.idle": "2022-12-20T08:45:27.734163Z",
     "shell.execute_reply": "2022-12-20T08:45:27.733155Z"
    },
    "papermill": {
     "duration": 0.038856,
     "end_time": "2022-12-20T08:45:27.736441",
     "exception": false,
     "start_time": "2022-12-20T08:45:27.697585",
     "status": "completed"
    },
    "tags": []
   },
   "outputs": [],
   "source": [
    "# Check Dupicates\n",
    "train.drop_duplicates(inplace=True)"
   ]
  },
  {
   "cell_type": "code",
   "execution_count": 6,
   "id": "a52cd4e5",
   "metadata": {
    "execution": {
     "iopub.execute_input": "2022-12-20T08:45:27.782058Z",
     "iopub.status.busy": "2022-12-20T08:45:27.781185Z",
     "iopub.status.idle": "2022-12-20T08:45:27.849175Z",
     "shell.execute_reply": "2022-12-20T08:45:27.847856Z"
    },
    "papermill": {
     "duration": 0.096053,
     "end_time": "2022-12-20T08:45:27.854422",
     "exception": false,
     "start_time": "2022-12-20T08:45:27.758369",
     "status": "completed"
    },
    "tags": []
   },
   "outputs": [
    {
     "data": {
      "text/html": [
       "<div>\n",
       "<style scoped>\n",
       "    .dataframe tbody tr th:only-of-type {\n",
       "        vertical-align: middle;\n",
       "    }\n",
       "\n",
       "    .dataframe tbody tr th {\n",
       "        vertical-align: top;\n",
       "    }\n",
       "\n",
       "    .dataframe thead th {\n",
       "        text-align: right;\n",
       "    }\n",
       "</style>\n",
       "<table border=\"1\" class=\"dataframe\">\n",
       "  <thead>\n",
       "    <tr style=\"text-align: right;\">\n",
       "      <th></th>\n",
       "      <th>PassengerId</th>\n",
       "      <th>Survived</th>\n",
       "      <th>Pclass</th>\n",
       "      <th>Name</th>\n",
       "      <th>Sex</th>\n",
       "      <th>Age</th>\n",
       "      <th>SibSp</th>\n",
       "      <th>Parch</th>\n",
       "      <th>Ticket</th>\n",
       "      <th>Fare</th>\n",
       "      <th>Cabin</th>\n",
       "      <th>Embarked</th>\n",
       "    </tr>\n",
       "  </thead>\n",
       "  <tbody>\n",
       "    <tr>\n",
       "      <th>count</th>\n",
       "      <td>891.000000</td>\n",
       "      <td>891.000000</td>\n",
       "      <td>891.000000</td>\n",
       "      <td>891</td>\n",
       "      <td>891</td>\n",
       "      <td>714.000000</td>\n",
       "      <td>891.000000</td>\n",
       "      <td>891.000000</td>\n",
       "      <td>891</td>\n",
       "      <td>891.000000</td>\n",
       "      <td>204</td>\n",
       "      <td>889</td>\n",
       "    </tr>\n",
       "    <tr>\n",
       "      <th>unique</th>\n",
       "      <td>NaN</td>\n",
       "      <td>NaN</td>\n",
       "      <td>NaN</td>\n",
       "      <td>891</td>\n",
       "      <td>2</td>\n",
       "      <td>NaN</td>\n",
       "      <td>NaN</td>\n",
       "      <td>NaN</td>\n",
       "      <td>681</td>\n",
       "      <td>NaN</td>\n",
       "      <td>147</td>\n",
       "      <td>3</td>\n",
       "    </tr>\n",
       "    <tr>\n",
       "      <th>top</th>\n",
       "      <td>NaN</td>\n",
       "      <td>NaN</td>\n",
       "      <td>NaN</td>\n",
       "      <td>Braund, Mr. Owen Harris</td>\n",
       "      <td>male</td>\n",
       "      <td>NaN</td>\n",
       "      <td>NaN</td>\n",
       "      <td>NaN</td>\n",
       "      <td>347082</td>\n",
       "      <td>NaN</td>\n",
       "      <td>B96 B98</td>\n",
       "      <td>S</td>\n",
       "    </tr>\n",
       "    <tr>\n",
       "      <th>freq</th>\n",
       "      <td>NaN</td>\n",
       "      <td>NaN</td>\n",
       "      <td>NaN</td>\n",
       "      <td>1</td>\n",
       "      <td>577</td>\n",
       "      <td>NaN</td>\n",
       "      <td>NaN</td>\n",
       "      <td>NaN</td>\n",
       "      <td>7</td>\n",
       "      <td>NaN</td>\n",
       "      <td>4</td>\n",
       "      <td>644</td>\n",
       "    </tr>\n",
       "    <tr>\n",
       "      <th>mean</th>\n",
       "      <td>446.000000</td>\n",
       "      <td>0.383838</td>\n",
       "      <td>2.308642</td>\n",
       "      <td>NaN</td>\n",
       "      <td>NaN</td>\n",
       "      <td>29.699118</td>\n",
       "      <td>0.523008</td>\n",
       "      <td>0.381594</td>\n",
       "      <td>NaN</td>\n",
       "      <td>32.204208</td>\n",
       "      <td>NaN</td>\n",
       "      <td>NaN</td>\n",
       "    </tr>\n",
       "    <tr>\n",
       "      <th>std</th>\n",
       "      <td>257.353842</td>\n",
       "      <td>0.486592</td>\n",
       "      <td>0.836071</td>\n",
       "      <td>NaN</td>\n",
       "      <td>NaN</td>\n",
       "      <td>14.526497</td>\n",
       "      <td>1.102743</td>\n",
       "      <td>0.806057</td>\n",
       "      <td>NaN</td>\n",
       "      <td>49.693429</td>\n",
       "      <td>NaN</td>\n",
       "      <td>NaN</td>\n",
       "    </tr>\n",
       "    <tr>\n",
       "      <th>min</th>\n",
       "      <td>1.000000</td>\n",
       "      <td>0.000000</td>\n",
       "      <td>1.000000</td>\n",
       "      <td>NaN</td>\n",
       "      <td>NaN</td>\n",
       "      <td>0.420000</td>\n",
       "      <td>0.000000</td>\n",
       "      <td>0.000000</td>\n",
       "      <td>NaN</td>\n",
       "      <td>0.000000</td>\n",
       "      <td>NaN</td>\n",
       "      <td>NaN</td>\n",
       "    </tr>\n",
       "    <tr>\n",
       "      <th>25%</th>\n",
       "      <td>223.500000</td>\n",
       "      <td>0.000000</td>\n",
       "      <td>2.000000</td>\n",
       "      <td>NaN</td>\n",
       "      <td>NaN</td>\n",
       "      <td>20.125000</td>\n",
       "      <td>0.000000</td>\n",
       "      <td>0.000000</td>\n",
       "      <td>NaN</td>\n",
       "      <td>7.910400</td>\n",
       "      <td>NaN</td>\n",
       "      <td>NaN</td>\n",
       "    </tr>\n",
       "    <tr>\n",
       "      <th>50%</th>\n",
       "      <td>446.000000</td>\n",
       "      <td>0.000000</td>\n",
       "      <td>3.000000</td>\n",
       "      <td>NaN</td>\n",
       "      <td>NaN</td>\n",
       "      <td>28.000000</td>\n",
       "      <td>0.000000</td>\n",
       "      <td>0.000000</td>\n",
       "      <td>NaN</td>\n",
       "      <td>14.454200</td>\n",
       "      <td>NaN</td>\n",
       "      <td>NaN</td>\n",
       "    </tr>\n",
       "    <tr>\n",
       "      <th>75%</th>\n",
       "      <td>668.500000</td>\n",
       "      <td>1.000000</td>\n",
       "      <td>3.000000</td>\n",
       "      <td>NaN</td>\n",
       "      <td>NaN</td>\n",
       "      <td>38.000000</td>\n",
       "      <td>1.000000</td>\n",
       "      <td>0.000000</td>\n",
       "      <td>NaN</td>\n",
       "      <td>31.000000</td>\n",
       "      <td>NaN</td>\n",
       "      <td>NaN</td>\n",
       "    </tr>\n",
       "    <tr>\n",
       "      <th>max</th>\n",
       "      <td>891.000000</td>\n",
       "      <td>1.000000</td>\n",
       "      <td>3.000000</td>\n",
       "      <td>NaN</td>\n",
       "      <td>NaN</td>\n",
       "      <td>80.000000</td>\n",
       "      <td>8.000000</td>\n",
       "      <td>6.000000</td>\n",
       "      <td>NaN</td>\n",
       "      <td>512.329200</td>\n",
       "      <td>NaN</td>\n",
       "      <td>NaN</td>\n",
       "    </tr>\n",
       "  </tbody>\n",
       "</table>\n",
       "</div>"
      ],
      "text/plain": [
       "        PassengerId    Survived      Pclass                     Name   Sex  \\\n",
       "count    891.000000  891.000000  891.000000                      891   891   \n",
       "unique          NaN         NaN         NaN                      891     2   \n",
       "top             NaN         NaN         NaN  Braund, Mr. Owen Harris  male   \n",
       "freq            NaN         NaN         NaN                        1   577   \n",
       "mean     446.000000    0.383838    2.308642                      NaN   NaN   \n",
       "std      257.353842    0.486592    0.836071                      NaN   NaN   \n",
       "min        1.000000    0.000000    1.000000                      NaN   NaN   \n",
       "25%      223.500000    0.000000    2.000000                      NaN   NaN   \n",
       "50%      446.000000    0.000000    3.000000                      NaN   NaN   \n",
       "75%      668.500000    1.000000    3.000000                      NaN   NaN   \n",
       "max      891.000000    1.000000    3.000000                      NaN   NaN   \n",
       "\n",
       "               Age       SibSp       Parch  Ticket        Fare    Cabin  \\\n",
       "count   714.000000  891.000000  891.000000     891  891.000000      204   \n",
       "unique         NaN         NaN         NaN     681         NaN      147   \n",
       "top            NaN         NaN         NaN  347082         NaN  B96 B98   \n",
       "freq           NaN         NaN         NaN       7         NaN        4   \n",
       "mean     29.699118    0.523008    0.381594     NaN   32.204208      NaN   \n",
       "std      14.526497    1.102743    0.806057     NaN   49.693429      NaN   \n",
       "min       0.420000    0.000000    0.000000     NaN    0.000000      NaN   \n",
       "25%      20.125000    0.000000    0.000000     NaN    7.910400      NaN   \n",
       "50%      28.000000    0.000000    0.000000     NaN   14.454200      NaN   \n",
       "75%      38.000000    1.000000    0.000000     NaN   31.000000      NaN   \n",
       "max      80.000000    8.000000    6.000000     NaN  512.329200      NaN   \n",
       "\n",
       "       Embarked  \n",
       "count       889  \n",
       "unique        3  \n",
       "top           S  \n",
       "freq        644  \n",
       "mean        NaN  \n",
       "std         NaN  \n",
       "min         NaN  \n",
       "25%         NaN  \n",
       "50%         NaN  \n",
       "75%         NaN  \n",
       "max         NaN  "
      ]
     },
     "execution_count": 6,
     "metadata": {},
     "output_type": "execute_result"
    }
   ],
   "source": [
    "# Data Summery\n",
    "train.describe(include=[object, np.number])"
   ]
  },
  {
   "cell_type": "markdown",
   "id": "4408e9a9",
   "metadata": {
    "papermill": {
     "duration": 0.015977,
     "end_time": "2022-12-20T08:45:27.896808",
     "exception": false,
     "start_time": "2022-12-20T08:45:27.880831",
     "status": "completed"
    },
    "tags": []
   },
   "source": [
    "### Observations\n",
    "* Most passengers are **Lower class passengers**.\n",
    "* Most passengers are **male**.\n",
    "* Average Age of passengers is **28** oldest passenger=80, youngest=0.42 (about 5 months).\n",
    "* Most passengers are **alone**.\n",
    "* Average Fare is 14.45 pounds\n",
    "\n"
   ]
  },
  {
   "cell_type": "code",
   "execution_count": 7,
   "id": "aaaa9f1a",
   "metadata": {
    "execution": {
     "iopub.execute_input": "2022-12-20T08:45:27.931731Z",
     "iopub.status.busy": "2022-12-20T08:45:27.931392Z",
     "iopub.status.idle": "2022-12-20T08:45:27.943287Z",
     "shell.execute_reply": "2022-12-20T08:45:27.942063Z"
    },
    "papermill": {
     "duration": 0.032164,
     "end_time": "2022-12-20T08:45:27.945767",
     "exception": false,
     "start_time": "2022-12-20T08:45:27.913603",
     "status": "completed"
    },
    "tags": []
   },
   "outputs": [
    {
     "data": {
      "text/plain": [
       "PassengerId     0.000000\n",
       "Survived        0.000000\n",
       "Pclass          0.000000\n",
       "Name            0.000000\n",
       "Sex             0.000000\n",
       "Age            19.865320\n",
       "SibSp           0.000000\n",
       "Parch           0.000000\n",
       "Ticket          0.000000\n",
       "Fare            0.000000\n",
       "Cabin          77.104377\n",
       "Embarked        0.224467\n",
       "dtype: float64"
      ]
     },
     "execution_count": 7,
     "metadata": {},
     "output_type": "execute_result"
    }
   ],
   "source": [
    "# Missing values\n",
    "(train.isnull().sum()/train.shape[0]) * 100"
   ]
  },
  {
   "cell_type": "markdown",
   "id": "a9068743",
   "metadata": {
    "papermill": {
     "duration": 0.016058,
     "end_time": "2022-12-20T08:45:27.978937",
     "exception": false,
     "start_time": "2022-12-20T08:45:27.962879",
     "status": "completed"
    },
    "tags": []
   },
   "source": [
    "### Missing values\n",
    "* Age has **19.8%** missing values.\n",
    "* Cabin has **77%** missing values.\n",
    "* Embarked has **0.22%** missing values"
   ]
  },
  {
   "cell_type": "markdown",
   "id": "175f17d3",
   "metadata": {
    "papermill": {
     "duration": 0.018491,
     "end_time": "2022-12-20T08:45:28.013992",
     "exception": false,
     "start_time": "2022-12-20T08:45:27.995501",
     "status": "completed"
    },
    "tags": []
   },
   "source": [
    "* ### Data Exploration\n",
    "Lets combine both datasets since both are similier\n",
    "Below are the steps involved to understand, clean and prepare your data for building your predictive model:\n",
    "\n",
    "* Missing values treatment\n",
    "* Outlier treatment\n",
    "* Variable Identification\n",
    "* Univariate Analysis\n",
    "* Bi-variate Analysis\n",
    "* Variable transformation\n",
    "* Variable creation"
   ]
  },
  {
   "cell_type": "code",
   "execution_count": 8,
   "id": "ac0c7f83",
   "metadata": {
    "execution": {
     "iopub.execute_input": "2022-12-20T08:45:28.047635Z",
     "iopub.status.busy": "2022-12-20T08:45:28.047350Z",
     "iopub.status.idle": "2022-12-20T08:45:28.059131Z",
     "shell.execute_reply": "2022-12-20T08:45:28.057991Z"
    },
    "papermill": {
     "duration": 0.031154,
     "end_time": "2022-12-20T08:45:28.061255",
     "exception": false,
     "start_time": "2022-12-20T08:45:28.030101",
     "status": "completed"
    },
    "tags": []
   },
   "outputs": [
    {
     "name": "stdout",
     "output_type": "stream",
     "text": [
      "After combining the datasets (row,col):  (1309, 13)\n"
     ]
    }
   ],
   "source": [
    "# Combining Datasets\n",
    "train['source'] = 'train'\n",
    "test['source'] = 'test'\n",
    "data = pd.concat([train, test], ignore_index=True)\n",
    "print('After combining the datasets (row,col): ', data.shape)"
   ]
  },
  {
   "cell_type": "markdown",
   "id": "3cbff7cb",
   "metadata": {
    "papermill": {
     "duration": 0.01721,
     "end_time": "2022-12-20T08:45:28.095271",
     "exception": false,
     "start_time": "2022-12-20T08:45:28.078061",
     "status": "completed"
    },
    "tags": []
   },
   "source": [
    "* ### Missing Values\n",
    "1. Numeric Values\n",
    "2. Categorial Values"
   ]
  },
  {
   "cell_type": "code",
   "execution_count": 9,
   "id": "5ba1d7eb",
   "metadata": {
    "execution": {
     "iopub.execute_input": "2022-12-20T08:45:28.128588Z",
     "iopub.status.busy": "2022-12-20T08:45:28.128185Z",
     "iopub.status.idle": "2022-12-20T08:45:28.141247Z",
     "shell.execute_reply": "2022-12-20T08:45:28.140263Z"
    },
    "papermill": {
     "duration": 0.032374,
     "end_time": "2022-12-20T08:45:28.143573",
     "exception": false,
     "start_time": "2022-12-20T08:45:28.111199",
     "status": "completed"
    },
    "tags": []
   },
   "outputs": [
    {
     "data": {
      "text/plain": [
       "PassengerId     0.000000\n",
       "Survived       31.932773\n",
       "Pclass          0.000000\n",
       "Name            0.000000\n",
       "Sex             0.000000\n",
       "Age            20.091673\n",
       "SibSp           0.000000\n",
       "Parch           0.000000\n",
       "Ticket          0.000000\n",
       "Fare            0.076394\n",
       "Cabin          77.463713\n",
       "Embarked        0.152788\n",
       "source          0.000000\n",
       "dtype: float64"
      ]
     },
     "execution_count": 9,
     "metadata": {},
     "output_type": "execute_result"
    }
   ],
   "source": [
    "# Fill empty and NaNs values with NaN\n",
    "# Missing values\n",
    "(data.isnull().sum()/data.shape[0]) * 100"
   ]
  },
  {
   "cell_type": "markdown",
   "id": "68875129",
   "metadata": {
    "papermill": {
     "duration": 0.016719,
     "end_time": "2022-12-20T08:45:28.176778",
     "exception": false,
     "start_time": "2022-12-20T08:45:28.160059",
     "status": "completed"
    },
    "tags": []
   },
   "source": [
    "* Age here is **continuies value** and also age is corelated with **parch/sibling** and since there is subpopulation in age is **children** having higher chance of **surrvival** we need visulize the age **carefully**."
   ]
  },
  {
   "cell_type": "code",
   "execution_count": 10,
   "id": "6fecef76",
   "metadata": {
    "execution": {
     "iopub.execute_input": "2022-12-20T08:45:28.211604Z",
     "iopub.status.busy": "2022-12-20T08:45:28.211324Z",
     "iopub.status.idle": "2022-12-20T08:45:28.221633Z",
     "shell.execute_reply": "2022-12-20T08:45:28.220628Z"
    },
    "papermill": {
     "duration": 0.030413,
     "end_time": "2022-12-20T08:45:28.223783",
     "exception": false,
     "start_time": "2022-12-20T08:45:28.193370",
     "status": "completed"
    },
    "tags": []
   },
   "outputs": [
    {
     "data": {
      "text/plain": [
       "count    1046.000000\n",
       "mean       29.881138\n",
       "std        14.413493\n",
       "min         0.170000\n",
       "25%        21.000000\n",
       "50%        28.000000\n",
       "75%        39.000000\n",
       "max        80.000000\n",
       "Name: Age, dtype: float64"
      ]
     },
     "execution_count": 10,
     "metadata": {},
     "output_type": "execute_result"
    }
   ],
   "source": [
    "# Lets deal with Age first\n",
    "data.Age.describe()\n"
   ]
  },
  {
   "cell_type": "code",
   "execution_count": 11,
   "id": "8b6d7552",
   "metadata": {
    "execution": {
     "iopub.execute_input": "2022-12-20T08:45:28.260740Z",
     "iopub.status.busy": "2022-12-20T08:45:28.259802Z",
     "iopub.status.idle": "2022-12-20T08:45:28.585325Z",
     "shell.execute_reply": "2022-12-20T08:45:28.584273Z"
    },
    "papermill": {
     "duration": 0.346075,
     "end_time": "2022-12-20T08:45:28.587605",
     "exception": false,
     "start_time": "2022-12-20T08:45:28.241530",
     "status": "completed"
    },
    "tags": []
   },
   "outputs": [
    {
     "data": {
      "image/png": "[encoded data removed]",
      "text/plain": [
       "<Figure size 432x288 with 1 Axes>"
      ]
     },
     "metadata": {},
     "output_type": "display_data"
    }
   ],
   "source": [
    "# Age Distribution\n",
    "ax = sns.histplot(x=data['Age'], bins=10, kde=True)\n",
    "ax.set_ylabel('Number of Passengers')\n",
    "ax.set_title('Age Distribution', fontsize=20)\n",
    "sns.despine(offset=5, trim=True)\n"
   ]
  },
  {
   "cell_type": "code",
   "execution_count": 12,
   "id": "6acd27ea",
   "metadata": {
    "execution": {
     "iopub.execute_input": "2022-12-20T08:45:28.622769Z",
     "iopub.status.busy": "2022-12-20T08:45:28.622473Z",
     "iopub.status.idle": "2022-12-20T08:45:30.256239Z",
     "shell.execute_reply": "2022-12-20T08:45:30.255260Z"
    },
    "papermill": {
     "duration": 1.653762,
     "end_time": "2022-12-20T08:45:30.258457",
     "exception": false,
     "start_time": "2022-12-20T08:45:28.604695",
     "status": "completed"
    },
    "tags": []
   },
   "outputs": [
    {
     "data": {
      "text/plain": [
       "<seaborn.axisgrid.FacetGrid at 0x7f448f1aad50>"
      ]
     },
     "execution_count": 12,
     "metadata": {},
     "output_type": "execute_result"
    },
    {
     "data": {
      "image/png": "[encoded data removed]",
      "text/plain": [
       "<Figure size 360x360 with 1 Axes>"
      ]
     },
     "metadata": {},
     "output_type": "display_data"
    },
    {
     "data": {
      "image/png": "[encoded data removed]",
      "text/plain": [
       "<Figure size 397.305x360 with 1 Axes>"
      ]
     },
     "metadata": {},
     "output_type": "display_data"
    },
    {
     "data": {
      "image/png": "[encoded data removed]",
      "text/plain": [
       "<Figure size 360x360 with 1 Axes>"
      ]
     },
     "metadata": {},
     "output_type": "display_data"
    },
    {
     "data": {
      "image/png": "[encoded data removed]",
      "text/plain": [
       "<Figure size 360x360 with 1 Axes>"
      ]
     },
     "metadata": {},
     "output_type": "display_data"
    }
   ],
   "source": [
    "# Explore Age\n",
    "\n",
    "ax = sns.catplot(y=\"Age\",x=\"Sex\",data=data,kind=\"box\")\n",
    "ax.despine(offset=1, trim=True)\n",
    "ax = sns.catplot(y=\"Age\",x=\"Sex\",hue=\"Pclass\", data=data,kind=\"box\")\n",
    "ax.despine(offset=1, trim=True)\n",
    "ax = sns.catplot(y=\"Age\",x=\"Parch\", data=data,kind=\"box\")\n",
    "ax.despine(offset=1, trim=True)\n",
    "ax = sns.catplot(y=\"Age\",x=\"SibSp\", data=data,kind=\"box\")\n",
    "ax.despine(offset=1, trim=True)\n",
    "\n"
   ]
  },
  {
   "cell_type": "markdown",
   "id": "c1b4669e",
   "metadata": {
    "papermill": {
     "duration": 0.017667,
     "end_time": "2022-12-20T08:45:30.294094",
     "exception": false,
     "start_time": "2022-12-20T08:45:30.276427",
     "status": "completed"
    },
    "tags": []
   },
   "source": [
    "## Observations\n",
    "* Age and **Sex** has almost **same distribution**.\n",
    "* **1st class** passenger are **older** then **2nd class**, and 2nd are **older** then **3rd class**.\n",
    "* Person having more **parents/children** are **older**.\n",
    "* Person having more **siblings/spouse** are **younger**."
   ]
  },
  {
   "cell_type": "code",
   "execution_count": 13,
   "id": "f7f585cd",
   "metadata": {
    "execution": {
     "iopub.execute_input": "2022-12-20T08:45:30.332062Z",
     "iopub.status.busy": "2022-12-20T08:45:30.331732Z",
     "iopub.status.idle": "2022-12-20T08:45:30.671033Z",
     "shell.execute_reply": "2022-12-20T08:45:30.670071Z"
    },
    "papermill": {
     "duration": 0.361768,
     "end_time": "2022-12-20T08:45:30.673262",
     "exception": false,
     "start_time": "2022-12-20T08:45:30.311494",
     "status": "completed"
    },
    "tags": []
   },
   "outputs": [
    {
     "data": {
      "text/plain": [
       "Text(0.5, 1.0, 'Correlation of Age\\n')"
      ]
     },
     "execution_count": 13,
     "metadata": {},
     "output_type": "execute_result"
    },
    {
     "data": {
      "image/png": "[encoded data removed]",
      "text/plain": [
       "<Figure size 432x288 with 2 Axes>"
      ]
     },
     "metadata": {},
     "output_type": "display_data"
    }
   ],
   "source": [
    "# Convert Sex 0, 1 into male female\n",
    "data['Sex'] = data['Sex'].map({'male': 0, 'female': 1})\n",
    "ax = sns.heatmap(data=data[['Age','Sex','Pclass', 'Parch', 'SibSp']].corr(), cmap='gist_heat' , annot=True)\n",
    "ax.set_title('Correlation of Age\\n', fontsize=20)"
   ]
  },
  {
   "cell_type": "markdown",
   "id": "482c61da",
   "metadata": {
    "papermill": {
     "duration": 0.017674,
     "end_time": "2022-12-20T08:45:30.709546",
     "exception": false,
     "start_time": "2022-12-20T08:45:30.691872",
     "status": "completed"
    },
    "tags": []
   },
   "source": [
    "### Observations\n",
    "* Above heatmap **confirms the catplots except Parch**. age is not correlated with sex, But **negativly correlated with Parch, Pclass, SibSp**"
   ]
  },
  {
   "cell_type": "code",
   "execution_count": 14,
   "id": "779736c1",
   "metadata": {
    "execution": {
     "iopub.execute_input": "2022-12-20T08:45:30.746208Z",
     "iopub.status.busy": "2022-12-20T08:45:30.745908Z",
     "iopub.status.idle": "2022-12-20T08:45:30.775140Z",
     "shell.execute_reply": "2022-12-20T08:45:30.774267Z"
    },
    "papermill": {
     "duration": 0.050034,
     "end_time": "2022-12-20T08:45:30.777171",
     "exception": false,
     "start_time": "2022-12-20T08:45:30.727137",
     "status": "completed"
    },
    "tags": []
   },
   "outputs": [],
   "source": [
    "# Imputate missing values of age wrt Parch, SibSp, Parch, Pclass\n",
    "data['Age'] = data.groupby(['Parch', 'SibSp', 'Pclass'])['Age'].apply(lambda i:i.fillna(i.median()))\n",
    "data['Age'] = data['Age'].fillna(data['Age'].median())\n",
    "\n",
    "# delete cabin data becuase it contains % missing data\n",
    "data = data.drop('Cabin', axis=1)\n",
    "\n",
    "# fill missing values in Embarked with mode\n",
    "data.Embarked = data.Embarked.fillna('S')\n",
    "\n",
    "# Fill missing values in Fare with median\n",
    "data['Fare'] = data['Fare'].fillna(data['Fare'].median())\n"
   ]
  },
  {
   "cell_type": "code",
   "execution_count": 15,
   "id": "f297a9fe",
   "metadata": {
    "execution": {
     "iopub.execute_input": "2022-12-20T08:45:30.813999Z",
     "iopub.status.busy": "2022-12-20T08:45:30.813659Z",
     "iopub.status.idle": "2022-12-20T08:45:30.825604Z",
     "shell.execute_reply": "2022-12-20T08:45:30.824560Z"
    },
    "papermill": {
     "duration": 0.032886,
     "end_time": "2022-12-20T08:45:30.827799",
     "exception": false,
     "start_time": "2022-12-20T08:45:30.794913",
     "status": "completed"
    },
    "tags": []
   },
   "outputs": [
    {
     "name": "stdout",
     "output_type": "stream",
     "text": [
      "Missing Values afer imputation \n",
      "\n"
     ]
    },
    {
     "data": {
      "text/plain": [
       "PassengerId     0.000000\n",
       "Survived       31.932773\n",
       "Pclass          0.000000\n",
       "Name            0.000000\n",
       "Sex             0.000000\n",
       "Age             0.000000\n",
       "SibSp           0.000000\n",
       "Parch           0.000000\n",
       "Ticket          0.000000\n",
       "Fare            0.000000\n",
       "Embarked        0.000000\n",
       "source          0.000000\n",
       "dtype: float64"
      ]
     },
     "execution_count": 15,
     "metadata": {},
     "output_type": "execute_result"
    }
   ],
   "source": [
    "print('Missing Values afer imputation \\n')\n",
    "(data.isnull().sum()/data.shape[0]) * 100"
   ]
  },
  {
   "cell_type": "markdown",
   "id": "df0997b8",
   "metadata": {
    "papermill": {
     "duration": 0.018778,
     "end_time": "2022-12-20T08:45:30.866808",
     "exception": false,
     "start_time": "2022-12-20T08:45:30.848030",
     "status": "completed"
    },
    "tags": []
   },
   "source": [
    "* ### Outliers"
   ]
  },
  {
   "cell_type": "code",
   "execution_count": 16,
   "id": "d0897c72",
   "metadata": {
    "execution": {
     "iopub.execute_input": "2022-12-20T08:45:30.903942Z",
     "iopub.status.busy": "2022-12-20T08:45:30.903670Z",
     "iopub.status.idle": "2022-12-20T08:45:30.935605Z",
     "shell.execute_reply": "2022-12-20T08:45:30.934549Z"
    },
    "papermill": {
     "duration": 0.053631,
     "end_time": "2022-12-20T08:45:30.938329",
     "exception": false,
     "start_time": "2022-12-20T08:45:30.884698",
     "status": "completed"
    },
    "tags": []
   },
   "outputs": [
    {
     "name": "stdout",
     "output_type": "stream",
     "text": [
      "Outliers \n",
      "\n",
      "\n"
     ]
    },
    {
     "data": {
      "text/html": [
       "<div>\n",
       "<style scoped>\n",
       "    .dataframe tbody tr th:only-of-type {\n",
       "        vertical-align: middle;\n",
       "    }\n",
       "\n",
       "    .dataframe tbody tr th {\n",
       "        vertical-align: top;\n",
       "    }\n",
       "\n",
       "    .dataframe thead th {\n",
       "        text-align: right;\n",
       "    }\n",
       "</style>\n",
       "<table border=\"1\" class=\"dataframe\">\n",
       "  <thead>\n",
       "    <tr style=\"text-align: right;\">\n",
       "      <th></th>\n",
       "      <th>PassengerId</th>\n",
       "      <th>Survived</th>\n",
       "      <th>Pclass</th>\n",
       "      <th>Name</th>\n",
       "      <th>Sex</th>\n",
       "      <th>Age</th>\n",
       "      <th>SibSp</th>\n",
       "      <th>Parch</th>\n",
       "      <th>Ticket</th>\n",
       "      <th>Fare</th>\n",
       "      <th>Embarked</th>\n",
       "      <th>source</th>\n",
       "    </tr>\n",
       "  </thead>\n",
       "  <tbody>\n",
       "    <tr>\n",
       "      <th>438</th>\n",
       "      <td>439</td>\n",
       "      <td>0.0</td>\n",
       "      <td>1</td>\n",
       "      <td>Fortune, Mr. Mark</td>\n",
       "      <td>0</td>\n",
       "      <td>64.0</td>\n",
       "      <td>1</td>\n",
       "      <td>4</td>\n",
       "      <td>19950</td>\n",
       "      <td>263.0000</td>\n",
       "      <td>S</td>\n",
       "      <td>train</td>\n",
       "    </tr>\n",
       "    <tr>\n",
       "      <th>587</th>\n",
       "      <td>588</td>\n",
       "      <td>1.0</td>\n",
       "      <td>1</td>\n",
       "      <td>Frolicher-Stehli, Mr. Maxmillian</td>\n",
       "      <td>0</td>\n",
       "      <td>60.0</td>\n",
       "      <td>1</td>\n",
       "      <td>1</td>\n",
       "      <td>13567</td>\n",
       "      <td>79.2000</td>\n",
       "      <td>C</td>\n",
       "      <td>train</td>\n",
       "    </tr>\n",
       "    <tr>\n",
       "      <th>745</th>\n",
       "      <td>746</td>\n",
       "      <td>0.0</td>\n",
       "      <td>1</td>\n",
       "      <td>Crosby, Capt. Edward Gifford</td>\n",
       "      <td>0</td>\n",
       "      <td>70.0</td>\n",
       "      <td>1</td>\n",
       "      <td>1</td>\n",
       "      <td>WE/P 5735</td>\n",
       "      <td>71.0000</td>\n",
       "      <td>S</td>\n",
       "      <td>train</td>\n",
       "    </tr>\n",
       "    <tr>\n",
       "      <th>960</th>\n",
       "      <td>961</td>\n",
       "      <td>NaN</td>\n",
       "      <td>1</td>\n",
       "      <td>Fortune, Mrs. Mark (Mary McDougald)</td>\n",
       "      <td>1</td>\n",
       "      <td>60.0</td>\n",
       "      <td>1</td>\n",
       "      <td>4</td>\n",
       "      <td>19950</td>\n",
       "      <td>263.0000</td>\n",
       "      <td>S</td>\n",
       "      <td>test</td>\n",
       "    </tr>\n",
       "    <tr>\n",
       "      <th>1033</th>\n",
       "      <td>1034</td>\n",
       "      <td>NaN</td>\n",
       "      <td>1</td>\n",
       "      <td>Ryerson, Mr. Arthur Larned</td>\n",
       "      <td>0</td>\n",
       "      <td>61.0</td>\n",
       "      <td>1</td>\n",
       "      <td>3</td>\n",
       "      <td>PC 17608</td>\n",
       "      <td>262.3750</td>\n",
       "      <td>C</td>\n",
       "      <td>test</td>\n",
       "    </tr>\n",
       "    <tr>\n",
       "      <th>1070</th>\n",
       "      <td>1071</td>\n",
       "      <td>NaN</td>\n",
       "      <td>1</td>\n",
       "      <td>Compton, Mrs. Alexander Taylor (Mary Eliza Ing...</td>\n",
       "      <td>1</td>\n",
       "      <td>64.0</td>\n",
       "      <td>0</td>\n",
       "      <td>2</td>\n",
       "      <td>PC 17756</td>\n",
       "      <td>83.1583</td>\n",
       "      <td>C</td>\n",
       "      <td>test</td>\n",
       "    </tr>\n",
       "    <tr>\n",
       "      <th>27</th>\n",
       "      <td>28</td>\n",
       "      <td>0.0</td>\n",
       "      <td>1</td>\n",
       "      <td>Fortune, Mr. Charles Alexander</td>\n",
       "      <td>0</td>\n",
       "      <td>19.0</td>\n",
       "      <td>3</td>\n",
       "      <td>2</td>\n",
       "      <td>19950</td>\n",
       "      <td>263.0000</td>\n",
       "      <td>S</td>\n",
       "      <td>train</td>\n",
       "    </tr>\n",
       "    <tr>\n",
       "      <th>88</th>\n",
       "      <td>89</td>\n",
       "      <td>1.0</td>\n",
       "      <td>1</td>\n",
       "      <td>Fortune, Miss. Mabel Helen</td>\n",
       "      <td>1</td>\n",
       "      <td>23.0</td>\n",
       "      <td>3</td>\n",
       "      <td>2</td>\n",
       "      <td>19950</td>\n",
       "      <td>263.0000</td>\n",
       "      <td>S</td>\n",
       "      <td>train</td>\n",
       "    </tr>\n",
       "    <tr>\n",
       "      <th>159</th>\n",
       "      <td>160</td>\n",
       "      <td>0.0</td>\n",
       "      <td>3</td>\n",
       "      <td>Sage, Master. Thomas Henry</td>\n",
       "      <td>0</td>\n",
       "      <td>14.5</td>\n",
       "      <td>8</td>\n",
       "      <td>2</td>\n",
       "      <td>CA. 2343</td>\n",
       "      <td>69.5500</td>\n",
       "      <td>S</td>\n",
       "      <td>train</td>\n",
       "    </tr>\n",
       "    <tr>\n",
       "      <th>180</th>\n",
       "      <td>181</td>\n",
       "      <td>0.0</td>\n",
       "      <td>3</td>\n",
       "      <td>Sage, Miss. Constance Gladys</td>\n",
       "      <td>1</td>\n",
       "      <td>14.5</td>\n",
       "      <td>8</td>\n",
       "      <td>2</td>\n",
       "      <td>CA. 2343</td>\n",
       "      <td>69.5500</td>\n",
       "      <td>S</td>\n",
       "      <td>train</td>\n",
       "    </tr>\n",
       "    <tr>\n",
       "      <th>201</th>\n",
       "      <td>202</td>\n",
       "      <td>0.0</td>\n",
       "      <td>3</td>\n",
       "      <td>Sage, Mr. Frederick</td>\n",
       "      <td>0</td>\n",
       "      <td>14.5</td>\n",
       "      <td>8</td>\n",
       "      <td>2</td>\n",
       "      <td>CA. 2343</td>\n",
       "      <td>69.5500</td>\n",
       "      <td>S</td>\n",
       "      <td>train</td>\n",
       "    </tr>\n",
       "    <tr>\n",
       "      <th>324</th>\n",
       "      <td>325</td>\n",
       "      <td>0.0</td>\n",
       "      <td>3</td>\n",
       "      <td>Sage, Mr. George John Jr</td>\n",
       "      <td>0</td>\n",
       "      <td>14.5</td>\n",
       "      <td>8</td>\n",
       "      <td>2</td>\n",
       "      <td>CA. 2343</td>\n",
       "      <td>69.5500</td>\n",
       "      <td>S</td>\n",
       "      <td>train</td>\n",
       "    </tr>\n",
       "    <tr>\n",
       "      <th>341</th>\n",
       "      <td>342</td>\n",
       "      <td>1.0</td>\n",
       "      <td>1</td>\n",
       "      <td>Fortune, Miss. Alice Elizabeth</td>\n",
       "      <td>1</td>\n",
       "      <td>24.0</td>\n",
       "      <td>3</td>\n",
       "      <td>2</td>\n",
       "      <td>19950</td>\n",
       "      <td>263.0000</td>\n",
       "      <td>S</td>\n",
       "      <td>train</td>\n",
       "    </tr>\n",
       "    <tr>\n",
       "      <th>792</th>\n",
       "      <td>793</td>\n",
       "      <td>0.0</td>\n",
       "      <td>3</td>\n",
       "      <td>Sage, Miss. Stella Anna</td>\n",
       "      <td>1</td>\n",
       "      <td>14.5</td>\n",
       "      <td>8</td>\n",
       "      <td>2</td>\n",
       "      <td>CA. 2343</td>\n",
       "      <td>69.5500</td>\n",
       "      <td>S</td>\n",
       "      <td>train</td>\n",
       "    </tr>\n",
       "    <tr>\n",
       "      <th>846</th>\n",
       "      <td>847</td>\n",
       "      <td>0.0</td>\n",
       "      <td>3</td>\n",
       "      <td>Sage, Mr. Douglas Bullen</td>\n",
       "      <td>0</td>\n",
       "      <td>14.5</td>\n",
       "      <td>8</td>\n",
       "      <td>2</td>\n",
       "      <td>CA. 2343</td>\n",
       "      <td>69.5500</td>\n",
       "      <td>S</td>\n",
       "      <td>train</td>\n",
       "    </tr>\n",
       "    <tr>\n",
       "      <th>863</th>\n",
       "      <td>864</td>\n",
       "      <td>0.0</td>\n",
       "      <td>3</td>\n",
       "      <td>Sage, Miss. Dorothy Edith \"Dolly\"</td>\n",
       "      <td>1</td>\n",
       "      <td>14.5</td>\n",
       "      <td>8</td>\n",
       "      <td>2</td>\n",
       "      <td>CA. 2343</td>\n",
       "      <td>69.5500</td>\n",
       "      <td>S</td>\n",
       "      <td>train</td>\n",
       "    </tr>\n",
       "    <tr>\n",
       "      <th>944</th>\n",
       "      <td>945</td>\n",
       "      <td>NaN</td>\n",
       "      <td>1</td>\n",
       "      <td>Fortune, Miss. Ethel Flora</td>\n",
       "      <td>1</td>\n",
       "      <td>28.0</td>\n",
       "      <td>3</td>\n",
       "      <td>2</td>\n",
       "      <td>19950</td>\n",
       "      <td>263.0000</td>\n",
       "      <td>S</td>\n",
       "      <td>test</td>\n",
       "    </tr>\n",
       "    <tr>\n",
       "      <th>1079</th>\n",
       "      <td>1080</td>\n",
       "      <td>NaN</td>\n",
       "      <td>3</td>\n",
       "      <td>Sage, Miss. Ada</td>\n",
       "      <td>1</td>\n",
       "      <td>14.5</td>\n",
       "      <td>8</td>\n",
       "      <td>2</td>\n",
       "      <td>CA. 2343</td>\n",
       "      <td>69.5500</td>\n",
       "      <td>S</td>\n",
       "      <td>test</td>\n",
       "    </tr>\n",
       "    <tr>\n",
       "      <th>1251</th>\n",
       "      <td>1252</td>\n",
       "      <td>NaN</td>\n",
       "      <td>3</td>\n",
       "      <td>Sage, Master. William Henry</td>\n",
       "      <td>0</td>\n",
       "      <td>14.5</td>\n",
       "      <td>8</td>\n",
       "      <td>2</td>\n",
       "      <td>CA. 2343</td>\n",
       "      <td>69.5500</td>\n",
       "      <td>S</td>\n",
       "      <td>test</td>\n",
       "    </tr>\n",
       "  </tbody>\n",
       "</table>\n",
       "</div>"
      ],
      "text/plain": [
       "      PassengerId  Survived  Pclass  \\\n",
       "438           439       0.0       1   \n",
       "587           588       1.0       1   \n",
       "745           746       0.0       1   \n",
       "960           961       NaN       1   \n",
       "1033         1034       NaN       1   \n",
       "1070         1071       NaN       1   \n",
       "27             28       0.0       1   \n",
       "88             89       1.0       1   \n",
       "159           160       0.0       3   \n",
       "180           181       0.0       3   \n",
       "201           202       0.0       3   \n",
       "324           325       0.0       3   \n",
       "341           342       1.0       1   \n",
       "792           793       0.0       3   \n",
       "846           847       0.0       3   \n",
       "863           864       0.0       3   \n",
       "944           945       NaN       1   \n",
       "1079         1080       NaN       3   \n",
       "1251         1252       NaN       3   \n",
       "\n",
       "                                                   Name  Sex   Age  SibSp  \\\n",
       "438                                   Fortune, Mr. Mark    0  64.0      1   \n",
       "587                    Frolicher-Stehli, Mr. Maxmillian    0  60.0      1   \n",
       "745                        Crosby, Capt. Edward Gifford    0  70.0      1   \n",
       "960                 Fortune, Mrs. Mark (Mary McDougald)    1  60.0      1   \n",
       "1033                         Ryerson, Mr. Arthur Larned    0  61.0      1   \n",
       "1070  Compton, Mrs. Alexander Taylor (Mary Eliza Ing...    1  64.0      0   \n",
       "27                       Fortune, Mr. Charles Alexander    0  19.0      3   \n",
       "88                           Fortune, Miss. Mabel Helen    1  23.0      3   \n",
       "159                          Sage, Master. Thomas Henry    0  14.5      8   \n",
       "180                        Sage, Miss. Constance Gladys    1  14.5      8   \n",
       "201                                 Sage, Mr. Frederick    0  14.5      8   \n",
       "324                            Sage, Mr. George John Jr    0  14.5      8   \n",
       "341                      Fortune, Miss. Alice Elizabeth    1  24.0      3   \n",
       "792                             Sage, Miss. Stella Anna    1  14.5      8   \n",
       "846                            Sage, Mr. Douglas Bullen    0  14.5      8   \n",
       "863                   Sage, Miss. Dorothy Edith \"Dolly\"    1  14.5      8   \n",
       "944                          Fortune, Miss. Ethel Flora    1  28.0      3   \n",
       "1079                                    Sage, Miss. Ada    1  14.5      8   \n",
       "1251                        Sage, Master. William Henry    0  14.5      8   \n",
       "\n",
       "      Parch     Ticket      Fare Embarked source  \n",
       "438       4      19950  263.0000        S  train  \n",
       "587       1      13567   79.2000        C  train  \n",
       "745       1  WE/P 5735   71.0000        S  train  \n",
       "960       4      19950  263.0000        S   test  \n",
       "1033      3   PC 17608  262.3750        C   test  \n",
       "1070      2   PC 17756   83.1583        C   test  \n",
       "27        2      19950  263.0000        S  train  \n",
       "88        2      19950  263.0000        S  train  \n",
       "159       2   CA. 2343   69.5500        S  train  \n",
       "180       2   CA. 2343   69.5500        S  train  \n",
       "201       2   CA. 2343   69.5500        S  train  \n",
       "324       2   CA. 2343   69.5500        S  train  \n",
       "341       2      19950  263.0000        S  train  \n",
       "792       2   CA. 2343   69.5500        S  train  \n",
       "846       2   CA. 2343   69.5500        S  train  \n",
       "863       2   CA. 2343   69.5500        S  train  \n",
       "944       2      19950  263.0000        S   test  \n",
       "1079      2   CA. 2343   69.5500        S   test  \n",
       "1251      2   CA. 2343   69.5500        S   test  "
      ]
     },
     "execution_count": 16,
     "metadata": {},
     "output_type": "execute_result"
    }
   ],
   "source": [
    "# Outlier detection \n",
    "\n",
    "def detect_outliers(df,n,features):\n",
    "    \"\"\"\n",
    "    Takes a dataframe df of features and returns a list of the indices\n",
    "    corresponding to the observations containing more than n outliers according\n",
    "    to the Tukey method.\n",
    "    \"\"\"\n",
    "    outlier_indices = []\n",
    "    \n",
    "    # iterate over features(columns)\n",
    "    for col in features:\n",
    "        # 1st quartile (25%)\n",
    "        Q1 = np.percentile(df[col], 25)\n",
    "        # 3rd quartile (75%)\n",
    "        Q3 = np.percentile(df[col],75)\n",
    "        # Interquartile range (IQR)\n",
    "        IQR = Q3 - Q1\n",
    "        \n",
    "        # outlier step\n",
    "        outlier_step = 1.5 * IQR\n",
    "        \n",
    "        # Determine a list of indices of outliers for feature col\n",
    "        outlier_list_col = df[(df[col] < Q1 - outlier_step) | (df[col] > Q3 + outlier_step )].index\n",
    "        \n",
    "        # append the found outlier indices for col to the list of outlier indices \n",
    "        outlier_indices.extend(outlier_list_col)\n",
    "        \n",
    "    # select observations containing more than 2 outliers\n",
    "    outlier_indices = Counter(outlier_indices)        \n",
    "    multiple_outliers = list( k for k, v in outlier_indices.items() if v > n )\n",
    "    return multiple_outliers\n",
    "\n",
    "# detect outliers from Age, SibSp , Parch and Fare\n",
    "Outliers_to_drop = detect_outliers(data,2,[\"Age\",\"SibSp\",\"Parch\",\"Fare\"])\n",
    "\n",
    "#  Show the outliers rows\n",
    "print(\"Outliers \\n\\n\")\n",
    "data.loc[Outliers_to_drop]\n",
    "#  Show the outliers rows"
   ]
  },
  {
   "cell_type": "code",
   "execution_count": 17,
   "id": "492b3f35",
   "metadata": {
    "execution": {
     "iopub.execute_input": "2022-12-20T08:45:30.978249Z",
     "iopub.status.busy": "2022-12-20T08:45:30.977847Z",
     "iopub.status.idle": "2022-12-20T08:45:30.984321Z",
     "shell.execute_reply": "2022-12-20T08:45:30.983432Z"
    },
    "papermill": {
     "duration": 0.028996,
     "end_time": "2022-12-20T08:45:30.986369",
     "exception": false,
     "start_time": "2022-12-20T08:45:30.957373",
     "status": "completed"
    },
    "tags": []
   },
   "outputs": [],
   "source": [
    "# Drop outliers\n",
    "data = data.drop(Outliers_to_drop, axis = 0).reset_index(drop=True)"
   ]
  },
  {
   "cell_type": "code",
   "execution_count": 18,
   "id": "d9247e1b",
   "metadata": {
    "execution": {
     "iopub.execute_input": "2022-12-20T08:45:31.027111Z",
     "iopub.status.busy": "2022-12-20T08:45:31.026824Z",
     "iopub.status.idle": "2022-12-20T08:45:31.042143Z",
     "shell.execute_reply": "2022-12-20T08:45:31.041092Z"
    },
    "papermill": {
     "duration": 0.040166,
     "end_time": "2022-12-20T08:45:31.045198",
     "exception": false,
     "start_time": "2022-12-20T08:45:31.005032",
     "status": "completed"
    },
    "tags": []
   },
   "outputs": [
    {
     "data": {
      "text/html": [
       "<div>\n",
       "<style scoped>\n",
       "    .dataframe tbody tr th:only-of-type {\n",
       "        vertical-align: middle;\n",
       "    }\n",
       "\n",
       "    .dataframe tbody tr th {\n",
       "        vertical-align: top;\n",
       "    }\n",
       "\n",
       "    .dataframe thead th {\n",
       "        text-align: right;\n",
       "    }\n",
       "</style>\n",
       "<table border=\"1\" class=\"dataframe\">\n",
       "  <thead>\n",
       "    <tr style=\"text-align: right;\">\n",
       "      <th></th>\n",
       "      <th>PassengerId</th>\n",
       "      <th>Survived</th>\n",
       "      <th>Pclass</th>\n",
       "      <th>Name</th>\n",
       "      <th>Sex</th>\n",
       "      <th>Age</th>\n",
       "      <th>SibSp</th>\n",
       "      <th>Parch</th>\n",
       "      <th>Ticket</th>\n",
       "      <th>Fare</th>\n",
       "      <th>Embarked</th>\n",
       "      <th>source</th>\n",
       "    </tr>\n",
       "  </thead>\n",
       "  <tbody>\n",
       "    <tr>\n",
       "      <th>0</th>\n",
       "      <td>1</td>\n",
       "      <td>0.0</td>\n",
       "      <td>3</td>\n",
       "      <td>Braund, Mr. Owen Harris</td>\n",
       "      <td>0</td>\n",
       "      <td>22.0</td>\n",
       "      <td>1</td>\n",
       "      <td>0</td>\n",
       "      <td>A/5 21171</td>\n",
       "      <td>7.2500</td>\n",
       "      <td>S</td>\n",
       "      <td>train</td>\n",
       "    </tr>\n",
       "    <tr>\n",
       "      <th>1</th>\n",
       "      <td>2</td>\n",
       "      <td>1.0</td>\n",
       "      <td>1</td>\n",
       "      <td>Cumings, Mrs. John Bradley (Florence Briggs Th...</td>\n",
       "      <td>1</td>\n",
       "      <td>38.0</td>\n",
       "      <td>1</td>\n",
       "      <td>0</td>\n",
       "      <td>PC 17599</td>\n",
       "      <td>71.2833</td>\n",
       "      <td>C</td>\n",
       "      <td>train</td>\n",
       "    </tr>\n",
       "    <tr>\n",
       "      <th>2</th>\n",
       "      <td>3</td>\n",
       "      <td>1.0</td>\n",
       "      <td>3</td>\n",
       "      <td>Heikkinen, Miss. Laina</td>\n",
       "      <td>1</td>\n",
       "      <td>26.0</td>\n",
       "      <td>0</td>\n",
       "      <td>0</td>\n",
       "      <td>STON/O2. 3101282</td>\n",
       "      <td>7.9250</td>\n",
       "      <td>S</td>\n",
       "      <td>train</td>\n",
       "    </tr>\n",
       "    <tr>\n",
       "      <th>3</th>\n",
       "      <td>4</td>\n",
       "      <td>1.0</td>\n",
       "      <td>1</td>\n",
       "      <td>Futrelle, Mrs. Jacques Heath (Lily May Peel)</td>\n",
       "      <td>1</td>\n",
       "      <td>35.0</td>\n",
       "      <td>1</td>\n",
       "      <td>0</td>\n",
       "      <td>113803</td>\n",
       "      <td>53.1000</td>\n",
       "      <td>S</td>\n",
       "      <td>train</td>\n",
       "    </tr>\n",
       "    <tr>\n",
       "      <th>4</th>\n",
       "      <td>5</td>\n",
       "      <td>0.0</td>\n",
       "      <td>3</td>\n",
       "      <td>Allen, Mr. William Henry</td>\n",
       "      <td>0</td>\n",
       "      <td>35.0</td>\n",
       "      <td>0</td>\n",
       "      <td>0</td>\n",
       "      <td>373450</td>\n",
       "      <td>8.0500</td>\n",
       "      <td>S</td>\n",
       "      <td>train</td>\n",
       "    </tr>\n",
       "  </tbody>\n",
       "</table>\n",
       "</div>"
      ],
      "text/plain": [
       "   PassengerId  Survived  Pclass  \\\n",
       "0            1       0.0       3   \n",
       "1            2       1.0       1   \n",
       "2            3       1.0       3   \n",
       "3            4       1.0       1   \n",
       "4            5       0.0       3   \n",
       "\n",
       "                                                Name  Sex   Age  SibSp  Parch  \\\n",
       "0                            Braund, Mr. Owen Harris    0  22.0      1      0   \n",
       "1  Cumings, Mrs. John Bradley (Florence Briggs Th...    1  38.0      1      0   \n",
       "2                             Heikkinen, Miss. Laina    1  26.0      0      0   \n",
       "3       Futrelle, Mrs. Jacques Heath (Lily May Peel)    1  35.0      1      0   \n",
       "4                           Allen, Mr. William Henry    0  35.0      0      0   \n",
       "\n",
       "             Ticket     Fare Embarked source  \n",
       "0         A/5 21171   7.2500        S  train  \n",
       "1          PC 17599  71.2833        C  train  \n",
       "2  STON/O2. 3101282   7.9250        S  train  \n",
       "3            113803  53.1000        S  train  \n",
       "4            373450   8.0500        S  train  "
      ]
     },
     "execution_count": 18,
     "metadata": {},
     "output_type": "execute_result"
    }
   ],
   "source": [
    "data.head()"
   ]
  },
  {
   "cell_type": "markdown",
   "id": "6bb9719d",
   "metadata": {
    "papermill": {
     "duration": 0.017896,
     "end_time": "2022-12-20T08:45:31.080864",
     "exception": false,
     "start_time": "2022-12-20T08:45:31.062968",
     "status": "completed"
    },
    "tags": []
   },
   "source": [
    "#### Veriable Identification\n",
    "* Numeric Data\n",
    "* Categorical Data"
   ]
  },
  {
   "cell_type": "code",
   "execution_count": 19,
   "id": "9a71e1f0",
   "metadata": {
    "execution": {
     "iopub.execute_input": "2022-12-20T08:45:31.117635Z",
     "iopub.status.busy": "2022-12-20T08:45:31.117365Z",
     "iopub.status.idle": "2022-12-20T08:45:31.121661Z",
     "shell.execute_reply": "2022-12-20T08:45:31.120678Z"
    },
    "papermill": {
     "duration": 0.024983,
     "end_time": "2022-12-20T08:45:31.123644",
     "exception": false,
     "start_time": "2022-12-20T08:45:31.098661",
     "status": "completed"
    },
    "tags": []
   },
   "outputs": [],
   "source": [
    "# # assign male and female to 0,1 in Sex\n",
    "# data['Sex'] = data['Sex'].map({0:'male', 1:'female'})\n",
    "\n",
    "# # assign 1st, 2nd, 3rd class to Pclass\n",
    "# data['Pclass'] = data['Pclass'].map({1:'Upper', 2:'Middle', 3:'Lower'})"
   ]
  },
  {
   "cell_type": "code",
   "execution_count": 20,
   "id": "f224a5dd",
   "metadata": {
    "execution": {
     "iopub.execute_input": "2022-12-20T08:45:31.162645Z",
     "iopub.status.busy": "2022-12-20T08:45:31.162336Z",
     "iopub.status.idle": "2022-12-20T08:45:31.169772Z",
     "shell.execute_reply": "2022-12-20T08:45:31.168942Z"
    },
    "papermill": {
     "duration": 0.028389,
     "end_time": "2022-12-20T08:45:31.171725",
     "exception": false,
     "start_time": "2022-12-20T08:45:31.143336",
     "status": "completed"
    },
    "tags": []
   },
   "outputs": [],
   "source": [
    "# Separating Numeric and categorical Data\n",
    "num_df = data.select_dtypes('number')\n",
    "cat_df = data.select_dtypes('object')"
   ]
  },
  {
   "cell_type": "code",
   "execution_count": 21,
   "id": "320c3e1c",
   "metadata": {
    "execution": {
     "iopub.execute_input": "2022-12-20T08:45:31.209115Z",
     "iopub.status.busy": "2022-12-20T08:45:31.208378Z",
     "iopub.status.idle": "2022-12-20T08:45:31.220182Z",
     "shell.execute_reply": "2022-12-20T08:45:31.219253Z"
    },
    "papermill": {
     "duration": 0.032541,
     "end_time": "2022-12-20T08:45:31.222296",
     "exception": false,
     "start_time": "2022-12-20T08:45:31.189755",
     "status": "completed"
    },
    "tags": []
   },
   "outputs": [
    {
     "data": {
      "text/html": [
       "<div>\n",
       "<style scoped>\n",
       "    .dataframe tbody tr th:only-of-type {\n",
       "        vertical-align: middle;\n",
       "    }\n",
       "\n",
       "    .dataframe tbody tr th {\n",
       "        vertical-align: top;\n",
       "    }\n",
       "\n",
       "    .dataframe thead th {\n",
       "        text-align: right;\n",
       "    }\n",
       "</style>\n",
       "<table border=\"1\" class=\"dataframe\">\n",
       "  <thead>\n",
       "    <tr style=\"text-align: right;\">\n",
       "      <th></th>\n",
       "      <th>PassengerId</th>\n",
       "      <th>Survived</th>\n",
       "      <th>Pclass</th>\n",
       "      <th>Sex</th>\n",
       "      <th>Age</th>\n",
       "      <th>SibSp</th>\n",
       "      <th>Parch</th>\n",
       "      <th>Fare</th>\n",
       "    </tr>\n",
       "  </thead>\n",
       "  <tbody>\n",
       "    <tr>\n",
       "      <th>0</th>\n",
       "      <td>1</td>\n",
       "      <td>0.0</td>\n",
       "      <td>3</td>\n",
       "      <td>0</td>\n",
       "      <td>22.0</td>\n",
       "      <td>1</td>\n",
       "      <td>0</td>\n",
       "      <td>7.2500</td>\n",
       "    </tr>\n",
       "    <tr>\n",
       "      <th>1</th>\n",
       "      <td>2</td>\n",
       "      <td>1.0</td>\n",
       "      <td>1</td>\n",
       "      <td>1</td>\n",
       "      <td>38.0</td>\n",
       "      <td>1</td>\n",
       "      <td>0</td>\n",
       "      <td>71.2833</td>\n",
       "    </tr>\n",
       "    <tr>\n",
       "      <th>2</th>\n",
       "      <td>3</td>\n",
       "      <td>1.0</td>\n",
       "      <td>3</td>\n",
       "      <td>1</td>\n",
       "      <td>26.0</td>\n",
       "      <td>0</td>\n",
       "      <td>0</td>\n",
       "      <td>7.9250</td>\n",
       "    </tr>\n",
       "    <tr>\n",
       "      <th>3</th>\n",
       "      <td>4</td>\n",
       "      <td>1.0</td>\n",
       "      <td>1</td>\n",
       "      <td>1</td>\n",
       "      <td>35.0</td>\n",
       "      <td>1</td>\n",
       "      <td>0</td>\n",
       "      <td>53.1000</td>\n",
       "    </tr>\n",
       "    <tr>\n",
       "      <th>4</th>\n",
       "      <td>5</td>\n",
       "      <td>0.0</td>\n",
       "      <td>3</td>\n",
       "      <td>0</td>\n",
       "      <td>35.0</td>\n",
       "      <td>0</td>\n",
       "      <td>0</td>\n",
       "      <td>8.0500</td>\n",
       "    </tr>\n",
       "  </tbody>\n",
       "</table>\n",
       "</div>"
      ],
      "text/plain": [
       "   PassengerId  Survived  Pclass  Sex   Age  SibSp  Parch     Fare\n",
       "0            1       0.0       3    0  22.0      1      0   7.2500\n",
       "1            2       1.0       1    1  38.0      1      0  71.2833\n",
       "2            3       1.0       3    1  26.0      0      0   7.9250\n",
       "3            4       1.0       1    1  35.0      1      0  53.1000\n",
       "4            5       0.0       3    0  35.0      0      0   8.0500"
      ]
     },
     "execution_count": 21,
     "metadata": {},
     "output_type": "execute_result"
    }
   ],
   "source": [
    "#Numeric Data\n",
    "num_df.head()"
   ]
  },
  {
   "cell_type": "code",
   "execution_count": 22,
   "id": "18e654b8",
   "metadata": {
    "execution": {
     "iopub.execute_input": "2022-12-20T08:45:31.260342Z",
     "iopub.status.busy": "2022-12-20T08:45:31.260045Z",
     "iopub.status.idle": "2022-12-20T08:45:31.270033Z",
     "shell.execute_reply": "2022-12-20T08:45:31.269167Z"
    },
    "papermill": {
     "duration": 0.03096,
     "end_time": "2022-12-20T08:45:31.271929",
     "exception": false,
     "start_time": "2022-12-20T08:45:31.240969",
     "status": "completed"
    },
    "tags": []
   },
   "outputs": [
    {
     "data": {
      "text/html": [
       "<div>\n",
       "<style scoped>\n",
       "    .dataframe tbody tr th:only-of-type {\n",
       "        vertical-align: middle;\n",
       "    }\n",
       "\n",
       "    .dataframe tbody tr th {\n",
       "        vertical-align: top;\n",
       "    }\n",
       "\n",
       "    .dataframe thead th {\n",
       "        text-align: right;\n",
       "    }\n",
       "</style>\n",
       "<table border=\"1\" class=\"dataframe\">\n",
       "  <thead>\n",
       "    <tr style=\"text-align: right;\">\n",
       "      <th></th>\n",
       "      <th>Name</th>\n",
       "      <th>Ticket</th>\n",
       "      <th>Embarked</th>\n",
       "      <th>source</th>\n",
       "    </tr>\n",
       "  </thead>\n",
       "  <tbody>\n",
       "    <tr>\n",
       "      <th>0</th>\n",
       "      <td>Braund, Mr. Owen Harris</td>\n",
       "      <td>A/5 21171</td>\n",
       "      <td>S</td>\n",
       "      <td>train</td>\n",
       "    </tr>\n",
       "    <tr>\n",
       "      <th>1</th>\n",
       "      <td>Cumings, Mrs. John Bradley (Florence Briggs Th...</td>\n",
       "      <td>PC 17599</td>\n",
       "      <td>C</td>\n",
       "      <td>train</td>\n",
       "    </tr>\n",
       "    <tr>\n",
       "      <th>2</th>\n",
       "      <td>Heikkinen, Miss. Laina</td>\n",
       "      <td>STON/O2. 3101282</td>\n",
       "      <td>S</td>\n",
       "      <td>train</td>\n",
       "    </tr>\n",
       "    <tr>\n",
       "      <th>3</th>\n",
       "      <td>Futrelle, Mrs. Jacques Heath (Lily May Peel)</td>\n",
       "      <td>113803</td>\n",
       "      <td>S</td>\n",
       "      <td>train</td>\n",
       "    </tr>\n",
       "    <tr>\n",
       "      <th>4</th>\n",
       "      <td>Allen, Mr. William Henry</td>\n",
       "      <td>373450</td>\n",
       "      <td>S</td>\n",
       "      <td>train</td>\n",
       "    </tr>\n",
       "  </tbody>\n",
       "</table>\n",
       "</div>"
      ],
      "text/plain": [
       "                                                Name            Ticket  \\\n",
       "0                            Braund, Mr. Owen Harris         A/5 21171   \n",
       "1  Cumings, Mrs. John Bradley (Florence Briggs Th...          PC 17599   \n",
       "2                             Heikkinen, Miss. Laina  STON/O2. 3101282   \n",
       "3       Futrelle, Mrs. Jacques Heath (Lily May Peel)            113803   \n",
       "4                           Allen, Mr. William Henry            373450   \n",
       "\n",
       "  Embarked source  \n",
       "0        S  train  \n",
       "1        C  train  \n",
       "2        S  train  \n",
       "3        S  train  \n",
       "4        S  train  "
      ]
     },
     "execution_count": 22,
     "metadata": {},
     "output_type": "execute_result"
    }
   ],
   "source": [
    "cat_df.head()"
   ]
  },
  {
   "cell_type": "markdown",
   "id": "9828d182",
   "metadata": {
    "papermill": {
     "duration": 0.01796,
     "end_time": "2022-12-20T08:45:31.308151",
     "exception": false,
     "start_time": "2022-12-20T08:45:31.290191",
     "status": "completed"
    },
    "tags": []
   },
   "source": [
    "* # *Data Visualization*\n",
    "* Numeric Data\n",
    "* Categorical Data"
   ]
  },
  {
   "cell_type": "code",
   "execution_count": 23,
   "id": "441a35c5",
   "metadata": {
    "execution": {
     "iopub.execute_input": "2022-12-20T08:45:31.346037Z",
     "iopub.status.busy": "2022-12-20T08:45:31.345253Z",
     "iopub.status.idle": "2022-12-20T08:45:31.751661Z",
     "shell.execute_reply": "2022-12-20T08:45:31.750755Z"
    },
    "papermill": {
     "duration": 0.427508,
     "end_time": "2022-12-20T08:45:31.753697",
     "exception": false,
     "start_time": "2022-12-20T08:45:31.326189",
     "status": "completed"
    },
    "tags": []
   },
   "outputs": [
    {
     "data": {
      "text/plain": [
       "Text(0.5, 1.0, 'Correlation of Survived with  Numeric Data\\n')"
      ]
     },
     "execution_count": 23,
     "metadata": {},
     "output_type": "execute_result"
    },
    {
     "data": {
      "image/png": "[encoded data removed]",
      "text/plain": [
       "<Figure size 432x288 with 2 Axes>"
      ]
     },
     "metadata": {},
     "output_type": "display_data"
    }
   ],
   "source": [
    "# Check Correlation\n",
    "ax = sns.heatmap(data=train[num_df.columns[1:]].corr(), cmap='YlOrBr', fmt='.2f', annot=True)\n",
    "ax.set_title('Correlation of Survived with  Numeric Data\\n', fontsize=20)"
   ]
  },
  {
   "cell_type": "markdown",
   "id": "8491c155",
   "metadata": {
    "papermill": {
     "duration": 0.019646,
     "end_time": "2022-12-20T08:45:31.794044",
     "exception": false,
     "start_time": "2022-12-20T08:45:31.774398",
     "status": "completed"
    },
    "tags": []
   },
   "source": [
    "### Realizations\n",
    "* Only **Fare** seems to have a **positive** correlation wirh surviving.\n",
    "* **Pclass** has the **worst** correlation of all with suriving"
   ]
  },
  {
   "cell_type": "code",
   "execution_count": 24,
   "id": "dd23a148",
   "metadata": {
    "execution": {
     "iopub.execute_input": "2022-12-20T08:45:31.835100Z",
     "iopub.status.busy": "2022-12-20T08:45:31.834123Z",
     "iopub.status.idle": "2022-12-20T08:45:32.575104Z",
     "shell.execute_reply": "2022-12-20T08:45:32.574130Z"
    },
    "papermill": {
     "duration": 0.763478,
     "end_time": "2022-12-20T08:45:32.577273",
     "exception": false,
     "start_time": "2022-12-20T08:45:31.813795",
     "status": "completed"
    },
    "tags": []
   },
   "outputs": [
    {
     "data": {
      "text/plain": [
       "<seaborn.axisgrid.FacetGrid at 0x7f448ef161d0>"
      ]
     },
     "execution_count": 24,
     "metadata": {},
     "output_type": "execute_result"
    },
    {
     "data": {
      "image/png": "[encoded data removed]",
      "text/plain": [
       "<Figure size 432x216 with 2 Axes>"
      ]
     },
     "metadata": {},
     "output_type": "display_data"
    }
   ],
   "source": [
    "#  Age Vs Survived\n",
    "ax = sns.FacetGrid(train, col='Survived', margin_titles=True)\n",
    "ax = ax.map(sns.distplot, 'Age')\n",
    "ax.set_ylabels('Survival Probability')\n",
    "# ax.set_titles(['Age Survived', 'Age Not Survived'])\n",
    "ax.despine(offset=3, trim=True)"
   ]
  },
  {
   "cell_type": "code",
   "execution_count": 25,
   "id": "a6a0c74b",
   "metadata": {
    "execution": {
     "iopub.execute_input": "2022-12-20T08:45:32.617684Z",
     "iopub.status.busy": "2022-12-20T08:45:32.616879Z",
     "iopub.status.idle": "2022-12-20T08:45:32.877749Z",
     "shell.execute_reply": "2022-12-20T08:45:32.876827Z"
    },
    "papermill": {
     "duration": 0.28296,
     "end_time": "2022-12-20T08:45:32.879751",
     "exception": false,
     "start_time": "2022-12-20T08:45:32.596791",
     "status": "completed"
    },
    "tags": []
   },
   "outputs": [
    {
     "data": {
      "text/plain": [
       "<matplotlib.legend.Legend at 0x7f448f2ffbd0>"
      ]
     },
     "execution_count": 25,
     "metadata": {},
     "output_type": "execute_result"
    },
    {
     "data": {
      "image/png": "[encoded data removed]",
      "text/plain": [
       "<Figure size 432x288 with 1 Axes>"
      ]
     },
     "metadata": {},
     "output_type": "display_data"
    }
   ],
   "source": [
    "# Explore Age Distro\n",
    "ax = sns.kdeplot(num_df[num_df[\"Survived\"] == 0]['Age'], color='b', shade=True)\n",
    "ax = sns.kdeplot(num_df[num_df[\"Survived\"] == 1]['Age'], color='r', shade=True)\n",
    "ax.set_xlabel(\"Age\")\n",
    "ax.set_ylabel(\"Survival Probability\")\n",
    "ax.set_title('Age Distribution based on Survived/Not Survived\\n', fontsize=15)\n",
    "sns.despine(offset=3, trim=True)\n",
    "ax.legend(['Not Survived', 'Survived'])"
   ]
  },
  {
   "cell_type": "code",
   "execution_count": 26,
   "id": "a763d3fc",
   "metadata": {
    "execution": {
     "iopub.execute_input": "2022-12-20T08:45:32.921679Z",
     "iopub.status.busy": "2022-12-20T08:45:32.920837Z",
     "iopub.status.idle": "2022-12-20T08:45:33.315641Z",
     "shell.execute_reply": "2022-12-20T08:45:33.314727Z"
    },
    "papermill": {
     "duration": 0.417826,
     "end_time": "2022-12-20T08:45:33.317870",
     "exception": false,
     "start_time": "2022-12-20T08:45:32.900044",
     "status": "completed"
    },
    "tags": []
   },
   "outputs": [
    {
     "data": {
      "image/png": "[encoded data removed]",
      "text/plain": [
       "<Figure size 432x288 with 1 Axes>"
      ]
     },
     "metadata": {},
     "output_type": "display_data"
    }
   ],
   "source": [
    "# Explore Survived based on SibSp\n",
    "ax = sns.barplot(x='SibSp', y='Survived', data=train)\n",
    "ax.set_title('SibSp Vs Survived', fontsize=15)\n",
    "sns.despine(offset=5, trim=True)\n"
   ]
  },
  {
   "cell_type": "code",
   "execution_count": 27,
   "id": "d0f99f4f",
   "metadata": {
    "execution": {
     "iopub.execute_input": "2022-12-20T08:45:33.359349Z",
     "iopub.status.busy": "2022-12-20T08:45:33.359025Z",
     "iopub.status.idle": "2022-12-20T08:45:33.711921Z",
     "shell.execute_reply": "2022-12-20T08:45:33.711045Z"
    },
    "papermill": {
     "duration": 0.376095,
     "end_time": "2022-12-20T08:45:33.714142",
     "exception": false,
     "start_time": "2022-12-20T08:45:33.338047",
     "status": "completed"
    },
    "tags": []
   },
   "outputs": [
    {
     "data": {
      "image/png": "[encoded data removed]",
      "text/plain": [
       "<Figure size 432x288 with 1 Axes>"
      ]
     },
     "metadata": {},
     "output_type": "display_data"
    }
   ],
   "source": [
    "# Explore Survived based on parch\n",
    "ax = sns.barplot(x='Parch', y='Survived', data=train)\n",
    "ax.set_title('Parch Vs Survived', fontsize=15)\n",
    "sns.despine(offset=5, trim=True)"
   ]
  },
  {
   "cell_type": "code",
   "execution_count": 28,
   "id": "6ca6c9de",
   "metadata": {
    "execution": {
     "iopub.execute_input": "2022-12-20T08:45:33.755989Z",
     "iopub.status.busy": "2022-12-20T08:45:33.755706Z",
     "iopub.status.idle": "2022-12-20T08:45:34.273189Z",
     "shell.execute_reply": "2022-12-20T08:45:34.272277Z"
    },
    "papermill": {
     "duration": 0.540452,
     "end_time": "2022-12-20T08:45:34.275188",
     "exception": false,
     "start_time": "2022-12-20T08:45:33.734736",
     "status": "completed"
    },
    "tags": []
   },
   "outputs": [
    {
     "data": {
      "image/png": "[encoded data removed]",
      "text/plain": [
       "<Figure size 432x288 with 1 Axes>"
      ]
     },
     "metadata": {},
     "output_type": "display_data"
    }
   ],
   "source": [
    "ax = sns.histplot(num_df['Fare'], color='m', label=\"Skewness : %.2f\"%(num_df[\"Fare\"].skew()), kde=True)\n",
    "ax.set_ylabel('Number of Passeners')\n",
    "ax.set_title('Fare Distribution', fontsize=15)\n",
    "ax = ax.legend(loc=\"best\")\n",
    "sns.despine(offset=5, trim=True)\n",
    "\n"
   ]
  },
  {
   "cell_type": "code",
   "execution_count": 29,
   "id": "f5a6eab1",
   "metadata": {
    "execution": {
     "iopub.execute_input": "2022-12-20T08:45:34.318456Z",
     "iopub.status.busy": "2022-12-20T08:45:34.317755Z",
     "iopub.status.idle": "2022-12-20T08:45:34.324622Z",
     "shell.execute_reply": "2022-12-20T08:45:34.323713Z"
    },
    "papermill": {
     "duration": 0.03051,
     "end_time": "2022-12-20T08:45:34.326576",
     "exception": false,
     "start_time": "2022-12-20T08:45:34.296066",
     "status": "completed"
    },
    "tags": []
   },
   "outputs": [],
   "source": [
    "# Applying Log to reduce skewness\n",
    "data['Fare'] = data['Fare'].apply(lambda i:np.log(i) if i > 0 else 0)"
   ]
  },
  {
   "cell_type": "code",
   "execution_count": 30,
   "id": "5f522737",
   "metadata": {
    "execution": {
     "iopub.execute_input": "2022-12-20T08:45:34.369623Z",
     "iopub.status.busy": "2022-12-20T08:45:34.368780Z",
     "iopub.status.idle": "2022-12-20T08:45:34.690941Z",
     "shell.execute_reply": "2022-12-20T08:45:34.690060Z"
    },
    "papermill": {
     "duration": 0.345782,
     "end_time": "2022-12-20T08:45:34.693002",
     "exception": false,
     "start_time": "2022-12-20T08:45:34.347220",
     "status": "completed"
    },
    "tags": []
   },
   "outputs": [
    {
     "data": {
      "image/png": "[encoded data removed]",
      "text/plain": [
       "<Figure size 432x288 with 1 Axes>"
      ]
     },
     "metadata": {},
     "output_type": "display_data"
    }
   ],
   "source": [
    "ax = sns.histplot(data['Fare'], color='m', label=\"Skewness : %.2f\"%(data[\"Fare\"].skew()), kde=True)\n",
    "ax.set_ylabel('Number of Passeners')\n",
    "ax.set_title('Fare Distribution', fontsize=15)\n",
    "ax = ax.legend(loc=\"best\")\n",
    "sns.despine(offset=5, trim=True)"
   ]
  },
  {
   "cell_type": "markdown",
   "id": "3ccbad38",
   "metadata": {
    "papermill": {
     "duration": 0.020503,
     "end_time": "2022-12-20T08:45:34.734429",
     "exception": false,
     "start_time": "2022-12-20T08:45:34.713926",
     "status": "completed"
    },
    "tags": []
   },
   "source": [
    "### Realizations\n",
    "* Seems like there are more chances of **survivial** those who are **younger**, also we can clearly see there a peak from (0-5) **children** in 2nd chart **indecating** more chances of **surviving**.\n",
    "* Passengers with **1 or 2 sibSp** have heigher chance of **surviving**\n",
    "* **Small families** have more chance to **survive**, more than **single (Parch 0)**, medium (Parch 3,4) and large families (Parch 5,6 ). be carefull with 3 Parch as it has **standard deviation** \n",
    "* Fare is largly **skewed** towords **right** we fix that with **np.log** and skewness clearly **reduced after log transformation**. "
   ]
  },
  {
   "cell_type": "code",
   "execution_count": 31,
   "id": "729a5fb2",
   "metadata": {
    "execution": {
     "iopub.execute_input": "2022-12-20T08:45:34.780792Z",
     "iopub.status.busy": "2022-12-20T08:45:34.780163Z",
     "iopub.status.idle": "2022-12-20T08:45:35.048126Z",
     "shell.execute_reply": "2022-12-20T08:45:35.047219Z"
    },
    "papermill": {
     "duration": 0.29406,
     "end_time": "2022-12-20T08:45:35.050503",
     "exception": false,
     "start_time": "2022-12-20T08:45:34.756443",
     "status": "completed"
    },
    "tags": []
   },
   "outputs": [
    {
     "data": {
      "image/png": "[encoded data removed]",
      "text/plain": [
       "<Figure size 432x288 with 1 Axes>"
      ]
     },
     "metadata": {},
     "output_type": "display_data"
    }
   ],
   "source": [
    "#Explore categorical Data\n",
    "\n",
    "#Explore Survived based on Sex\n",
    "ax = sns.barplot(x='Sex', y='Survived',data=data)\n",
    "ax.set_title('Sex Vs Survived', fontsize=15)\n",
    "ax.set_ylabel('Survival Probability')\n",
    "ax.set_xticklabels(['male', 'female'])\n",
    "sns.despine(offset=5, trim=True)"
   ]
  },
  {
   "cell_type": "code",
   "execution_count": 32,
   "id": "7d9f0881",
   "metadata": {
    "execution": {
     "iopub.execute_input": "2022-12-20T08:45:35.095709Z",
     "iopub.status.busy": "2022-12-20T08:45:35.094754Z",
     "iopub.status.idle": "2022-12-20T08:45:35.363136Z",
     "shell.execute_reply": "2022-12-20T08:45:35.362153Z"
    },
    "papermill": {
     "duration": 0.292764,
     "end_time": "2022-12-20T08:45:35.365408",
     "exception": false,
     "start_time": "2022-12-20T08:45:35.072644",
     "status": "completed"
    },
    "tags": []
   },
   "outputs": [
    {
     "data": {
      "image/png": "[encoded data removed]",
      "text/plain": [
       "<Figure size 432x288 with 1 Axes>"
      ]
     },
     "metadata": {},
     "output_type": "display_data"
    }
   ],
   "source": [
    "# Explore Survived with Pclass\n",
    "ax = sns.barplot(x='Pclass', y='Survived', data=train)\n",
    "ax.set_title('Pclass Vs Survived', fontsize=15)\n",
    "ax.set_ylabel('Survival Probability')\n",
    "ax.set_xticklabels(['Upper', 'Middle', 'Lower'])\n",
    "sns.despine(offset=5, trim=True)"
   ]
  },
  {
   "cell_type": "code",
   "execution_count": 33,
   "id": "9e2da542",
   "metadata": {
    "execution": {
     "iopub.execute_input": "2022-12-20T08:45:35.409991Z",
     "iopub.status.busy": "2022-12-20T08:45:35.409053Z",
     "iopub.status.idle": "2022-12-20T08:45:35.670326Z",
     "shell.execute_reply": "2022-12-20T08:45:35.669142Z"
    },
    "papermill": {
     "duration": 0.285913,
     "end_time": "2022-12-20T08:45:35.672770",
     "exception": false,
     "start_time": "2022-12-20T08:45:35.386857",
     "status": "completed"
    },
    "tags": []
   },
   "outputs": [
    {
     "data": {
      "image/png": "[encoded data removed]",
      "text/plain": [
       "<Figure size 432x288 with 1 Axes>"
      ]
     },
     "metadata": {},
     "output_type": "display_data"
    }
   ],
   "source": [
    "# Explore Survived with Embarked\n",
    "ax = sns.barplot(x='Embarked', y='Survived', data=train)\n",
    "ax.set_title('Embarked Vs Survived', fontsize=15)\n",
    "ax.set_ylabel('Survival Probability')\n",
    "sns.despine(offset=5, trim=True)"
   ]
  },
  {
   "cell_type": "code",
   "execution_count": 34,
   "id": "3642c090",
   "metadata": {
    "execution": {
     "iopub.execute_input": "2022-12-20T08:45:35.718569Z",
     "iopub.status.busy": "2022-12-20T08:45:35.717072Z",
     "iopub.status.idle": "2022-12-20T08:45:36.070076Z",
     "shell.execute_reply": "2022-12-20T08:45:36.069134Z"
    },
    "papermill": {
     "duration": 0.37767,
     "end_time": "2022-12-20T08:45:36.072332",
     "exception": false,
     "start_time": "2022-12-20T08:45:35.694662",
     "status": "completed"
    },
    "tags": []
   },
   "outputs": [
    {
     "data": {
      "image/png": "[encoded data removed]",
      "text/plain": [
       "<Figure size 432x288 with 1 Axes>"
      ]
     },
     "metadata": {},
     "output_type": "display_data"
    }
   ],
   "source": [
    "# Explore Survived with Pclass and Sex\n",
    "ax = sns.barplot(x='Pclass', y='Survived', hue='Sex', data=train)\n",
    "ax.set_title('Pclass Vs Survived with Sex', fontsize=15)\n",
    "ax.set_ylabel('Survival Probability')\n",
    "ax.set_xticklabels(['Upper', 'Middle', 'Lower'])\n",
    "sns.despine(offset=5, trim=True)"
   ]
  },
  {
   "cell_type": "code",
   "execution_count": 35,
   "id": "6d9b8d81",
   "metadata": {
    "execution": {
     "iopub.execute_input": "2022-12-20T08:45:36.134262Z",
     "iopub.status.busy": "2022-12-20T08:45:36.133923Z",
     "iopub.status.idle": "2022-12-20T08:45:36.728060Z",
     "shell.execute_reply": "2022-12-20T08:45:36.727164Z"
    },
    "papermill": {
     "duration": 0.635342,
     "end_time": "2022-12-20T08:45:36.730214",
     "exception": false,
     "start_time": "2022-12-20T08:45:36.094872",
     "status": "completed"
    },
    "tags": []
   },
   "outputs": [
    {
     "data": {
      "image/png": "[encoded data removed]",
      "text/plain": [
       "<Figure size 1296x432 with 3 Axes>"
      ]
     },
     "metadata": {},
     "output_type": "display_data"
    }
   ],
   "source": [
    "# Explore Survived with Pclass and Embarked\n",
    "ax = sns.catplot(data=data, x='Pclass', col='Embarked', kind='count', height=6)\n",
    "ax.despine(offset=3, trim=True)\n",
    "ax = ax.set_ylabels('Count')"
   ]
  },
  {
   "cell_type": "markdown",
   "id": "e5b30ec5",
   "metadata": {
    "papermill": {
     "duration": 0.022109,
     "end_time": "2022-12-20T08:45:36.774986",
     "exception": false,
     "start_time": "2022-12-20T08:45:36.752877",
     "status": "completed"
    },
    "tags": []
   },
   "source": [
    "### Realizations\n",
    "* **Female passengers** have higher chance of **surviving**, So **Sex**, might play an **important role** in the prediction of the survival.\n",
    "* **Upper Class** passengers have higher chance of **surviving**\n",
    "* **Upper Class Female** passengers have higher chance of **surviving**\n",
    "* Passengers coming from **Cherbourg** (C) have higher chance of **surviving**, because most **Upper class** passengers are coming from **Cherbourg** (C), where as **lower** and **Middle** class are from **Southampton** (S) and **Queenstown** (Q) respectivley."
   ]
  },
  {
   "cell_type": "markdown",
   "id": "dae1cb2e",
   "metadata": {
    "papermill": {
     "duration": 0.021744,
     "end_time": "2022-12-20T08:45:36.818856",
     "exception": false,
     "start_time": "2022-12-20T08:45:36.797112",
     "status": "completed"
    },
    "tags": []
   },
   "source": [
    "* ### **Future Engeneering**"
   ]
  },
  {
   "cell_type": "code",
   "execution_count": 36,
   "id": "9b02ab6b",
   "metadata": {
    "execution": {
     "iopub.execute_input": "2022-12-20T08:45:36.865407Z",
     "iopub.status.busy": "2022-12-20T08:45:36.864504Z",
     "iopub.status.idle": "2022-12-20T08:45:36.879203Z",
     "shell.execute_reply": "2022-12-20T08:45:36.878243Z"
    },
    "papermill": {
     "duration": 0.040191,
     "end_time": "2022-12-20T08:45:36.881184",
     "exception": false,
     "start_time": "2022-12-20T08:45:36.840993",
     "status": "completed"
    },
    "tags": []
   },
   "outputs": [
    {
     "data": {
      "text/html": [
       "<div>\n",
       "<style scoped>\n",
       "    .dataframe tbody tr th:only-of-type {\n",
       "        vertical-align: middle;\n",
       "    }\n",
       "\n",
       "    .dataframe tbody tr th {\n",
       "        vertical-align: top;\n",
       "    }\n",
       "\n",
       "    .dataframe thead th {\n",
       "        text-align: right;\n",
       "    }\n",
       "</style>\n",
       "<table border=\"1\" class=\"dataframe\">\n",
       "  <thead>\n",
       "    <tr style=\"text-align: right;\">\n",
       "      <th></th>\n",
       "      <th>PassengerId</th>\n",
       "      <th>Survived</th>\n",
       "      <th>Pclass</th>\n",
       "      <th>Name</th>\n",
       "      <th>Sex</th>\n",
       "      <th>Age</th>\n",
       "      <th>SibSp</th>\n",
       "      <th>Parch</th>\n",
       "      <th>Ticket</th>\n",
       "      <th>Fare</th>\n",
       "      <th>Embarked</th>\n",
       "      <th>source</th>\n",
       "    </tr>\n",
       "  </thead>\n",
       "  <tbody>\n",
       "    <tr>\n",
       "      <th>0</th>\n",
       "      <td>1</td>\n",
       "      <td>0.0</td>\n",
       "      <td>3</td>\n",
       "      <td>Braund, Mr. Owen Harris</td>\n",
       "      <td>0</td>\n",
       "      <td>22.0</td>\n",
       "      <td>1</td>\n",
       "      <td>0</td>\n",
       "      <td>A/5 21171</td>\n",
       "      <td>1.981001</td>\n",
       "      <td>S</td>\n",
       "      <td>train</td>\n",
       "    </tr>\n",
       "    <tr>\n",
       "      <th>1</th>\n",
       "      <td>2</td>\n",
       "      <td>1.0</td>\n",
       "      <td>1</td>\n",
       "      <td>Cumings, Mrs. John Bradley (Florence Briggs Th...</td>\n",
       "      <td>1</td>\n",
       "      <td>38.0</td>\n",
       "      <td>1</td>\n",
       "      <td>0</td>\n",
       "      <td>PC 17599</td>\n",
       "      <td>4.266662</td>\n",
       "      <td>C</td>\n",
       "      <td>train</td>\n",
       "    </tr>\n",
       "    <tr>\n",
       "      <th>2</th>\n",
       "      <td>3</td>\n",
       "      <td>1.0</td>\n",
       "      <td>3</td>\n",
       "      <td>Heikkinen, Miss. Laina</td>\n",
       "      <td>1</td>\n",
       "      <td>26.0</td>\n",
       "      <td>0</td>\n",
       "      <td>0</td>\n",
       "      <td>STON/O2. 3101282</td>\n",
       "      <td>2.070022</td>\n",
       "      <td>S</td>\n",
       "      <td>train</td>\n",
       "    </tr>\n",
       "    <tr>\n",
       "      <th>3</th>\n",
       "      <td>4</td>\n",
       "      <td>1.0</td>\n",
       "      <td>1</td>\n",
       "      <td>Futrelle, Mrs. Jacques Heath (Lily May Peel)</td>\n",
       "      <td>1</td>\n",
       "      <td>35.0</td>\n",
       "      <td>1</td>\n",
       "      <td>0</td>\n",
       "      <td>113803</td>\n",
       "      <td>3.972177</td>\n",
       "      <td>S</td>\n",
       "      <td>train</td>\n",
       "    </tr>\n",
       "    <tr>\n",
       "      <th>4</th>\n",
       "      <td>5</td>\n",
       "      <td>0.0</td>\n",
       "      <td>3</td>\n",
       "      <td>Allen, Mr. William Henry</td>\n",
       "      <td>0</td>\n",
       "      <td>35.0</td>\n",
       "      <td>0</td>\n",
       "      <td>0</td>\n",
       "      <td>373450</td>\n",
       "      <td>2.085672</td>\n",
       "      <td>S</td>\n",
       "      <td>train</td>\n",
       "    </tr>\n",
       "  </tbody>\n",
       "</table>\n",
       "</div>"
      ],
      "text/plain": [
       "   PassengerId  Survived  Pclass  \\\n",
       "0            1       0.0       3   \n",
       "1            2       1.0       1   \n",
       "2            3       1.0       3   \n",
       "3            4       1.0       1   \n",
       "4            5       0.0       3   \n",
       "\n",
       "                                                Name  Sex   Age  SibSp  Parch  \\\n",
       "0                            Braund, Mr. Owen Harris    0  22.0      1      0   \n",
       "1  Cumings, Mrs. John Bradley (Florence Briggs Th...    1  38.0      1      0   \n",
       "2                             Heikkinen, Miss. Laina    1  26.0      0      0   \n",
       "3       Futrelle, Mrs. Jacques Heath (Lily May Peel)    1  35.0      1      0   \n",
       "4                           Allen, Mr. William Henry    0  35.0      0      0   \n",
       "\n",
       "             Ticket      Fare Embarked source  \n",
       "0         A/5 21171  1.981001        S  train  \n",
       "1          PC 17599  4.266662        C  train  \n",
       "2  STON/O2. 3101282  2.070022        S  train  \n",
       "3            113803  3.972177        S  train  \n",
       "4            373450  2.085672        S  train  "
      ]
     },
     "execution_count": 36,
     "metadata": {},
     "output_type": "execute_result"
    }
   ],
   "source": [
    "data.head()"
   ]
  },
  {
   "cell_type": "code",
   "execution_count": 37,
   "id": "005f87df",
   "metadata": {
    "execution": {
     "iopub.execute_input": "2022-12-20T08:45:36.928544Z",
     "iopub.status.busy": "2022-12-20T08:45:36.927662Z",
     "iopub.status.idle": "2022-12-20T08:45:36.935357Z",
     "shell.execute_reply": "2022-12-20T08:45:36.934363Z"
    },
    "papermill": {
     "duration": 0.033739,
     "end_time": "2022-12-20T08:45:36.937433",
     "exception": false,
     "start_time": "2022-12-20T08:45:36.903694",
     "status": "completed"
    },
    "tags": []
   },
   "outputs": [
    {
     "data": {
      "text/plain": [
       "0                              Braund, Mr. Owen Harris\n",
       "1    Cumings, Mrs. John Bradley (Florence Briggs Th...\n",
       "2                               Heikkinen, Miss. Laina\n",
       "3         Futrelle, Mrs. Jacques Heath (Lily May Peel)\n",
       "4                             Allen, Mr. William Henry\n",
       "Name: Name, dtype: object"
      ]
     },
     "execution_count": 37,
     "metadata": {},
     "output_type": "execute_result"
    }
   ],
   "source": [
    "data['Name'].head()"
   ]
  },
  {
   "cell_type": "markdown",
   "id": "f1070142",
   "metadata": {
    "papermill": {
     "duration": 0.022168,
     "end_time": "2022-12-20T08:45:36.981853",
     "exception": false,
     "start_time": "2022-12-20T08:45:36.959685",
     "status": "completed"
    },
    "tags": []
   },
   "source": [
    "### Name Title\n",
    "* We have different **titles** with names (**Mr/Miss/Lady**) etc.\n",
    "* Since some passenger with **distingused title** may be preferred during the **evacuation**, it is interesting to add them to the model."
   ]
  },
  {
   "cell_type": "code",
   "execution_count": 38,
   "id": "62e1ae01",
   "metadata": {
    "execution": {
     "iopub.execute_input": "2022-12-20T08:45:37.027838Z",
     "iopub.status.busy": "2022-12-20T08:45:37.027533Z",
     "iopub.status.idle": "2022-12-20T08:45:37.038548Z",
     "shell.execute_reply": "2022-12-20T08:45:37.037595Z"
    },
    "papermill": {
     "duration": 0.036525,
     "end_time": "2022-12-20T08:45:37.040534",
     "exception": false,
     "start_time": "2022-12-20T08:45:37.004009",
     "status": "completed"
    },
    "tags": []
   },
   "outputs": [
    {
     "data": {
      "text/plain": [
       "array(['Mr', 'Mrs', 'Miss', 'Master', 'Don', 'Rev', 'Dr', 'Mme', 'Ms',\n",
       "       'Major', 'Lady', 'Sir', 'Mlle', 'Col', 'the Countess', 'Jonkheer',\n",
       "       'Dona'], dtype=object)"
      ]
     },
     "execution_count": 38,
     "metadata": {},
     "output_type": "execute_result"
    }
   ],
   "source": [
    "## Finding Titles\n",
    "data['Title'] = data['Name'].apply(lambda i:i.rsplit(',')[1].split('.')[0].strip())\n",
    "data['Title'].unique()"
   ]
  },
  {
   "cell_type": "code",
   "execution_count": 39,
   "id": "8af89356",
   "metadata": {
    "execution": {
     "iopub.execute_input": "2022-12-20T08:45:37.086914Z",
     "iopub.status.busy": "2022-12-20T08:45:37.086153Z",
     "iopub.status.idle": "2022-12-20T08:45:37.410992Z",
     "shell.execute_reply": "2022-12-20T08:45:37.410124Z"
    },
    "papermill": {
     "duration": 0.350168,
     "end_time": "2022-12-20T08:45:37.412995",
     "exception": false,
     "start_time": "2022-12-20T08:45:37.062827",
     "status": "completed"
    },
    "tags": []
   },
   "outputs": [
    {
     "data": {
      "image/png": "[encoded data removed]",
      "text/plain": [
       "<Figure size 432x288 with 1 Axes>"
      ]
     },
     "metadata": {},
     "output_type": "display_data"
    }
   ],
   "source": [
    "# Lets see Titles\n",
    "ax = sns.countplot(data=data, x='Title')\n",
    "ax.set_title('Titles', fontsize=15)\n",
    "ax.set_ylabel('Number of Passengers')\n",
    "sns.despine(offset=3, trim=True)\n",
    "ax = plt.setp(ax.get_xticklabels(), rotation=40)\n"
   ]
  },
  {
   "cell_type": "code",
   "execution_count": 40,
   "id": "666e3075",
   "metadata": {
    "execution": {
     "iopub.execute_input": "2022-12-20T08:45:37.461140Z",
     "iopub.status.busy": "2022-12-20T08:45:37.460339Z",
     "iopub.status.idle": "2022-12-20T08:45:37.952245Z",
     "shell.execute_reply": "2022-12-20T08:45:37.951335Z"
    },
    "papermill": {
     "duration": 0.518437,
     "end_time": "2022-12-20T08:45:37.954584",
     "exception": false,
     "start_time": "2022-12-20T08:45:37.436147",
     "status": "completed"
    },
    "tags": []
   },
   "outputs": [
    {
     "data": {
      "image/png": "[encoded data removed]",
      "text/plain": [
       "<Figure size 432x288 with 1 Axes>"
      ]
     },
     "metadata": {},
     "output_type": "display_data"
    }
   ],
   "source": [
    "ax = sns.barplot(data=data[data['source'] == 'train'], x='Title', y='Survived')\n",
    "ax.set_title('Title Vs Survived', fontsize=15)\n",
    "ax.set_ylabel('Survival Probability')\n",
    "sns.despine(offset=3, trim=True)"
   ]
  },
  {
   "cell_type": "markdown",
   "id": "57da2442",
   "metadata": {
    "papermill": {
     "duration": 0.022978,
     "end_time": "2022-12-20T08:45:38.001097",
     "exception": false,
     "start_time": "2022-12-20T08:45:37.978119",
     "status": "completed"
    },
    "tags": []
   },
   "source": [
    "### Realizations\n",
    "* total **17 titles**, but they can be **reduced**, lets convert them into **title categories**.\n",
    "* It looks like the **rare titles** have more chances of **surviving**."
   ]
  },
  {
   "cell_type": "code",
   "execution_count": 41,
   "id": "92ab8bd6",
   "metadata": {
    "execution": {
     "iopub.execute_input": "2022-12-20T08:45:38.049030Z",
     "iopub.status.busy": "2022-12-20T08:45:38.048707Z",
     "iopub.status.idle": "2022-12-20T08:45:38.057959Z",
     "shell.execute_reply": "2022-12-20T08:45:38.057125Z"
    },
    "papermill": {
     "duration": 0.035725,
     "end_time": "2022-12-20T08:45:38.059915",
     "exception": false,
     "start_time": "2022-12-20T08:45:38.024190",
     "status": "completed"
    },
    "tags": []
   },
   "outputs": [],
   "source": [
    "# Convert Title into categries\n",
    "data['Title'] = data['Title'].replace(['Don', 'Rev', 'Dr', 'Mme', 'Ms',\n",
    "       'Major', 'Lady', 'Sir', 'Mlle', 'Col', 'the Countess', 'Jonkheer',\n",
    "       'Dona'], 'others')\n",
    "data['Title'] = data['Title'].map({'Mr':0, 'Mrs':1, 'Miss':1, 'Master':2, 'others':3})"
   ]
  },
  {
   "cell_type": "code",
   "execution_count": 42,
   "id": "839ffa2f",
   "metadata": {
    "execution": {
     "iopub.execute_input": "2022-12-20T08:45:38.107509Z",
     "iopub.status.busy": "2022-12-20T08:45:38.106624Z",
     "iopub.status.idle": "2022-12-20T08:45:38.349448Z",
     "shell.execute_reply": "2022-12-20T08:45:38.347544Z"
    },
    "papermill": {
     "duration": 0.269833,
     "end_time": "2022-12-20T08:45:38.352642",
     "exception": false,
     "start_time": "2022-12-20T08:45:38.082809",
     "status": "completed"
    },
    "tags": []
   },
   "outputs": [
    {
     "data": {
      "image/png": "[encoded data removed]",
      "text/plain": [
       "<Figure size 432x288 with 1 Axes>"
      ]
     },
     "metadata": {},
     "output_type": "display_data"
    }
   ],
   "source": [
    "ax = sns.countplot(data=data, x='Title')\n",
    "ax.set_ylabel('Number of Passengers')\n",
    "ax.set_title('Title Vs Survived', fontsize=15)\n",
    "ax = ax.set_xticklabels(['Mr', 'Mrs-Miss', 'Master', 'others'])\n",
    "sns.despine(offset=3, trim=True)\n"
   ]
  },
  {
   "cell_type": "code",
   "execution_count": 43,
   "id": "c7157c5b",
   "metadata": {
    "execution": {
     "iopub.execute_input": "2022-12-20T08:45:38.434102Z",
     "iopub.status.busy": "2022-12-20T08:45:38.433565Z",
     "iopub.status.idle": "2022-12-20T08:45:38.956188Z",
     "shell.execute_reply": "2022-12-20T08:45:38.955280Z"
    },
    "papermill": {
     "duration": 0.561244,
     "end_time": "2022-12-20T08:45:38.958194",
     "exception": false,
     "start_time": "2022-12-20T08:45:38.396950",
     "status": "completed"
    },
    "tags": []
   },
   "outputs": [
    {
     "data": {
      "image/png": "[encoded data removed]",
      "text/plain": [
       "<Figure size 432x288 with 1 Axes>"
      ]
     },
     "metadata": {},
     "output_type": "display_data"
    }
   ],
   "source": [
    "# Drop Name columns we don't need that now\n",
    "ax = sns.barplot(data=data[data['source'] == 'train'], x='Title', y='Survived')\n",
    "ax.set_title('Title Vs Survived', fontsize=15)\n",
    "ax.set_ylabel('Survival Probability')\n",
    "ax = ax.set_xticklabels(['Mr', 'Mrs-Miss', 'Master', 'others'])\n",
    "sns.despine(offset=3, trim=True)\n"
   ]
  },
  {
   "cell_type": "markdown",
   "id": "3d09e5f7",
   "metadata": {
    "papermill": {
     "duration": 0.023762,
     "end_time": "2022-12-20T08:45:39.006182",
     "exception": false,
     "start_time": "2022-12-20T08:45:38.982420",
     "status": "completed"
    },
    "tags": []
   },
   "source": [
    "### Realizations\n",
    "* Women and Children First"
   ]
  },
  {
   "cell_type": "code",
   "execution_count": 44,
   "id": "d23038a5",
   "metadata": {
    "execution": {
     "iopub.execute_input": "2022-12-20T08:45:39.056578Z",
     "iopub.status.busy": "2022-12-20T08:45:39.055652Z",
     "iopub.status.idle": "2022-12-20T08:45:39.061835Z",
     "shell.execute_reply": "2022-12-20T08:45:39.060874Z"
    },
    "papermill": {
     "duration": 0.033514,
     "end_time": "2022-12-20T08:45:39.063882",
     "exception": false,
     "start_time": "2022-12-20T08:45:39.030368",
     "status": "completed"
    },
    "tags": []
   },
   "outputs": [],
   "source": [
    "# Lets create new Feature called family size. +1 for passenger himself\n",
    "data['Fsize'] = data['SibSp'] + data['Parch'] + 1 "
   ]
  },
  {
   "cell_type": "code",
   "execution_count": 45,
   "id": "4bafd8a6",
   "metadata": {
    "execution": {
     "iopub.execute_input": "2022-12-20T08:45:39.112052Z",
     "iopub.status.busy": "2022-12-20T08:45:39.111776Z",
     "iopub.status.idle": "2022-12-20T08:45:39.500033Z",
     "shell.execute_reply": "2022-12-20T08:45:39.499111Z"
    },
    "papermill": {
     "duration": 0.414761,
     "end_time": "2022-12-20T08:45:39.502027",
     "exception": false,
     "start_time": "2022-12-20T08:45:39.087266",
     "status": "completed"
    },
    "tags": []
   },
   "outputs": [
    {
     "data": {
      "image/png": "[encoded data removed]",
      "text/plain": [
       "<Figure size 432x288 with 1 Axes>"
      ]
     },
     "metadata": {},
     "output_type": "display_data"
    }
   ],
   "source": [
    "ax = sns.pointplot(x='Fsize', y='Survived', data=data[data['source'] == 'train'])\n",
    "ax.set_title('Fsize Vs Survived', fontsize=15)\n",
    "ax.set_ylabel(\"Survival Probability\")\n",
    "sns.despine(offset=3, trim=True)"
   ]
  },
  {
   "cell_type": "markdown",
   "id": "35736636",
   "metadata": {
    "papermill": {
     "duration": 0.023642,
     "end_time": "2022-12-20T08:45:39.549998",
     "exception": false,
     "start_time": "2022-12-20T08:45:39.526356",
     "status": "completed"
    },
    "tags": []
   },
   "source": [
    "### Realizations\n",
    "* Family size seems to be **important**, larger family size has **worst chance of surviving**."
   ]
  },
  {
   "cell_type": "code",
   "execution_count": 46,
   "id": "fd172869",
   "metadata": {
    "execution": {
     "iopub.execute_input": "2022-12-20T08:45:39.601450Z",
     "iopub.status.busy": "2022-12-20T08:45:39.600588Z",
     "iopub.status.idle": "2022-12-20T08:45:39.607876Z",
     "shell.execute_reply": "2022-12-20T08:45:39.607018Z"
    },
    "papermill": {
     "duration": 0.034602,
     "end_time": "2022-12-20T08:45:39.609854",
     "exception": false,
     "start_time": "2022-12-20T08:45:39.575252",
     "status": "completed"
    },
    "tags": []
   },
   "outputs": [],
   "source": [
    "#Lets Create Family Category\n",
    "def f_size(i):\n",
    "    if i ==1:\n",
    "        return 'Single'\n",
    "    if i ==2:\n",
    "        return 'SmallF'\n",
    "    if i==3 or i == 4:\n",
    "        return 'MedF'\n",
    "    if i>4:\n",
    "        return 'LargeF'\n",
    "    else:\n",
    "        return 'nan'\n",
    "data['Fsize'] = data['Fsize'].apply(lambda i:f_size(i))"
   ]
  },
  {
   "cell_type": "code",
   "execution_count": 47,
   "id": "4a398951",
   "metadata": {
    "execution": {
     "iopub.execute_input": "2022-12-20T08:45:39.659104Z",
     "iopub.status.busy": "2022-12-20T08:45:39.658312Z",
     "iopub.status.idle": "2022-12-20T08:45:39.950154Z",
     "shell.execute_reply": "2022-12-20T08:45:39.949147Z"
    },
    "papermill": {
     "duration": 0.318905,
     "end_time": "2022-12-20T08:45:39.952372",
     "exception": false,
     "start_time": "2022-12-20T08:45:39.633467",
     "status": "completed"
    },
    "tags": []
   },
   "outputs": [
    {
     "data": {
      "image/png": "[encoded data removed]",
      "text/plain": [
       "<Figure size 432x288 with 1 Axes>"
      ]
     },
     "metadata": {},
     "output_type": "display_data"
    }
   ],
   "source": [
    "ax = sns.barplot(x='Fsize',y=\"Survived\",data=data[data['source'] == 'train'])\n",
    "ax.set_title('Fsize Vs Survived', fontsize=15)\n",
    "ax.set_ylabel(\"Survival Probability\")\n",
    "sns.despine(offset=3, trim=True)\n"
   ]
  },
  {
   "cell_type": "markdown",
   "id": "a670ccd7",
   "metadata": {
    "papermill": {
     "duration": 0.02439,
     "end_time": "2022-12-20T08:45:40.001461",
     "exception": false,
     "start_time": "2022-12-20T08:45:39.977071",
     "status": "completed"
    },
    "tags": []
   },
   "source": [
    "### Realizations\n",
    "* It looks like **Med and Small Families** have more chances of **surviving**."
   ]
  },
  {
   "cell_type": "code",
   "execution_count": 48,
   "id": "c8b210f2",
   "metadata": {
    "execution": {
     "iopub.execute_input": "2022-12-20T08:45:40.053219Z",
     "iopub.status.busy": "2022-12-20T08:45:40.051633Z",
     "iopub.status.idle": "2022-12-20T08:45:40.060857Z",
     "shell.execute_reply": "2022-12-20T08:45:40.060022Z"
    },
    "papermill": {
     "duration": 0.037221,
     "end_time": "2022-12-20T08:45:40.062688",
     "exception": false,
     "start_time": "2022-12-20T08:45:40.025467",
     "status": "completed"
    },
    "tags": []
   },
   "outputs": [],
   "source": [
    "# Lets Deal with Ticket\n",
    "data['Ticket'] = data.Ticket.apply(lambda i:i.replace('/', '',).replace('.', '').strip().split(' ')[0])\n",
    "data['Ticket'] = data.Ticket.apply(lambda i:'X' if i.isdigit() else i)"
   ]
  },
  {
   "cell_type": "markdown",
   "id": "37bf1e4d",
   "metadata": {
    "papermill": {
     "duration": 0.024384,
     "end_time": "2022-12-20T08:45:40.111810",
     "exception": false,
     "start_time": "2022-12-20T08:45:40.087426",
     "status": "completed"
    },
    "tags": []
   },
   "source": [
    "* ### **Variable transformation**"
   ]
  },
  {
   "cell_type": "code",
   "execution_count": 49,
   "id": "5a5748b7",
   "metadata": {
    "execution": {
     "iopub.execute_input": "2022-12-20T08:45:40.162423Z",
     "iopub.status.busy": "2022-12-20T08:45:40.162073Z",
     "iopub.status.idle": "2022-12-20T08:45:40.175369Z",
     "shell.execute_reply": "2022-12-20T08:45:40.174506Z"
    },
    "papermill": {
     "duration": 0.041563,
     "end_time": "2022-12-20T08:45:40.177517",
     "exception": false,
     "start_time": "2022-12-20T08:45:40.135954",
     "status": "completed"
    },
    "tags": []
   },
   "outputs": [],
   "source": [
    "# Label Encoding \n",
    "data=pd.get_dummies(data=data, columns=['Pclass', 'Sex','Ticket', 'Embarked','Title', 'Fsize'],\n",
    "                     prefix=['Pc', 'Sex','Tkt', 'Em','T', 'Fm'])"
   ]
  },
  {
   "cell_type": "code",
   "execution_count": 50,
   "id": "df011925",
   "metadata": {
    "execution": {
     "iopub.execute_input": "2022-12-20T08:45:40.226674Z",
     "iopub.status.busy": "2022-12-20T08:45:40.226396Z",
     "iopub.status.idle": "2022-12-20T08:45:40.249972Z",
     "shell.execute_reply": "2022-12-20T08:45:40.249028Z"
    },
    "papermill": {
     "duration": 0.050406,
     "end_time": "2022-12-20T08:45:40.251964",
     "exception": false,
     "start_time": "2022-12-20T08:45:40.201558",
     "status": "completed"
    },
    "tags": []
   },
   "outputs": [
    {
     "data": {
      "text/html": [
       "<div>\n",
       "<style scoped>\n",
       "    .dataframe tbody tr th:only-of-type {\n",
       "        vertical-align: middle;\n",
       "    }\n",
       "\n",
       "    .dataframe tbody tr th {\n",
       "        vertical-align: top;\n",
       "    }\n",
       "\n",
       "    .dataframe thead th {\n",
       "        text-align: right;\n",
       "    }\n",
       "</style>\n",
       "<table border=\"1\" class=\"dataframe\">\n",
       "  <thead>\n",
       "    <tr style=\"text-align: right;\">\n",
       "      <th></th>\n",
       "      <th>Survived</th>\n",
       "      <th>Age</th>\n",
       "      <th>Fare</th>\n",
       "      <th>Pc_1</th>\n",
       "      <th>Pc_2</th>\n",
       "      <th>Pc_3</th>\n",
       "      <th>Sex_0</th>\n",
       "      <th>Sex_1</th>\n",
       "      <th>Tkt_A</th>\n",
       "      <th>Tkt_A4</th>\n",
       "      <th>...</th>\n",
       "      <th>Em_Q</th>\n",
       "      <th>Em_S</th>\n",
       "      <th>T_0</th>\n",
       "      <th>T_1</th>\n",
       "      <th>T_2</th>\n",
       "      <th>T_3</th>\n",
       "      <th>Fm_LargeF</th>\n",
       "      <th>Fm_MedF</th>\n",
       "      <th>Fm_Single</th>\n",
       "      <th>Fm_SmallF</th>\n",
       "    </tr>\n",
       "  </thead>\n",
       "  <tbody>\n",
       "    <tr>\n",
       "      <th>0</th>\n",
       "      <td>0.0</td>\n",
       "      <td>22.0</td>\n",
       "      <td>1.981001</td>\n",
       "      <td>0</td>\n",
       "      <td>0</td>\n",
       "      <td>1</td>\n",
       "      <td>1</td>\n",
       "      <td>0</td>\n",
       "      <td>0</td>\n",
       "      <td>0</td>\n",
       "      <td>...</td>\n",
       "      <td>0</td>\n",
       "      <td>1</td>\n",
       "      <td>1</td>\n",
       "      <td>0</td>\n",
       "      <td>0</td>\n",
       "      <td>0</td>\n",
       "      <td>0</td>\n",
       "      <td>0</td>\n",
       "      <td>0</td>\n",
       "      <td>1</td>\n",
       "    </tr>\n",
       "    <tr>\n",
       "      <th>1</th>\n",
       "      <td>1.0</td>\n",
       "      <td>38.0</td>\n",
       "      <td>4.266662</td>\n",
       "      <td>1</td>\n",
       "      <td>0</td>\n",
       "      <td>0</td>\n",
       "      <td>0</td>\n",
       "      <td>1</td>\n",
       "      <td>0</td>\n",
       "      <td>0</td>\n",
       "      <td>...</td>\n",
       "      <td>0</td>\n",
       "      <td>0</td>\n",
       "      <td>0</td>\n",
       "      <td>1</td>\n",
       "      <td>0</td>\n",
       "      <td>0</td>\n",
       "      <td>0</td>\n",
       "      <td>0</td>\n",
       "      <td>0</td>\n",
       "      <td>1</td>\n",
       "    </tr>\n",
       "    <tr>\n",
       "      <th>2</th>\n",
       "      <td>1.0</td>\n",
       "      <td>26.0</td>\n",
       "      <td>2.070022</td>\n",
       "      <td>0</td>\n",
       "      <td>0</td>\n",
       "      <td>1</td>\n",
       "      <td>0</td>\n",
       "      <td>1</td>\n",
       "      <td>0</td>\n",
       "      <td>0</td>\n",
       "      <td>...</td>\n",
       "      <td>0</td>\n",
       "      <td>1</td>\n",
       "      <td>0</td>\n",
       "      <td>1</td>\n",
       "      <td>0</td>\n",
       "      <td>0</td>\n",
       "      <td>0</td>\n",
       "      <td>0</td>\n",
       "      <td>1</td>\n",
       "      <td>0</td>\n",
       "    </tr>\n",
       "    <tr>\n",
       "      <th>3</th>\n",
       "      <td>1.0</td>\n",
       "      <td>35.0</td>\n",
       "      <td>3.972177</td>\n",
       "      <td>1</td>\n",
       "      <td>0</td>\n",
       "      <td>0</td>\n",
       "      <td>0</td>\n",
       "      <td>1</td>\n",
       "      <td>0</td>\n",
       "      <td>0</td>\n",
       "      <td>...</td>\n",
       "      <td>0</td>\n",
       "      <td>1</td>\n",
       "      <td>0</td>\n",
       "      <td>1</td>\n",
       "      <td>0</td>\n",
       "      <td>0</td>\n",
       "      <td>0</td>\n",
       "      <td>0</td>\n",
       "      <td>0</td>\n",
       "      <td>1</td>\n",
       "    </tr>\n",
       "    <tr>\n",
       "      <th>4</th>\n",
       "      <td>0.0</td>\n",
       "      <td>35.0</td>\n",
       "      <td>2.085672</td>\n",
       "      <td>0</td>\n",
       "      <td>0</td>\n",
       "      <td>1</td>\n",
       "      <td>1</td>\n",
       "      <td>0</td>\n",
       "      <td>0</td>\n",
       "      <td>0</td>\n",
       "      <td>...</td>\n",
       "      <td>0</td>\n",
       "      <td>1</td>\n",
       "      <td>1</td>\n",
       "      <td>0</td>\n",
       "      <td>0</td>\n",
       "      <td>0</td>\n",
       "      <td>0</td>\n",
       "      <td>0</td>\n",
       "      <td>1</td>\n",
       "      <td>0</td>\n",
       "    </tr>\n",
       "  </tbody>\n",
       "</table>\n",
       "<p>5 rows × 56 columns</p>\n",
       "</div>"
      ],
      "text/plain": [
       "   Survived   Age      Fare  Pc_1  Pc_2  Pc_3  Sex_0  Sex_1  Tkt_A  Tkt_A4  \\\n",
       "0       0.0  22.0  1.981001     0     0     1      1      0      0       0   \n",
       "1       1.0  38.0  4.266662     1     0     0      0      1      0       0   \n",
       "2       1.0  26.0  2.070022     0     0     1      0      1      0       0   \n",
       "3       1.0  35.0  3.972177     1     0     0      0      1      0       0   \n",
       "4       0.0  35.0  2.085672     0     0     1      1      0      0       0   \n",
       "\n",
       "   ...  Em_Q  Em_S  T_0  T_1  T_2  T_3  Fm_LargeF  Fm_MedF  Fm_Single  \\\n",
       "0  ...     0     1    1    0    0    0          0        0          0   \n",
       "1  ...     0     0    0    1    0    0          0        0          0   \n",
       "2  ...     0     1    0    1    0    0          0        0          1   \n",
       "3  ...     0     1    0    1    0    0          0        0          0   \n",
       "4  ...     0     1    1    0    0    0          0        0          1   \n",
       "\n",
       "   Fm_SmallF  \n",
       "0          1  \n",
       "1          1  \n",
       "2          0  \n",
       "3          1  \n",
       "4          0  \n",
       "\n",
       "[5 rows x 56 columns]"
      ]
     },
     "execution_count": 50,
     "metadata": {},
     "output_type": "execute_result"
    }
   ],
   "source": [
    "# Unncessery Columns \n",
    "test_ids = data[data['source'] == 'test']['PassengerId']\n",
    "final_data = data.drop(['PassengerId', 'Name','SibSp','Parch'], axis=1)\n",
    "\n",
    "# Separate Train and test data\n",
    "final_train = final_data[final_data['source'] == 'train']\n",
    "final_test = final_data[final_data['source'] == 'test']\n",
    "final_train = final_train.drop('source', axis=1)\n",
    "final_test = final_test.drop(['source','Survived'], axis=1)\n",
    "final_train.head()"
   ]
  },
  {
   "cell_type": "markdown",
   "id": "d1dedc49",
   "metadata": {
    "papermill": {
     "duration": 0.024017,
     "end_time": "2022-12-20T08:45:40.300483",
     "exception": false,
     "start_time": "2022-12-20T08:45:40.276466",
     "status": "completed"
    },
    "tags": []
   },
   "source": [
    "# *Machine Learning Models*\n",
    "![Explantion](https://en.proft.me/media/science/ml_types2.png)\n",
    "Let's divide our dataset into two variables.\n",
    "* **X** as the features we defined earlier. \n",
    "* **y** as the **Survived** the target value we want to predict.\n",
    "### Assumptions:\n",
    "* This is a **Classification** problem.\n",
    "* Train test **split 8:2** ratio respectively.\n",
    "\n",
    "### Classification Models\n",
    "* SVC\n",
    "* Decision Tree\n",
    "* AdaBoost\n",
    "* Random Forest\n",
    "* Naïve Bayes\n",
    "* Extra Trees\n",
    "* Gradient Boosting\n",
    "* Multiple layer perceprton (neural network)\n",
    "* KNN\n",
    "* Logistic regression\n",
    "* Linear Discriminant Analysis"
   ]
  },
  {
   "cell_type": "code",
   "execution_count": 51,
   "id": "d5138b43",
   "metadata": {
    "execution": {
     "iopub.execute_input": "2022-12-20T08:45:40.350027Z",
     "iopub.status.busy": "2022-12-20T08:45:40.349744Z",
     "iopub.status.idle": "2022-12-20T08:45:40.364863Z",
     "shell.execute_reply": "2022-12-20T08:45:40.363793Z"
    },
    "papermill": {
     "duration": 0.042895,
     "end_time": "2022-12-20T08:45:40.367597",
     "exception": false,
     "start_time": "2022-12-20T08:45:40.324702",
     "status": "completed"
    },
    "tags": []
   },
   "outputs": [
    {
     "name": "stdout",
     "output_type": "stream",
     "text": [
      "X_train shape: (658, 55)\n",
      "y_train shape: (658,)\n",
      "X_test shape: (220, 55)\n"
     ]
    }
   ],
   "source": [
    "## Spliting and Scaling\n",
    "features = final_train.columns[1:]\n",
    "X = StandardScaler().fit_transform(final_train.drop('Survived', axis =1))\n",
    "y = final_train['Survived'].values\n",
    "\n",
    "X_train, X_test, y_train, y_test = train_test_split(X, y, test_size = 0.25, random_state = 20)\n",
    "\n",
    "print('X_train shape: {}'.format(X_train.shape))\n",
    "print('y_train shape: {}'.format(y_train.shape))\n",
    "print('X_test shape: {}'.format(X_test.shape))\n",
    "\n",
    "def cross_val(model, X, y, cv):\n",
    "    scores = CVS(model, X_train, y_train, cv=cv, n_jobs=4, scoring='accuracy')\n",
    "    return (scores.mean(), scores.std())"
   ]
  },
  {
   "cell_type": "markdown",
   "id": "057b8436",
   "metadata": {
    "papermill": {
     "duration": 0.024028,
     "end_time": "2022-12-20T08:45:40.416098",
     "exception": false,
     "start_time": "2022-12-20T08:45:40.392070",
     "status": "completed"
    },
    "tags": []
   },
   "source": [
    "* ### Models\n"
   ]
  },
  {
   "cell_type": "code",
   "execution_count": 52,
   "id": "b61a7d89",
   "metadata": {
    "execution": {
     "iopub.execute_input": "2022-12-20T08:45:40.467660Z",
     "iopub.status.busy": "2022-12-20T08:45:40.465971Z",
     "iopub.status.idle": "2022-12-20T08:45:47.620971Z",
     "shell.execute_reply": "2022-12-20T08:45:47.619682Z"
    },
    "papermill": {
     "duration": 7.183503,
     "end_time": "2022-12-20T08:45:47.623776",
     "exception": false,
     "start_time": "2022-12-20T08:45:40.440273",
     "status": "completed"
    },
    "tags": []
   },
   "outputs": [],
   "source": [
    "# Cross validate model with Kfold stratified cross val\n",
    "kfold = StratifiedKFold(n_splits=10)\n",
    "r_s = 2\n",
    "classifiers = []\n",
    "\n",
    "# Algos\n",
    "classifiers.append(KNeighborsClassifier())\n",
    "classifiers.append(LinearDiscriminantAnalysis())\n",
    "classifiers.append(SVC(random_state=r_s))\n",
    "classifiers.append(DecisionTreeClassifier(random_state=r_s))\n",
    "classifiers.append(RandomForestClassifier(random_state=r_s))\n",
    "classifiers.append(ExtraTreesClassifier(random_state=r_s))\n",
    "classifiers.append(LogisticRegression(random_state=r_s))\n",
    "classifiers.append(GradientBoostingClassifier(random_state=r_s))\n",
    "classifiers.append(AdaBoostClassifier(\n",
    "    DecisionTreeClassifier(random_state=r_s),random_state=r_s,learning_rate=0.1))\n",
    "\n",
    "\n",
    "score_results = [cross_val(model,X_train, y_train, kfold) for model in classifiers]"
   ]
  },
  {
   "cell_type": "code",
   "execution_count": 53,
   "id": "94abfe75",
   "metadata": {
    "execution": {
     "iopub.execute_input": "2022-12-20T08:45:47.676104Z",
     "iopub.status.busy": "2022-12-20T08:45:47.675777Z",
     "iopub.status.idle": "2022-12-20T08:45:47.692299Z",
     "shell.execute_reply": "2022-12-20T08:45:47.691277Z"
    },
    "papermill": {
     "duration": 0.044384,
     "end_time": "2022-12-20T08:45:47.694456",
     "exception": false,
     "start_time": "2022-12-20T08:45:47.650072",
     "status": "completed"
    },
    "tags": []
   },
   "outputs": [
    {
     "data": {
      "text/html": [
       "<div>\n",
       "<style scoped>\n",
       "    .dataframe tbody tr th:only-of-type {\n",
       "        vertical-align: middle;\n",
       "    }\n",
       "\n",
       "    .dataframe tbody tr th {\n",
       "        vertical-align: top;\n",
       "    }\n",
       "\n",
       "    .dataframe thead th {\n",
       "        text-align: right;\n",
       "    }\n",
       "</style>\n",
       "<table border=\"1\" class=\"dataframe\">\n",
       "  <thead>\n",
       "    <tr style=\"text-align: right;\">\n",
       "      <th></th>\n",
       "      <th>CrossValMeans</th>\n",
       "      <th>CrossValerrors</th>\n",
       "    </tr>\n",
       "    <tr>\n",
       "      <th>Algorithm</th>\n",
       "      <th></th>\n",
       "      <th></th>\n",
       "    </tr>\n",
       "  </thead>\n",
       "  <tbody>\n",
       "    <tr>\n",
       "      <th>KNeighboors</th>\n",
       "      <td>79.94</td>\n",
       "      <td>3.36</td>\n",
       "    </tr>\n",
       "    <tr>\n",
       "      <th>LinearDiscriminantAnalysis</th>\n",
       "      <td>81.76</td>\n",
       "      <td>3.59</td>\n",
       "    </tr>\n",
       "    <tr>\n",
       "      <th>SVC</th>\n",
       "      <td>81.61</td>\n",
       "      <td>4.61</td>\n",
       "    </tr>\n",
       "    <tr>\n",
       "      <th>DecisionTree</th>\n",
       "      <td>79.18</td>\n",
       "      <td>2.92</td>\n",
       "    </tr>\n",
       "    <tr>\n",
       "      <th>RandomForest</th>\n",
       "      <td>80.40</td>\n",
       "      <td>3.60</td>\n",
       "    </tr>\n",
       "    <tr>\n",
       "      <th>ExtraTrees</th>\n",
       "      <td>78.73</td>\n",
       "      <td>2.50</td>\n",
       "    </tr>\n",
       "    <tr>\n",
       "      <th>LogisticRegression</th>\n",
       "      <td>81.31</td>\n",
       "      <td>4.88</td>\n",
       "    </tr>\n",
       "    <tr>\n",
       "      <th>GradientBoosting</th>\n",
       "      <td>82.07</td>\n",
       "      <td>3.94</td>\n",
       "    </tr>\n",
       "    <tr>\n",
       "      <th>AdaBoost</th>\n",
       "      <td>78.12</td>\n",
       "      <td>4.06</td>\n",
       "    </tr>\n",
       "  </tbody>\n",
       "</table>\n",
       "</div>"
      ],
      "text/plain": [
       "                            CrossValMeans  CrossValerrors\n",
       "Algorithm                                                \n",
       "KNeighboors                         79.94            3.36\n",
       "LinearDiscriminantAnalysis          81.76            3.59\n",
       "SVC                                 81.61            4.61\n",
       "DecisionTree                        79.18            2.92\n",
       "RandomForest                        80.40            3.60\n",
       "ExtraTrees                          78.73            2.50\n",
       "LogisticRegression                  81.31            4.88\n",
       "GradientBoosting                    82.07            3.94\n",
       "AdaBoost                            78.12            4.06"
      ]
     },
     "execution_count": 53,
     "metadata": {},
     "output_type": "execute_result"
    }
   ],
   "source": [
    "# Convert algo scores into Dataframe\n",
    "algo_df=pd.DataFrame({\"CrossValMeans\":[float(\"{:.2f}\".format(score[0]*100)) for score in score_results],\n",
    "                      \"CrossValerrors\":[float(\"{:.2f}\".format(score[1]*100)) for score in score_results],\n",
    "                      \"Algorithm\":[\"KNeighboors\",\"LinearDiscriminantAnalysis\",\"SVC\",\n",
    "                                  \"DecisionTree\",\"RandomForest\",\"ExtraTrees\",\n",
    "                                   \"LogisticRegression\",\"GradientBoosting\",\"AdaBoost\"]})\n",
    "# Check df\n",
    "algo_df=algo_df.set_index('Algorithm')\n",
    "algo_df"
   ]
  },
  {
   "cell_type": "code",
   "execution_count": 54,
   "id": "c4cf1a8a",
   "metadata": {
    "execution": {
     "iopub.execute_input": "2022-12-20T08:45:47.746970Z",
     "iopub.status.busy": "2022-12-20T08:45:47.745347Z",
     "iopub.status.idle": "2022-12-20T08:45:48.027268Z",
     "shell.execute_reply": "2022-12-20T08:45:48.026206Z"
    },
    "papermill": {
     "duration": 0.30961,
     "end_time": "2022-12-20T08:45:48.029630",
     "exception": false,
     "start_time": "2022-12-20T08:45:47.720020",
     "status": "completed"
    },
    "tags": []
   },
   "outputs": [
    {
     "data": {
      "text/plain": [
       "Text(0.5, 1.0, 'Cross validation scores')"
      ]
     },
     "execution_count": 54,
     "metadata": {},
     "output_type": "execute_result"
    },
    {
     "data": {
      "image/png": "[encoded data removed]",
      "text/plain": [
       "<Figure size 432x288 with 1 Axes>"
      ]
     },
     "metadata": {},
     "output_type": "display_data"
    }
   ],
   "source": [
    "ax = sns.barplot(\"CrossValMeans\",algo_df.index,data = algo_df,**{'xerr':algo_df['CrossValerrors']})\n",
    "ax.set_xlabel(\"Mean Accuracy\")\n",
    "ax.set_title(\"Cross validation scores\", fontsize=15)\n"
   ]
  },
  {
   "cell_type": "markdown",
   "id": "47d30f2e",
   "metadata": {
    "papermill": {
     "duration": 0.026423,
     "end_time": "2022-12-20T08:45:48.083526",
     "exception": false,
     "start_time": "2022-12-20T08:45:48.057103",
     "status": "completed"
    },
    "tags": []
   },
   "source": [
    "### Realizations\n",
    "* **GradientBoosting** has the **highest** accuracy.\n",
    "* I chose **GradientBoosting**, **SVC**, **RandomForest** and **LogesticRegression**."
   ]
  },
  {
   "cell_type": "markdown",
   "id": "20a15f3b",
   "metadata": {
    "papermill": {
     "duration": 0.026166,
     "end_time": "2022-12-20T08:45:48.136065",
     "exception": false,
     "start_time": "2022-12-20T08:45:48.109899",
     "status": "completed"
    },
    "tags": []
   },
   "source": [
    "## Random Forest\n",
    "Documentation remaining."
   ]
  },
  {
   "cell_type": "code",
   "execution_count": 55,
   "id": "9c95e32f",
   "metadata": {
    "execution": {
     "iopub.execute_input": "2022-12-20T08:45:48.188450Z",
     "iopub.status.busy": "2022-12-20T08:45:48.187882Z",
     "iopub.status.idle": "2022-12-20T08:45:48.715804Z",
     "shell.execute_reply": "2022-12-20T08:45:48.714701Z"
    },
    "papermill": {
     "duration": 0.557079,
     "end_time": "2022-12-20T08:45:48.718481",
     "exception": false,
     "start_time": "2022-12-20T08:45:48.161402",
     "status": "completed"
    },
    "tags": []
   },
   "outputs": [
    {
     "data": {
      "text/plain": [
       "array([0., 0., 0., 1., 0., 0., 1., 0., 0., 1., 1., 0., 0., 0., 1., 1., 1.,\n",
       "       0., 0., 1., 1., 0., 0., 0., 0., 0., 1., 1., 1., 0., 1., 1., 0., 1.,\n",
       "       0., 0., 1., 1., 0., 0., 1., 0., 1., 1., 0., 0., 0., 1., 0., 1., 0.,\n",
       "       1., 0., 0., 0., 0., 0., 1., 1., 0., 0., 0., 0., 1., 0., 0., 0., 0.,\n",
       "       0., 0., 0., 0., 1., 0., 0., 0., 1., 1., 1., 1., 0., 0., 0., 0., 0.,\n",
       "       0., 0., 0., 1., 1., 1., 1., 1., 0., 0., 0., 0., 0., 1., 1., 0., 0.,\n",
       "       1., 1., 1., 0., 0., 0., 0., 1., 0., 1., 0., 1., 0., 0., 1., 1., 1.,\n",
       "       1., 1., 0., 0., 0., 1., 0., 0., 0., 0., 0., 1., 1., 0., 1., 0., 0.,\n",
       "       0., 0., 0., 0., 0., 0., 1., 1., 0., 1., 1., 1., 1., 1., 0., 0., 0.,\n",
       "       0., 0., 0., 0., 0., 0., 1., 1., 0., 1., 1., 0., 1., 0., 0., 0., 0.,\n",
       "       0., 1., 1., 0., 0., 1., 1., 0., 1., 0., 0., 0., 0., 1., 0., 0., 0.,\n",
       "       1., 1., 1., 0., 0., 0., 0., 0., 0., 0., 0., 1., 0., 1., 0., 0., 0.,\n",
       "       1., 0., 0., 0., 0., 1., 0., 1., 1., 0., 1., 0., 0., 0., 0., 0.])"
      ]
     },
     "execution_count": 55,
     "metadata": {},
     "output_type": "execute_result"
    }
   ],
   "source": [
    "\n",
    "## Model\n",
    "model = RandomForestClassifier(n_estimators=300,random_state=10,)\n",
    "\n",
    "# Fit\n",
    "model.fit(X_train, y_train)\n",
    "\n",
    "# Predict\n",
    "y_predict = model.predict(X_test)\n",
    "\n",
    "y_predict"
   ]
  },
  {
   "cell_type": "code",
   "execution_count": 56,
   "id": "6ece16f4",
   "metadata": {
    "execution": {
     "iopub.execute_input": "2022-12-20T08:45:48.770643Z",
     "iopub.status.busy": "2022-12-20T08:45:48.769803Z",
     "iopub.status.idle": "2022-12-20T08:45:48.776749Z",
     "shell.execute_reply": "2022-12-20T08:45:48.775756Z"
    },
    "papermill": {
     "duration": 0.035259,
     "end_time": "2022-12-20T08:45:48.779077",
     "exception": false,
     "start_time": "2022-12-20T08:45:48.743818",
     "status": "completed"
    },
    "tags": []
   },
   "outputs": [
    {
     "data": {
      "text/plain": [
       "0.8272727272727273"
      ]
     },
     "execution_count": 56,
     "metadata": {},
     "output_type": "execute_result"
    }
   ],
   "source": [
    "accuracy_score(y_test, y_predict)"
   ]
  },
  {
   "cell_type": "code",
   "execution_count": 57,
   "id": "5f81c64b",
   "metadata": {
    "execution": {
     "iopub.execute_input": "2022-12-20T08:45:48.830855Z",
     "iopub.status.busy": "2022-12-20T08:45:48.830518Z",
     "iopub.status.idle": "2022-12-20T08:45:49.952514Z",
     "shell.execute_reply": "2022-12-20T08:45:49.951600Z"
    },
    "papermill": {
     "duration": 1.150361,
     "end_time": "2022-12-20T08:45:49.954555",
     "exception": false,
     "start_time": "2022-12-20T08:45:48.804194",
     "status": "completed"
    },
    "tags": []
   },
   "outputs": [
    {
     "name": "stdout",
     "output_type": "stream",
     "text": [
      "0.215495            Age\n",
      "0.207145           Fare\n",
      "0.029870           Pc_1\n",
      "0.016101           Pc_2\n",
      "0.044923           Pc_3\n",
      "0.082974          Sex_0\n",
      "0.072199          Sex_1\n",
      "0.000000          Tkt_A\n",
      "0.000666         Tkt_A4\n",
      "0.004671         Tkt_A5\n",
      "0.000000        Tkt_AQ3\n",
      "0.000000        Tkt_AQ4\n",
      "0.000000         Tkt_AS\n",
      "0.003602          Tkt_C\n",
      "0.003536         Tkt_CA\n",
      "0.000158    Tkt_CASOTON\n",
      "0.000613         Tkt_FC\n",
      "0.000497        Tkt_FCC\n",
      "0.000040         Tkt_Fa\n",
      "0.001578       Tkt_LINE\n",
      "0.000000         Tkt_LP\n",
      "0.005814         Tkt_PC\n",
      "0.000837         Tkt_PP\n",
      "0.000146        Tkt_PPP\n",
      "0.000099         Tkt_SC\n",
      "0.000000       Tkt_SCA3\n",
      "0.000061       Tkt_SCA4\n",
      "0.000128       Tkt_SCAH\n",
      "0.000184       Tkt_SCOW\n",
      "0.001328    Tkt_SCPARIS\n",
      "0.000378    Tkt_SCParis\n",
      "0.000924        Tkt_SOC\n",
      "0.000271        Tkt_SOP\n",
      "0.002769       Tkt_SOPP\n",
      "0.000158    Tkt_SOTONO2\n",
      "0.003650    Tkt_SOTONOQ\n",
      "0.000077         Tkt_SP\n",
      "0.004530      Tkt_STONO\n",
      "0.002152     Tkt_STONO2\n",
      "0.000000     Tkt_STONOQ\n",
      "0.006311       Tkt_SWPP\n",
      "0.004283         Tkt_WC\n",
      "0.000108        Tkt_WEP\n",
      "0.013258          Tkt_X\n",
      "0.012495           Em_C\n",
      "0.009595           Em_Q\n",
      "0.013974           Em_S\n",
      "0.096021            T_0\n",
      "0.054692            T_1\n",
      "0.013152            T_2\n",
      "0.004738            T_3\n",
      "0.017956      Fm_LargeF\n",
      "0.017839        Fm_MedF\n",
      "0.015653      Fm_Single\n",
      "0.012349      Fm_SmallF\n",
      "dtype: object\n"
     ]
    },
    {
     "data": {
      "text/plain": [
       "Text(0.5, 1.0, ' feature importance')"
      ]
     },
     "execution_count": 57,
     "metadata": {},
     "output_type": "execute_result"
    },
    {
     "data": {
      "image/png": "[encoded data removed]",
      "text/plain": [
       "<Figure size 576x720 with 1 Axes>"
      ]
     },
     "metadata": {},
     "output_type": "display_data"
    }
   ],
   "source": [
    "# vasulization of model's perfomance\n",
    "R_FI = pd.Series(features, model.feature_importances_)\n",
    "print(R_FI)\n",
    "\n",
    "plt.figure(figsize = (8,10))\n",
    "ax = sns.barplot(model.feature_importances_, features, )\n",
    "ax.set_xlabel(\"Relative importance\",fontsize=12)\n",
    "ax.set_ylabel(\"Features\",fontsize=15)\n",
    "ax.tick_params(labelsize=5)\n",
    "ax.set_title(\" feature importance\")"
   ]
  },
  {
   "cell_type": "markdown",
   "id": "f3135e05",
   "metadata": {
    "papermill": {
     "duration": 0.025352,
     "end_time": "2022-12-20T08:45:50.005902",
     "exception": false,
     "start_time": "2022-12-20T08:45:49.980550",
     "status": "completed"
    },
    "tags": []
   },
   "source": [
    "### Realizations\n",
    "* **Age, Fare, Family size, Titles** are mostly the **important** features"
   ]
  },
  {
   "cell_type": "code",
   "execution_count": null,
   "id": "5771bc9e",
   "metadata": {
    "papermill": {
     "duration": 0.025545,
     "end_time": "2022-12-20T08:45:50.057559",
     "exception": false,
     "start_time": "2022-12-20T08:45:50.032014",
     "status": "completed"
    },
    "tags": []
   },
   "outputs": [],
   "source": []
  },
  {
   "cell_type": "code",
   "execution_count": 58,
   "id": "c7bccf6a",
   "metadata": {
    "execution": {
     "iopub.execute_input": "2022-12-20T08:45:50.110084Z",
     "iopub.status.busy": "2022-12-20T08:45:50.109409Z",
     "iopub.status.idle": "2022-12-20T08:45:50.180256Z",
     "shell.execute_reply": "2022-12-20T08:45:50.179194Z"
    },
    "papermill": {
     "duration": 0.099906,
     "end_time": "2022-12-20T08:45:50.182712",
     "exception": false,
     "start_time": "2022-12-20T08:45:50.082806",
     "status": "completed"
    },
    "tags": []
   },
   "outputs": [
    {
     "data": {
      "text/html": [
       "<div>\n",
       "<style scoped>\n",
       "    .dataframe tbody tr th:only-of-type {\n",
       "        vertical-align: middle;\n",
       "    }\n",
       "\n",
       "    .dataframe tbody tr th {\n",
       "        vertical-align: top;\n",
       "    }\n",
       "\n",
       "    .dataframe thead th {\n",
       "        text-align: right;\n",
       "    }\n",
       "</style>\n",
       "<table border=\"1\" class=\"dataframe\">\n",
       "  <thead>\n",
       "    <tr style=\"text-align: right;\">\n",
       "      <th></th>\n",
       "      <th>PassengerId</th>\n",
       "      <th>Survived</th>\n",
       "    </tr>\n",
       "  </thead>\n",
       "  <tbody>\n",
       "    <tr>\n",
       "      <th>0</th>\n",
       "      <td>892</td>\n",
       "      <td>0.0</td>\n",
       "    </tr>\n",
       "    <tr>\n",
       "      <th>1</th>\n",
       "      <td>893</td>\n",
       "      <td>0.0</td>\n",
       "    </tr>\n",
       "    <tr>\n",
       "      <th>2</th>\n",
       "      <td>894</td>\n",
       "      <td>0.0</td>\n",
       "    </tr>\n",
       "    <tr>\n",
       "      <th>3</th>\n",
       "      <td>895</td>\n",
       "      <td>0.0</td>\n",
       "    </tr>\n",
       "    <tr>\n",
       "      <th>4</th>\n",
       "      <td>896</td>\n",
       "      <td>0.0</td>\n",
       "    </tr>\n",
       "  </tbody>\n",
       "</table>\n",
       "</div>"
      ],
      "text/plain": [
       "   PassengerId  Survived\n",
       "0          892       0.0\n",
       "1          893       0.0\n",
       "2          894       0.0\n",
       "3          895       0.0\n",
       "4          896       0.0"
      ]
     },
     "execution_count": 58,
     "metadata": {},
     "output_type": "execute_result"
    }
   ],
   "source": [
    "# Predict Test Data\n",
    "\n",
    "# Scaling Test Data\n",
    "test = StandardScaler().fit_transform(final_test)\n",
    "\n",
    "#Predict data and convert it into series\n",
    "test_Survived = pd.Series(model.predict(test), name=\"Survived\")\n",
    "\n",
    "# Convert it into Dataframe\n",
    "test_ids = test_ids.reset_index(drop=True)\n",
    "results = pd.concat([test_ids,test_Survived],axis=1)\n",
    "\n",
    "# Check Data\n",
    "results.head()"
   ]
  },
  {
   "cell_type": "code",
   "execution_count": 59,
   "id": "29de0063",
   "metadata": {
    "execution": {
     "iopub.execute_input": "2022-12-20T08:45:50.237007Z",
     "iopub.status.busy": "2022-12-20T08:45:50.236412Z",
     "iopub.status.idle": "2022-12-20T08:45:50.244408Z",
     "shell.execute_reply": "2022-12-20T08:45:50.243570Z"
    },
    "papermill": {
     "duration": 0.03757,
     "end_time": "2022-12-20T08:45:50.246345",
     "exception": false,
     "start_time": "2022-12-20T08:45:50.208775",
     "status": "completed"
    },
    "tags": []
   },
   "outputs": [],
   "source": [
    "# Save File\n",
    "results.to_csv('titanic_submission.csv', index=False)"
   ]
  },
  {
   "cell_type": "code",
   "execution_count": null,
   "id": "29f1ab1d",
   "metadata": {
    "papermill": {
     "duration": 0.025243,
     "end_time": "2022-12-20T08:45:50.297831",
     "exception": false,
     "start_time": "2022-12-20T08:45:50.272588",
     "status": "completed"
    },
    "tags": []
   },
   "outputs": [],
   "source": []
  }
 ],
 "metadata": {
  "kernelspec": {
   "display_name": "Python 3",
   "language": "python",
   "name": "python3"
  },
  "language_info": {
   "codemirror_mode": {
    "name": "ipython",
    "version": 3
   },
   "file_extension": ".py",
   "mimetype": "text/x-python",
   "name": "python",
   "nbconvert_exporter": "python",
   "pygments_lexer": "ipython3",
   "version": "3.7.12"
  },
  "papermill": {
   "default_parameters": {},
   "duration": 35.133827,
   "end_time": "2022-12-20T08:45:52.943633",
   "environment_variables": {},
   "exception": null,
   "input_path": "__notebook__.ipynb",
   "output_path": "__notebook__.ipynb",
   "parameters": {},
   "start_time": "2022-12-20T08:45:17.809806",
   "version": "2.3.4"
  }
 },
 "nbformat": 4,
 "nbformat_minor": 5
}
