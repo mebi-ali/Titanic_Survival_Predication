{
 "cells": [
  {
   "cell_type": "markdown",
   "id": "bdba6d4e",
   "metadata": {
    "_cell_guid": "b1076dfc-b9ad-4769-8c92-a6c4dae69d19",
    "_uuid": "8f2839f25d086af736a60e9eeb907d3b93b6e0e5",
    "execution": {
     "iopub.execute_input": "2022-12-02T18:13:06.723663Z",
     "iopub.status.busy": "2022-12-02T18:13:06.722752Z",
     "iopub.status.idle": "2022-12-02T18:13:06.753192Z",
     "shell.execute_reply": "2022-12-02T18:13:06.752034Z",
     "shell.execute_reply.started": "2022-12-02T18:13:06.723556Z"
    },
    "papermill": {
     "duration": 0.008591,
     "end_time": "2022-12-12T20:22:09.007223",
     "exception": false,
     "start_time": "2022-12-12T20:22:08.998632",
     "status": "completed"
    },
    "tags": []
   },
   "source": [
    "# *Titanic - Machine Learning from Disaster*\n",
    "\n",
    "## Probelem Statement\n",
    "\n",
    "The sinking of the Titanic is one of the most infamous shipwrecks in history.\n",
    "\n",
    "On April 15, 1912, during her maiden voyage, the widely considered “unsinkable” RMS Titanic sank after colliding with an iceberg. Unfortunately, there weren’t enough lifeboats for everyone onboard, resulting in the death of 1502 out of 2224 passengers and crew.\n",
    "\n",
    "While there was some element of luck involved in surviving, it seems some groups of people were more likely to survive than others.\n",
    "\n",
    "In this challenge, we ask you to build a predictive model that answers the question: “what sorts of people were more likely to survive?” using passenger data (ie name, age, gender, socio-economic class, etc).\n",
    "\n",
    "## Statement Analysis\n",
    "* Supervised Machine Learning Problem.\n",
    "* The Target Value is **Survived**.\n",
    "\n",
    "## Goal\n",
    "Using this model, We will try to understand what sort of people were more likely to **survive** than others."
   ]
  },
  {
   "cell_type": "markdown",
   "id": "732c7f89",
   "metadata": {
    "papermill": {
     "duration": 0.00775,
     "end_time": "2022-12-12T20:22:09.022720",
     "exception": false,
     "start_time": "2022-12-12T20:22:09.014970",
     "status": "completed"
    },
    "tags": []
   },
   "source": [
    "# *Hypothesis Generation*\n",
    "* Females have more chance of surviving.\n",
    "* Children have more chance of surviving.\n",
    "* Upper Class (VIPS) have more chance of surviving.\n",
    "* People with less siblings have more chance of surviving.\n",
    "* Person with no family/sibings have more chance of surviving.\n",
    "* Swimmers have more chance of surviving.\n"
   ]
  },
  {
   "cell_type": "markdown",
   "id": "673a6f03",
   "metadata": {
    "papermill": {
     "duration": 0.007997,
     "end_time": "2022-12-12T20:22:09.040779",
     "exception": false,
     "start_time": "2022-12-12T20:22:09.032782",
     "status": "completed"
    },
    "tags": []
   },
   "source": [
    "# *Libraries*"
   ]
  },
  {
   "cell_type": "code",
   "execution_count": 1,
   "id": "9cc6e934",
   "metadata": {
    "execution": {
     "iopub.execute_input": "2022-12-12T20:22:09.061571Z",
     "iopub.status.busy": "2022-12-12T20:22:09.060463Z",
     "iopub.status.idle": "2022-12-12T20:22:10.292568Z",
     "shell.execute_reply": "2022-12-12T20:22:10.291386Z"
    },
    "papermill": {
     "duration": 1.245674,
     "end_time": "2022-12-12T20:22:10.295529",
     "exception": false,
     "start_time": "2022-12-12T20:22:09.049855",
     "status": "completed"
    },
    "tags": []
   },
   "outputs": [],
   "source": [
    "# This Python 3 environment comes with many helpful analytics libraries installed\n",
    "# It is defined by the kaggle/python Docker image: https://github.com/kaggle/docker-python\n",
    "# For example, here's several helpful packages to load\n",
    "\n",
    "import os # Path to file\n",
    "import numpy as np # linear algebra\n",
    "import pandas as pd # data processing, CSV file I/O (e.g. pd.read_csv)\n",
    "import matplotlib.pyplot  as plt # Data visulization\n",
    "import seaborn as sns  # Data visulization\n",
    "import warnings # warning filter\n",
    "%matplotlib inline\n",
    "\n",
    "# Import Coounter\n",
    "from collections import Counter\n",
    "\n",
    "\n",
    "sns.set(style=\"darkgrid\")\n"
   ]
  },
  {
   "cell_type": "code",
   "execution_count": 2,
   "id": "86018008",
   "metadata": {
    "execution": {
     "iopub.execute_input": "2022-12-12T20:22:10.311896Z",
     "iopub.status.busy": "2022-12-12T20:22:10.311477Z",
     "iopub.status.idle": "2022-12-12T20:22:10.321107Z",
     "shell.execute_reply": "2022-12-12T20:22:10.319427Z"
    },
    "papermill": {
     "duration": 0.021043,
     "end_time": "2022-12-12T20:22:10.323867",
     "exception": false,
     "start_time": "2022-12-12T20:22:10.302824",
     "status": "completed"
    },
    "tags": []
   },
   "outputs": [
    {
     "name": "stdout",
     "output_type": "stream",
     "text": [
      "/kaggle/input/titanic/train.csv\n",
      "/kaggle/input/titanic/test.csv\n",
      "/kaggle/input/titanic/gender_submission.csv\n"
     ]
    }
   ],
   "source": [
    "\n",
    "# Input data files are available in the read-only \"../input/\" directory\n",
    "# For example, running this (by clicking run or pressing Shift+Enter) will list all files under the input directory\n",
    "\n",
    "for dirname, _, filenames in os.walk('/kaggle/input'):\n",
    "    for filename in filenames:\n",
    "        print(os.path.join(dirname, filename))\n",
    "\n",
    "# You can write up to 20GB to the current directory (/kaggle/working/) that gets preserved as output when you create a version using \"Save & Run All\" \n",
    "# You can also write temporary files to /kaggle/temp/, but they won't be saved outside of the current session"
   ]
  },
  {
   "cell_type": "code",
   "execution_count": 3,
   "id": "4ca53bc4",
   "metadata": {
    "execution": {
     "iopub.execute_input": "2022-12-12T20:22:10.342024Z",
     "iopub.status.busy": "2022-12-12T20:22:10.341610Z",
     "iopub.status.idle": "2022-12-12T20:22:10.372140Z",
     "shell.execute_reply": "2022-12-12T20:22:10.370899Z"
    },
    "papermill": {
     "duration": 0.043824,
     "end_time": "2022-12-12T20:22:10.375038",
     "exception": false,
     "start_time": "2022-12-12T20:22:10.331214",
     "status": "completed"
    },
    "tags": []
   },
   "outputs": [],
   "source": [
    "# Loading Data.\n",
    "train = pd.read_csv('/kaggle/input/titanic/train.csv')\n",
    "test = pd.read_csv('/kaggle/input/titanic/test.csv')\n"
   ]
  },
  {
   "cell_type": "code",
   "execution_count": 4,
   "id": "f20c6ec3",
   "metadata": {
    "execution": {
     "iopub.execute_input": "2022-12-12T20:22:10.392498Z",
     "iopub.status.busy": "2022-12-12T20:22:10.391196Z",
     "iopub.status.idle": "2022-12-12T20:22:10.452065Z",
     "shell.execute_reply": "2022-12-12T20:22:10.450977Z"
    },
    "papermill": {
     "duration": 0.072819,
     "end_time": "2022-12-12T20:22:10.455219",
     "exception": false,
     "start_time": "2022-12-12T20:22:10.382400",
     "status": "completed"
    },
    "tags": []
   },
   "outputs": [
    {
     "name": "stdout",
     "output_type": "stream",
     "text": [
      "Train Dataset (row, col): (891, 12) \n",
      "\n",
      "\n",
      "Train Dataset Information:\n",
      "\n",
      "<class 'pandas.core.frame.DataFrame'>\n",
      "RangeIndex: 891 entries, 0 to 890\n",
      "Data columns (total 12 columns):\n",
      " #   Column       Non-Null Count  Dtype  \n",
      "---  ------       --------------  -----  \n",
      " 0   PassengerId  891 non-null    int64  \n",
      " 1   Survived     891 non-null    int64  \n",
      " 2   Pclass       891 non-null    int64  \n",
      " 3   Name         891 non-null    object \n",
      " 4   Sex          891 non-null    object \n",
      " 5   Age          714 non-null    float64\n",
      " 6   SibSp        891 non-null    int64  \n",
      " 7   Parch        891 non-null    int64  \n",
      " 8   Ticket       891 non-null    object \n",
      " 9   Fare         891 non-null    float64\n",
      " 10  Cabin        204 non-null    object \n",
      " 11  Embarked     889 non-null    object \n",
      "dtypes: float64(2), int64(5), object(5)\n",
      "memory usage: 83.7+ KB\n",
      "None\n",
      "\n",
      "Test Dataset (row, col): (418, 11) \n",
      "\n",
      "\n",
      "Test Dataset Information:\n",
      "\n",
      "<class 'pandas.core.frame.DataFrame'>\n",
      "RangeIndex: 418 entries, 0 to 417\n",
      "Data columns (total 11 columns):\n",
      " #   Column       Non-Null Count  Dtype  \n",
      "---  ------       --------------  -----  \n",
      " 0   PassengerId  418 non-null    int64  \n",
      " 1   Pclass       418 non-null    int64  \n",
      " 2   Name         418 non-null    object \n",
      " 3   Sex          418 non-null    object \n",
      " 4   Age          332 non-null    float64\n",
      " 5   SibSp        418 non-null    int64  \n",
      " 6   Parch        418 non-null    int64  \n",
      " 7   Ticket       418 non-null    object \n",
      " 8   Fare         417 non-null    float64\n",
      " 9   Cabin        91 non-null     object \n",
      " 10  Embarked     418 non-null    object \n",
      "dtypes: float64(2), int64(4), object(5)\n",
      "memory usage: 36.0+ KB\n",
      "None\n",
      "\n",
      "Train Dataset Values:\n",
      "\n"
     ]
    },
    {
     "data": {
      "text/plain": [
       "PassengerId    [1, 2, 3, 4, 5, 6, 7, 8, 9, 10, 11, 12, 13, 14...\n",
       "Survived                                                  [0, 1]\n",
       "Pclass                                                 [3, 1, 2]\n",
       "Name           [Braund, Mr. Owen Harris, Cumings, Mrs. John B...\n",
       "Sex                                               [male, female]\n",
       "Age            [22.0, 38.0, 26.0, 35.0, nan, 54.0, 2.0, 27.0,...\n",
       "SibSp                                      [1, 0, 3, 4, 2, 5, 8]\n",
       "Parch                                      [0, 1, 2, 5, 3, 4, 6]\n",
       "Ticket         [A/5 21171, PC 17599, STON/O2. 3101282, 113803...\n",
       "Fare           [7.25, 71.2833, 7.925, 53.1, 8.05, 8.4583, 51....\n",
       "Cabin          [nan, C85, C123, E46, G6, C103, D56, A6, C23 C...\n",
       "Embarked                                          [S, C, Q, nan]\n",
       "dtype: object"
      ]
     },
     "execution_count": 4,
     "metadata": {},
     "output_type": "execute_result"
    }
   ],
   "source": [
    "# lets check data\n",
    "print(f'Train Dataset (row, col): {train.shape} \\n')\n",
    "print('\\nTrain Dataset Information:\\n')\n",
    "print(train.info())\n",
    "\n",
    "print(f'\\nTest Dataset (row, col): {test.shape} \\n')\n",
    "print('\\nTest Dataset Information:\\n')\n",
    "print(test.info())\n",
    "\n",
    "print('\\nTrain Dataset Values:\\n')\n",
    "train.apply(lambda x:x.unique())\n"
   ]
  },
  {
   "cell_type": "markdown",
   "id": "fd638407",
   "metadata": {
    "papermill": {
     "duration": 0.007291,
     "end_time": "2022-12-12T20:22:10.470056",
     "exception": false,
     "start_time": "2022-12-12T20:22:10.462765",
     "status": "completed"
    },
    "tags": []
   },
   "source": [
    "## About Dataset\n",
    "\n",
    "This dataset is named Titanic Survival. The dataset contains a set of **891** records under **12** attributes:\n",
    "\n",
    "## Column Name and their Description\n",
    "\n",
    "* **PassengerId**: Unique passenger ID.\n",
    "* **Name** : name of passenger.\n",
    "* **Pclass** : Ticket class (A proxy for **socio-economic status** (SES)).\n",
    "* **Sex** : gender of passenger.\n",
    "* **Age** : age of passenger.\n",
    "* **SibSp**: number of siblings/spouse of passenger.\n",
    "* **Parch** : number of parents of passenger.\n",
    "* **Ticket** : ticket number.\n",
    "* **Fare** :Passenger fare.\n",
    "* **Cabin** : Cabin number.\n",
    "* **Embarked** : Port of Embarkation.\n",
    "\n",
    "## Variable Notes\n",
    "**Pclass**: A proxy for socio-economic status (SES)\n",
    "* 1st = Upper\n",
    "* 2nd = Middle\n",
    "* 3rd = Lower\n",
    "\n",
    "**Age**: Age is fractional if less than 1. If the age is estimated, is it in the form of xx.5\n",
    "\n",
    "**sibsp**: The dataset defines family relations in this way...\n",
    "* **Sibling** = brother, sister, stepbrother, stepsister\n",
    "* **Spouse** = husband, wife (mistresses and fiancés were ignored)\n",
    "\n",
    "**parch**: The dataset defines family relations in this way...\n",
    "* **Parent** = mother, father\n",
    "* **Child** = daughter, son, stepdaughter, stepson\n",
    "* Some children travelled only with a nanny, therefore **parch=0** for them.\n"
   ]
  },
  {
   "cell_type": "markdown",
   "id": "9678dfbb",
   "metadata": {
    "papermill": {
     "duration": 0.007123,
     "end_time": "2022-12-12T20:22:10.484696",
     "exception": false,
     "start_time": "2022-12-12T20:22:10.477573",
     "status": "completed"
    },
    "tags": []
   },
   "source": [
    "# *Data Analysis*\n"
   ]
  },
  {
   "cell_type": "code",
   "execution_count": 5,
   "id": "180349fc",
   "metadata": {
    "execution": {
     "iopub.execute_input": "2022-12-12T20:22:10.502016Z",
     "iopub.status.busy": "2022-12-12T20:22:10.500945Z",
     "iopub.status.idle": "2022-12-12T20:22:10.510844Z",
     "shell.execute_reply": "2022-12-12T20:22:10.509717Z"
    },
    "papermill": {
     "duration": 0.021079,
     "end_time": "2022-12-12T20:22:10.513310",
     "exception": false,
     "start_time": "2022-12-12T20:22:10.492231",
     "status": "completed"
    },
    "tags": []
   },
   "outputs": [],
   "source": [
    "# Check Dupicates\n",
    "train.drop_duplicates(inplace=True)"
   ]
  },
  {
   "cell_type": "code",
   "execution_count": 6,
   "id": "38558f82",
   "metadata": {
    "execution": {
     "iopub.execute_input": "2022-12-12T20:22:10.530586Z",
     "iopub.status.busy": "2022-12-12T20:22:10.530139Z",
     "iopub.status.idle": "2022-12-12T20:22:10.587716Z",
     "shell.execute_reply": "2022-12-12T20:22:10.586246Z"
    },
    "papermill": {
     "duration": 0.070064,
     "end_time": "2022-12-12T20:22:10.590940",
     "exception": false,
     "start_time": "2022-12-12T20:22:10.520876",
     "status": "completed"
    },
    "tags": []
   },
   "outputs": [
    {
     "data": {
      "text/html": [
       "<div>\n",
       "<style scoped>\n",
       "    .dataframe tbody tr th:only-of-type {\n",
       "        vertical-align: middle;\n",
       "    }\n",
       "\n",
       "    .dataframe tbody tr th {\n",
       "        vertical-align: top;\n",
       "    }\n",
       "\n",
       "    .dataframe thead th {\n",
       "        text-align: right;\n",
       "    }\n",
       "</style>\n",
       "<table border=\"1\" class=\"dataframe\">\n",
       "  <thead>\n",
       "    <tr style=\"text-align: right;\">\n",
       "      <th></th>\n",
       "      <th>PassengerId</th>\n",
       "      <th>Survived</th>\n",
       "      <th>Pclass</th>\n",
       "      <th>Name</th>\n",
       "      <th>Sex</th>\n",
       "      <th>Age</th>\n",
       "      <th>SibSp</th>\n",
       "      <th>Parch</th>\n",
       "      <th>Ticket</th>\n",
       "      <th>Fare</th>\n",
       "      <th>Cabin</th>\n",
       "      <th>Embarked</th>\n",
       "    </tr>\n",
       "  </thead>\n",
       "  <tbody>\n",
       "    <tr>\n",
       "      <th>count</th>\n",
       "      <td>891.000000</td>\n",
       "      <td>891.000000</td>\n",
       "      <td>891.000000</td>\n",
       "      <td>891</td>\n",
       "      <td>891</td>\n",
       "      <td>714.000000</td>\n",
       "      <td>891.000000</td>\n",
       "      <td>891.000000</td>\n",
       "      <td>891</td>\n",
       "      <td>891.000000</td>\n",
       "      <td>204</td>\n",
       "      <td>889</td>\n",
       "    </tr>\n",
       "    <tr>\n",
       "      <th>unique</th>\n",
       "      <td>NaN</td>\n",
       "      <td>NaN</td>\n",
       "      <td>NaN</td>\n",
       "      <td>891</td>\n",
       "      <td>2</td>\n",
       "      <td>NaN</td>\n",
       "      <td>NaN</td>\n",
       "      <td>NaN</td>\n",
       "      <td>681</td>\n",
       "      <td>NaN</td>\n",
       "      <td>147</td>\n",
       "      <td>3</td>\n",
       "    </tr>\n",
       "    <tr>\n",
       "      <th>top</th>\n",
       "      <td>NaN</td>\n",
       "      <td>NaN</td>\n",
       "      <td>NaN</td>\n",
       "      <td>Braund, Mr. Owen Harris</td>\n",
       "      <td>male</td>\n",
       "      <td>NaN</td>\n",
       "      <td>NaN</td>\n",
       "      <td>NaN</td>\n",
       "      <td>347082</td>\n",
       "      <td>NaN</td>\n",
       "      <td>B96 B98</td>\n",
       "      <td>S</td>\n",
       "    </tr>\n",
       "    <tr>\n",
       "      <th>freq</th>\n",
       "      <td>NaN</td>\n",
       "      <td>NaN</td>\n",
       "      <td>NaN</td>\n",
       "      <td>1</td>\n",
       "      <td>577</td>\n",
       "      <td>NaN</td>\n",
       "      <td>NaN</td>\n",
       "      <td>NaN</td>\n",
       "      <td>7</td>\n",
       "      <td>NaN</td>\n",
       "      <td>4</td>\n",
       "      <td>644</td>\n",
       "    </tr>\n",
       "    <tr>\n",
       "      <th>mean</th>\n",
       "      <td>446.000000</td>\n",
       "      <td>0.383838</td>\n",
       "      <td>2.308642</td>\n",
       "      <td>NaN</td>\n",
       "      <td>NaN</td>\n",
       "      <td>29.699118</td>\n",
       "      <td>0.523008</td>\n",
       "      <td>0.381594</td>\n",
       "      <td>NaN</td>\n",
       "      <td>32.204208</td>\n",
       "      <td>NaN</td>\n",
       "      <td>NaN</td>\n",
       "    </tr>\n",
       "    <tr>\n",
       "      <th>std</th>\n",
       "      <td>257.353842</td>\n",
       "      <td>0.486592</td>\n",
       "      <td>0.836071</td>\n",
       "      <td>NaN</td>\n",
       "      <td>NaN</td>\n",
       "      <td>14.526497</td>\n",
       "      <td>1.102743</td>\n",
       "      <td>0.806057</td>\n",
       "      <td>NaN</td>\n",
       "      <td>49.693429</td>\n",
       "      <td>NaN</td>\n",
       "      <td>NaN</td>\n",
       "    </tr>\n",
       "    <tr>\n",
       "      <th>min</th>\n",
       "      <td>1.000000</td>\n",
       "      <td>0.000000</td>\n",
       "      <td>1.000000</td>\n",
       "      <td>NaN</td>\n",
       "      <td>NaN</td>\n",
       "      <td>0.420000</td>\n",
       "      <td>0.000000</td>\n",
       "      <td>0.000000</td>\n",
       "      <td>NaN</td>\n",
       "      <td>0.000000</td>\n",
       "      <td>NaN</td>\n",
       "      <td>NaN</td>\n",
       "    </tr>\n",
       "    <tr>\n",
       "      <th>25%</th>\n",
       "      <td>223.500000</td>\n",
       "      <td>0.000000</td>\n",
       "      <td>2.000000</td>\n",
       "      <td>NaN</td>\n",
       "      <td>NaN</td>\n",
       "      <td>20.125000</td>\n",
       "      <td>0.000000</td>\n",
       "      <td>0.000000</td>\n",
       "      <td>NaN</td>\n",
       "      <td>7.910400</td>\n",
       "      <td>NaN</td>\n",
       "      <td>NaN</td>\n",
       "    </tr>\n",
       "    <tr>\n",
       "      <th>50%</th>\n",
       "      <td>446.000000</td>\n",
       "      <td>0.000000</td>\n",
       "      <td>3.000000</td>\n",
       "      <td>NaN</td>\n",
       "      <td>NaN</td>\n",
       "      <td>28.000000</td>\n",
       "      <td>0.000000</td>\n",
       "      <td>0.000000</td>\n",
       "      <td>NaN</td>\n",
       "      <td>14.454200</td>\n",
       "      <td>NaN</td>\n",
       "      <td>NaN</td>\n",
       "    </tr>\n",
       "    <tr>\n",
       "      <th>75%</th>\n",
       "      <td>668.500000</td>\n",
       "      <td>1.000000</td>\n",
       "      <td>3.000000</td>\n",
       "      <td>NaN</td>\n",
       "      <td>NaN</td>\n",
       "      <td>38.000000</td>\n",
       "      <td>1.000000</td>\n",
       "      <td>0.000000</td>\n",
       "      <td>NaN</td>\n",
       "      <td>31.000000</td>\n",
       "      <td>NaN</td>\n",
       "      <td>NaN</td>\n",
       "    </tr>\n",
       "    <tr>\n",
       "      <th>max</th>\n",
       "      <td>891.000000</td>\n",
       "      <td>1.000000</td>\n",
       "      <td>3.000000</td>\n",
       "      <td>NaN</td>\n",
       "      <td>NaN</td>\n",
       "      <td>80.000000</td>\n",
       "      <td>8.000000</td>\n",
       "      <td>6.000000</td>\n",
       "      <td>NaN</td>\n",
       "      <td>512.329200</td>\n",
       "      <td>NaN</td>\n",
       "      <td>NaN</td>\n",
       "    </tr>\n",
       "  </tbody>\n",
       "</table>\n",
       "</div>"
      ],
      "text/plain": [
       "        PassengerId    Survived      Pclass                     Name   Sex  \\\n",
       "count    891.000000  891.000000  891.000000                      891   891   \n",
       "unique          NaN         NaN         NaN                      891     2   \n",
       "top             NaN         NaN         NaN  Braund, Mr. Owen Harris  male   \n",
       "freq            NaN         NaN         NaN                        1   577   \n",
       "mean     446.000000    0.383838    2.308642                      NaN   NaN   \n",
       "std      257.353842    0.486592    0.836071                      NaN   NaN   \n",
       "min        1.000000    0.000000    1.000000                      NaN   NaN   \n",
       "25%      223.500000    0.000000    2.000000                      NaN   NaN   \n",
       "50%      446.000000    0.000000    3.000000                      NaN   NaN   \n",
       "75%      668.500000    1.000000    3.000000                      NaN   NaN   \n",
       "max      891.000000    1.000000    3.000000                      NaN   NaN   \n",
       "\n",
       "               Age       SibSp       Parch  Ticket        Fare    Cabin  \\\n",
       "count   714.000000  891.000000  891.000000     891  891.000000      204   \n",
       "unique         NaN         NaN         NaN     681         NaN      147   \n",
       "top            NaN         NaN         NaN  347082         NaN  B96 B98   \n",
       "freq           NaN         NaN         NaN       7         NaN        4   \n",
       "mean     29.699118    0.523008    0.381594     NaN   32.204208      NaN   \n",
       "std      14.526497    1.102743    0.806057     NaN   49.693429      NaN   \n",
       "min       0.420000    0.000000    0.000000     NaN    0.000000      NaN   \n",
       "25%      20.125000    0.000000    0.000000     NaN    7.910400      NaN   \n",
       "50%      28.000000    0.000000    0.000000     NaN   14.454200      NaN   \n",
       "75%      38.000000    1.000000    0.000000     NaN   31.000000      NaN   \n",
       "max      80.000000    8.000000    6.000000     NaN  512.329200      NaN   \n",
       "\n",
       "       Embarked  \n",
       "count       889  \n",
       "unique        3  \n",
       "top           S  \n",
       "freq        644  \n",
       "mean        NaN  \n",
       "std         NaN  \n",
       "min         NaN  \n",
       "25%         NaN  \n",
       "50%         NaN  \n",
       "75%         NaN  \n",
       "max         NaN  "
      ]
     },
     "execution_count": 6,
     "metadata": {},
     "output_type": "execute_result"
    }
   ],
   "source": [
    "# Data Summery\n",
    "train.describe(include=[object, np.number])"
   ]
  },
  {
   "cell_type": "markdown",
   "id": "380816fb",
   "metadata": {
    "papermill": {
     "duration": 0.007698,
     "end_time": "2022-12-12T20:22:10.606868",
     "exception": false,
     "start_time": "2022-12-12T20:22:10.599170",
     "status": "completed"
    },
    "tags": []
   },
   "source": [
    "### Observations\n",
    "* Most passengers are **Lower class passengers**.\n",
    "* Most passengers are **male**.\n",
    "* Average Age of passengers is **28** oldest passenger=80, youngest=0.42 (about 5 months).\n",
    "* Most passengers are **alone**.\n",
    "* Average Fare is 14.45 pounds\n",
    "\n"
   ]
  },
  {
   "cell_type": "code",
   "execution_count": 7,
   "id": "65449ab8",
   "metadata": {
    "execution": {
     "iopub.execute_input": "2022-12-12T20:22:10.624560Z",
     "iopub.status.busy": "2022-12-12T20:22:10.624128Z",
     "iopub.status.idle": "2022-12-12T20:22:10.636001Z",
     "shell.execute_reply": "2022-12-12T20:22:10.634679Z"
    },
    "papermill": {
     "duration": 0.023844,
     "end_time": "2022-12-12T20:22:10.638710",
     "exception": false,
     "start_time": "2022-12-12T20:22:10.614866",
     "status": "completed"
    },
    "tags": []
   },
   "outputs": [
    {
     "data": {
      "text/plain": [
       "PassengerId     0.000000\n",
       "Survived        0.000000\n",
       "Pclass          0.000000\n",
       "Name            0.000000\n",
       "Sex             0.000000\n",
       "Age            19.865320\n",
       "SibSp           0.000000\n",
       "Parch           0.000000\n",
       "Ticket          0.000000\n",
       "Fare            0.000000\n",
       "Cabin          77.104377\n",
       "Embarked        0.224467\n",
       "dtype: float64"
      ]
     },
     "execution_count": 7,
     "metadata": {},
     "output_type": "execute_result"
    }
   ],
   "source": [
    "# Missing values\n",
    "(train.isnull().sum()/train.shape[0]) * 100"
   ]
  },
  {
   "cell_type": "markdown",
   "id": "16b2811e",
   "metadata": {
    "papermill": {
     "duration": 0.0083,
     "end_time": "2022-12-12T20:22:10.655324",
     "exception": false,
     "start_time": "2022-12-12T20:22:10.647024",
     "status": "completed"
    },
    "tags": []
   },
   "source": [
    "### Missing values\n",
    "* Age has **19.8%** missing values.\n",
    "* Cabin has **77%** missing values.\n",
    "* Embarked has **0.22%** missing values"
   ]
  },
  {
   "cell_type": "markdown",
   "id": "71849a31",
   "metadata": {
    "papermill": {
     "duration": 0.00775,
     "end_time": "2022-12-12T20:22:10.671230",
     "exception": false,
     "start_time": "2022-12-12T20:22:10.663480",
     "status": "completed"
    },
    "tags": []
   },
   "source": [
    "# *Data Exploration*\n",
    "Lets combine both datasets since both are similier\n",
    "Below are the steps involved to understand, clean and prepare your data for building your predictive model:\n",
    "\n",
    "* Missing values treatment\n",
    "* Outlier treatment\n",
    "* Variable Identification\n",
    "* Univariate Analysis\n",
    "* Bi-variate Analysis\n",
    "* Variable transformation\n",
    "* Variable creation"
   ]
  },
  {
   "cell_type": "code",
   "execution_count": 8,
   "id": "2c8b689d",
   "metadata": {
    "execution": {
     "iopub.execute_input": "2022-12-12T20:22:10.689184Z",
     "iopub.status.busy": "2022-12-12T20:22:10.688782Z",
     "iopub.status.idle": "2022-12-12T20:22:10.701502Z",
     "shell.execute_reply": "2022-12-12T20:22:10.699699Z"
    },
    "papermill": {
     "duration": 0.025051,
     "end_time": "2022-12-12T20:22:10.704487",
     "exception": false,
     "start_time": "2022-12-12T20:22:10.679436",
     "status": "completed"
    },
    "tags": []
   },
   "outputs": [
    {
     "name": "stdout",
     "output_type": "stream",
     "text": [
      "After combining the datasets (row,col):  (1309, 13)\n"
     ]
    }
   ],
   "source": [
    "# Combining Datasets\n",
    "train['source'] = 'train'\n",
    "test['source'] = 'test'\n",
    "data = pd.concat([train, test], ignore_index=True)\n",
    "print('After combining the datasets (row,col): ', data.shape)"
   ]
  },
  {
   "cell_type": "markdown",
   "id": "9be7c504",
   "metadata": {
    "papermill": {
     "duration": 0.008557,
     "end_time": "2022-12-12T20:22:10.721571",
     "exception": false,
     "start_time": "2022-12-12T20:22:10.713014",
     "status": "completed"
    },
    "tags": []
   },
   "source": [
    "* ### Missing Values\n",
    "1. Numeric Values\n",
    "2. Categorial Values"
   ]
  },
  {
   "cell_type": "code",
   "execution_count": 9,
   "id": "7a0a0bd3",
   "metadata": {
    "execution": {
     "iopub.execute_input": "2022-12-12T20:22:10.740649Z",
     "iopub.status.busy": "2022-12-12T20:22:10.739942Z",
     "iopub.status.idle": "2022-12-12T20:22:10.751899Z",
     "shell.execute_reply": "2022-12-12T20:22:10.750739Z"
    },
    "papermill": {
     "duration": 0.024187,
     "end_time": "2022-12-12T20:22:10.754202",
     "exception": false,
     "start_time": "2022-12-12T20:22:10.730015",
     "status": "completed"
    },
    "tags": []
   },
   "outputs": [
    {
     "data": {
      "text/plain": [
       "PassengerId     0.000000\n",
       "Survived       31.932773\n",
       "Pclass          0.000000\n",
       "Name            0.000000\n",
       "Sex             0.000000\n",
       "Age            20.091673\n",
       "SibSp           0.000000\n",
       "Parch           0.000000\n",
       "Ticket          0.000000\n",
       "Fare            0.076394\n",
       "Cabin          77.463713\n",
       "Embarked        0.152788\n",
       "source          0.000000\n",
       "dtype: float64"
      ]
     },
     "execution_count": 9,
     "metadata": {},
     "output_type": "execute_result"
    }
   ],
   "source": [
    "# Fill empty and NaNs values with NaN\n",
    "# Missing values\n",
    "(data.isnull().sum()/data.shape[0]) * 100"
   ]
  },
  {
   "cell_type": "markdown",
   "id": "519a7acb",
   "metadata": {
    "papermill": {
     "duration": 0.008994,
     "end_time": "2022-12-12T20:22:10.771884",
     "exception": false,
     "start_time": "2022-12-12T20:22:10.762890",
     "status": "completed"
    },
    "tags": []
   },
   "source": [
    "* Age here is **continuies value** and also age is corelated with **parch/sibling** and since there is subpopulation in age is **children** having higher chance of **surrvival** we need visulize the age **carefully**."
   ]
  },
  {
   "cell_type": "code",
   "execution_count": 10,
   "id": "48e7a294",
   "metadata": {
    "execution": {
     "iopub.execute_input": "2022-12-12T20:22:10.790424Z",
     "iopub.status.busy": "2022-12-12T20:22:10.790026Z",
     "iopub.status.idle": "2022-12-12T20:22:10.801860Z",
     "shell.execute_reply": "2022-12-12T20:22:10.800719Z"
    },
    "papermill": {
     "duration": 0.023661,
     "end_time": "2022-12-12T20:22:10.804133",
     "exception": false,
     "start_time": "2022-12-12T20:22:10.780472",
     "status": "completed"
    },
    "tags": []
   },
   "outputs": [
    {
     "data": {
      "text/plain": [
       "count    1046.000000\n",
       "mean       29.881138\n",
       "std        14.413493\n",
       "min         0.170000\n",
       "25%        21.000000\n",
       "50%        28.000000\n",
       "75%        39.000000\n",
       "max        80.000000\n",
       "Name: Age, dtype: float64"
      ]
     },
     "execution_count": 10,
     "metadata": {},
     "output_type": "execute_result"
    }
   ],
   "source": [
    "# Lets deal with Age first\n",
    "data.Age.describe()\n"
   ]
  },
  {
   "cell_type": "code",
   "execution_count": 11,
   "id": "3dd7361c",
   "metadata": {
    "execution": {
     "iopub.execute_input": "2022-12-12T20:22:10.823367Z",
     "iopub.status.busy": "2022-12-12T20:22:10.822698Z",
     "iopub.status.idle": "2022-12-12T20:22:11.182079Z",
     "shell.execute_reply": "2022-12-12T20:22:11.181241Z"
    },
    "papermill": {
     "duration": 0.37179,
     "end_time": "2022-12-12T20:22:11.184446",
     "exception": false,
     "start_time": "2022-12-12T20:22:10.812656",
     "status": "completed"
    },
    "tags": []
   },
   "outputs": [
    {
     "data": {
      "image/png": "[encoded data removed]",
      "text/plain": [
       "<Figure size 432x288 with 1 Axes>"
      ]
     },
     "metadata": {},
     "output_type": "display_data"
    }
   ],
   "source": [
    "ax = sns.histplot(x=data['Age'], bins=10)"
   ]
  },
  {
   "cell_type": "code",
   "execution_count": 12,
   "id": "cb6ec5e4",
   "metadata": {
    "execution": {
     "iopub.execute_input": "2022-12-12T20:22:11.204639Z",
     "iopub.status.busy": "2022-12-12T20:22:11.203460Z",
     "iopub.status.idle": "2022-12-12T20:22:13.079787Z",
     "shell.execute_reply": "2022-12-12T20:22:13.078424Z"
    },
    "papermill": {
     "duration": 1.889371,
     "end_time": "2022-12-12T20:22:13.082707",
     "exception": false,
     "start_time": "2022-12-12T20:22:11.193336",
     "status": "completed"
    },
    "tags": []
   },
   "outputs": [
    {
     "data": {
      "image/png": "[encoded data removed]",
      "text/plain": [
       "<Figure size 360x360 with 1 Axes>"
      ]
     },
     "metadata": {},
     "output_type": "display_data"
    },
    {
     "data": {
      "image/png": "[encoded data removed]",
      "text/plain": [
       "<Figure size 406.6x360 with 1 Axes>"
      ]
     },
     "metadata": {},
     "output_type": "display_data"
    },
    {
     "data": {
      "image/png": "[encoded data removed]",
      "text/plain": [
       "<Figure size 360x360 with 1 Axes>"
      ]
     },
     "metadata": {},
     "output_type": "display_data"
    },
    {
     "data": {
      "image/png": "[encoded data removed]",
      "text/plain": [
       "<Figure size 360x360 with 1 Axes>"
      ]
     },
     "metadata": {},
     "output_type": "display_data"
    }
   ],
   "source": [
    "# Explore Age with Sex, Parch, Pclass, SibSp\n",
    "age = sns.catplot(data=data, x='Sex', y='Age', kind='box')\n",
    "age = sns.catplot(data=data, x='Sex', y='Age', hue='Pclass', kind='box')\n",
    "age = sns.catplot(data=data, x='Parch', y='Age', kind='box')\n",
    "age = sns.catplot(data=data, x='SibSp', y='Age', kind='box')"
   ]
  },
  {
   "cell_type": "markdown",
   "id": "39fb8acd",
   "metadata": {
    "papermill": {
     "duration": 0.009576,
     "end_time": "2022-12-12T20:22:13.103315",
     "exception": false,
     "start_time": "2022-12-12T20:22:13.093739",
     "status": "completed"
    },
    "tags": []
   },
   "source": [
    "## Observations\n",
    "* Age and **Sex** has almost **same distribution**.\n",
    "* **1st class** passenger are **older** then **2nd class**, and 2nd are **older** then **3rd class**.\n",
    "* Person having more **parents/children** are **older**.\n",
    "* Person having more **siblings/spouse** are **younger**."
   ]
  },
  {
   "cell_type": "code",
   "execution_count": 13,
   "id": "9b16faeb",
   "metadata": {
    "execution": {
     "iopub.execute_input": "2022-12-12T20:22:13.126170Z",
     "iopub.status.busy": "2022-12-12T20:22:13.125515Z",
     "iopub.status.idle": "2022-12-12T20:22:13.498604Z",
     "shell.execute_reply": "2022-12-12T20:22:13.497359Z"
    },
    "papermill": {
     "duration": 0.38708,
     "end_time": "2022-12-12T20:22:13.501286",
     "exception": false,
     "start_time": "2022-12-12T20:22:13.114206",
     "status": "completed"
    },
    "tags": []
   },
   "outputs": [
    {
     "data": {
      "image/png": "[encoded data removed]",
      "text/plain": [
       "<Figure size 432x288 with 2 Axes>"
      ]
     },
     "metadata": {},
     "output_type": "display_data"
    }
   ],
   "source": [
    "# Convert Sex 0, 1 into male female\n",
    "data['Sex'] = data['Sex'].map({'male': 0, 'female': 1})\n",
    "age = sns.heatmap(data=data[['Age','Sex','Pclass', 'Parch', 'SibSp']].corr(), cmap='BuGn' , annot=True)"
   ]
  },
  {
   "cell_type": "markdown",
   "id": "d7e6bf62",
   "metadata": {
    "papermill": {
     "duration": 0.009954,
     "end_time": "2022-12-12T20:22:13.522558",
     "exception": false,
     "start_time": "2022-12-12T20:22:13.512604",
     "status": "completed"
    },
    "tags": []
   },
   "source": [
    "### Observations\n",
    "* Above heatmap **confirms the catplots except Parch**. age is not correlated with sex, But **negativly correlated with Parch, Pclass, SibSp**"
   ]
  },
  {
   "cell_type": "code",
   "execution_count": 14,
   "id": "a7202d3c",
   "metadata": {
    "execution": {
     "iopub.execute_input": "2022-12-12T20:22:13.545725Z",
     "iopub.status.busy": "2022-12-12T20:22:13.545315Z",
     "iopub.status.idle": "2022-12-12T20:22:13.554776Z",
     "shell.execute_reply": "2022-12-12T20:22:13.553549Z"
    },
    "papermill": {
     "duration": 0.023954,
     "end_time": "2022-12-12T20:22:13.557168",
     "exception": false,
     "start_time": "2022-12-12T20:22:13.533214",
     "status": "completed"
    },
    "tags": []
   },
   "outputs": [],
   "source": [
    "# Imputate missing values of age with median\n",
    "data['Age'] = data['Age'].fillna(data['Age'].median())\n",
    "\n",
    "# delete cabin data becuase it contains % missing data\n",
    "data = data.drop('Cabin', axis=1)\n",
    "\n",
    "# fill missing values in Embarked with mode\n",
    "data.Embarked = data.Embarked.fillna('S')\n"
   ]
  },
  {
   "cell_type": "code",
   "execution_count": 15,
   "id": "428735be",
   "metadata": {
    "execution": {
     "iopub.execute_input": "2022-12-12T20:22:13.579682Z",
     "iopub.status.busy": "2022-12-12T20:22:13.579260Z",
     "iopub.status.idle": "2022-12-12T20:22:13.591915Z",
     "shell.execute_reply": "2022-12-12T20:22:13.590050Z"
    },
    "papermill": {
     "duration": 0.026924,
     "end_time": "2022-12-12T20:22:13.594396",
     "exception": false,
     "start_time": "2022-12-12T20:22:13.567472",
     "status": "completed"
    },
    "tags": []
   },
   "outputs": [
    {
     "name": "stdout",
     "output_type": "stream",
     "text": [
      "Missing Values afer imputation \n",
      "\n"
     ]
    },
    {
     "data": {
      "text/plain": [
       "PassengerId     0.000000\n",
       "Survived       31.932773\n",
       "Pclass          0.000000\n",
       "Name            0.000000\n",
       "Sex             0.000000\n",
       "Age             0.000000\n",
       "SibSp           0.000000\n",
       "Parch           0.000000\n",
       "Ticket          0.000000\n",
       "Fare            0.076394\n",
       "Embarked        0.000000\n",
       "source          0.000000\n",
       "dtype: float64"
      ]
     },
     "execution_count": 15,
     "metadata": {},
     "output_type": "execute_result"
    }
   ],
   "source": [
    "print('Missing Values afer imputation \\n')\n",
    "(data.isnull().sum()/data.shape[0]) * 100"
   ]
  },
  {
   "cell_type": "markdown",
   "id": "e31eda3c",
   "metadata": {
    "papermill": {
     "duration": 0.010181,
     "end_time": "2022-12-12T20:22:13.614988",
     "exception": false,
     "start_time": "2022-12-12T20:22:13.604807",
     "status": "completed"
    },
    "tags": []
   },
   "source": [
    "* ### Outliers"
   ]
  },
  {
   "cell_type": "code",
   "execution_count": 16,
   "id": "bb10c7c3",
   "metadata": {
    "execution": {
     "iopub.execute_input": "2022-12-12T20:22:13.637567Z",
     "iopub.status.busy": "2022-12-12T20:22:13.637113Z",
     "iopub.status.idle": "2022-12-12T20:22:13.668234Z",
     "shell.execute_reply": "2022-12-12T20:22:13.666942Z"
    },
    "papermill": {
     "duration": 0.045973,
     "end_time": "2022-12-12T20:22:13.671495",
     "exception": false,
     "start_time": "2022-12-12T20:22:13.625522",
     "status": "completed"
    },
    "tags": []
   },
   "outputs": [
    {
     "name": "stdout",
     "output_type": "stream",
     "text": [
      "Outliers \n",
      "\n",
      "\n"
     ]
    },
    {
     "data": {
      "text/html": [
       "<div>\n",
       "<style scoped>\n",
       "    .dataframe tbody tr th:only-of-type {\n",
       "        vertical-align: middle;\n",
       "    }\n",
       "\n",
       "    .dataframe tbody tr th {\n",
       "        vertical-align: top;\n",
       "    }\n",
       "\n",
       "    .dataframe thead th {\n",
       "        text-align: right;\n",
       "    }\n",
       "</style>\n",
       "<table border=\"1\" class=\"dataframe\">\n",
       "  <thead>\n",
       "    <tr style=\"text-align: right;\">\n",
       "      <th></th>\n",
       "      <th>PassengerId</th>\n",
       "      <th>Survived</th>\n",
       "      <th>Pclass</th>\n",
       "      <th>Name</th>\n",
       "      <th>Sex</th>\n",
       "      <th>Age</th>\n",
       "      <th>SibSp</th>\n",
       "      <th>Parch</th>\n",
       "      <th>Ticket</th>\n",
       "      <th>Fare</th>\n",
       "      <th>Embarked</th>\n",
       "      <th>source</th>\n",
       "    </tr>\n",
       "  </thead>\n",
       "  <tbody>\n",
       "    <tr>\n",
       "      <th>7</th>\n",
       "      <td>8</td>\n",
       "      <td>0.0</td>\n",
       "      <td>3</td>\n",
       "      <td>Palsson, Master. Gosta Leonard</td>\n",
       "      <td>0</td>\n",
       "      <td>2.0</td>\n",
       "      <td>3</td>\n",
       "      <td>1</td>\n",
       "      <td>349909</td>\n",
       "      <td>21.0750</td>\n",
       "      <td>S</td>\n",
       "      <td>train</td>\n",
       "    </tr>\n",
       "    <tr>\n",
       "      <th>16</th>\n",
       "      <td>17</td>\n",
       "      <td>0.0</td>\n",
       "      <td>3</td>\n",
       "      <td>Rice, Master. Eugene</td>\n",
       "      <td>0</td>\n",
       "      <td>2.0</td>\n",
       "      <td>4</td>\n",
       "      <td>1</td>\n",
       "      <td>382652</td>\n",
       "      <td>29.1250</td>\n",
       "      <td>Q</td>\n",
       "      <td>train</td>\n",
       "    </tr>\n",
       "    <tr>\n",
       "      <th>119</th>\n",
       "      <td>120</td>\n",
       "      <td>0.0</td>\n",
       "      <td>3</td>\n",
       "      <td>Andersson, Miss. Ellis Anna Maria</td>\n",
       "      <td>1</td>\n",
       "      <td>2.0</td>\n",
       "      <td>4</td>\n",
       "      <td>2</td>\n",
       "      <td>347082</td>\n",
       "      <td>31.2750</td>\n",
       "      <td>S</td>\n",
       "      <td>train</td>\n",
       "    </tr>\n",
       "    <tr>\n",
       "      <th>164</th>\n",
       "      <td>165</td>\n",
       "      <td>0.0</td>\n",
       "      <td>3</td>\n",
       "      <td>Panula, Master. Eino Viljami</td>\n",
       "      <td>0</td>\n",
       "      <td>1.0</td>\n",
       "      <td>4</td>\n",
       "      <td>1</td>\n",
       "      <td>3101295</td>\n",
       "      <td>39.6875</td>\n",
       "      <td>S</td>\n",
       "      <td>train</td>\n",
       "    </tr>\n",
       "    <tr>\n",
       "      <th>386</th>\n",
       "      <td>387</td>\n",
       "      <td>0.0</td>\n",
       "      <td>3</td>\n",
       "      <td>Goodwin, Master. Sidney Leonard</td>\n",
       "      <td>0</td>\n",
       "      <td>1.0</td>\n",
       "      <td>5</td>\n",
       "      <td>2</td>\n",
       "      <td>CA 2144</td>\n",
       "      <td>46.9000</td>\n",
       "      <td>S</td>\n",
       "      <td>train</td>\n",
       "    </tr>\n",
       "    <tr>\n",
       "      <th>642</th>\n",
       "      <td>643</td>\n",
       "      <td>0.0</td>\n",
       "      <td>3</td>\n",
       "      <td>Skoog, Miss. Margit Elizabeth</td>\n",
       "      <td>1</td>\n",
       "      <td>2.0</td>\n",
       "      <td>3</td>\n",
       "      <td>2</td>\n",
       "      <td>347088</td>\n",
       "      <td>27.9000</td>\n",
       "      <td>S</td>\n",
       "      <td>train</td>\n",
       "    </tr>\n",
       "    <tr>\n",
       "      <th>824</th>\n",
       "      <td>825</td>\n",
       "      <td>0.0</td>\n",
       "      <td>3</td>\n",
       "      <td>Panula, Master. Urho Abraham</td>\n",
       "      <td>0</td>\n",
       "      <td>2.0</td>\n",
       "      <td>4</td>\n",
       "      <td>1</td>\n",
       "      <td>3101295</td>\n",
       "      <td>39.6875</td>\n",
       "      <td>S</td>\n",
       "      <td>train</td>\n",
       "    </tr>\n",
       "  </tbody>\n",
       "</table>\n",
       "</div>"
      ],
      "text/plain": [
       "     PassengerId  Survived  Pclass                               Name  Sex  \\\n",
       "7              8       0.0       3     Palsson, Master. Gosta Leonard    0   \n",
       "16            17       0.0       3               Rice, Master. Eugene    0   \n",
       "119          120       0.0       3  Andersson, Miss. Ellis Anna Maria    1   \n",
       "164          165       0.0       3       Panula, Master. Eino Viljami    0   \n",
       "386          387       0.0       3    Goodwin, Master. Sidney Leonard    0   \n",
       "642          643       0.0       3      Skoog, Miss. Margit Elizabeth    1   \n",
       "824          825       0.0       3       Panula, Master. Urho Abraham    0   \n",
       "\n",
       "     Age  SibSp  Parch   Ticket     Fare Embarked source  \n",
       "7    2.0      3      1   349909  21.0750        S  train  \n",
       "16   2.0      4      1   382652  29.1250        Q  train  \n",
       "119  2.0      4      2   347082  31.2750        S  train  \n",
       "164  1.0      4      1  3101295  39.6875        S  train  \n",
       "386  1.0      5      2  CA 2144  46.9000        S  train  \n",
       "642  2.0      3      2   347088  27.9000        S  train  \n",
       "824  2.0      4      1  3101295  39.6875        S  train  "
      ]
     },
     "execution_count": 16,
     "metadata": {},
     "output_type": "execute_result"
    }
   ],
   "source": [
    "# Outlier detection \n",
    "\n",
    "def detect_outliers(df,n,features):\n",
    "    \"\"\"\n",
    "    Takes a dataframe df of features and returns a list of the indices\n",
    "    corresponding to the observations containing more than n outliers according\n",
    "    to the Tukey method.\n",
    "    \"\"\"\n",
    "    outlier_indices = []\n",
    "    \n",
    "    # iterate over features(columns)\n",
    "    for col in features:\n",
    "        # 1st quartile (25%)\n",
    "        Q1 = np.percentile(df[col], 25)\n",
    "        # 3rd quartile (75%)\n",
    "        Q3 = np.percentile(df[col],75)\n",
    "        # Interquartile range (IQR)\n",
    "        IQR = Q3 - Q1\n",
    "        \n",
    "        # outlier step\n",
    "        outlier_step = 1.5 * IQR\n",
    "        \n",
    "        # Determine a list of indices of outliers for feature col\n",
    "        outlier_list_col = df[(df[col] < Q1 - outlier_step) | (df[col] > Q3 + outlier_step )].index\n",
    "        \n",
    "        # append the found outlier indices for col to the list of outlier indices \n",
    "        outlier_indices.extend(outlier_list_col)\n",
    "        \n",
    "    # select observations containing more than 2 outliers\n",
    "    outlier_indices = Counter(outlier_indices)        \n",
    "    multiple_outliers = list( k for k, v in outlier_indices.items() if v > n )\n",
    "    return multiple_outliers\n",
    "\n",
    "# detect outliers from Age, SibSp , Parch and Fare\n",
    "Outliers_to_drop = detect_outliers(data,2,[\"Age\",\"SibSp\",\"Parch\",\"Fare\"])\n",
    "\n",
    "#  Show the outliers rows\n",
    "print(\"Outliers \\n\\n\")\n",
    "data.loc[Outliers_to_drop]\n",
    "#  Show the outliers rows"
   ]
  },
  {
   "cell_type": "code",
   "execution_count": 17,
   "id": "2df1a1d4",
   "metadata": {
    "execution": {
     "iopub.execute_input": "2022-12-12T20:22:13.695986Z",
     "iopub.status.busy": "2022-12-12T20:22:13.695580Z",
     "iopub.status.idle": "2022-12-12T20:22:13.702699Z",
     "shell.execute_reply": "2022-12-12T20:22:13.701435Z"
    },
    "papermill": {
     "duration": 0.022031,
     "end_time": "2022-12-12T20:22:13.705223",
     "exception": false,
     "start_time": "2022-12-12T20:22:13.683192",
     "status": "completed"
    },
    "tags": []
   },
   "outputs": [],
   "source": [
    "# Drop outliers\n",
    "data = data.drop(Outliers_to_drop, axis = 0).reset_index(drop=True)"
   ]
  },
  {
   "cell_type": "code",
   "execution_count": 18,
   "id": "2b96cdf0",
   "metadata": {
    "execution": {
     "iopub.execute_input": "2022-12-12T20:22:13.729558Z",
     "iopub.status.busy": "2022-12-12T20:22:13.729127Z",
     "iopub.status.idle": "2022-12-12T20:22:13.748181Z",
     "shell.execute_reply": "2022-12-12T20:22:13.746807Z"
    },
    "papermill": {
     "duration": 0.034043,
     "end_time": "2022-12-12T20:22:13.750603",
     "exception": false,
     "start_time": "2022-12-12T20:22:13.716560",
     "status": "completed"
    },
    "tags": []
   },
   "outputs": [
    {
     "data": {
      "text/html": [
       "<div>\n",
       "<style scoped>\n",
       "    .dataframe tbody tr th:only-of-type {\n",
       "        vertical-align: middle;\n",
       "    }\n",
       "\n",
       "    .dataframe tbody tr th {\n",
       "        vertical-align: top;\n",
       "    }\n",
       "\n",
       "    .dataframe thead th {\n",
       "        text-align: right;\n",
       "    }\n",
       "</style>\n",
       "<table border=\"1\" class=\"dataframe\">\n",
       "  <thead>\n",
       "    <tr style=\"text-align: right;\">\n",
       "      <th></th>\n",
       "      <th>PassengerId</th>\n",
       "      <th>Survived</th>\n",
       "      <th>Pclass</th>\n",
       "      <th>Name</th>\n",
       "      <th>Sex</th>\n",
       "      <th>Age</th>\n",
       "      <th>SibSp</th>\n",
       "      <th>Parch</th>\n",
       "      <th>Ticket</th>\n",
       "      <th>Fare</th>\n",
       "      <th>Embarked</th>\n",
       "      <th>source</th>\n",
       "    </tr>\n",
       "  </thead>\n",
       "  <tbody>\n",
       "    <tr>\n",
       "      <th>0</th>\n",
       "      <td>1</td>\n",
       "      <td>0.0</td>\n",
       "      <td>3</td>\n",
       "      <td>Braund, Mr. Owen Harris</td>\n",
       "      <td>0</td>\n",
       "      <td>22.0</td>\n",
       "      <td>1</td>\n",
       "      <td>0</td>\n",
       "      <td>A/5 21171</td>\n",
       "      <td>7.2500</td>\n",
       "      <td>S</td>\n",
       "      <td>train</td>\n",
       "    </tr>\n",
       "    <tr>\n",
       "      <th>1</th>\n",
       "      <td>2</td>\n",
       "      <td>1.0</td>\n",
       "      <td>1</td>\n",
       "      <td>Cumings, Mrs. John Bradley (Florence Briggs Th...</td>\n",
       "      <td>1</td>\n",
       "      <td>38.0</td>\n",
       "      <td>1</td>\n",
       "      <td>0</td>\n",
       "      <td>PC 17599</td>\n",
       "      <td>71.2833</td>\n",
       "      <td>C</td>\n",
       "      <td>train</td>\n",
       "    </tr>\n",
       "    <tr>\n",
       "      <th>2</th>\n",
       "      <td>3</td>\n",
       "      <td>1.0</td>\n",
       "      <td>3</td>\n",
       "      <td>Heikkinen, Miss. Laina</td>\n",
       "      <td>1</td>\n",
       "      <td>26.0</td>\n",
       "      <td>0</td>\n",
       "      <td>0</td>\n",
       "      <td>STON/O2. 3101282</td>\n",
       "      <td>7.9250</td>\n",
       "      <td>S</td>\n",
       "      <td>train</td>\n",
       "    </tr>\n",
       "    <tr>\n",
       "      <th>3</th>\n",
       "      <td>4</td>\n",
       "      <td>1.0</td>\n",
       "      <td>1</td>\n",
       "      <td>Futrelle, Mrs. Jacques Heath (Lily May Peel)</td>\n",
       "      <td>1</td>\n",
       "      <td>35.0</td>\n",
       "      <td>1</td>\n",
       "      <td>0</td>\n",
       "      <td>113803</td>\n",
       "      <td>53.1000</td>\n",
       "      <td>S</td>\n",
       "      <td>train</td>\n",
       "    </tr>\n",
       "    <tr>\n",
       "      <th>4</th>\n",
       "      <td>5</td>\n",
       "      <td>0.0</td>\n",
       "      <td>3</td>\n",
       "      <td>Allen, Mr. William Henry</td>\n",
       "      <td>0</td>\n",
       "      <td>35.0</td>\n",
       "      <td>0</td>\n",
       "      <td>0</td>\n",
       "      <td>373450</td>\n",
       "      <td>8.0500</td>\n",
       "      <td>S</td>\n",
       "      <td>train</td>\n",
       "    </tr>\n",
       "  </tbody>\n",
       "</table>\n",
       "</div>"
      ],
      "text/plain": [
       "   PassengerId  Survived  Pclass  \\\n",
       "0            1       0.0       3   \n",
       "1            2       1.0       1   \n",
       "2            3       1.0       3   \n",
       "3            4       1.0       1   \n",
       "4            5       0.0       3   \n",
       "\n",
       "                                                Name  Sex   Age  SibSp  Parch  \\\n",
       "0                            Braund, Mr. Owen Harris    0  22.0      1      0   \n",
       "1  Cumings, Mrs. John Bradley (Florence Briggs Th...    1  38.0      1      0   \n",
       "2                             Heikkinen, Miss. Laina    1  26.0      0      0   \n",
       "3       Futrelle, Mrs. Jacques Heath (Lily May Peel)    1  35.0      1      0   \n",
       "4                           Allen, Mr. William Henry    0  35.0      0      0   \n",
       "\n",
       "             Ticket     Fare Embarked source  \n",
       "0         A/5 21171   7.2500        S  train  \n",
       "1          PC 17599  71.2833        C  train  \n",
       "2  STON/O2. 3101282   7.9250        S  train  \n",
       "3            113803  53.1000        S  train  \n",
       "4            373450   8.0500        S  train  "
      ]
     },
     "execution_count": 18,
     "metadata": {},
     "output_type": "execute_result"
    }
   ],
   "source": [
    "data.head()"
   ]
  },
  {
   "cell_type": "code",
   "execution_count": null,
   "id": "a5624c3c",
   "metadata": {
    "papermill": {
     "duration": 0.012039,
     "end_time": "2022-12-12T20:22:13.773839",
     "exception": false,
     "start_time": "2022-12-12T20:22:13.761800",
     "status": "completed"
    },
    "tags": []
   },
   "outputs": [],
   "source": []
  }
 ],
 "metadata": {
  "kernelspec": {
   "display_name": "Python 3",
   "language": "python",
   "name": "python3"
  },
  "language_info": {
   "codemirror_mode": {
    "name": "ipython",
    "version": 3
   },
   "file_extension": ".py",
   "mimetype": "text/x-python",
   "name": "python",
   "nbconvert_exporter": "python",
   "pygments_lexer": "ipython3",
   "version": "3.7.12"
  },
  "papermill": {
   "default_parameters": {},
   "duration": 14.729076,
   "end_time": "2022-12-12T20:22:14.608069",
   "environment_variables": {},
   "exception": null,
   "input_path": "__notebook__.ipynb",
   "output_path": "__notebook__.ipynb",
   "parameters": {},
   "start_time": "2022-12-12T20:21:59.878993",
   "version": "2.3.4"
  }
 },
 "nbformat": 4,
 "nbformat_minor": 5
}
