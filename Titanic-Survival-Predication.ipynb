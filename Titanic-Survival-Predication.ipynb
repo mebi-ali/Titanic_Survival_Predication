{
 "cells": [
  {
   "cell_type": "markdown",
   "id": "afe64f21",
   "metadata": {
    "_cell_guid": "b1076dfc-b9ad-4769-8c92-a6c4dae69d19",
    "_uuid": "8f2839f25d086af736a60e9eeb907d3b93b6e0e5",
    "execution": {
     "iopub.execute_input": "2022-12-02T18:13:06.723663Z",
     "iopub.status.busy": "2022-12-02T18:13:06.722752Z",
     "iopub.status.idle": "2022-12-02T18:13:06.753192Z",
     "shell.execute_reply": "2022-12-02T18:13:06.752034Z",
     "shell.execute_reply.started": "2022-12-02T18:13:06.723556Z"
    },
    "papermill": {
     "duration": 0.014678,
     "end_time": "2022-12-14T15:44:53.376666",
     "exception": false,
     "start_time": "2022-12-14T15:44:53.361988",
     "status": "completed"
    },
    "tags": []
   },
   "source": [
    "# *Titanic - Machine Learning from Disaster*\n",
    "\n",
    "## Probelem Statement\n",
    "\n",
    "The sinking of the Titanic is one of the most infamous shipwrecks in history.\n",
    "\n",
    "On April 15, 1912, during her maiden voyage, the widely considered “unsinkable” RMS Titanic sank after colliding with an iceberg. Unfortunately, there weren’t enough lifeboats for everyone onboard, resulting in the death of 1502 out of 2224 passengers and crew.\n",
    "\n",
    "While there was some element of luck involved in surviving, it seems some groups of people were more likely to survive than others.\n",
    "\n",
    "In this challenge, we ask you to build a predictive model that answers the question: “what sorts of people were more likely to survive?” using passenger data (ie name, age, gender, socio-economic class, etc).\n",
    "\n",
    "## Statement Analysis\n",
    "* Supervised Machine Learning Problem.\n",
    "* The Target Value is **Survived**.\n",
    "\n",
    "## Goal\n",
    "Using this model, We will try to understand what sort of people were more likely to **survive** than others."
   ]
  },
  {
   "cell_type": "markdown",
   "id": "7d6f94cf",
   "metadata": {
    "papermill": {
     "duration": 0.016905,
     "end_time": "2022-12-14T15:44:53.409027",
     "exception": false,
     "start_time": "2022-12-14T15:44:53.392122",
     "status": "completed"
    },
    "tags": []
   },
   "source": [
    "# *Hypothesis Generation*\n",
    "* Females have more chance of surviving.\n",
    "* Children have more chance of surviving.\n",
    "* Upper Class (VIPS) have more chance of surviving.\n",
    "* People with less siblings have more chance of surviving.\n",
    "* Person with no family/sibings have more chance of surviving.\n",
    "* Swimmers have more chance of surviving.\n"
   ]
  },
  {
   "cell_type": "markdown",
   "id": "2b0492c4",
   "metadata": {
    "papermill": {
     "duration": 0.014756,
     "end_time": "2022-12-14T15:44:53.435519",
     "exception": false,
     "start_time": "2022-12-14T15:44:53.420763",
     "status": "completed"
    },
    "tags": []
   },
   "source": [
    "# *Libraries*"
   ]
  },
  {
   "cell_type": "code",
   "execution_count": 1,
   "id": "4e0137ac",
   "metadata": {
    "execution": {
     "iopub.execute_input": "2022-12-14T15:44:53.469000Z",
     "iopub.status.busy": "2022-12-14T15:44:53.467920Z",
     "iopub.status.idle": "2022-12-14T15:44:54.640714Z",
     "shell.execute_reply": "2022-12-14T15:44:54.639528Z"
    },
    "papermill": {
     "duration": 1.192195,
     "end_time": "2022-12-14T15:44:54.643793",
     "exception": false,
     "start_time": "2022-12-14T15:44:53.451598",
     "status": "completed"
    },
    "tags": []
   },
   "outputs": [],
   "source": [
    "# This Python 3 environment comes with many helpful analytics libraries installed\n",
    "# It is defined by the kaggle/python Docker image: https://github.com/kaggle/docker-python\n",
    "# For example, here's several helpful packages to load\n",
    "\n",
    "import os # Path to file\n",
    "import numpy as np # linear algebra\n",
    "import pandas as pd # data processing, CSV file I/O (e.g. pd.read_csv)\n",
    "import matplotlib.pyplot  as plt # Data visulization\n",
    "import seaborn as sns  # Data visulization\n",
    "import warnings # warning filter\n",
    "%matplotlib inline\n",
    "\n",
    "# Import Coounter\n",
    "from collections import Counter\n",
    "\n",
    "\n",
    "sns.set(style=\"darkgrid\")\n"
   ]
  },
  {
   "cell_type": "code",
   "execution_count": 2,
   "id": "0b344955",
   "metadata": {
    "execution": {
     "iopub.execute_input": "2022-12-14T15:44:54.668930Z",
     "iopub.status.busy": "2022-12-14T15:44:54.668450Z",
     "iopub.status.idle": "2022-12-14T15:44:54.677463Z",
     "shell.execute_reply": "2022-12-14T15:44:54.675912Z"
    },
    "papermill": {
     "duration": 0.025685,
     "end_time": "2022-12-14T15:44:54.680992",
     "exception": false,
     "start_time": "2022-12-14T15:44:54.655307",
     "status": "completed"
    },
    "tags": []
   },
   "outputs": [
    {
     "name": "stdout",
     "output_type": "stream",
     "text": [
      "/kaggle/input/titanic/train.csv\n",
      "/kaggle/input/titanic/test.csv\n",
      "/kaggle/input/titanic/gender_submission.csv\n"
     ]
    }
   ],
   "source": [
    "\n",
    "# Input data files are available in the read-only \"../input/\" directory\n",
    "# For example, running this (by clicking run or pressing Shift+Enter) will list all files under the input directory\n",
    "\n",
    "for dirname, _, filenames in os.walk('/kaggle/input'):\n",
    "    for filename in filenames:\n",
    "        print(os.path.join(dirname, filename))\n",
    "\n",
    "# You can write up to 20GB to the current directory (/kaggle/working/) that gets preserved as output when you create a version using \"Save & Run All\" \n",
    "# You can also write temporary files to /kaggle/temp/, but they won't be saved outside of the current session"
   ]
  },
  {
   "cell_type": "code",
   "execution_count": 3,
   "id": "b3c05f38",
   "metadata": {
    "execution": {
     "iopub.execute_input": "2022-12-14T15:44:54.706207Z",
     "iopub.status.busy": "2022-12-14T15:44:54.705821Z",
     "iopub.status.idle": "2022-12-14T15:44:54.738185Z",
     "shell.execute_reply": "2022-12-14T15:44:54.736749Z"
    },
    "papermill": {
     "duration": 0.048064,
     "end_time": "2022-12-14T15:44:54.741143",
     "exception": false,
     "start_time": "2022-12-14T15:44:54.693079",
     "status": "completed"
    },
    "tags": []
   },
   "outputs": [],
   "source": [
    "# Loading Data.\n",
    "train = pd.read_csv('/kaggle/input/titanic/train.csv')\n",
    "test = pd.read_csv('/kaggle/input/titanic/test.csv')\n"
   ]
  },
  {
   "cell_type": "code",
   "execution_count": 4,
   "id": "a8c1ab31",
   "metadata": {
    "execution": {
     "iopub.execute_input": "2022-12-14T15:44:54.766184Z",
     "iopub.status.busy": "2022-12-14T15:44:54.765708Z",
     "iopub.status.idle": "2022-12-14T15:44:54.821977Z",
     "shell.execute_reply": "2022-12-14T15:44:54.820377Z"
    },
    "papermill": {
     "duration": 0.071753,
     "end_time": "2022-12-14T15:44:54.824500",
     "exception": false,
     "start_time": "2022-12-14T15:44:54.752747",
     "status": "completed"
    },
    "tags": []
   },
   "outputs": [
    {
     "name": "stdout",
     "output_type": "stream",
     "text": [
      "Train Dataset (row, col): (891, 12) \n",
      "\n",
      "\n",
      "Train Dataset Information:\n",
      "\n",
      "<class 'pandas.core.frame.DataFrame'>\n",
      "RangeIndex: 891 entries, 0 to 890\n",
      "Data columns (total 12 columns):\n",
      " #   Column       Non-Null Count  Dtype  \n",
      "---  ------       --------------  -----  \n",
      " 0   PassengerId  891 non-null    int64  \n",
      " 1   Survived     891 non-null    int64  \n",
      " 2   Pclass       891 non-null    int64  \n",
      " 3   Name         891 non-null    object \n",
      " 4   Sex          891 non-null    object \n",
      " 5   Age          714 non-null    float64\n",
      " 6   SibSp        891 non-null    int64  \n",
      " 7   Parch        891 non-null    int64  \n",
      " 8   Ticket       891 non-null    object \n",
      " 9   Fare         891 non-null    float64\n",
      " 10  Cabin        204 non-null    object \n",
      " 11  Embarked     889 non-null    object \n",
      "dtypes: float64(2), int64(5), object(5)\n",
      "memory usage: 83.7+ KB\n",
      "None\n",
      "\n",
      "Test Dataset (row, col): (418, 11) \n",
      "\n",
      "\n",
      "Test Dataset Information:\n",
      "\n",
      "<class 'pandas.core.frame.DataFrame'>\n",
      "RangeIndex: 418 entries, 0 to 417\n",
      "Data columns (total 11 columns):\n",
      " #   Column       Non-Null Count  Dtype  \n",
      "---  ------       --------------  -----  \n",
      " 0   PassengerId  418 non-null    int64  \n",
      " 1   Pclass       418 non-null    int64  \n",
      " 2   Name         418 non-null    object \n",
      " 3   Sex          418 non-null    object \n",
      " 4   Age          332 non-null    float64\n",
      " 5   SibSp        418 non-null    int64  \n",
      " 6   Parch        418 non-null    int64  \n",
      " 7   Ticket       418 non-null    object \n",
      " 8   Fare         417 non-null    float64\n",
      " 9   Cabin        91 non-null     object \n",
      " 10  Embarked     418 non-null    object \n",
      "dtypes: float64(2), int64(4), object(5)\n",
      "memory usage: 36.0+ KB\n",
      "None\n",
      "\n",
      "Train Dataset Values:\n",
      "\n"
     ]
    },
    {
     "data": {
      "text/plain": [
       "PassengerId    [1, 2, 3, 4, 5, 6, 7, 8, 9, 10, 11, 12, 13, 14...\n",
       "Survived                                                  [0, 1]\n",
       "Pclass                                                 [3, 1, 2]\n",
       "Name           [Braund, Mr. Owen Harris, Cumings, Mrs. John B...\n",
       "Sex                                               [male, female]\n",
       "Age            [22.0, 38.0, 26.0, 35.0, nan, 54.0, 2.0, 27.0,...\n",
       "SibSp                                      [1, 0, 3, 4, 2, 5, 8]\n",
       "Parch                                      [0, 1, 2, 5, 3, 4, 6]\n",
       "Ticket         [A/5 21171, PC 17599, STON/O2. 3101282, 113803...\n",
       "Fare           [7.25, 71.2833, 7.925, 53.1, 8.05, 8.4583, 51....\n",
       "Cabin          [nan, C85, C123, E46, G6, C103, D56, A6, C23 C...\n",
       "Embarked                                          [S, C, Q, nan]\n",
       "dtype: object"
      ]
     },
     "execution_count": 4,
     "metadata": {},
     "output_type": "execute_result"
    }
   ],
   "source": [
    "# lets check data\n",
    "print(f'Train Dataset (row, col): {train.shape} \\n')\n",
    "print('\\nTrain Dataset Information:\\n')\n",
    "print(train.info())\n",
    "\n",
    "print(f'\\nTest Dataset (row, col): {test.shape} \\n')\n",
    "print('\\nTest Dataset Information:\\n')\n",
    "print(test.info())\n",
    "\n",
    "print('\\nTrain Dataset Values:\\n')\n",
    "train.apply(lambda x:x.unique())\n"
   ]
  },
  {
   "cell_type": "markdown",
   "id": "60619d1a",
   "metadata": {
    "papermill": {
     "duration": 0.011809,
     "end_time": "2022-12-14T15:44:54.847974",
     "exception": false,
     "start_time": "2022-12-14T15:44:54.836165",
     "status": "completed"
    },
    "tags": []
   },
   "source": [
    "## About Dataset\n",
    "\n",
    "This dataset is named Titanic Survival. The dataset contains a set of **891** records under **12** attributes:\n",
    "\n",
    "## Column Name and their Description\n",
    "\n",
    "* **PassengerId**: Unique passenger ID.\n",
    "* **Name** : name of passenger.\n",
    "* **Pclass** : Ticket class (A proxy for **socio-economic status** (SES)).\n",
    "* **Sex** : gender of passenger.\n",
    "* **Age** : age of passenger.\n",
    "* **SibSp**: number of siblings/spouse of passenger.\n",
    "* **Parch** : number of parents of passenger.\n",
    "* **Ticket** : ticket number.\n",
    "* **Fare** :Passenger fare.\n",
    "* **Cabin** : Cabin number.\n",
    "* **Embarked** : Port of Embarkation.\n",
    "\n",
    "## Variable Notes\n",
    "**Pclass**: A proxy for socio-economic status (SES)\n",
    "* 1st = Upper\n",
    "* 2nd = Middle\n",
    "* 3rd = Lower\n",
    "\n",
    "**Age**: Age is fractional if less than 1. If the age is estimated, is it in the form of xx.5\n",
    "\n",
    "**sibsp**: The dataset defines family relations in this way...\n",
    "* **Sibling** = brother, sister, stepbrother, stepsister\n",
    "* **Spouse** = husband, wife (mistresses and fiancés were ignored)\n",
    "\n",
    "**parch**: The dataset defines family relations in this way...\n",
    "* **Parent** = mother, father\n",
    "* **Child** = daughter, son, stepdaughter, stepson\n",
    "* Some children travelled only with a nanny, therefore **parch=0** for them.\n"
   ]
  },
  {
   "cell_type": "markdown",
   "id": "d0e1150a",
   "metadata": {
    "papermill": {
     "duration": 0.011383,
     "end_time": "2022-12-14T15:44:54.871294",
     "exception": false,
     "start_time": "2022-12-14T15:44:54.859911",
     "status": "completed"
    },
    "tags": []
   },
   "source": [
    "# *Data Analysis*\n"
   ]
  },
  {
   "cell_type": "code",
   "execution_count": 5,
   "id": "7217895a",
   "metadata": {
    "execution": {
     "iopub.execute_input": "2022-12-14T15:44:54.896962Z",
     "iopub.status.busy": "2022-12-14T15:44:54.896475Z",
     "iopub.status.idle": "2022-12-14T15:44:54.907734Z",
     "shell.execute_reply": "2022-12-14T15:44:54.906781Z"
    },
    "papermill": {
     "duration": 0.027381,
     "end_time": "2022-12-14T15:44:54.910435",
     "exception": false,
     "start_time": "2022-12-14T15:44:54.883054",
     "status": "completed"
    },
    "tags": []
   },
   "outputs": [],
   "source": [
    "# Check Dupicates\n",
    "train.drop_duplicates(inplace=True)"
   ]
  },
  {
   "cell_type": "code",
   "execution_count": 6,
   "id": "b86fb3d2",
   "metadata": {
    "execution": {
     "iopub.execute_input": "2022-12-14T15:44:54.937553Z",
     "iopub.status.busy": "2022-12-14T15:44:54.937086Z",
     "iopub.status.idle": "2022-12-14T15:44:54.992598Z",
     "shell.execute_reply": "2022-12-14T15:44:54.991095Z"
    },
    "papermill": {
     "duration": 0.072036,
     "end_time": "2022-12-14T15:44:54.995034",
     "exception": false,
     "start_time": "2022-12-14T15:44:54.922998",
     "status": "completed"
    },
    "tags": []
   },
   "outputs": [
    {
     "data": {
      "text/html": [
       "<div>\n",
       "<style scoped>\n",
       "    .dataframe tbody tr th:only-of-type {\n",
       "        vertical-align: middle;\n",
       "    }\n",
       "\n",
       "    .dataframe tbody tr th {\n",
       "        vertical-align: top;\n",
       "    }\n",
       "\n",
       "    .dataframe thead th {\n",
       "        text-align: right;\n",
       "    }\n",
       "</style>\n",
       "<table border=\"1\" class=\"dataframe\">\n",
       "  <thead>\n",
       "    <tr style=\"text-align: right;\">\n",
       "      <th></th>\n",
       "      <th>PassengerId</th>\n",
       "      <th>Survived</th>\n",
       "      <th>Pclass</th>\n",
       "      <th>Name</th>\n",
       "      <th>Sex</th>\n",
       "      <th>Age</th>\n",
       "      <th>SibSp</th>\n",
       "      <th>Parch</th>\n",
       "      <th>Ticket</th>\n",
       "      <th>Fare</th>\n",
       "      <th>Cabin</th>\n",
       "      <th>Embarked</th>\n",
       "    </tr>\n",
       "  </thead>\n",
       "  <tbody>\n",
       "    <tr>\n",
       "      <th>count</th>\n",
       "      <td>891.000000</td>\n",
       "      <td>891.000000</td>\n",
       "      <td>891.000000</td>\n",
       "      <td>891</td>\n",
       "      <td>891</td>\n",
       "      <td>714.000000</td>\n",
       "      <td>891.000000</td>\n",
       "      <td>891.000000</td>\n",
       "      <td>891</td>\n",
       "      <td>891.000000</td>\n",
       "      <td>204</td>\n",
       "      <td>889</td>\n",
       "    </tr>\n",
       "    <tr>\n",
       "      <th>unique</th>\n",
       "      <td>NaN</td>\n",
       "      <td>NaN</td>\n",
       "      <td>NaN</td>\n",
       "      <td>891</td>\n",
       "      <td>2</td>\n",
       "      <td>NaN</td>\n",
       "      <td>NaN</td>\n",
       "      <td>NaN</td>\n",
       "      <td>681</td>\n",
       "      <td>NaN</td>\n",
       "      <td>147</td>\n",
       "      <td>3</td>\n",
       "    </tr>\n",
       "    <tr>\n",
       "      <th>top</th>\n",
       "      <td>NaN</td>\n",
       "      <td>NaN</td>\n",
       "      <td>NaN</td>\n",
       "      <td>Braund, Mr. Owen Harris</td>\n",
       "      <td>male</td>\n",
       "      <td>NaN</td>\n",
       "      <td>NaN</td>\n",
       "      <td>NaN</td>\n",
       "      <td>347082</td>\n",
       "      <td>NaN</td>\n",
       "      <td>B96 B98</td>\n",
       "      <td>S</td>\n",
       "    </tr>\n",
       "    <tr>\n",
       "      <th>freq</th>\n",
       "      <td>NaN</td>\n",
       "      <td>NaN</td>\n",
       "      <td>NaN</td>\n",
       "      <td>1</td>\n",
       "      <td>577</td>\n",
       "      <td>NaN</td>\n",
       "      <td>NaN</td>\n",
       "      <td>NaN</td>\n",
       "      <td>7</td>\n",
       "      <td>NaN</td>\n",
       "      <td>4</td>\n",
       "      <td>644</td>\n",
       "    </tr>\n",
       "    <tr>\n",
       "      <th>mean</th>\n",
       "      <td>446.000000</td>\n",
       "      <td>0.383838</td>\n",
       "      <td>2.308642</td>\n",
       "      <td>NaN</td>\n",
       "      <td>NaN</td>\n",
       "      <td>29.699118</td>\n",
       "      <td>0.523008</td>\n",
       "      <td>0.381594</td>\n",
       "      <td>NaN</td>\n",
       "      <td>32.204208</td>\n",
       "      <td>NaN</td>\n",
       "      <td>NaN</td>\n",
       "    </tr>\n",
       "    <tr>\n",
       "      <th>std</th>\n",
       "      <td>257.353842</td>\n",
       "      <td>0.486592</td>\n",
       "      <td>0.836071</td>\n",
       "      <td>NaN</td>\n",
       "      <td>NaN</td>\n",
       "      <td>14.526497</td>\n",
       "      <td>1.102743</td>\n",
       "      <td>0.806057</td>\n",
       "      <td>NaN</td>\n",
       "      <td>49.693429</td>\n",
       "      <td>NaN</td>\n",
       "      <td>NaN</td>\n",
       "    </tr>\n",
       "    <tr>\n",
       "      <th>min</th>\n",
       "      <td>1.000000</td>\n",
       "      <td>0.000000</td>\n",
       "      <td>1.000000</td>\n",
       "      <td>NaN</td>\n",
       "      <td>NaN</td>\n",
       "      <td>0.420000</td>\n",
       "      <td>0.000000</td>\n",
       "      <td>0.000000</td>\n",
       "      <td>NaN</td>\n",
       "      <td>0.000000</td>\n",
       "      <td>NaN</td>\n",
       "      <td>NaN</td>\n",
       "    </tr>\n",
       "    <tr>\n",
       "      <th>25%</th>\n",
       "      <td>223.500000</td>\n",
       "      <td>0.000000</td>\n",
       "      <td>2.000000</td>\n",
       "      <td>NaN</td>\n",
       "      <td>NaN</td>\n",
       "      <td>20.125000</td>\n",
       "      <td>0.000000</td>\n",
       "      <td>0.000000</td>\n",
       "      <td>NaN</td>\n",
       "      <td>7.910400</td>\n",
       "      <td>NaN</td>\n",
       "      <td>NaN</td>\n",
       "    </tr>\n",
       "    <tr>\n",
       "      <th>50%</th>\n",
       "      <td>446.000000</td>\n",
       "      <td>0.000000</td>\n",
       "      <td>3.000000</td>\n",
       "      <td>NaN</td>\n",
       "      <td>NaN</td>\n",
       "      <td>28.000000</td>\n",
       "      <td>0.000000</td>\n",
       "      <td>0.000000</td>\n",
       "      <td>NaN</td>\n",
       "      <td>14.454200</td>\n",
       "      <td>NaN</td>\n",
       "      <td>NaN</td>\n",
       "    </tr>\n",
       "    <tr>\n",
       "      <th>75%</th>\n",
       "      <td>668.500000</td>\n",
       "      <td>1.000000</td>\n",
       "      <td>3.000000</td>\n",
       "      <td>NaN</td>\n",
       "      <td>NaN</td>\n",
       "      <td>38.000000</td>\n",
       "      <td>1.000000</td>\n",
       "      <td>0.000000</td>\n",
       "      <td>NaN</td>\n",
       "      <td>31.000000</td>\n",
       "      <td>NaN</td>\n",
       "      <td>NaN</td>\n",
       "    </tr>\n",
       "    <tr>\n",
       "      <th>max</th>\n",
       "      <td>891.000000</td>\n",
       "      <td>1.000000</td>\n",
       "      <td>3.000000</td>\n",
       "      <td>NaN</td>\n",
       "      <td>NaN</td>\n",
       "      <td>80.000000</td>\n",
       "      <td>8.000000</td>\n",
       "      <td>6.000000</td>\n",
       "      <td>NaN</td>\n",
       "      <td>512.329200</td>\n",
       "      <td>NaN</td>\n",
       "      <td>NaN</td>\n",
       "    </tr>\n",
       "  </tbody>\n",
       "</table>\n",
       "</div>"
      ],
      "text/plain": [
       "        PassengerId    Survived      Pclass                     Name   Sex  \\\n",
       "count    891.000000  891.000000  891.000000                      891   891   \n",
       "unique          NaN         NaN         NaN                      891     2   \n",
       "top             NaN         NaN         NaN  Braund, Mr. Owen Harris  male   \n",
       "freq            NaN         NaN         NaN                        1   577   \n",
       "mean     446.000000    0.383838    2.308642                      NaN   NaN   \n",
       "std      257.353842    0.486592    0.836071                      NaN   NaN   \n",
       "min        1.000000    0.000000    1.000000                      NaN   NaN   \n",
       "25%      223.500000    0.000000    2.000000                      NaN   NaN   \n",
       "50%      446.000000    0.000000    3.000000                      NaN   NaN   \n",
       "75%      668.500000    1.000000    3.000000                      NaN   NaN   \n",
       "max      891.000000    1.000000    3.000000                      NaN   NaN   \n",
       "\n",
       "               Age       SibSp       Parch  Ticket        Fare    Cabin  \\\n",
       "count   714.000000  891.000000  891.000000     891  891.000000      204   \n",
       "unique         NaN         NaN         NaN     681         NaN      147   \n",
       "top            NaN         NaN         NaN  347082         NaN  B96 B98   \n",
       "freq           NaN         NaN         NaN       7         NaN        4   \n",
       "mean     29.699118    0.523008    0.381594     NaN   32.204208      NaN   \n",
       "std      14.526497    1.102743    0.806057     NaN   49.693429      NaN   \n",
       "min       0.420000    0.000000    0.000000     NaN    0.000000      NaN   \n",
       "25%      20.125000    0.000000    0.000000     NaN    7.910400      NaN   \n",
       "50%      28.000000    0.000000    0.000000     NaN   14.454200      NaN   \n",
       "75%      38.000000    1.000000    0.000000     NaN   31.000000      NaN   \n",
       "max      80.000000    8.000000    6.000000     NaN  512.329200      NaN   \n",
       "\n",
       "       Embarked  \n",
       "count       889  \n",
       "unique        3  \n",
       "top           S  \n",
       "freq        644  \n",
       "mean        NaN  \n",
       "std         NaN  \n",
       "min         NaN  \n",
       "25%         NaN  \n",
       "50%         NaN  \n",
       "75%         NaN  \n",
       "max         NaN  "
      ]
     },
     "execution_count": 6,
     "metadata": {},
     "output_type": "execute_result"
    }
   ],
   "source": [
    "# Data Summery\n",
    "train.describe(include=[object, np.number])"
   ]
  },
  {
   "cell_type": "markdown",
   "id": "29544ba6",
   "metadata": {
    "papermill": {
     "duration": 0.011745,
     "end_time": "2022-12-14T15:44:55.020255",
     "exception": false,
     "start_time": "2022-12-14T15:44:55.008510",
     "status": "completed"
    },
    "tags": []
   },
   "source": [
    "### Observations\n",
    "* Most passengers are **Lower class passengers**.\n",
    "* Most passengers are **male**.\n",
    "* Average Age of passengers is **28** oldest passenger=80, youngest=0.42 (about 5 months).\n",
    "* Most passengers are **alone**.\n",
    "* Average Fare is 14.45 pounds\n",
    "\n"
   ]
  },
  {
   "cell_type": "code",
   "execution_count": 7,
   "id": "340bcfe7",
   "metadata": {
    "execution": {
     "iopub.execute_input": "2022-12-14T15:44:55.046197Z",
     "iopub.status.busy": "2022-12-14T15:44:55.045711Z",
     "iopub.status.idle": "2022-12-14T15:44:55.058200Z",
     "shell.execute_reply": "2022-12-14T15:44:55.056949Z"
    },
    "papermill": {
     "duration": 0.02832,
     "end_time": "2022-12-14T15:44:55.060568",
     "exception": false,
     "start_time": "2022-12-14T15:44:55.032248",
     "status": "completed"
    },
    "tags": []
   },
   "outputs": [
    {
     "data": {
      "text/plain": [
       "PassengerId     0.000000\n",
       "Survived        0.000000\n",
       "Pclass          0.000000\n",
       "Name            0.000000\n",
       "Sex             0.000000\n",
       "Age            19.865320\n",
       "SibSp           0.000000\n",
       "Parch           0.000000\n",
       "Ticket          0.000000\n",
       "Fare            0.000000\n",
       "Cabin          77.104377\n",
       "Embarked        0.224467\n",
       "dtype: float64"
      ]
     },
     "execution_count": 7,
     "metadata": {},
     "output_type": "execute_result"
    }
   ],
   "source": [
    "# Missing values\n",
    "(train.isnull().sum()/train.shape[0]) * 100"
   ]
  },
  {
   "cell_type": "markdown",
   "id": "01382395",
   "metadata": {
    "papermill": {
     "duration": 0.011775,
     "end_time": "2022-12-14T15:44:55.084548",
     "exception": false,
     "start_time": "2022-12-14T15:44:55.072773",
     "status": "completed"
    },
    "tags": []
   },
   "source": [
    "### Missing values\n",
    "* Age has **19.8%** missing values.\n",
    "* Cabin has **77%** missing values.\n",
    "* Embarked has **0.22%** missing values"
   ]
  },
  {
   "cell_type": "markdown",
   "id": "446279bf",
   "metadata": {
    "papermill": {
     "duration": 0.011772,
     "end_time": "2022-12-14T15:44:55.108474",
     "exception": false,
     "start_time": "2022-12-14T15:44:55.096702",
     "status": "completed"
    },
    "tags": []
   },
   "source": [
    "# *Data Exploration*\n",
    "Lets combine both datasets since both are similier\n",
    "Below are the steps involved to understand, clean and prepare your data for building your predictive model:\n",
    "\n",
    "* Missing values treatment\n",
    "* Outlier treatment\n",
    "* Variable Identification\n",
    "* Univariate Analysis\n",
    "* Bi-variate Analysis\n",
    "* Variable transformation\n",
    "* Variable creation"
   ]
  },
  {
   "cell_type": "code",
   "execution_count": 8,
   "id": "95b463e3",
   "metadata": {
    "execution": {
     "iopub.execute_input": "2022-12-14T15:44:55.135779Z",
     "iopub.status.busy": "2022-12-14T15:44:55.135358Z",
     "iopub.status.idle": "2022-12-14T15:44:55.148444Z",
     "shell.execute_reply": "2022-12-14T15:44:55.147557Z"
    },
    "papermill": {
     "duration": 0.030001,
     "end_time": "2022-12-14T15:44:55.151158",
     "exception": false,
     "start_time": "2022-12-14T15:44:55.121157",
     "status": "completed"
    },
    "tags": []
   },
   "outputs": [
    {
     "name": "stdout",
     "output_type": "stream",
     "text": [
      "After combining the datasets (row,col):  (1309, 13)\n"
     ]
    }
   ],
   "source": [
    "# Combining Datasets\n",
    "train['source'] = 'train'\n",
    "test['source'] = 'test'\n",
    "data = pd.concat([train, test], ignore_index=True)\n",
    "print('After combining the datasets (row,col): ', data.shape)"
   ]
  },
  {
   "cell_type": "markdown",
   "id": "07f03bce",
   "metadata": {
    "papermill": {
     "duration": 0.012078,
     "end_time": "2022-12-14T15:44:55.175950",
     "exception": false,
     "start_time": "2022-12-14T15:44:55.163872",
     "status": "completed"
    },
    "tags": []
   },
   "source": [
    "* ### Missing Values\n",
    "1. Numeric Values\n",
    "2. Categorial Values"
   ]
  },
  {
   "cell_type": "code",
   "execution_count": 9,
   "id": "89a7380f",
   "metadata": {
    "execution": {
     "iopub.execute_input": "2022-12-14T15:44:55.202827Z",
     "iopub.status.busy": "2022-12-14T15:44:55.202343Z",
     "iopub.status.idle": "2022-12-14T15:44:55.215934Z",
     "shell.execute_reply": "2022-12-14T15:44:55.215020Z"
    },
    "papermill": {
     "duration": 0.029963,
     "end_time": "2022-12-14T15:44:55.218344",
     "exception": false,
     "start_time": "2022-12-14T15:44:55.188381",
     "status": "completed"
    },
    "tags": []
   },
   "outputs": [
    {
     "data": {
      "text/plain": [
       "PassengerId     0.000000\n",
       "Survived       31.932773\n",
       "Pclass          0.000000\n",
       "Name            0.000000\n",
       "Sex             0.000000\n",
       "Age            20.091673\n",
       "SibSp           0.000000\n",
       "Parch           0.000000\n",
       "Ticket          0.000000\n",
       "Fare            0.076394\n",
       "Cabin          77.463713\n",
       "Embarked        0.152788\n",
       "source          0.000000\n",
       "dtype: float64"
      ]
     },
     "execution_count": 9,
     "metadata": {},
     "output_type": "execute_result"
    }
   ],
   "source": [
    "# Fill empty and NaNs values with NaN\n",
    "# Missing values\n",
    "(data.isnull().sum()/data.shape[0]) * 100"
   ]
  },
  {
   "cell_type": "markdown",
   "id": "c68954d6",
   "metadata": {
    "papermill": {
     "duration": 0.013227,
     "end_time": "2022-12-14T15:44:55.244481",
     "exception": false,
     "start_time": "2022-12-14T15:44:55.231254",
     "status": "completed"
    },
    "tags": []
   },
   "source": [
    "* Age here is **continuies value** and also age is corelated with **parch/sibling** and since there is subpopulation in age is **children** having higher chance of **surrvival** we need visulize the age **carefully**."
   ]
  },
  {
   "cell_type": "code",
   "execution_count": 10,
   "id": "0a4858d5",
   "metadata": {
    "execution": {
     "iopub.execute_input": "2022-12-14T15:44:55.271826Z",
     "iopub.status.busy": "2022-12-14T15:44:55.271448Z",
     "iopub.status.idle": "2022-12-14T15:44:55.282643Z",
     "shell.execute_reply": "2022-12-14T15:44:55.281285Z"
    },
    "papermill": {
     "duration": 0.027738,
     "end_time": "2022-12-14T15:44:55.285031",
     "exception": false,
     "start_time": "2022-12-14T15:44:55.257293",
     "status": "completed"
    },
    "tags": []
   },
   "outputs": [
    {
     "data": {
      "text/plain": [
       "count    1046.000000\n",
       "mean       29.881138\n",
       "std        14.413493\n",
       "min         0.170000\n",
       "25%        21.000000\n",
       "50%        28.000000\n",
       "75%        39.000000\n",
       "max        80.000000\n",
       "Name: Age, dtype: float64"
      ]
     },
     "execution_count": 10,
     "metadata": {},
     "output_type": "execute_result"
    }
   ],
   "source": [
    "# Lets deal with Age first\n",
    "data.Age.describe()\n"
   ]
  },
  {
   "cell_type": "code",
   "execution_count": 11,
   "id": "8e23c9e9",
   "metadata": {
    "execution": {
     "iopub.execute_input": "2022-12-14T15:44:55.312206Z",
     "iopub.status.busy": "2022-12-14T15:44:55.311793Z",
     "iopub.status.idle": "2022-12-14T15:44:55.686521Z",
     "shell.execute_reply": "2022-12-14T15:44:55.685080Z"
    },
    "papermill": {
     "duration": 0.391118,
     "end_time": "2022-12-14T15:44:55.689023",
     "exception": false,
     "start_time": "2022-12-14T15:44:55.297905",
     "status": "completed"
    },
    "tags": []
   },
   "outputs": [
    {
     "data": {
      "image/png": "[encoded data removed]",
      "text/plain": [
       "<Figure size 432x288 with 1 Axes>"
      ]
     },
     "metadata": {},
     "output_type": "display_data"
    }
   ],
   "source": [
    "ax = sns.histplot(x=data['Age'], bins=10)"
   ]
  },
  {
   "cell_type": "code",
   "execution_count": 12,
   "id": "2ac803ff",
   "metadata": {
    "execution": {
     "iopub.execute_input": "2022-12-14T15:44:55.719272Z",
     "iopub.status.busy": "2022-12-14T15:44:55.716786Z",
     "iopub.status.idle": "2022-12-14T15:44:57.647724Z",
     "shell.execute_reply": "2022-12-14T15:44:57.646336Z"
    },
    "papermill": {
     "duration": 1.94779,
     "end_time": "2022-12-14T15:44:57.650271",
     "exception": false,
     "start_time": "2022-12-14T15:44:55.702481",
     "status": "completed"
    },
    "tags": []
   },
   "outputs": [
    {
     "data": {
      "image/png": "[encoded data removed]",
      "text/plain": [
       "<Figure size 360x360 with 1 Axes>"
      ]
     },
     "metadata": {},
     "output_type": "display_data"
    },
    {
     "data": {
      "image/png": "[encoded data removed]",
      "text/plain": [
       "<Figure size 406.6x360 with 1 Axes>"
      ]
     },
     "metadata": {},
     "output_type": "display_data"
    },
    {
     "data": {
      "image/png": "[encoded data removed]",
      "text/plain": [
       "<Figure size 360x360 with 1 Axes>"
      ]
     },
     "metadata": {},
     "output_type": "display_data"
    },
    {
     "data": {
      "image/png": "[encoded data removed]",
      "text/plain": [
       "<Figure size 360x360 with 1 Axes>"
      ]
     },
     "metadata": {},
     "output_type": "display_data"
    }
   ],
   "source": [
    "# Explore Age with Sex, Parch, Pclass, SibSp\n",
    "age = sns.catplot(data=data, x='Sex', y='Age', kind='box')\n",
    "age = sns.catplot(data=data, x='Sex', y='Age', hue='Pclass', kind='box')\n",
    "age = sns.catplot(data=data, x='Parch', y='Age', kind='box')\n",
    "age = sns.catplot(data=data, x='SibSp', y='Age', kind='box')"
   ]
  },
  {
   "cell_type": "markdown",
   "id": "59c85149",
   "metadata": {
    "papermill": {
     "duration": 0.014178,
     "end_time": "2022-12-14T15:44:57.679326",
     "exception": false,
     "start_time": "2022-12-14T15:44:57.665148",
     "status": "completed"
    },
    "tags": []
   },
   "source": [
    "## Observations\n",
    "* Age and **Sex** has almost **same distribution**.\n",
    "* **1st class** passenger are **older** then **2nd class**, and 2nd are **older** then **3rd class**.\n",
    "* Person having more **parents/children** are **older**.\n",
    "* Person having more **siblings/spouse** are **younger**."
   ]
  },
  {
   "cell_type": "code",
   "execution_count": 13,
   "id": "2276236d",
   "metadata": {
    "execution": {
     "iopub.execute_input": "2022-12-14T15:44:57.710898Z",
     "iopub.status.busy": "2022-12-14T15:44:57.710358Z",
     "iopub.status.idle": "2022-12-14T15:44:58.091677Z",
     "shell.execute_reply": "2022-12-14T15:44:58.090505Z"
    },
    "papermill": {
     "duration": 0.400311,
     "end_time": "2022-12-14T15:44:58.094193",
     "exception": false,
     "start_time": "2022-12-14T15:44:57.693882",
     "status": "completed"
    },
    "tags": []
   },
   "outputs": [
    {
     "data": {
      "image/png": "[encoded data removed]",
      "text/plain": [
       "<Figure size 432x288 with 2 Axes>"
      ]
     },
     "metadata": {},
     "output_type": "display_data"
    }
   ],
   "source": [
    "# Convert Sex 0, 1 into male female\n",
    "data['Sex'] = data['Sex'].map({'male': 0, 'female': 1})\n",
    "age = sns.heatmap(data=data[['Age','Sex','Pclass', 'Parch', 'SibSp']].corr(), cmap='BuGn' , annot=True)"
   ]
  },
  {
   "cell_type": "markdown",
   "id": "bd8a97a1",
   "metadata": {
    "papermill": {
     "duration": 0.014156,
     "end_time": "2022-12-14T15:44:58.123113",
     "exception": false,
     "start_time": "2022-12-14T15:44:58.108957",
     "status": "completed"
    },
    "tags": []
   },
   "source": [
    "### Observations\n",
    "* Above heatmap **confirms the catplots except Parch**. age is not correlated with sex, But **negativly correlated with Parch, Pclass, SibSp**"
   ]
  },
  {
   "cell_type": "code",
   "execution_count": 14,
   "id": "804c99ba",
   "metadata": {
    "execution": {
     "iopub.execute_input": "2022-12-14T15:44:58.154694Z",
     "iopub.status.busy": "2022-12-14T15:44:58.154022Z",
     "iopub.status.idle": "2022-12-14T15:44:58.165026Z",
     "shell.execute_reply": "2022-12-14T15:44:58.164220Z"
    },
    "papermill": {
     "duration": 0.029499,
     "end_time": "2022-12-14T15:44:58.167360",
     "exception": false,
     "start_time": "2022-12-14T15:44:58.137861",
     "status": "completed"
    },
    "tags": []
   },
   "outputs": [],
   "source": [
    "# Imputate missing values of age with median\n",
    "data['Age'] = data['Age'].fillna(data['Age'].median())\n",
    "\n",
    "# delete cabin data becuase it contains % missing data\n",
    "data = data.drop('Cabin', axis=1)\n",
    "\n",
    "# fill missing values in Embarked with mode\n",
    "data.Embarked = data.Embarked.fillna('S')\n",
    "\n",
    "# Fill missing values in Fare with median\n",
    "data['Fare'] = data['Fare'].fillna(data['Fare'].median())\n"
   ]
  },
  {
   "cell_type": "code",
   "execution_count": 15,
   "id": "eb36b2f4",
   "metadata": {
    "execution": {
     "iopub.execute_input": "2022-12-14T15:44:58.199120Z",
     "iopub.status.busy": "2022-12-14T15:44:58.197900Z",
     "iopub.status.idle": "2022-12-14T15:44:58.210324Z",
     "shell.execute_reply": "2022-12-14T15:44:58.209143Z"
    },
    "papermill": {
     "duration": 0.030874,
     "end_time": "2022-12-14T15:44:58.212934",
     "exception": false,
     "start_time": "2022-12-14T15:44:58.182060",
     "status": "completed"
    },
    "tags": []
   },
   "outputs": [
    {
     "name": "stdout",
     "output_type": "stream",
     "text": [
      "Missing Values afer imputation \n",
      "\n"
     ]
    },
    {
     "data": {
      "text/plain": [
       "PassengerId     0.000000\n",
       "Survived       31.932773\n",
       "Pclass          0.000000\n",
       "Name            0.000000\n",
       "Sex             0.000000\n",
       "Age             0.000000\n",
       "SibSp           0.000000\n",
       "Parch           0.000000\n",
       "Ticket          0.000000\n",
       "Fare            0.000000\n",
       "Embarked        0.000000\n",
       "source          0.000000\n",
       "dtype: float64"
      ]
     },
     "execution_count": 15,
     "metadata": {},
     "output_type": "execute_result"
    }
   ],
   "source": [
    "print('Missing Values afer imputation \\n')\n",
    "(data.isnull().sum()/data.shape[0]) * 100"
   ]
  },
  {
   "cell_type": "markdown",
   "id": "1caa5043",
   "metadata": {
    "papermill": {
     "duration": 0.014185,
     "end_time": "2022-12-14T15:44:58.242212",
     "exception": false,
     "start_time": "2022-12-14T15:44:58.228027",
     "status": "completed"
    },
    "tags": []
   },
   "source": [
    "* ### Outliers"
   ]
  },
  {
   "cell_type": "code",
   "execution_count": 16,
   "id": "afbbdef2",
   "metadata": {
    "execution": {
     "iopub.execute_input": "2022-12-14T15:44:58.274929Z",
     "iopub.status.busy": "2022-12-14T15:44:58.274500Z",
     "iopub.status.idle": "2022-12-14T15:44:58.320771Z",
     "shell.execute_reply": "2022-12-14T15:44:58.318953Z"
    },
    "papermill": {
     "duration": 0.066084,
     "end_time": "2022-12-14T15:44:58.323672",
     "exception": false,
     "start_time": "2022-12-14T15:44:58.257588",
     "status": "completed"
    },
    "tags": []
   },
   "outputs": [
    {
     "name": "stdout",
     "output_type": "stream",
     "text": [
      "Outliers \n",
      "\n",
      "\n"
     ]
    },
    {
     "data": {
      "text/html": [
       "<div>\n",
       "<style scoped>\n",
       "    .dataframe tbody tr th:only-of-type {\n",
       "        vertical-align: middle;\n",
       "    }\n",
       "\n",
       "    .dataframe tbody tr th {\n",
       "        vertical-align: top;\n",
       "    }\n",
       "\n",
       "    .dataframe thead th {\n",
       "        text-align: right;\n",
       "    }\n",
       "</style>\n",
       "<table border=\"1\" class=\"dataframe\">\n",
       "  <thead>\n",
       "    <tr style=\"text-align: right;\">\n",
       "      <th></th>\n",
       "      <th>PassengerId</th>\n",
       "      <th>Survived</th>\n",
       "      <th>Pclass</th>\n",
       "      <th>Name</th>\n",
       "      <th>Sex</th>\n",
       "      <th>Age</th>\n",
       "      <th>SibSp</th>\n",
       "      <th>Parch</th>\n",
       "      <th>Ticket</th>\n",
       "      <th>Fare</th>\n",
       "      <th>Embarked</th>\n",
       "      <th>source</th>\n",
       "    </tr>\n",
       "  </thead>\n",
       "  <tbody>\n",
       "    <tr>\n",
       "      <th>7</th>\n",
       "      <td>8</td>\n",
       "      <td>0.0</td>\n",
       "      <td>3</td>\n",
       "      <td>Palsson, Master. Gosta Leonard</td>\n",
       "      <td>0</td>\n",
       "      <td>2.00</td>\n",
       "      <td>3</td>\n",
       "      <td>1</td>\n",
       "      <td>349909</td>\n",
       "      <td>21.0750</td>\n",
       "      <td>S</td>\n",
       "      <td>train</td>\n",
       "    </tr>\n",
       "    <tr>\n",
       "      <th>16</th>\n",
       "      <td>17</td>\n",
       "      <td>0.0</td>\n",
       "      <td>3</td>\n",
       "      <td>Rice, Master. Eugene</td>\n",
       "      <td>0</td>\n",
       "      <td>2.00</td>\n",
       "      <td>4</td>\n",
       "      <td>1</td>\n",
       "      <td>382652</td>\n",
       "      <td>29.1250</td>\n",
       "      <td>Q</td>\n",
       "      <td>train</td>\n",
       "    </tr>\n",
       "    <tr>\n",
       "      <th>119</th>\n",
       "      <td>120</td>\n",
       "      <td>0.0</td>\n",
       "      <td>3</td>\n",
       "      <td>Andersson, Miss. Ellis Anna Maria</td>\n",
       "      <td>1</td>\n",
       "      <td>2.00</td>\n",
       "      <td>4</td>\n",
       "      <td>2</td>\n",
       "      <td>347082</td>\n",
       "      <td>31.2750</td>\n",
       "      <td>S</td>\n",
       "      <td>train</td>\n",
       "    </tr>\n",
       "    <tr>\n",
       "      <th>164</th>\n",
       "      <td>165</td>\n",
       "      <td>0.0</td>\n",
       "      <td>3</td>\n",
       "      <td>Panula, Master. Eino Viljami</td>\n",
       "      <td>0</td>\n",
       "      <td>1.00</td>\n",
       "      <td>4</td>\n",
       "      <td>1</td>\n",
       "      <td>3101295</td>\n",
       "      <td>39.6875</td>\n",
       "      <td>S</td>\n",
       "      <td>train</td>\n",
       "    </tr>\n",
       "    <tr>\n",
       "      <th>268</th>\n",
       "      <td>269</td>\n",
       "      <td>1.0</td>\n",
       "      <td>1</td>\n",
       "      <td>Graham, Mrs. William Thompson (Edith Junkins)</td>\n",
       "      <td>1</td>\n",
       "      <td>58.00</td>\n",
       "      <td>0</td>\n",
       "      <td>1</td>\n",
       "      <td>PC 17582</td>\n",
       "      <td>153.4625</td>\n",
       "      <td>S</td>\n",
       "      <td>train</td>\n",
       "    </tr>\n",
       "    <tr>\n",
       "      <th>297</th>\n",
       "      <td>298</td>\n",
       "      <td>0.0</td>\n",
       "      <td>1</td>\n",
       "      <td>Allison, Miss. Helen Loraine</td>\n",
       "      <td>1</td>\n",
       "      <td>2.00</td>\n",
       "      <td>1</td>\n",
       "      <td>2</td>\n",
       "      <td>113781</td>\n",
       "      <td>151.5500</td>\n",
       "      <td>S</td>\n",
       "      <td>train</td>\n",
       "    </tr>\n",
       "    <tr>\n",
       "      <th>305</th>\n",
       "      <td>306</td>\n",
       "      <td>1.0</td>\n",
       "      <td>1</td>\n",
       "      <td>Allison, Master. Hudson Trevor</td>\n",
       "      <td>0</td>\n",
       "      <td>0.92</td>\n",
       "      <td>1</td>\n",
       "      <td>2</td>\n",
       "      <td>113781</td>\n",
       "      <td>151.5500</td>\n",
       "      <td>S</td>\n",
       "      <td>train</td>\n",
       "    </tr>\n",
       "    <tr>\n",
       "      <th>386</th>\n",
       "      <td>387</td>\n",
       "      <td>0.0</td>\n",
       "      <td>3</td>\n",
       "      <td>Goodwin, Master. Sidney Leonard</td>\n",
       "      <td>0</td>\n",
       "      <td>1.00</td>\n",
       "      <td>5</td>\n",
       "      <td>2</td>\n",
       "      <td>CA 2144</td>\n",
       "      <td>46.9000</td>\n",
       "      <td>S</td>\n",
       "      <td>train</td>\n",
       "    </tr>\n",
       "    <tr>\n",
       "      <th>438</th>\n",
       "      <td>439</td>\n",
       "      <td>0.0</td>\n",
       "      <td>1</td>\n",
       "      <td>Fortune, Mr. Mark</td>\n",
       "      <td>0</td>\n",
       "      <td>64.00</td>\n",
       "      <td>1</td>\n",
       "      <td>4</td>\n",
       "      <td>19950</td>\n",
       "      <td>263.0000</td>\n",
       "      <td>S</td>\n",
       "      <td>train</td>\n",
       "    </tr>\n",
       "    <tr>\n",
       "      <th>587</th>\n",
       "      <td>588</td>\n",
       "      <td>1.0</td>\n",
       "      <td>1</td>\n",
       "      <td>Frolicher-Stehli, Mr. Maxmillian</td>\n",
       "      <td>0</td>\n",
       "      <td>60.00</td>\n",
       "      <td>1</td>\n",
       "      <td>1</td>\n",
       "      <td>13567</td>\n",
       "      <td>79.2000</td>\n",
       "      <td>C</td>\n",
       "      <td>train</td>\n",
       "    </tr>\n",
       "    <tr>\n",
       "      <th>642</th>\n",
       "      <td>643</td>\n",
       "      <td>0.0</td>\n",
       "      <td>3</td>\n",
       "      <td>Skoog, Miss. Margit Elizabeth</td>\n",
       "      <td>1</td>\n",
       "      <td>2.00</td>\n",
       "      <td>3</td>\n",
       "      <td>2</td>\n",
       "      <td>347088</td>\n",
       "      <td>27.9000</td>\n",
       "      <td>S</td>\n",
       "      <td>train</td>\n",
       "    </tr>\n",
       "    <tr>\n",
       "      <th>659</th>\n",
       "      <td>660</td>\n",
       "      <td>0.0</td>\n",
       "      <td>1</td>\n",
       "      <td>Newell, Mr. Arthur Webster</td>\n",
       "      <td>0</td>\n",
       "      <td>58.00</td>\n",
       "      <td>0</td>\n",
       "      <td>2</td>\n",
       "      <td>35273</td>\n",
       "      <td>113.2750</td>\n",
       "      <td>C</td>\n",
       "      <td>train</td>\n",
       "    </tr>\n",
       "    <tr>\n",
       "      <th>745</th>\n",
       "      <td>746</td>\n",
       "      <td>0.0</td>\n",
       "      <td>1</td>\n",
       "      <td>Crosby, Capt. Edward Gifford</td>\n",
       "      <td>0</td>\n",
       "      <td>70.00</td>\n",
       "      <td>1</td>\n",
       "      <td>1</td>\n",
       "      <td>WE/P 5735</td>\n",
       "      <td>71.0000</td>\n",
       "      <td>S</td>\n",
       "      <td>train</td>\n",
       "    </tr>\n",
       "    <tr>\n",
       "      <th>824</th>\n",
       "      <td>825</td>\n",
       "      <td>0.0</td>\n",
       "      <td>3</td>\n",
       "      <td>Panula, Master. Urho Abraham</td>\n",
       "      <td>0</td>\n",
       "      <td>2.00</td>\n",
       "      <td>4</td>\n",
       "      <td>1</td>\n",
       "      <td>3101295</td>\n",
       "      <td>39.6875</td>\n",
       "      <td>S</td>\n",
       "      <td>train</td>\n",
       "    </tr>\n",
       "    <tr>\n",
       "      <th>879</th>\n",
       "      <td>880</td>\n",
       "      <td>1.0</td>\n",
       "      <td>1</td>\n",
       "      <td>Potter, Mrs. Thomas Jr (Lily Alexenia Wilson)</td>\n",
       "      <td>1</td>\n",
       "      <td>56.00</td>\n",
       "      <td>0</td>\n",
       "      <td>1</td>\n",
       "      <td>11767</td>\n",
       "      <td>83.1583</td>\n",
       "      <td>C</td>\n",
       "      <td>train</td>\n",
       "    </tr>\n",
       "    <tr>\n",
       "      <th>960</th>\n",
       "      <td>961</td>\n",
       "      <td>NaN</td>\n",
       "      <td>1</td>\n",
       "      <td>Fortune, Mrs. Mark (Mary McDougald)</td>\n",
       "      <td>1</td>\n",
       "      <td>60.00</td>\n",
       "      <td>1</td>\n",
       "      <td>4</td>\n",
       "      <td>19950</td>\n",
       "      <td>263.0000</td>\n",
       "      <td>S</td>\n",
       "      <td>test</td>\n",
       "    </tr>\n",
       "    <tr>\n",
       "      <th>1033</th>\n",
       "      <td>1034</td>\n",
       "      <td>NaN</td>\n",
       "      <td>1</td>\n",
       "      <td>Ryerson, Mr. Arthur Larned</td>\n",
       "      <td>0</td>\n",
       "      <td>61.00</td>\n",
       "      <td>1</td>\n",
       "      <td>3</td>\n",
       "      <td>PC 17608</td>\n",
       "      <td>262.3750</td>\n",
       "      <td>C</td>\n",
       "      <td>test</td>\n",
       "    </tr>\n",
       "    <tr>\n",
       "      <th>1070</th>\n",
       "      <td>1071</td>\n",
       "      <td>NaN</td>\n",
       "      <td>1</td>\n",
       "      <td>Compton, Mrs. Alexander Taylor (Mary Eliza Ing...</td>\n",
       "      <td>1</td>\n",
       "      <td>64.00</td>\n",
       "      <td>0</td>\n",
       "      <td>2</td>\n",
       "      <td>PC 17756</td>\n",
       "      <td>83.1583</td>\n",
       "      <td>C</td>\n",
       "      <td>test</td>\n",
       "    </tr>\n",
       "    <tr>\n",
       "      <th>1108</th>\n",
       "      <td>1109</td>\n",
       "      <td>NaN</td>\n",
       "      <td>1</td>\n",
       "      <td>Wick, Mr. George Dennick</td>\n",
       "      <td>0</td>\n",
       "      <td>57.00</td>\n",
       "      <td>1</td>\n",
       "      <td>1</td>\n",
       "      <td>36928</td>\n",
       "      <td>164.8667</td>\n",
       "      <td>S</td>\n",
       "      <td>test</td>\n",
       "    </tr>\n",
       "    <tr>\n",
       "      <th>1199</th>\n",
       "      <td>1200</td>\n",
       "      <td>NaN</td>\n",
       "      <td>1</td>\n",
       "      <td>Hays, Mr. Charles Melville</td>\n",
       "      <td>0</td>\n",
       "      <td>55.00</td>\n",
       "      <td>1</td>\n",
       "      <td>1</td>\n",
       "      <td>12749</td>\n",
       "      <td>93.5000</td>\n",
       "      <td>S</td>\n",
       "      <td>test</td>\n",
       "    </tr>\n",
       "    <tr>\n",
       "      <th>1234</th>\n",
       "      <td>1235</td>\n",
       "      <td>NaN</td>\n",
       "      <td>1</td>\n",
       "      <td>Cardeza, Mrs. James Warburton Martinez (Charlo...</td>\n",
       "      <td>1</td>\n",
       "      <td>58.00</td>\n",
       "      <td>0</td>\n",
       "      <td>1</td>\n",
       "      <td>PC 17755</td>\n",
       "      <td>512.3292</td>\n",
       "      <td>C</td>\n",
       "      <td>test</td>\n",
       "    </tr>\n",
       "    <tr>\n",
       "      <th>27</th>\n",
       "      <td>28</td>\n",
       "      <td>0.0</td>\n",
       "      <td>1</td>\n",
       "      <td>Fortune, Mr. Charles Alexander</td>\n",
       "      <td>0</td>\n",
       "      <td>19.00</td>\n",
       "      <td>3</td>\n",
       "      <td>2</td>\n",
       "      <td>19950</td>\n",
       "      <td>263.0000</td>\n",
       "      <td>S</td>\n",
       "      <td>train</td>\n",
       "    </tr>\n",
       "    <tr>\n",
       "      <th>88</th>\n",
       "      <td>89</td>\n",
       "      <td>1.0</td>\n",
       "      <td>1</td>\n",
       "      <td>Fortune, Miss. Mabel Helen</td>\n",
       "      <td>1</td>\n",
       "      <td>23.00</td>\n",
       "      <td>3</td>\n",
       "      <td>2</td>\n",
       "      <td>19950</td>\n",
       "      <td>263.0000</td>\n",
       "      <td>S</td>\n",
       "      <td>train</td>\n",
       "    </tr>\n",
       "    <tr>\n",
       "      <th>159</th>\n",
       "      <td>160</td>\n",
       "      <td>0.0</td>\n",
       "      <td>3</td>\n",
       "      <td>Sage, Master. Thomas Henry</td>\n",
       "      <td>0</td>\n",
       "      <td>28.00</td>\n",
       "      <td>8</td>\n",
       "      <td>2</td>\n",
       "      <td>CA. 2343</td>\n",
       "      <td>69.5500</td>\n",
       "      <td>S</td>\n",
       "      <td>train</td>\n",
       "    </tr>\n",
       "    <tr>\n",
       "      <th>180</th>\n",
       "      <td>181</td>\n",
       "      <td>0.0</td>\n",
       "      <td>3</td>\n",
       "      <td>Sage, Miss. Constance Gladys</td>\n",
       "      <td>1</td>\n",
       "      <td>28.00</td>\n",
       "      <td>8</td>\n",
       "      <td>2</td>\n",
       "      <td>CA. 2343</td>\n",
       "      <td>69.5500</td>\n",
       "      <td>S</td>\n",
       "      <td>train</td>\n",
       "    </tr>\n",
       "    <tr>\n",
       "      <th>201</th>\n",
       "      <td>202</td>\n",
       "      <td>0.0</td>\n",
       "      <td>3</td>\n",
       "      <td>Sage, Mr. Frederick</td>\n",
       "      <td>0</td>\n",
       "      <td>28.00</td>\n",
       "      <td>8</td>\n",
       "      <td>2</td>\n",
       "      <td>CA. 2343</td>\n",
       "      <td>69.5500</td>\n",
       "      <td>S</td>\n",
       "      <td>train</td>\n",
       "    </tr>\n",
       "    <tr>\n",
       "      <th>324</th>\n",
       "      <td>325</td>\n",
       "      <td>0.0</td>\n",
       "      <td>3</td>\n",
       "      <td>Sage, Mr. George John Jr</td>\n",
       "      <td>0</td>\n",
       "      <td>28.00</td>\n",
       "      <td>8</td>\n",
       "      <td>2</td>\n",
       "      <td>CA. 2343</td>\n",
       "      <td>69.5500</td>\n",
       "      <td>S</td>\n",
       "      <td>train</td>\n",
       "    </tr>\n",
       "    <tr>\n",
       "      <th>341</th>\n",
       "      <td>342</td>\n",
       "      <td>1.0</td>\n",
       "      <td>1</td>\n",
       "      <td>Fortune, Miss. Alice Elizabeth</td>\n",
       "      <td>1</td>\n",
       "      <td>24.00</td>\n",
       "      <td>3</td>\n",
       "      <td>2</td>\n",
       "      <td>19950</td>\n",
       "      <td>263.0000</td>\n",
       "      <td>S</td>\n",
       "      <td>train</td>\n",
       "    </tr>\n",
       "    <tr>\n",
       "      <th>792</th>\n",
       "      <td>793</td>\n",
       "      <td>0.0</td>\n",
       "      <td>3</td>\n",
       "      <td>Sage, Miss. Stella Anna</td>\n",
       "      <td>1</td>\n",
       "      <td>28.00</td>\n",
       "      <td>8</td>\n",
       "      <td>2</td>\n",
       "      <td>CA. 2343</td>\n",
       "      <td>69.5500</td>\n",
       "      <td>S</td>\n",
       "      <td>train</td>\n",
       "    </tr>\n",
       "    <tr>\n",
       "      <th>846</th>\n",
       "      <td>847</td>\n",
       "      <td>0.0</td>\n",
       "      <td>3</td>\n",
       "      <td>Sage, Mr. Douglas Bullen</td>\n",
       "      <td>0</td>\n",
       "      <td>28.00</td>\n",
       "      <td>8</td>\n",
       "      <td>2</td>\n",
       "      <td>CA. 2343</td>\n",
       "      <td>69.5500</td>\n",
       "      <td>S</td>\n",
       "      <td>train</td>\n",
       "    </tr>\n",
       "    <tr>\n",
       "      <th>863</th>\n",
       "      <td>864</td>\n",
       "      <td>0.0</td>\n",
       "      <td>3</td>\n",
       "      <td>Sage, Miss. Dorothy Edith \"Dolly\"</td>\n",
       "      <td>1</td>\n",
       "      <td>28.00</td>\n",
       "      <td>8</td>\n",
       "      <td>2</td>\n",
       "      <td>CA. 2343</td>\n",
       "      <td>69.5500</td>\n",
       "      <td>S</td>\n",
       "      <td>train</td>\n",
       "    </tr>\n",
       "    <tr>\n",
       "      <th>944</th>\n",
       "      <td>945</td>\n",
       "      <td>NaN</td>\n",
       "      <td>1</td>\n",
       "      <td>Fortune, Miss. Ethel Flora</td>\n",
       "      <td>1</td>\n",
       "      <td>28.00</td>\n",
       "      <td>3</td>\n",
       "      <td>2</td>\n",
       "      <td>19950</td>\n",
       "      <td>263.0000</td>\n",
       "      <td>S</td>\n",
       "      <td>test</td>\n",
       "    </tr>\n",
       "    <tr>\n",
       "      <th>1079</th>\n",
       "      <td>1080</td>\n",
       "      <td>NaN</td>\n",
       "      <td>3</td>\n",
       "      <td>Sage, Miss. Ada</td>\n",
       "      <td>1</td>\n",
       "      <td>28.00</td>\n",
       "      <td>8</td>\n",
       "      <td>2</td>\n",
       "      <td>CA. 2343</td>\n",
       "      <td>69.5500</td>\n",
       "      <td>S</td>\n",
       "      <td>test</td>\n",
       "    </tr>\n",
       "    <tr>\n",
       "      <th>1251</th>\n",
       "      <td>1252</td>\n",
       "      <td>NaN</td>\n",
       "      <td>3</td>\n",
       "      <td>Sage, Master. William Henry</td>\n",
       "      <td>0</td>\n",
       "      <td>14.50</td>\n",
       "      <td>8</td>\n",
       "      <td>2</td>\n",
       "      <td>CA. 2343</td>\n",
       "      <td>69.5500</td>\n",
       "      <td>S</td>\n",
       "      <td>test</td>\n",
       "    </tr>\n",
       "  </tbody>\n",
       "</table>\n",
       "</div>"
      ],
      "text/plain": [
       "      PassengerId  Survived  Pclass  \\\n",
       "7               8       0.0       3   \n",
       "16             17       0.0       3   \n",
       "119           120       0.0       3   \n",
       "164           165       0.0       3   \n",
       "268           269       1.0       1   \n",
       "297           298       0.0       1   \n",
       "305           306       1.0       1   \n",
       "386           387       0.0       3   \n",
       "438           439       0.0       1   \n",
       "587           588       1.0       1   \n",
       "642           643       0.0       3   \n",
       "659           660       0.0       1   \n",
       "745           746       0.0       1   \n",
       "824           825       0.0       3   \n",
       "879           880       1.0       1   \n",
       "960           961       NaN       1   \n",
       "1033         1034       NaN       1   \n",
       "1070         1071       NaN       1   \n",
       "1108         1109       NaN       1   \n",
       "1199         1200       NaN       1   \n",
       "1234         1235       NaN       1   \n",
       "27             28       0.0       1   \n",
       "88             89       1.0       1   \n",
       "159           160       0.0       3   \n",
       "180           181       0.0       3   \n",
       "201           202       0.0       3   \n",
       "324           325       0.0       3   \n",
       "341           342       1.0       1   \n",
       "792           793       0.0       3   \n",
       "846           847       0.0       3   \n",
       "863           864       0.0       3   \n",
       "944           945       NaN       1   \n",
       "1079         1080       NaN       3   \n",
       "1251         1252       NaN       3   \n",
       "\n",
       "                                                   Name  Sex    Age  SibSp  \\\n",
       "7                        Palsson, Master. Gosta Leonard    0   2.00      3   \n",
       "16                                 Rice, Master. Eugene    0   2.00      4   \n",
       "119                   Andersson, Miss. Ellis Anna Maria    1   2.00      4   \n",
       "164                        Panula, Master. Eino Viljami    0   1.00      4   \n",
       "268       Graham, Mrs. William Thompson (Edith Junkins)    1  58.00      0   \n",
       "297                        Allison, Miss. Helen Loraine    1   2.00      1   \n",
       "305                      Allison, Master. Hudson Trevor    0   0.92      1   \n",
       "386                     Goodwin, Master. Sidney Leonard    0   1.00      5   \n",
       "438                                   Fortune, Mr. Mark    0  64.00      1   \n",
       "587                    Frolicher-Stehli, Mr. Maxmillian    0  60.00      1   \n",
       "642                       Skoog, Miss. Margit Elizabeth    1   2.00      3   \n",
       "659                          Newell, Mr. Arthur Webster    0  58.00      0   \n",
       "745                        Crosby, Capt. Edward Gifford    0  70.00      1   \n",
       "824                        Panula, Master. Urho Abraham    0   2.00      4   \n",
       "879       Potter, Mrs. Thomas Jr (Lily Alexenia Wilson)    1  56.00      0   \n",
       "960                 Fortune, Mrs. Mark (Mary McDougald)    1  60.00      1   \n",
       "1033                         Ryerson, Mr. Arthur Larned    0  61.00      1   \n",
       "1070  Compton, Mrs. Alexander Taylor (Mary Eliza Ing...    1  64.00      0   \n",
       "1108                           Wick, Mr. George Dennick    0  57.00      1   \n",
       "1199                         Hays, Mr. Charles Melville    0  55.00      1   \n",
       "1234  Cardeza, Mrs. James Warburton Martinez (Charlo...    1  58.00      0   \n",
       "27                       Fortune, Mr. Charles Alexander    0  19.00      3   \n",
       "88                           Fortune, Miss. Mabel Helen    1  23.00      3   \n",
       "159                          Sage, Master. Thomas Henry    0  28.00      8   \n",
       "180                        Sage, Miss. Constance Gladys    1  28.00      8   \n",
       "201                                 Sage, Mr. Frederick    0  28.00      8   \n",
       "324                            Sage, Mr. George John Jr    0  28.00      8   \n",
       "341                      Fortune, Miss. Alice Elizabeth    1  24.00      3   \n",
       "792                             Sage, Miss. Stella Anna    1  28.00      8   \n",
       "846                            Sage, Mr. Douglas Bullen    0  28.00      8   \n",
       "863                   Sage, Miss. Dorothy Edith \"Dolly\"    1  28.00      8   \n",
       "944                          Fortune, Miss. Ethel Flora    1  28.00      3   \n",
       "1079                                    Sage, Miss. Ada    1  28.00      8   \n",
       "1251                        Sage, Master. William Henry    0  14.50      8   \n",
       "\n",
       "      Parch     Ticket      Fare Embarked source  \n",
       "7         1     349909   21.0750        S  train  \n",
       "16        1     382652   29.1250        Q  train  \n",
       "119       2     347082   31.2750        S  train  \n",
       "164       1    3101295   39.6875        S  train  \n",
       "268       1   PC 17582  153.4625        S  train  \n",
       "297       2     113781  151.5500        S  train  \n",
       "305       2     113781  151.5500        S  train  \n",
       "386       2    CA 2144   46.9000        S  train  \n",
       "438       4      19950  263.0000        S  train  \n",
       "587       1      13567   79.2000        C  train  \n",
       "642       2     347088   27.9000        S  train  \n",
       "659       2      35273  113.2750        C  train  \n",
       "745       1  WE/P 5735   71.0000        S  train  \n",
       "824       1    3101295   39.6875        S  train  \n",
       "879       1      11767   83.1583        C  train  \n",
       "960       4      19950  263.0000        S   test  \n",
       "1033      3   PC 17608  262.3750        C   test  \n",
       "1070      2   PC 17756   83.1583        C   test  \n",
       "1108      1      36928  164.8667        S   test  \n",
       "1199      1      12749   93.5000        S   test  \n",
       "1234      1   PC 17755  512.3292        C   test  \n",
       "27        2      19950  263.0000        S  train  \n",
       "88        2      19950  263.0000        S  train  \n",
       "159       2   CA. 2343   69.5500        S  train  \n",
       "180       2   CA. 2343   69.5500        S  train  \n",
       "201       2   CA. 2343   69.5500        S  train  \n",
       "324       2   CA. 2343   69.5500        S  train  \n",
       "341       2      19950  263.0000        S  train  \n",
       "792       2   CA. 2343   69.5500        S  train  \n",
       "846       2   CA. 2343   69.5500        S  train  \n",
       "863       2   CA. 2343   69.5500        S  train  \n",
       "944       2      19950  263.0000        S   test  \n",
       "1079      2   CA. 2343   69.5500        S   test  \n",
       "1251      2   CA. 2343   69.5500        S   test  "
      ]
     },
     "execution_count": 16,
     "metadata": {},
     "output_type": "execute_result"
    }
   ],
   "source": [
    "# Outlier detection \n",
    "\n",
    "def detect_outliers(df,n,features):\n",
    "    \"\"\"\n",
    "    Takes a dataframe df of features and returns a list of the indices\n",
    "    corresponding to the observations containing more than n outliers according\n",
    "    to the Tukey method.\n",
    "    \"\"\"\n",
    "    outlier_indices = []\n",
    "    \n",
    "    # iterate over features(columns)\n",
    "    for col in features:\n",
    "        # 1st quartile (25%)\n",
    "        Q1 = np.percentile(df[col], 25)\n",
    "        # 3rd quartile (75%)\n",
    "        Q3 = np.percentile(df[col],75)\n",
    "        # Interquartile range (IQR)\n",
    "        IQR = Q3 - Q1\n",
    "        \n",
    "        # outlier step\n",
    "        outlier_step = 1.5 * IQR\n",
    "        \n",
    "        # Determine a list of indices of outliers for feature col\n",
    "        outlier_list_col = df[(df[col] < Q1 - outlier_step) | (df[col] > Q3 + outlier_step )].index\n",
    "        \n",
    "        # append the found outlier indices for col to the list of outlier indices \n",
    "        outlier_indices.extend(outlier_list_col)\n",
    "        \n",
    "    # select observations containing more than 2 outliers\n",
    "    outlier_indices = Counter(outlier_indices)        \n",
    "    multiple_outliers = list( k for k, v in outlier_indices.items() if v > n )\n",
    "    return multiple_outliers\n",
    "\n",
    "# detect outliers from Age, SibSp , Parch and Fare\n",
    "Outliers_to_drop = detect_outliers(data,2,[\"Age\",\"SibSp\",\"Parch\",\"Fare\"])\n",
    "\n",
    "#  Show the outliers rows\n",
    "print(\"Outliers \\n\\n\")\n",
    "data.loc[Outliers_to_drop]\n",
    "#  Show the outliers rows"
   ]
  },
  {
   "cell_type": "code",
   "execution_count": 17,
   "id": "b529c5f0",
   "metadata": {
    "execution": {
     "iopub.execute_input": "2022-12-14T15:44:58.359096Z",
     "iopub.status.busy": "2022-12-14T15:44:58.358663Z",
     "iopub.status.idle": "2022-12-14T15:44:58.365828Z",
     "shell.execute_reply": "2022-12-14T15:44:58.364643Z"
    },
    "papermill": {
     "duration": 0.028138,
     "end_time": "2022-12-14T15:44:58.368502",
     "exception": false,
     "start_time": "2022-12-14T15:44:58.340364",
     "status": "completed"
    },
    "tags": []
   },
   "outputs": [],
   "source": [
    "# Drop outliers\n",
    "data = data.drop(Outliers_to_drop, axis = 0).reset_index(drop=True)"
   ]
  },
  {
   "cell_type": "code",
   "execution_count": 18,
   "id": "a097fa06",
   "metadata": {
    "execution": {
     "iopub.execute_input": "2022-12-14T15:44:58.406397Z",
     "iopub.status.busy": "2022-12-14T15:44:58.406022Z",
     "iopub.status.idle": "2022-12-14T15:44:58.424599Z",
     "shell.execute_reply": "2022-12-14T15:44:58.422970Z"
    },
    "papermill": {
     "duration": 0.041256,
     "end_time": "2022-12-14T15:44:58.427639",
     "exception": false,
     "start_time": "2022-12-14T15:44:58.386383",
     "status": "completed"
    },
    "tags": []
   },
   "outputs": [
    {
     "data": {
      "text/html": [
       "<div>\n",
       "<style scoped>\n",
       "    .dataframe tbody tr th:only-of-type {\n",
       "        vertical-align: middle;\n",
       "    }\n",
       "\n",
       "    .dataframe tbody tr th {\n",
       "        vertical-align: top;\n",
       "    }\n",
       "\n",
       "    .dataframe thead th {\n",
       "        text-align: right;\n",
       "    }\n",
       "</style>\n",
       "<table border=\"1\" class=\"dataframe\">\n",
       "  <thead>\n",
       "    <tr style=\"text-align: right;\">\n",
       "      <th></th>\n",
       "      <th>PassengerId</th>\n",
       "      <th>Survived</th>\n",
       "      <th>Pclass</th>\n",
       "      <th>Name</th>\n",
       "      <th>Sex</th>\n",
       "      <th>Age</th>\n",
       "      <th>SibSp</th>\n",
       "      <th>Parch</th>\n",
       "      <th>Ticket</th>\n",
       "      <th>Fare</th>\n",
       "      <th>Embarked</th>\n",
       "      <th>source</th>\n",
       "    </tr>\n",
       "  </thead>\n",
       "  <tbody>\n",
       "    <tr>\n",
       "      <th>0</th>\n",
       "      <td>1</td>\n",
       "      <td>0.0</td>\n",
       "      <td>3</td>\n",
       "      <td>Braund, Mr. Owen Harris</td>\n",
       "      <td>0</td>\n",
       "      <td>22.0</td>\n",
       "      <td>1</td>\n",
       "      <td>0</td>\n",
       "      <td>A/5 21171</td>\n",
       "      <td>7.2500</td>\n",
       "      <td>S</td>\n",
       "      <td>train</td>\n",
       "    </tr>\n",
       "    <tr>\n",
       "      <th>1</th>\n",
       "      <td>2</td>\n",
       "      <td>1.0</td>\n",
       "      <td>1</td>\n",
       "      <td>Cumings, Mrs. John Bradley (Florence Briggs Th...</td>\n",
       "      <td>1</td>\n",
       "      <td>38.0</td>\n",
       "      <td>1</td>\n",
       "      <td>0</td>\n",
       "      <td>PC 17599</td>\n",
       "      <td>71.2833</td>\n",
       "      <td>C</td>\n",
       "      <td>train</td>\n",
       "    </tr>\n",
       "    <tr>\n",
       "      <th>2</th>\n",
       "      <td>3</td>\n",
       "      <td>1.0</td>\n",
       "      <td>3</td>\n",
       "      <td>Heikkinen, Miss. Laina</td>\n",
       "      <td>1</td>\n",
       "      <td>26.0</td>\n",
       "      <td>0</td>\n",
       "      <td>0</td>\n",
       "      <td>STON/O2. 3101282</td>\n",
       "      <td>7.9250</td>\n",
       "      <td>S</td>\n",
       "      <td>train</td>\n",
       "    </tr>\n",
       "    <tr>\n",
       "      <th>3</th>\n",
       "      <td>4</td>\n",
       "      <td>1.0</td>\n",
       "      <td>1</td>\n",
       "      <td>Futrelle, Mrs. Jacques Heath (Lily May Peel)</td>\n",
       "      <td>1</td>\n",
       "      <td>35.0</td>\n",
       "      <td>1</td>\n",
       "      <td>0</td>\n",
       "      <td>113803</td>\n",
       "      <td>53.1000</td>\n",
       "      <td>S</td>\n",
       "      <td>train</td>\n",
       "    </tr>\n",
       "    <tr>\n",
       "      <th>4</th>\n",
       "      <td>5</td>\n",
       "      <td>0.0</td>\n",
       "      <td>3</td>\n",
       "      <td>Allen, Mr. William Henry</td>\n",
       "      <td>0</td>\n",
       "      <td>35.0</td>\n",
       "      <td>0</td>\n",
       "      <td>0</td>\n",
       "      <td>373450</td>\n",
       "      <td>8.0500</td>\n",
       "      <td>S</td>\n",
       "      <td>train</td>\n",
       "    </tr>\n",
       "  </tbody>\n",
       "</table>\n",
       "</div>"
      ],
      "text/plain": [
       "   PassengerId  Survived  Pclass  \\\n",
       "0            1       0.0       3   \n",
       "1            2       1.0       1   \n",
       "2            3       1.0       3   \n",
       "3            4       1.0       1   \n",
       "4            5       0.0       3   \n",
       "\n",
       "                                                Name  Sex   Age  SibSp  Parch  \\\n",
       "0                            Braund, Mr. Owen Harris    0  22.0      1      0   \n",
       "1  Cumings, Mrs. John Bradley (Florence Briggs Th...    1  38.0      1      0   \n",
       "2                             Heikkinen, Miss. Laina    1  26.0      0      0   \n",
       "3       Futrelle, Mrs. Jacques Heath (Lily May Peel)    1  35.0      1      0   \n",
       "4                           Allen, Mr. William Henry    0  35.0      0      0   \n",
       "\n",
       "             Ticket     Fare Embarked source  \n",
       "0         A/5 21171   7.2500        S  train  \n",
       "1          PC 17599  71.2833        C  train  \n",
       "2  STON/O2. 3101282   7.9250        S  train  \n",
       "3            113803  53.1000        S  train  \n",
       "4            373450   8.0500        S  train  "
      ]
     },
     "execution_count": 18,
     "metadata": {},
     "output_type": "execute_result"
    }
   ],
   "source": [
    "data.head()"
   ]
  },
  {
   "cell_type": "markdown",
   "id": "f2c40798",
   "metadata": {
    "papermill": {
     "duration": 0.016218,
     "end_time": "2022-12-14T15:44:58.460201",
     "exception": false,
     "start_time": "2022-12-14T15:44:58.443983",
     "status": "completed"
    },
    "tags": []
   },
   "source": [
    "#### Veriable Identification\n",
    "* Numeric Data\n",
    "* Categorical Data"
   ]
  },
  {
   "cell_type": "code",
   "execution_count": 19,
   "id": "1b9d75e7",
   "metadata": {
    "execution": {
     "iopub.execute_input": "2022-12-14T15:44:58.495708Z",
     "iopub.status.busy": "2022-12-14T15:44:58.494790Z",
     "iopub.status.idle": "2022-12-14T15:44:58.504305Z",
     "shell.execute_reply": "2022-12-14T15:44:58.503131Z"
    },
    "papermill": {
     "duration": 0.030291,
     "end_time": "2022-12-14T15:44:58.507093",
     "exception": false,
     "start_time": "2022-12-14T15:44:58.476802",
     "status": "completed"
    },
    "tags": []
   },
   "outputs": [],
   "source": [
    "# assign male and female to 0,1 in Sex\n",
    "data['Sex'] = data['Sex'].map({0:'male', 1:'female'})\n",
    "\n",
    "# assign 1st, 2nd, 3rd class to Pclass\n",
    "data['Pclass'] = data['Pclass'].map({1:'Upper', 2:'Middle', 3:'Lower'})"
   ]
  },
  {
   "cell_type": "code",
   "execution_count": 20,
   "id": "def41e76",
   "metadata": {
    "execution": {
     "iopub.execute_input": "2022-12-14T15:44:58.543217Z",
     "iopub.status.busy": "2022-12-14T15:44:58.542688Z",
     "iopub.status.idle": "2022-12-14T15:44:58.553291Z",
     "shell.execute_reply": "2022-12-14T15:44:58.551727Z"
    },
    "papermill": {
     "duration": 0.030967,
     "end_time": "2022-12-14T15:44:58.555549",
     "exception": false,
     "start_time": "2022-12-14T15:44:58.524582",
     "status": "completed"
    },
    "tags": []
   },
   "outputs": [],
   "source": [
    "# Separating Numeric and categorical Data\n",
    "num_df = data.select_dtypes('number')\n",
    "cat_df = data.select_dtypes('object')"
   ]
  },
  {
   "cell_type": "code",
   "execution_count": 21,
   "id": "67ea048b",
   "metadata": {
    "execution": {
     "iopub.execute_input": "2022-12-14T15:44:58.590239Z",
     "iopub.status.busy": "2022-12-14T15:44:58.588957Z",
     "iopub.status.idle": "2022-12-14T15:44:58.603435Z",
     "shell.execute_reply": "2022-12-14T15:44:58.602310Z"
    },
    "papermill": {
     "duration": 0.034421,
     "end_time": "2022-12-14T15:44:58.605726",
     "exception": false,
     "start_time": "2022-12-14T15:44:58.571305",
     "status": "completed"
    },
    "tags": []
   },
   "outputs": [
    {
     "data": {
      "text/html": [
       "<div>\n",
       "<style scoped>\n",
       "    .dataframe tbody tr th:only-of-type {\n",
       "        vertical-align: middle;\n",
       "    }\n",
       "\n",
       "    .dataframe tbody tr th {\n",
       "        vertical-align: top;\n",
       "    }\n",
       "\n",
       "    .dataframe thead th {\n",
       "        text-align: right;\n",
       "    }\n",
       "</style>\n",
       "<table border=\"1\" class=\"dataframe\">\n",
       "  <thead>\n",
       "    <tr style=\"text-align: right;\">\n",
       "      <th></th>\n",
       "      <th>PassengerId</th>\n",
       "      <th>Survived</th>\n",
       "      <th>Age</th>\n",
       "      <th>SibSp</th>\n",
       "      <th>Parch</th>\n",
       "      <th>Fare</th>\n",
       "    </tr>\n",
       "  </thead>\n",
       "  <tbody>\n",
       "    <tr>\n",
       "      <th>0</th>\n",
       "      <td>1</td>\n",
       "      <td>0.0</td>\n",
       "      <td>22.0</td>\n",
       "      <td>1</td>\n",
       "      <td>0</td>\n",
       "      <td>7.2500</td>\n",
       "    </tr>\n",
       "    <tr>\n",
       "      <th>1</th>\n",
       "      <td>2</td>\n",
       "      <td>1.0</td>\n",
       "      <td>38.0</td>\n",
       "      <td>1</td>\n",
       "      <td>0</td>\n",
       "      <td>71.2833</td>\n",
       "    </tr>\n",
       "    <tr>\n",
       "      <th>2</th>\n",
       "      <td>3</td>\n",
       "      <td>1.0</td>\n",
       "      <td>26.0</td>\n",
       "      <td>0</td>\n",
       "      <td>0</td>\n",
       "      <td>7.9250</td>\n",
       "    </tr>\n",
       "    <tr>\n",
       "      <th>3</th>\n",
       "      <td>4</td>\n",
       "      <td>1.0</td>\n",
       "      <td>35.0</td>\n",
       "      <td>1</td>\n",
       "      <td>0</td>\n",
       "      <td>53.1000</td>\n",
       "    </tr>\n",
       "    <tr>\n",
       "      <th>4</th>\n",
       "      <td>5</td>\n",
       "      <td>0.0</td>\n",
       "      <td>35.0</td>\n",
       "      <td>0</td>\n",
       "      <td>0</td>\n",
       "      <td>8.0500</td>\n",
       "    </tr>\n",
       "  </tbody>\n",
       "</table>\n",
       "</div>"
      ],
      "text/plain": [
       "   PassengerId  Survived   Age  SibSp  Parch     Fare\n",
       "0            1       0.0  22.0      1      0   7.2500\n",
       "1            2       1.0  38.0      1      0  71.2833\n",
       "2            3       1.0  26.0      0      0   7.9250\n",
       "3            4       1.0  35.0      1      0  53.1000\n",
       "4            5       0.0  35.0      0      0   8.0500"
      ]
     },
     "execution_count": 21,
     "metadata": {},
     "output_type": "execute_result"
    }
   ],
   "source": [
    "#Numeric Data\n",
    "num_df.head()"
   ]
  },
  {
   "cell_type": "code",
   "execution_count": 22,
   "id": "88a3af45",
   "metadata": {
    "execution": {
     "iopub.execute_input": "2022-12-14T15:44:58.641893Z",
     "iopub.status.busy": "2022-12-14T15:44:58.640695Z",
     "iopub.status.idle": "2022-12-14T15:44:58.656371Z",
     "shell.execute_reply": "2022-12-14T15:44:58.655227Z"
    },
    "papermill": {
     "duration": 0.03651,
     "end_time": "2022-12-14T15:44:58.658608",
     "exception": false,
     "start_time": "2022-12-14T15:44:58.622098",
     "status": "completed"
    },
    "tags": []
   },
   "outputs": [
    {
     "data": {
      "text/html": [
       "<div>\n",
       "<style scoped>\n",
       "    .dataframe tbody tr th:only-of-type {\n",
       "        vertical-align: middle;\n",
       "    }\n",
       "\n",
       "    .dataframe tbody tr th {\n",
       "        vertical-align: top;\n",
       "    }\n",
       "\n",
       "    .dataframe thead th {\n",
       "        text-align: right;\n",
       "    }\n",
       "</style>\n",
       "<table border=\"1\" class=\"dataframe\">\n",
       "  <thead>\n",
       "    <tr style=\"text-align: right;\">\n",
       "      <th></th>\n",
       "      <th>Pclass</th>\n",
       "      <th>Name</th>\n",
       "      <th>Sex</th>\n",
       "      <th>Ticket</th>\n",
       "      <th>Embarked</th>\n",
       "      <th>source</th>\n",
       "    </tr>\n",
       "  </thead>\n",
       "  <tbody>\n",
       "    <tr>\n",
       "      <th>0</th>\n",
       "      <td>Lower</td>\n",
       "      <td>Braund, Mr. Owen Harris</td>\n",
       "      <td>male</td>\n",
       "      <td>A/5 21171</td>\n",
       "      <td>S</td>\n",
       "      <td>train</td>\n",
       "    </tr>\n",
       "    <tr>\n",
       "      <th>1</th>\n",
       "      <td>Upper</td>\n",
       "      <td>Cumings, Mrs. John Bradley (Florence Briggs Th...</td>\n",
       "      <td>female</td>\n",
       "      <td>PC 17599</td>\n",
       "      <td>C</td>\n",
       "      <td>train</td>\n",
       "    </tr>\n",
       "    <tr>\n",
       "      <th>2</th>\n",
       "      <td>Lower</td>\n",
       "      <td>Heikkinen, Miss. Laina</td>\n",
       "      <td>female</td>\n",
       "      <td>STON/O2. 3101282</td>\n",
       "      <td>S</td>\n",
       "      <td>train</td>\n",
       "    </tr>\n",
       "    <tr>\n",
       "      <th>3</th>\n",
       "      <td>Upper</td>\n",
       "      <td>Futrelle, Mrs. Jacques Heath (Lily May Peel)</td>\n",
       "      <td>female</td>\n",
       "      <td>113803</td>\n",
       "      <td>S</td>\n",
       "      <td>train</td>\n",
       "    </tr>\n",
       "    <tr>\n",
       "      <th>4</th>\n",
       "      <td>Lower</td>\n",
       "      <td>Allen, Mr. William Henry</td>\n",
       "      <td>male</td>\n",
       "      <td>373450</td>\n",
       "      <td>S</td>\n",
       "      <td>train</td>\n",
       "    </tr>\n",
       "  </tbody>\n",
       "</table>\n",
       "</div>"
      ],
      "text/plain": [
       "  Pclass                                               Name     Sex  \\\n",
       "0  Lower                            Braund, Mr. Owen Harris    male   \n",
       "1  Upper  Cumings, Mrs. John Bradley (Florence Briggs Th...  female   \n",
       "2  Lower                             Heikkinen, Miss. Laina  female   \n",
       "3  Upper       Futrelle, Mrs. Jacques Heath (Lily May Peel)  female   \n",
       "4  Lower                           Allen, Mr. William Henry    male   \n",
       "\n",
       "             Ticket Embarked source  \n",
       "0         A/5 21171        S  train  \n",
       "1          PC 17599        C  train  \n",
       "2  STON/O2. 3101282        S  train  \n",
       "3            113803        S  train  \n",
       "4            373450        S  train  "
      ]
     },
     "execution_count": 22,
     "metadata": {},
     "output_type": "execute_result"
    }
   ],
   "source": [
    "cat_df.head()"
   ]
  },
  {
   "cell_type": "markdown",
   "id": "d00bd49a",
   "metadata": {
    "papermill": {
     "duration": 0.015933,
     "end_time": "2022-12-14T15:44:58.690808",
     "exception": false,
     "start_time": "2022-12-14T15:44:58.674875",
     "status": "completed"
    },
    "tags": []
   },
   "source": [
    "#### Univariate and Bivariate Analysis\n",
    "* Numeric Data\n",
    "* Categorical Data"
   ]
  },
  {
   "cell_type": "code",
   "execution_count": 23,
   "id": "5a838973",
   "metadata": {
    "execution": {
     "iopub.execute_input": "2022-12-14T15:44:58.726246Z",
     "iopub.status.busy": "2022-12-14T15:44:58.725772Z",
     "iopub.status.idle": "2022-12-14T15:44:59.116322Z",
     "shell.execute_reply": "2022-12-14T15:44:59.114976Z"
    },
    "papermill": {
     "duration": 0.41142,
     "end_time": "2022-12-14T15:44:59.118918",
     "exception": false,
     "start_time": "2022-12-14T15:44:58.707498",
     "status": "completed"
    },
    "tags": []
   },
   "outputs": [
    {
     "data": {
      "image/png": "[encoded data removed]",
      "text/plain": [
       "<Figure size 432x288 with 2 Axes>"
      ]
     },
     "metadata": {},
     "output_type": "display_data"
    }
   ],
   "source": [
    "ax = sns.heatmap(data=num_df[num_df.columns[1:]].corr(), cmap='YlOrBr', fmt='.2f', annot=True)"
   ]
  },
  {
   "cell_type": "markdown",
   "id": "c8364fb8",
   "metadata": {
    "papermill": {
     "duration": 0.016718,
     "end_time": "2022-12-14T15:44:59.153481",
     "exception": false,
     "start_time": "2022-12-14T15:44:59.136763",
     "status": "completed"
    },
    "tags": []
   },
   "source": [
    "### Observations\n",
    "* **Survival** and **age** has a **negitive** correlation.\n",
    "* **Survival** and **SibSp** has a **negative** correlation.\n",
    "* Survival and Fare has a a little positive correlation.\n",
    "* Survival and Parch has balanced correlation.\n"
   ]
  },
  {
   "cell_type": "code",
   "execution_count": 24,
   "id": "0822298d",
   "metadata": {
    "execution": {
     "iopub.execute_input": "2022-12-14T15:44:59.190005Z",
     "iopub.status.busy": "2022-12-14T15:44:59.188497Z",
     "iopub.status.idle": "2022-12-14T15:44:59.955585Z",
     "shell.execute_reply": "2022-12-14T15:44:59.954451Z"
    },
    "papermill": {
     "duration": 0.788095,
     "end_time": "2022-12-14T15:44:59.958187",
     "exception": false,
     "start_time": "2022-12-14T15:44:59.170092",
     "status": "completed"
    },
    "tags": []
   },
   "outputs": [
    {
     "data": {
      "image/png": "[encoded data removed]",
      "text/plain": [
       "<Figure size 432x216 with 2 Axes>"
      ]
     },
     "metadata": {},
     "output_type": "display_data"
    }
   ],
   "source": [
    "# Explore Survived based on Age\n",
    "ax = sns.FacetGrid(num_df, col='Survived')\n",
    "ax = ax.map(sns.histplot, 'Age')"
   ]
  },
  {
   "cell_type": "code",
   "execution_count": 25,
   "id": "686f7c60",
   "metadata": {
    "execution": {
     "iopub.execute_input": "2022-12-14T15:44:59.995864Z",
     "iopub.status.busy": "2022-12-14T15:44:59.994778Z",
     "iopub.status.idle": "2022-12-14T15:45:00.342372Z",
     "shell.execute_reply": "2022-12-14T15:45:00.341099Z"
    },
    "papermill": {
     "duration": 0.369581,
     "end_time": "2022-12-14T15:45:00.345568",
     "exception": false,
     "start_time": "2022-12-14T15:44:59.975987",
     "status": "completed"
    },
    "tags": []
   },
   "outputs": [
    {
     "data": {
      "text/plain": [
       "<matplotlib.legend.Legend at 0x7f53dcdc2390>"
      ]
     },
     "execution_count": 25,
     "metadata": {},
     "output_type": "execute_result"
    },
    {
     "data": {
      "image/png": "[encoded data removed]",
      "text/plain": [
       "<Figure size 432x288 with 1 Axes>"
      ]
     },
     "metadata": {},
     "output_type": "display_data"
    }
   ],
   "source": [
    "# Explore Age Distro\n",
    "ax = sns.kdeplot(num_df[num_df[\"Survived\"] == 0]['Age'], color='b', shade=True)\n",
    "ax = sns.kdeplot(num_df[num_df[\"Survived\"] == 1]['Age'], color='r', shade=True)\n",
    "ax.set_xlabel(\"Age\")\n",
    "ax.set_ylabel(\"Survival Probability\")\n",
    "ax.legend(['Not Survived', 'Survived'])"
   ]
  },
  {
   "cell_type": "code",
   "execution_count": 26,
   "id": "e7d3f09c",
   "metadata": {
    "execution": {
     "iopub.execute_input": "2022-12-14T15:45:00.386546Z",
     "iopub.status.busy": "2022-12-14T15:45:00.385544Z",
     "iopub.status.idle": "2022-12-14T15:45:00.931052Z",
     "shell.execute_reply": "2022-12-14T15:45:00.929504Z"
    },
    "papermill": {
     "duration": 0.569264,
     "end_time": "2022-12-14T15:45:00.933946",
     "exception": false,
     "start_time": "2022-12-14T15:45:00.364682",
     "status": "completed"
    },
    "tags": []
   },
   "outputs": [
    {
     "data": {
      "image/png": "[encoded data removed]",
      "text/plain": [
       "<Figure size 432x432 with 1 Axes>"
      ]
     },
     "metadata": {},
     "output_type": "display_data"
    }
   ],
   "source": [
    "# Explore Survived based on SibSp\n",
    "ax = sns.catplot(x='SibSp', y='Survived', data=num_df, kind='bar', height=6)\n",
    "ax.despine(left=True)\n",
    "ax = ax.set_ylabels('Survival Probability')"
   ]
  },
  {
   "cell_type": "code",
   "execution_count": 27,
   "id": "5a8d4b1a",
   "metadata": {
    "execution": {
     "iopub.execute_input": "2022-12-14T15:45:00.973470Z",
     "iopub.status.busy": "2022-12-14T15:45:00.972853Z",
     "iopub.status.idle": "2022-12-14T15:45:01.838464Z",
     "shell.execute_reply": "2022-12-14T15:45:01.837297Z"
    },
    "papermill": {
     "duration": 0.889246,
     "end_time": "2022-12-14T15:45:01.841573",
     "exception": false,
     "start_time": "2022-12-14T15:45:00.952327",
     "status": "completed"
    },
    "tags": []
   },
   "outputs": [
    {
     "data": {
      "image/png": "[encoded data removed]",
      "text/plain": [
       "<Figure size 360x360 with 1 Axes>"
      ]
     },
     "metadata": {},
     "output_type": "display_data"
    }
   ],
   "source": [
    "# Explore Survived based on parch\n",
    "ax = sns.catplot(x='Parch', y='Survived', data=num_df, kind='bar')\n",
    "ax.despine(left=True)\n",
    "ax = ax.set_ylabels('Survival Probability')"
   ]
  },
  {
   "cell_type": "code",
   "execution_count": 28,
   "id": "7c876204",
   "metadata": {
    "execution": {
     "iopub.execute_input": "2022-12-14T15:45:01.891352Z",
     "iopub.status.busy": "2022-12-14T15:45:01.890441Z",
     "iopub.status.idle": "2022-12-14T15:45:02.609858Z",
     "shell.execute_reply": "2022-12-14T15:45:02.608887Z"
    },
    "papermill": {
     "duration": 0.746792,
     "end_time": "2022-12-14T15:45:02.612585",
     "exception": false,
     "start_time": "2022-12-14T15:45:01.865793",
     "status": "completed"
    },
    "tags": []
   },
   "outputs": [
    {
     "data": {
      "image/png": "[encoded data removed]",
      "text/plain": [
       "<Figure size 432x288 with 1 Axes>"
      ]
     },
     "metadata": {},
     "output_type": "display_data"
    }
   ],
   "source": [
    "ax = sns.histplot(num_df['Fare'], color='m', label=\"Skewness : %.2f\"%(num_df[\"Fare\"].skew()), kde=True)\n",
    "ax = ax.legend(loc=\"best\")\n"
   ]
  },
  {
   "cell_type": "code",
   "execution_count": 29,
   "id": "c1cd4ddc",
   "metadata": {
    "execution": {
     "iopub.execute_input": "2022-12-14T15:45:02.660924Z",
     "iopub.status.busy": "2022-12-14T15:45:02.660457Z",
     "iopub.status.idle": "2022-12-14T15:45:02.670312Z",
     "shell.execute_reply": "2022-12-14T15:45:02.668989Z"
    },
    "papermill": {
     "duration": 0.03645,
     "end_time": "2022-12-14T15:45:02.673384",
     "exception": false,
     "start_time": "2022-12-14T15:45:02.636934",
     "status": "completed"
    },
    "tags": []
   },
   "outputs": [],
   "source": [
    "# Applying Log to reduce skewness\n",
    "data['Fare'] = data['Fare'].apply(lambda i:np.log(i) if i > 0 else 0)"
   ]
  },
  {
   "cell_type": "code",
   "execution_count": 30,
   "id": "8dcc806a",
   "metadata": {
    "execution": {
     "iopub.execute_input": "2022-12-14T15:45:02.716300Z",
     "iopub.status.busy": "2022-12-14T15:45:02.715867Z",
     "iopub.status.idle": "2022-12-14T15:45:03.179974Z",
     "shell.execute_reply": "2022-12-14T15:45:03.178457Z"
    },
    "papermill": {
     "duration": 0.488685,
     "end_time": "2022-12-14T15:45:03.182638",
     "exception": false,
     "start_time": "2022-12-14T15:45:02.693953",
     "status": "completed"
    },
    "tags": []
   },
   "outputs": [
    {
     "data": {
      "image/png": "[encoded data removed]",
      "text/plain": [
       "<Figure size 432x288 with 1 Axes>"
      ]
     },
     "metadata": {},
     "output_type": "display_data"
    }
   ],
   "source": [
    "ax = sns.histplot(data['Fare'], color='m', label=\"Skewness : %.2f\"%(data[\"Fare\"].skew()), kde=True)\n",
    "ax = ax.legend(loc=\"best\")"
   ]
  },
  {
   "cell_type": "markdown",
   "id": "49bd9044",
   "metadata": {
    "papermill": {
     "duration": 0.019799,
     "end_time": "2022-12-14T15:45:03.221816",
     "exception": false,
     "start_time": "2022-12-14T15:45:03.202017",
     "status": "completed"
    },
    "tags": []
   },
   "source": [
    "### Observations\n",
    "* Seems like there are more chances of **survivial** those who are **younger**, also we can clearly see there a peak from (0-5) **children** in 2nd chart **indecating** more chances of **surviving**.\n",
    "* Passengers with **1 or 2 sibSp** have heigher chance of **surviving**\n",
    "* **Small families** have more chance to **survive**, more than **single (Parch 0)**, medium (Parch 3,4) and large families (Parch 5,6 ). be carefull with 3 Parch as it has **standard deviation** \n",
    "* Fare is largly **skewed** towords **right** we fix that with **np.log** and skewness clearly **reduced after log transformation**. "
   ]
  },
  {
   "cell_type": "code",
   "execution_count": 31,
   "id": "644bda41",
   "metadata": {
    "execution": {
     "iopub.execute_input": "2022-12-14T15:45:03.264200Z",
     "iopub.status.busy": "2022-12-14T15:45:03.263468Z",
     "iopub.status.idle": "2022-12-14T15:45:03.541859Z",
     "shell.execute_reply": "2022-12-14T15:45:03.540822Z"
    },
    "papermill": {
     "duration": 0.30253,
     "end_time": "2022-12-14T15:45:03.544111",
     "exception": false,
     "start_time": "2022-12-14T15:45:03.241581",
     "status": "completed"
    },
    "tags": []
   },
   "outputs": [
    {
     "data": {
      "image/png": "[encoded data removed]",
      "text/plain": [
       "<Figure size 432x288 with 1 Axes>"
      ]
     },
     "metadata": {},
     "output_type": "display_data"
    }
   ],
   "source": [
    "#Explore categorical Data\n",
    "\n",
    "#Explore Survived based on Sex\n",
    "ax = sns.barplot(x='Sex', y='Survived',data=data)"
   ]
  },
  {
   "cell_type": "code",
   "execution_count": 32,
   "id": "6a6cfbde",
   "metadata": {
    "execution": {
     "iopub.execute_input": "2022-12-14T15:45:03.587606Z",
     "iopub.status.busy": "2022-12-14T15:45:03.586823Z",
     "iopub.status.idle": "2022-12-14T15:45:04.069644Z",
     "shell.execute_reply": "2022-12-14T15:45:04.068539Z"
    },
    "papermill": {
     "duration": 0.507838,
     "end_time": "2022-12-14T15:45:04.072326",
     "exception": false,
     "start_time": "2022-12-14T15:45:03.564488",
     "status": "completed"
    },
    "tags": []
   },
   "outputs": [
    {
     "data": {
      "image/png": "[encoded data removed]",
      "text/plain": [
       "<Figure size 360x360 with 1 Axes>"
      ]
     },
     "metadata": {},
     "output_type": "display_data"
    }
   ],
   "source": [
    "# Explore Survived with Pclass\n",
    "ax = sns.catplot(x='Pclass', y='Survived', data=train, kind='bar')\n",
    "ax = ax.set_ylabels(\"survival probability\")"
   ]
  },
  {
   "cell_type": "code",
   "execution_count": 33,
   "id": "f8c7efa7",
   "metadata": {
    "execution": {
     "iopub.execute_input": "2022-12-14T15:45:04.118691Z",
     "iopub.status.busy": "2022-12-14T15:45:04.117923Z",
     "iopub.status.idle": "2022-12-14T15:45:04.585066Z",
     "shell.execute_reply": "2022-12-14T15:45:04.583897Z"
    },
    "papermill": {
     "duration": 0.493256,
     "end_time": "2022-12-14T15:45:04.588039",
     "exception": false,
     "start_time": "2022-12-14T15:45:04.094783",
     "status": "completed"
    },
    "tags": []
   },
   "outputs": [
    {
     "data": {
      "image/png": "[encoded data removed]",
      "text/plain": [
       "<Figure size 360x360 with 1 Axes>"
      ]
     },
     "metadata": {},
     "output_type": "display_data"
    }
   ],
   "source": [
    "# Explore Survived with Embarked\n",
    "ax = sns.catplot(x='Embarked', y='Survived', data=train, kind='bar')\n",
    "ax = ax.set_ylabels(\"survival probability\")"
   ]
  },
  {
   "cell_type": "code",
   "execution_count": 34,
   "id": "d4a0a544",
   "metadata": {
    "execution": {
     "iopub.execute_input": "2022-12-14T15:45:04.633084Z",
     "iopub.status.busy": "2022-12-14T15:45:04.632442Z",
     "iopub.status.idle": "2022-12-14T15:45:05.234761Z",
     "shell.execute_reply": "2022-12-14T15:45:05.233231Z"
    },
    "papermill": {
     "duration": 0.629176,
     "end_time": "2022-12-14T15:45:05.238943",
     "exception": false,
     "start_time": "2022-12-14T15:45:04.609767",
     "status": "completed"
    },
    "tags": []
   },
   "outputs": [
    {
     "data": {
      "image/png": "[encoded data removed]",
      "text/plain": [
       "<Figure size 437.975x360 with 1 Axes>"
      ]
     },
     "metadata": {},
     "output_type": "display_data"
    }
   ],
   "source": [
    "# Explore Survived with Pclass and Sex\n",
    "ax = sns.catplot(x='Pclass', y='Survived', hue='Sex', data=train, kind='bar')\n",
    "ax = ax.set_ylabels(\"survival probability\")"
   ]
  },
  {
   "cell_type": "code",
   "execution_count": 35,
   "id": "fa97e2c0",
   "metadata": {
    "execution": {
     "iopub.execute_input": "2022-12-14T15:45:05.286826Z",
     "iopub.status.busy": "2022-12-14T15:45:05.286383Z",
     "iopub.status.idle": "2022-12-14T15:45:06.034216Z",
     "shell.execute_reply": "2022-12-14T15:45:06.032854Z"
    },
    "papermill": {
     "duration": 0.775452,
     "end_time": "2022-12-14T15:45:06.037018",
     "exception": false,
     "start_time": "2022-12-14T15:45:05.261566",
     "status": "completed"
    },
    "tags": []
   },
   "outputs": [
    {
     "data": {
      "image/png": "[encoded data removed]",
      "text/plain": [
       "<Figure size 1296x432 with 3 Axes>"
      ]
     },
     "metadata": {},
     "output_type": "display_data"
    }
   ],
   "source": [
    "# Explore Survived with Pclass and Embarked\n",
    "ax = sns.catplot(data=data, x='Pclass', col='Embarked', kind='count', height=6)\n",
    "ax = ax.set_ylabels('Count')"
   ]
  },
  {
   "cell_type": "markdown",
   "id": "92caeb4c",
   "metadata": {
    "papermill": {
     "duration": 0.020262,
     "end_time": "2022-12-14T15:45:06.078928",
     "exception": false,
     "start_time": "2022-12-14T15:45:06.058666",
     "status": "completed"
    },
    "tags": []
   },
   "source": [
    "### Observations\n",
    "* **Female passengers** have higher chance of **surviving**, So Sex, might play an **important role** in the prediction of the survival.\n",
    "* **Upper Class** passengers have higher chance of **surviving**\n",
    "* **Upper Class Female** passengers have higher chance of **surviving**\n",
    "* Passengers coming from **Cherbourg** (C) have higher chance of **surviving**, because most **Upper class** passengers are coming from **Cherbourg** (C), where as **lower** and **Middle** class are from **Southampton** (S) and **Queenstown** (Q) respectivley."
   ]
  },
  {
   "cell_type": "code",
   "execution_count": null,
   "id": "a004dd2b",
   "metadata": {
    "papermill": {
     "duration": 0.019963,
     "end_time": "2022-12-14T15:45:06.119571",
     "exception": false,
     "start_time": "2022-12-14T15:45:06.099608",
     "status": "completed"
    },
    "tags": []
   },
   "outputs": [],
   "source": []
  }
 ],
 "metadata": {
  "kernelspec": {
   "display_name": "Python 3",
   "language": "python",
   "name": "python3"
  },
  "language_info": {
   "codemirror_mode": {
    "name": "ipython",
    "version": 3
   },
   "file_extension": ".py",
   "mimetype": "text/x-python",
   "name": "python",
   "nbconvert_exporter": "python",
   "pygments_lexer": "ipython3",
   "version": "3.7.12"
  },
  "papermill": {
   "default_parameters": {},
   "duration": 22.808364,
   "end_time": "2022-12-14T15:45:07.163989",
   "environment_variables": {},
   "exception": null,
   "input_path": "__notebook__.ipynb",
   "output_path": "__notebook__.ipynb",
   "parameters": {},
   "start_time": "2022-12-14T15:44:44.355625",
   "version": "2.3.4"
  }
 },
 "nbformat": 4,
 "nbformat_minor": 5
}
