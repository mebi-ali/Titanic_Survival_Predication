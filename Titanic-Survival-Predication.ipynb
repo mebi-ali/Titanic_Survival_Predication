{
 "cells": [
  {
   "cell_type": "markdown",
   "id": "eb9822e2",
   "metadata": {
    "_cell_guid": "b1076dfc-b9ad-4769-8c92-a6c4dae69d19",
    "_uuid": "8f2839f25d086af736a60e9eeb907d3b93b6e0e5",
    "execution": {
     "iopub.execute_input": "2022-12-02T18:13:06.723663Z",
     "iopub.status.busy": "2022-12-02T18:13:06.722752Z",
     "iopub.status.idle": "2022-12-02T18:13:06.753192Z",
     "shell.execute_reply": "2022-12-02T18:13:06.752034Z",
     "shell.execute_reply.started": "2022-12-02T18:13:06.723556Z"
    },
    "papermill": {
     "duration": 0.021407,
     "end_time": "2022-12-21T11:36:24.947315",
     "exception": false,
     "start_time": "2022-12-21T11:36:24.925908",
     "status": "completed"
    },
    "tags": []
   },
   "source": [
    "# *Titanic - Machine Learning from Disaster*\n",
    "\n",
    "## Probelem Statement\n",
    "\n",
    "The sinking of the Titanic is one of the most infamous shipwrecks in history.\n",
    "\n",
    "On April 15, 1912, during her maiden voyage, the widely considered “unsinkable” RMS Titanic sank after colliding with an iceberg. Unfortunately, there weren’t enough lifeboats for everyone onboard, resulting in the death of 1502 out of 2224 passengers and crew.\n",
    "\n",
    "While there was some element of luck involved in surviving, it seems some groups of people were more likely to survive than others.\n",
    "\n",
    "In this challenge, we ask you to build a predictive model that answers the question: “what sorts of people were more likely to survive?” using passenger data (ie name, age, gender, socio-economic class, etc).\n",
    "\n",
    "## Statement Analysis\n",
    "* Supervised Machine Learning Problem.\n",
    "* The Target Value is **Survived**.\n",
    "\n",
    "## Goal\n",
    "Using this model, We will try to understand what sort of people were more likely to **survive** than others."
   ]
  },
  {
   "cell_type": "markdown",
   "id": "0d00d5a8",
   "metadata": {
    "papermill": {
     "duration": 0.017351,
     "end_time": "2022-12-21T11:36:24.983090",
     "exception": false,
     "start_time": "2022-12-21T11:36:24.965739",
     "status": "completed"
    },
    "tags": []
   },
   "source": [
    "# *Hypothesis Generation*\n",
    "* Females have more chance of surviving.\n",
    "* Children have more chance of surviving.\n",
    "* Upper Class (VIPS) have more chance of surviving.\n",
    "* People with less siblings have more chance of surviving.\n",
    "* Person with no family/sibings have more chance of surviving.\n",
    "* Swimmers have more chance of surviving.\n"
   ]
  },
  {
   "cell_type": "markdown",
   "id": "df2944ee",
   "metadata": {
    "papermill": {
     "duration": 0.017183,
     "end_time": "2022-12-21T11:36:25.017748",
     "exception": false,
     "start_time": "2022-12-21T11:36:25.000565",
     "status": "completed"
    },
    "tags": []
   },
   "source": [
    "# *Libraries*"
   ]
  },
  {
   "cell_type": "code",
   "execution_count": 1,
   "id": "da404230",
   "metadata": {
    "execution": {
     "iopub.execute_input": "2022-12-21T11:36:25.055519Z",
     "iopub.status.busy": "2022-12-21T11:36:25.054907Z",
     "iopub.status.idle": "2022-12-21T11:36:26.533954Z",
     "shell.execute_reply": "2022-12-21T11:36:26.532893Z"
    },
    "papermill": {
     "duration": 1.50135,
     "end_time": "2022-12-21T11:36:26.536749",
     "exception": false,
     "start_time": "2022-12-21T11:36:25.035399",
     "status": "completed"
    },
    "tags": []
   },
   "outputs": [],
   "source": [
    "# This Python 3 environment comes with many helpful analytics libraries installed\n",
    "# It is defined by the kaggle/python Docker image: https://github.com/kaggle/docker-python\n",
    "# For example, here's several helpful packages to load\n",
    "\n",
    "import os # Path to file\n",
    "import numpy as np # linear algebra\n",
    "import pandas as pd # data processing, CSV file I/O (e.g. pd.read_csv)\n",
    "import matplotlib.pyplot  as plt # Data visulization\n",
    "import seaborn as sns  # Data visulization\n",
    "import warnings # warning filter\n",
    "%matplotlib inline\n",
    "\n",
    "# Import Coounter\n",
    "from collections import Counter\n",
    "\n",
    "# Scaling Libraries\n",
    "from sklearn.preprocessing import OneHotEncoder, LabelEncoder, StandardScaler\n",
    "\n",
    "#train test split\n",
    "from sklearn.model_selection import train_test_split\n",
    "\n",
    "# Machine Learning Models\n",
    "from sklearn.ensemble import RandomForestClassifier, AdaBoostClassifier, GradientBoostingClassifier, ExtraTreesClassifier, VotingClassifier\n",
    "from sklearn.discriminant_analysis import LinearDiscriminantAnalysis\n",
    "from sklearn.linear_model import LogisticRegression\n",
    "from sklearn.neighbors import KNeighborsClassifier\n",
    "from sklearn.tree import DecisionTreeClassifier\n",
    "from sklearn.neural_network import MLPClassifier\n",
    "from sklearn.svm import SVC\n",
    "\n",
    "# Score Matrics\n",
    "from sklearn.metrics import accuracy_score, confusion_matrix, classification_report\n",
    "from sklearn.model_selection import GridSearchCV, cross_val_score as CVS, StratifiedKFold, learning_curve\n",
    "\n",
    "## Setting Seaborn\n",
    "sns.set(style='white', context='paper', palette='cividis')\n",
    "\n",
    "# Warnings\n",
    "import warnings\n",
    "warnings.filterwarnings('ignore')"
   ]
  },
  {
   "cell_type": "code",
   "execution_count": 2,
   "id": "d21cd98f",
   "metadata": {
    "execution": {
     "iopub.execute_input": "2022-12-21T11:36:26.574832Z",
     "iopub.status.busy": "2022-12-21T11:36:26.573682Z",
     "iopub.status.idle": "2022-12-21T11:36:26.582251Z",
     "shell.execute_reply": "2022-12-21T11:36:26.581025Z"
    },
    "papermill": {
     "duration": 0.030428,
     "end_time": "2022-12-21T11:36:26.585001",
     "exception": false,
     "start_time": "2022-12-21T11:36:26.554573",
     "status": "completed"
    },
    "tags": []
   },
   "outputs": [
    {
     "name": "stdout",
     "output_type": "stream",
     "text": [
      "/kaggle/input/titanic/train.csv\n",
      "/kaggle/input/titanic/test.csv\n",
      "/kaggle/input/titanic/gender_submission.csv\n"
     ]
    }
   ],
   "source": [
    "\n",
    "# Input data files are available in the read-only \"../input/\" directory\n",
    "# For example, running this (by clicking run or pressing Shift+Enter) will list all files under the input directory\n",
    "\n",
    "for dirname, _, filenames in os.walk('/kaggle/input'):\n",
    "    for filename in filenames:\n",
    "        print(os.path.join(dirname, filename))\n",
    "\n",
    "# You can write up to 20GB to the current directory (/kaggle/working/) that gets preserved as output when you create a version using \"Save & Run All\" \n",
    "# You can also write temporary files to /kaggle/temp/, but they won't be saved outside of the current session"
   ]
  },
  {
   "cell_type": "code",
   "execution_count": 3,
   "id": "2194ca55",
   "metadata": {
    "execution": {
     "iopub.execute_input": "2022-12-21T11:36:26.624414Z",
     "iopub.status.busy": "2022-12-21T11:36:26.624008Z",
     "iopub.status.idle": "2022-12-21T11:36:26.652297Z",
     "shell.execute_reply": "2022-12-21T11:36:26.651406Z"
    },
    "papermill": {
     "duration": 0.050111,
     "end_time": "2022-12-21T11:36:26.654860",
     "exception": false,
     "start_time": "2022-12-21T11:36:26.604749",
     "status": "completed"
    },
    "tags": []
   },
   "outputs": [],
   "source": [
    "# Loading Data.\n",
    "train = pd.read_csv('/kaggle/input/titanic/train.csv')\n",
    "test = pd.read_csv('/kaggle/input/titanic/test.csv')\n"
   ]
  },
  {
   "cell_type": "code",
   "execution_count": 4,
   "id": "7cd19232",
   "metadata": {
    "execution": {
     "iopub.execute_input": "2022-12-21T11:36:26.693614Z",
     "iopub.status.busy": "2022-12-21T11:36:26.693200Z",
     "iopub.status.idle": "2022-12-21T11:36:26.739673Z",
     "shell.execute_reply": "2022-12-21T11:36:26.737783Z"
    },
    "papermill": {
     "duration": 0.06878,
     "end_time": "2022-12-21T11:36:26.741965",
     "exception": false,
     "start_time": "2022-12-21T11:36:26.673185",
     "status": "completed"
    },
    "tags": []
   },
   "outputs": [
    {
     "name": "stdout",
     "output_type": "stream",
     "text": [
      "Train Dataset (row, col): (891, 12) \n",
      "\n",
      "\n",
      "Train Dataset Information:\n",
      "\n",
      "<class 'pandas.core.frame.DataFrame'>\n",
      "RangeIndex: 891 entries, 0 to 890\n",
      "Data columns (total 12 columns):\n",
      " #   Column       Non-Null Count  Dtype  \n",
      "---  ------       --------------  -----  \n",
      " 0   PassengerId  891 non-null    int64  \n",
      " 1   Survived     891 non-null    int64  \n",
      " 2   Pclass       891 non-null    int64  \n",
      " 3   Name         891 non-null    object \n",
      " 4   Sex          891 non-null    object \n",
      " 5   Age          714 non-null    float64\n",
      " 6   SibSp        891 non-null    int64  \n",
      " 7   Parch        891 non-null    int64  \n",
      " 8   Ticket       891 non-null    object \n",
      " 9   Fare         891 non-null    float64\n",
      " 10  Cabin        204 non-null    object \n",
      " 11  Embarked     889 non-null    object \n",
      "dtypes: float64(2), int64(5), object(5)\n",
      "memory usage: 83.7+ KB\n",
      "None\n",
      "\n",
      "Test Dataset (row, col): (418, 11) \n",
      "\n",
      "\n",
      "Test Dataset Information:\n",
      "\n",
      "<class 'pandas.core.frame.DataFrame'>\n",
      "RangeIndex: 418 entries, 0 to 417\n",
      "Data columns (total 11 columns):\n",
      " #   Column       Non-Null Count  Dtype  \n",
      "---  ------       --------------  -----  \n",
      " 0   PassengerId  418 non-null    int64  \n",
      " 1   Pclass       418 non-null    int64  \n",
      " 2   Name         418 non-null    object \n",
      " 3   Sex          418 non-null    object \n",
      " 4   Age          332 non-null    float64\n",
      " 5   SibSp        418 non-null    int64  \n",
      " 6   Parch        418 non-null    int64  \n",
      " 7   Ticket       418 non-null    object \n",
      " 8   Fare         417 non-null    float64\n",
      " 9   Cabin        91 non-null     object \n",
      " 10  Embarked     418 non-null    object \n",
      "dtypes: float64(2), int64(4), object(5)\n",
      "memory usage: 36.0+ KB\n",
      "None\n",
      "\n",
      "Train Dataset Values:\n",
      "\n"
     ]
    },
    {
     "data": {
      "text/plain": [
       "PassengerId    [1, 2, 3, 4, 5, 6, 7, 8, 9, 10, 11, 12, 13, 14...\n",
       "Survived                                                  [0, 1]\n",
       "Pclass                                                 [3, 1, 2]\n",
       "Name           [Braund, Mr. Owen Harris, Cumings, Mrs. John B...\n",
       "Sex                                               [male, female]\n",
       "Age            [22.0, 38.0, 26.0, 35.0, nan, 54.0, 2.0, 27.0,...\n",
       "SibSp                                      [1, 0, 3, 4, 2, 5, 8]\n",
       "Parch                                      [0, 1, 2, 5, 3, 4, 6]\n",
       "Ticket         [A/5 21171, PC 17599, STON/O2. 3101282, 113803...\n",
       "Fare           [7.25, 71.2833, 7.925, 53.1, 8.05, 8.4583, 51....\n",
       "Cabin          [nan, C85, C123, E46, G6, C103, D56, A6, C23 C...\n",
       "Embarked                                          [S, C, Q, nan]\n",
       "dtype: object"
      ]
     },
     "execution_count": 4,
     "metadata": {},
     "output_type": "execute_result"
    }
   ],
   "source": [
    "# lets check data\n",
    "print(f'Train Dataset (row, col): {train.shape} \\n')\n",
    "print('\\nTrain Dataset Information:\\n')\n",
    "print(train.info())\n",
    "\n",
    "print(f'\\nTest Dataset (row, col): {test.shape} \\n')\n",
    "print('\\nTest Dataset Information:\\n')\n",
    "print(test.info())\n",
    "\n",
    "print('\\nTrain Dataset Values:\\n')\n",
    "train.apply(lambda x:x.unique())\n"
   ]
  },
  {
   "cell_type": "markdown",
   "id": "38da6286",
   "metadata": {
    "papermill": {
     "duration": 0.017547,
     "end_time": "2022-12-21T11:36:26.777661",
     "exception": false,
     "start_time": "2022-12-21T11:36:26.760114",
     "status": "completed"
    },
    "tags": []
   },
   "source": [
    "## About Dataset\n",
    "\n",
    "This dataset is named Titanic Survival. The dataset contains a set of **891** records under **12** attributes:\n",
    "\n",
    "## Column Name and their Description\n",
    "\n",
    "* **PassengerId**: Unique passenger ID.\n",
    "* **Name** : name of passenger.\n",
    "* **Pclass** : Ticket class (A proxy for **socio-economic status** (SES)).\n",
    "* **Sex** : gender of passenger.\n",
    "* **Age** : age of passenger.\n",
    "* **SibSp**: number of siblings/spouse of passenger.\n",
    "* **Parch** : number of parents of passenger.\n",
    "* **Ticket** : ticket number.\n",
    "* **Fare** :Passenger fare.\n",
    "* **Cabin** : Cabin number.\n",
    "* **Embarked** : Port of Embarkation.\n",
    "\n",
    "## Variable Notes\n",
    "**Pclass**: A proxy for socio-economic status (SES)\n",
    "* 1st = Upper\n",
    "* 2nd = Middle\n",
    "* 3rd = Lower\n",
    "\n",
    "**Age**: Age is fractional if less than 1. If the age is estimated, is it in the form of xx.5\n",
    "\n",
    "**sibsp**: The dataset defines family relations in this way...\n",
    "* **Sibling** = brother, sister, stepbrother, stepsister\n",
    "* **Spouse** = husband, wife (mistresses and fiancés were ignored)\n",
    "\n",
    "**parch**: The dataset defines family relations in this way...\n",
    "* **Parent** = mother, father\n",
    "* **Child** = daughter, son, stepdaughter, stepson\n",
    "* Some children travelled only with a nanny, therefore **parch=0** for them.\n"
   ]
  },
  {
   "cell_type": "markdown",
   "id": "502eb707",
   "metadata": {
    "papermill": {
     "duration": 0.017708,
     "end_time": "2022-12-21T11:36:26.814345",
     "exception": false,
     "start_time": "2022-12-21T11:36:26.796637",
     "status": "completed"
    },
    "tags": []
   },
   "source": [
    "# *Future Analysis*\n",
    "\n"
   ]
  },
  {
   "cell_type": "code",
   "execution_count": 5,
   "id": "b087187c",
   "metadata": {
    "execution": {
     "iopub.execute_input": "2022-12-21T11:36:26.851829Z",
     "iopub.status.busy": "2022-12-21T11:36:26.851457Z",
     "iopub.status.idle": "2022-12-21T11:36:26.862114Z",
     "shell.execute_reply": "2022-12-21T11:36:26.861242Z"
    },
    "papermill": {
     "duration": 0.032621,
     "end_time": "2022-12-21T11:36:26.864840",
     "exception": false,
     "start_time": "2022-12-21T11:36:26.832219",
     "status": "completed"
    },
    "tags": []
   },
   "outputs": [],
   "source": [
    "# Check Dupicates\n",
    "train.drop_duplicates(inplace=True)"
   ]
  },
  {
   "cell_type": "code",
   "execution_count": 6,
   "id": "28aa2c82",
   "metadata": {
    "execution": {
     "iopub.execute_input": "2022-12-21T11:36:26.904454Z",
     "iopub.status.busy": "2022-12-21T11:36:26.903144Z",
     "iopub.status.idle": "2022-12-21T11:36:26.953560Z",
     "shell.execute_reply": "2022-12-21T11:36:26.952492Z"
    },
    "papermill": {
     "duration": 0.072231,
     "end_time": "2022-12-21T11:36:26.955884",
     "exception": false,
     "start_time": "2022-12-21T11:36:26.883653",
     "status": "completed"
    },
    "tags": []
   },
   "outputs": [
    {
     "data": {
      "text/html": [
       "<div>\n",
       "<style scoped>\n",
       "    .dataframe tbody tr th:only-of-type {\n",
       "        vertical-align: middle;\n",
       "    }\n",
       "\n",
       "    .dataframe tbody tr th {\n",
       "        vertical-align: top;\n",
       "    }\n",
       "\n",
       "    .dataframe thead th {\n",
       "        text-align: right;\n",
       "    }\n",
       "</style>\n",
       "<table border=\"1\" class=\"dataframe\">\n",
       "  <thead>\n",
       "    <tr style=\"text-align: right;\">\n",
       "      <th></th>\n",
       "      <th>PassengerId</th>\n",
       "      <th>Survived</th>\n",
       "      <th>Pclass</th>\n",
       "      <th>Name</th>\n",
       "      <th>Sex</th>\n",
       "      <th>Age</th>\n",
       "      <th>SibSp</th>\n",
       "      <th>Parch</th>\n",
       "      <th>Ticket</th>\n",
       "      <th>Fare</th>\n",
       "      <th>Cabin</th>\n",
       "      <th>Embarked</th>\n",
       "    </tr>\n",
       "  </thead>\n",
       "  <tbody>\n",
       "    <tr>\n",
       "      <th>count</th>\n",
       "      <td>891.000000</td>\n",
       "      <td>891.000000</td>\n",
       "      <td>891.000000</td>\n",
       "      <td>891</td>\n",
       "      <td>891</td>\n",
       "      <td>714.000000</td>\n",
       "      <td>891.000000</td>\n",
       "      <td>891.000000</td>\n",
       "      <td>891</td>\n",
       "      <td>891.000000</td>\n",
       "      <td>204</td>\n",
       "      <td>889</td>\n",
       "    </tr>\n",
       "    <tr>\n",
       "      <th>unique</th>\n",
       "      <td>NaN</td>\n",
       "      <td>NaN</td>\n",
       "      <td>NaN</td>\n",
       "      <td>891</td>\n",
       "      <td>2</td>\n",
       "      <td>NaN</td>\n",
       "      <td>NaN</td>\n",
       "      <td>NaN</td>\n",
       "      <td>681</td>\n",
       "      <td>NaN</td>\n",
       "      <td>147</td>\n",
       "      <td>3</td>\n",
       "    </tr>\n",
       "    <tr>\n",
       "      <th>top</th>\n",
       "      <td>NaN</td>\n",
       "      <td>NaN</td>\n",
       "      <td>NaN</td>\n",
       "      <td>Braund, Mr. Owen Harris</td>\n",
       "      <td>male</td>\n",
       "      <td>NaN</td>\n",
       "      <td>NaN</td>\n",
       "      <td>NaN</td>\n",
       "      <td>347082</td>\n",
       "      <td>NaN</td>\n",
       "      <td>B96 B98</td>\n",
       "      <td>S</td>\n",
       "    </tr>\n",
       "    <tr>\n",
       "      <th>freq</th>\n",
       "      <td>NaN</td>\n",
       "      <td>NaN</td>\n",
       "      <td>NaN</td>\n",
       "      <td>1</td>\n",
       "      <td>577</td>\n",
       "      <td>NaN</td>\n",
       "      <td>NaN</td>\n",
       "      <td>NaN</td>\n",
       "      <td>7</td>\n",
       "      <td>NaN</td>\n",
       "      <td>4</td>\n",
       "      <td>644</td>\n",
       "    </tr>\n",
       "    <tr>\n",
       "      <th>mean</th>\n",
       "      <td>446.000000</td>\n",
       "      <td>0.383838</td>\n",
       "      <td>2.308642</td>\n",
       "      <td>NaN</td>\n",
       "      <td>NaN</td>\n",
       "      <td>29.699118</td>\n",
       "      <td>0.523008</td>\n",
       "      <td>0.381594</td>\n",
       "      <td>NaN</td>\n",
       "      <td>32.204208</td>\n",
       "      <td>NaN</td>\n",
       "      <td>NaN</td>\n",
       "    </tr>\n",
       "    <tr>\n",
       "      <th>std</th>\n",
       "      <td>257.353842</td>\n",
       "      <td>0.486592</td>\n",
       "      <td>0.836071</td>\n",
       "      <td>NaN</td>\n",
       "      <td>NaN</td>\n",
       "      <td>14.526497</td>\n",
       "      <td>1.102743</td>\n",
       "      <td>0.806057</td>\n",
       "      <td>NaN</td>\n",
       "      <td>49.693429</td>\n",
       "      <td>NaN</td>\n",
       "      <td>NaN</td>\n",
       "    </tr>\n",
       "    <tr>\n",
       "      <th>min</th>\n",
       "      <td>1.000000</td>\n",
       "      <td>0.000000</td>\n",
       "      <td>1.000000</td>\n",
       "      <td>NaN</td>\n",
       "      <td>NaN</td>\n",
       "      <td>0.420000</td>\n",
       "      <td>0.000000</td>\n",
       "      <td>0.000000</td>\n",
       "      <td>NaN</td>\n",
       "      <td>0.000000</td>\n",
       "      <td>NaN</td>\n",
       "      <td>NaN</td>\n",
       "    </tr>\n",
       "    <tr>\n",
       "      <th>25%</th>\n",
       "      <td>223.500000</td>\n",
       "      <td>0.000000</td>\n",
       "      <td>2.000000</td>\n",
       "      <td>NaN</td>\n",
       "      <td>NaN</td>\n",
       "      <td>20.125000</td>\n",
       "      <td>0.000000</td>\n",
       "      <td>0.000000</td>\n",
       "      <td>NaN</td>\n",
       "      <td>7.910400</td>\n",
       "      <td>NaN</td>\n",
       "      <td>NaN</td>\n",
       "    </tr>\n",
       "    <tr>\n",
       "      <th>50%</th>\n",
       "      <td>446.000000</td>\n",
       "      <td>0.000000</td>\n",
       "      <td>3.000000</td>\n",
       "      <td>NaN</td>\n",
       "      <td>NaN</td>\n",
       "      <td>28.000000</td>\n",
       "      <td>0.000000</td>\n",
       "      <td>0.000000</td>\n",
       "      <td>NaN</td>\n",
       "      <td>14.454200</td>\n",
       "      <td>NaN</td>\n",
       "      <td>NaN</td>\n",
       "    </tr>\n",
       "    <tr>\n",
       "      <th>75%</th>\n",
       "      <td>668.500000</td>\n",
       "      <td>1.000000</td>\n",
       "      <td>3.000000</td>\n",
       "      <td>NaN</td>\n",
       "      <td>NaN</td>\n",
       "      <td>38.000000</td>\n",
       "      <td>1.000000</td>\n",
       "      <td>0.000000</td>\n",
       "      <td>NaN</td>\n",
       "      <td>31.000000</td>\n",
       "      <td>NaN</td>\n",
       "      <td>NaN</td>\n",
       "    </tr>\n",
       "    <tr>\n",
       "      <th>max</th>\n",
       "      <td>891.000000</td>\n",
       "      <td>1.000000</td>\n",
       "      <td>3.000000</td>\n",
       "      <td>NaN</td>\n",
       "      <td>NaN</td>\n",
       "      <td>80.000000</td>\n",
       "      <td>8.000000</td>\n",
       "      <td>6.000000</td>\n",
       "      <td>NaN</td>\n",
       "      <td>512.329200</td>\n",
       "      <td>NaN</td>\n",
       "      <td>NaN</td>\n",
       "    </tr>\n",
       "  </tbody>\n",
       "</table>\n",
       "</div>"
      ],
      "text/plain": [
       "        PassengerId    Survived      Pclass                     Name   Sex  \\\n",
       "count    891.000000  891.000000  891.000000                      891   891   \n",
       "unique          NaN         NaN         NaN                      891     2   \n",
       "top             NaN         NaN         NaN  Braund, Mr. Owen Harris  male   \n",
       "freq            NaN         NaN         NaN                        1   577   \n",
       "mean     446.000000    0.383838    2.308642                      NaN   NaN   \n",
       "std      257.353842    0.486592    0.836071                      NaN   NaN   \n",
       "min        1.000000    0.000000    1.000000                      NaN   NaN   \n",
       "25%      223.500000    0.000000    2.000000                      NaN   NaN   \n",
       "50%      446.000000    0.000000    3.000000                      NaN   NaN   \n",
       "75%      668.500000    1.000000    3.000000                      NaN   NaN   \n",
       "max      891.000000    1.000000    3.000000                      NaN   NaN   \n",
       "\n",
       "               Age       SibSp       Parch  Ticket        Fare    Cabin  \\\n",
       "count   714.000000  891.000000  891.000000     891  891.000000      204   \n",
       "unique         NaN         NaN         NaN     681         NaN      147   \n",
       "top            NaN         NaN         NaN  347082         NaN  B96 B98   \n",
       "freq           NaN         NaN         NaN       7         NaN        4   \n",
       "mean     29.699118    0.523008    0.381594     NaN   32.204208      NaN   \n",
       "std      14.526497    1.102743    0.806057     NaN   49.693429      NaN   \n",
       "min       0.420000    0.000000    0.000000     NaN    0.000000      NaN   \n",
       "25%      20.125000    0.000000    0.000000     NaN    7.910400      NaN   \n",
       "50%      28.000000    0.000000    0.000000     NaN   14.454200      NaN   \n",
       "75%      38.000000    1.000000    0.000000     NaN   31.000000      NaN   \n",
       "max      80.000000    8.000000    6.000000     NaN  512.329200      NaN   \n",
       "\n",
       "       Embarked  \n",
       "count       889  \n",
       "unique        3  \n",
       "top           S  \n",
       "freq        644  \n",
       "mean        NaN  \n",
       "std         NaN  \n",
       "min         NaN  \n",
       "25%         NaN  \n",
       "50%         NaN  \n",
       "75%         NaN  \n",
       "max         NaN  "
      ]
     },
     "execution_count": 6,
     "metadata": {},
     "output_type": "execute_result"
    }
   ],
   "source": [
    "# Data Summery\n",
    "train.describe(include=[object, np.number])"
   ]
  },
  {
   "cell_type": "markdown",
   "id": "48940af4",
   "metadata": {
    "papermill": {
     "duration": 0.017333,
     "end_time": "2022-12-21T11:36:26.991167",
     "exception": false,
     "start_time": "2022-12-21T11:36:26.973834",
     "status": "completed"
    },
    "tags": []
   },
   "source": [
    "### Observations\n",
    "* Most passengers are **Lower class passengers**.\n",
    "* Most passengers are **male**.\n",
    "* Average Age of passengers is **28** oldest passenger=80, youngest=0.42 (about 5 months).\n",
    "* Most passengers are **alone**.\n",
    "* Average Fare is 14.45 pounds\n",
    "\n"
   ]
  },
  {
   "cell_type": "code",
   "execution_count": 7,
   "id": "44f689ef",
   "metadata": {
    "execution": {
     "iopub.execute_input": "2022-12-21T11:36:27.029363Z",
     "iopub.status.busy": "2022-12-21T11:36:27.028252Z",
     "iopub.status.idle": "2022-12-21T11:36:27.037357Z",
     "shell.execute_reply": "2022-12-21T11:36:27.036646Z"
    },
    "papermill": {
     "duration": 0.029925,
     "end_time": "2022-12-21T11:36:27.039206",
     "exception": false,
     "start_time": "2022-12-21T11:36:27.009281",
     "status": "completed"
    },
    "tags": []
   },
   "outputs": [
    {
     "data": {
      "text/plain": [
       "PassengerId     0.000000\n",
       "Survived        0.000000\n",
       "Pclass          0.000000\n",
       "Name            0.000000\n",
       "Sex             0.000000\n",
       "Age            19.865320\n",
       "SibSp           0.000000\n",
       "Parch           0.000000\n",
       "Ticket          0.000000\n",
       "Fare            0.000000\n",
       "Cabin          77.104377\n",
       "Embarked        0.224467\n",
       "dtype: float64"
      ]
     },
     "execution_count": 7,
     "metadata": {},
     "output_type": "execute_result"
    }
   ],
   "source": [
    "# Missing values\n",
    "(train.isnull().sum()/train.shape[0]) * 100"
   ]
  },
  {
   "cell_type": "markdown",
   "id": "ad1f31b3",
   "metadata": {
    "papermill": {
     "duration": 0.017605,
     "end_time": "2022-12-21T11:36:27.074861",
     "exception": false,
     "start_time": "2022-12-21T11:36:27.057256",
     "status": "completed"
    },
    "tags": []
   },
   "source": [
    "### Missing values\n",
    "* Age has **19.8%** missing values.\n",
    "* Cabin has **77%** missing values.\n",
    "* Embarked has **0.22%** missing values"
   ]
  },
  {
   "cell_type": "markdown",
   "id": "d919fb98",
   "metadata": {
    "papermill": {
     "duration": 0.017899,
     "end_time": "2022-12-21T11:36:27.111147",
     "exception": false,
     "start_time": "2022-12-21T11:36:27.093248",
     "status": "completed"
    },
    "tags": []
   },
   "source": [
    "* ### Data Exploration\n",
    "Lets combine both datasets since both are similier\n",
    "Below are the steps involved to understand, clean and prepare your data for building your predictive model:\n",
    "\n",
    "* Missing values treatment\n",
    "* Outlier treatment\n",
    "* Variable Identification\n",
    "* Univariate Analysis\n",
    "* Bi-variate Analysis\n",
    "* Variable transformation\n",
    "* Variable creation"
   ]
  },
  {
   "cell_type": "code",
   "execution_count": 8,
   "id": "d222f1cc",
   "metadata": {
    "execution": {
     "iopub.execute_input": "2022-12-21T11:36:27.149441Z",
     "iopub.status.busy": "2022-12-21T11:36:27.148705Z",
     "iopub.status.idle": "2022-12-21T11:36:27.159197Z",
     "shell.execute_reply": "2022-12-21T11:36:27.157707Z"
    },
    "papermill": {
     "duration": 0.033001,
     "end_time": "2022-12-21T11:36:27.162354",
     "exception": false,
     "start_time": "2022-12-21T11:36:27.129353",
     "status": "completed"
    },
    "tags": []
   },
   "outputs": [
    {
     "name": "stdout",
     "output_type": "stream",
     "text": [
      "After combining the datasets (row,col):  (1309, 13)\n"
     ]
    }
   ],
   "source": [
    "# Combining Datasets\n",
    "train['source'] = 'train'\n",
    "test['source'] = 'test'\n",
    "data = pd.concat([train, test], ignore_index=True)\n",
    "print('After combining the datasets (row,col): ', data.shape)"
   ]
  },
  {
   "cell_type": "markdown",
   "id": "fe1acd65",
   "metadata": {
    "papermill": {
     "duration": 0.018411,
     "end_time": "2022-12-21T11:36:27.199154",
     "exception": false,
     "start_time": "2022-12-21T11:36:27.180743",
     "status": "completed"
    },
    "tags": []
   },
   "source": [
    "* ### Missing Values\n",
    "1. Numeric Values\n",
    "2. Categorial Values"
   ]
  },
  {
   "cell_type": "code",
   "execution_count": 9,
   "id": "aded95ee",
   "metadata": {
    "execution": {
     "iopub.execute_input": "2022-12-21T11:36:27.244386Z",
     "iopub.status.busy": "2022-12-21T11:36:27.243121Z",
     "iopub.status.idle": "2022-12-21T11:36:27.255263Z",
     "shell.execute_reply": "2022-12-21T11:36:27.254535Z"
    },
    "papermill": {
     "duration": 0.040466,
     "end_time": "2022-12-21T11:36:27.257445",
     "exception": false,
     "start_time": "2022-12-21T11:36:27.216979",
     "status": "completed"
    },
    "tags": []
   },
   "outputs": [
    {
     "data": {
      "text/plain": [
       "PassengerId     0.000000\n",
       "Survived       31.932773\n",
       "Pclass          0.000000\n",
       "Name            0.000000\n",
       "Sex             0.000000\n",
       "Age            20.091673\n",
       "SibSp           0.000000\n",
       "Parch           0.000000\n",
       "Ticket          0.000000\n",
       "Fare            0.076394\n",
       "Cabin          77.463713\n",
       "Embarked        0.152788\n",
       "source          0.000000\n",
       "dtype: float64"
      ]
     },
     "execution_count": 9,
     "metadata": {},
     "output_type": "execute_result"
    }
   ],
   "source": [
    "# Fill empty and NaNs values with NaN\n",
    "# Missing values\n",
    "(data.isnull().sum()/data.shape[0]) * 100"
   ]
  },
  {
   "cell_type": "markdown",
   "id": "b2d7080e",
   "metadata": {
    "papermill": {
     "duration": 0.019529,
     "end_time": "2022-12-21T11:36:27.302160",
     "exception": false,
     "start_time": "2022-12-21T11:36:27.282631",
     "status": "completed"
    },
    "tags": []
   },
   "source": [
    "* Age here is **continuies value** and also age is corelated with **parch/sibling** and since there is subpopulation in age is **children** having higher chance of **surrvival** we need visulize the age **carefully**."
   ]
  },
  {
   "cell_type": "code",
   "execution_count": 10,
   "id": "14eed4d2",
   "metadata": {
    "execution": {
     "iopub.execute_input": "2022-12-21T11:36:27.346588Z",
     "iopub.status.busy": "2022-12-21T11:36:27.345794Z",
     "iopub.status.idle": "2022-12-21T11:36:27.356168Z",
     "shell.execute_reply": "2022-12-21T11:36:27.355163Z"
    },
    "papermill": {
     "duration": 0.03211,
     "end_time": "2022-12-21T11:36:27.358345",
     "exception": false,
     "start_time": "2022-12-21T11:36:27.326235",
     "status": "completed"
    },
    "tags": []
   },
   "outputs": [
    {
     "data": {
      "text/plain": [
       "count    1046.000000\n",
       "mean       29.881138\n",
       "std        14.413493\n",
       "min         0.170000\n",
       "25%        21.000000\n",
       "50%        28.000000\n",
       "75%        39.000000\n",
       "max        80.000000\n",
       "Name: Age, dtype: float64"
      ]
     },
     "execution_count": 10,
     "metadata": {},
     "output_type": "execute_result"
    }
   ],
   "source": [
    "# Lets deal with Age first\n",
    "data.Age.describe()\n"
   ]
  },
  {
   "cell_type": "code",
   "execution_count": 11,
   "id": "ec9a6206",
   "metadata": {
    "execution": {
     "iopub.execute_input": "2022-12-21T11:36:27.397190Z",
     "iopub.status.busy": "2022-12-21T11:36:27.396808Z",
     "iopub.status.idle": "2022-12-21T11:36:27.748843Z",
     "shell.execute_reply": "2022-12-21T11:36:27.747789Z"
    },
    "papermill": {
     "duration": 0.374862,
     "end_time": "2022-12-21T11:36:27.751516",
     "exception": false,
     "start_time": "2022-12-21T11:36:27.376654",
     "status": "completed"
    },
    "tags": []
   },
   "outputs": [
    {
     "data": {
      "image/png": "[encoded data removed]",
      "text/plain": [
       "<Figure size 432x288 with 1 Axes>"
      ]
     },
     "metadata": {},
     "output_type": "display_data"
    }
   ],
   "source": [
    "# Age Distribution\n",
    "ax = sns.histplot(x=data['Age'], bins=10, kde=True)\n",
    "ax.set_ylabel('Number of Passengers')\n",
    "ax.set_title('Age Distribution', fontsize=20)\n",
    "sns.despine(offset=5, trim=True)\n"
   ]
  },
  {
   "cell_type": "code",
   "execution_count": 12,
   "id": "63780166",
   "metadata": {
    "execution": {
     "iopub.execute_input": "2022-12-21T11:36:27.791729Z",
     "iopub.status.busy": "2022-12-21T11:36:27.791307Z",
     "iopub.status.idle": "2022-12-21T11:36:29.608806Z",
     "shell.execute_reply": "2022-12-21T11:36:29.607780Z"
    },
    "papermill": {
     "duration": 1.84018,
     "end_time": "2022-12-21T11:36:29.611061",
     "exception": false,
     "start_time": "2022-12-21T11:36:27.770881",
     "status": "completed"
    },
    "tags": []
   },
   "outputs": [
    {
     "data": {
      "text/plain": [
       "<seaborn.axisgrid.FacetGrid at 0x7fb1ec226210>"
      ]
     },
     "execution_count": 12,
     "metadata": {},
     "output_type": "execute_result"
    },
    {
     "data": {
      "image/png": "[encoded data removed]",
      "text/plain": [
       "<Figure size 360x360 with 1 Axes>"
      ]
     },
     "metadata": {},
     "output_type": "display_data"
    },
    {
     "data": {
      "image/png": "[encoded data removed]",
      "text/plain": [
       "<Figure size 397.305x360 with 1 Axes>"
      ]
     },
     "metadata": {},
     "output_type": "display_data"
    },
    {
     "data": {
      "image/png": "[encoded data removed]",
      "text/plain": [
       "<Figure size 360x360 with 1 Axes>"
      ]
     },
     "metadata": {},
     "output_type": "display_data"
    },
    {
     "data": {
      "image/png": "[encoded data removed]",
      "text/plain": [
       "<Figure size 360x360 with 1 Axes>"
      ]
     },
     "metadata": {},
     "output_type": "display_data"
    }
   ],
   "source": [
    "# Explore Age\n",
    "\n",
    "ax = sns.catplot(y=\"Age\",x=\"Sex\",data=data,kind=\"box\")\n",
    "ax.despine(offset=1, trim=True)\n",
    "ax = sns.catplot(y=\"Age\",x=\"Sex\",hue=\"Pclass\", data=data,kind=\"box\")\n",
    "ax.despine(offset=1, trim=True)\n",
    "ax = sns.catplot(y=\"Age\",x=\"Parch\", data=data,kind=\"box\")\n",
    "ax.despine(offset=1, trim=True)\n",
    "ax = sns.catplot(y=\"Age\",x=\"SibSp\", data=data,kind=\"box\")\n",
    "ax.despine(offset=1, trim=True)\n",
    "\n"
   ]
  },
  {
   "cell_type": "markdown",
   "id": "51098fd4",
   "metadata": {
    "papermill": {
     "duration": 0.019304,
     "end_time": "2022-12-21T11:36:29.650344",
     "exception": false,
     "start_time": "2022-12-21T11:36:29.631040",
     "status": "completed"
    },
    "tags": []
   },
   "source": [
    "## Observations\n",
    "* Age and **Sex** has almost **same distribution**.\n",
    "* **1st class** passenger are **older** then **2nd class**, and 2nd are **older** then **3rd class**.\n",
    "* Person having more **parents/children** are **older**.\n",
    "* Person having more **siblings/spouse** are **younger**."
   ]
  },
  {
   "cell_type": "code",
   "execution_count": 13,
   "id": "fba762d0",
   "metadata": {
    "execution": {
     "iopub.execute_input": "2022-12-21T11:36:29.692406Z",
     "iopub.status.busy": "2022-12-21T11:36:29.691971Z",
     "iopub.status.idle": "2022-12-21T11:36:30.053646Z",
     "shell.execute_reply": "2022-12-21T11:36:30.052546Z"
    },
    "papermill": {
     "duration": 0.385341,
     "end_time": "2022-12-21T11:36:30.055854",
     "exception": false,
     "start_time": "2022-12-21T11:36:29.670513",
     "status": "completed"
    },
    "tags": []
   },
   "outputs": [
    {
     "data": {
      "text/plain": [
       "Text(0.5, 1.0, 'Correlation of Age\\n')"
      ]
     },
     "execution_count": 13,
     "metadata": {},
     "output_type": "execute_result"
    },
    {
     "data": {
      "image/png": "[encoded data removed]",
      "text/plain": [
       "<Figure size 432x288 with 2 Axes>"
      ]
     },
     "metadata": {},
     "output_type": "display_data"
    }
   ],
   "source": [
    "# Convert Sex 0, 1 into male female\n",
    "data['Sex'] = data['Sex'].map({'male': 0, 'female': 1})\n",
    "ax = sns.heatmap(data=data[['Age','Sex','Pclass', 'Parch', 'SibSp']].corr(), cmap='gist_heat' , annot=True)\n",
    "ax.set_title('Correlation of Age\\n', fontsize=20)"
   ]
  },
  {
   "cell_type": "markdown",
   "id": "ff5c2d0f",
   "metadata": {
    "papermill": {
     "duration": 0.023103,
     "end_time": "2022-12-21T11:36:30.099724",
     "exception": false,
     "start_time": "2022-12-21T11:36:30.076621",
     "status": "completed"
    },
    "tags": []
   },
   "source": [
    "### Observations\n",
    "* Above heatmap **confirms the catplots except Parch**. age is not correlated with sex, But **negativly correlated with Parch, Pclass, SibSp**"
   ]
  },
  {
   "cell_type": "code",
   "execution_count": 14,
   "id": "a9aea1ef",
   "metadata": {
    "execution": {
     "iopub.execute_input": "2022-12-21T11:36:30.142572Z",
     "iopub.status.busy": "2022-12-21T11:36:30.141908Z",
     "iopub.status.idle": "2022-12-21T11:36:30.172069Z",
     "shell.execute_reply": "2022-12-21T11:36:30.170880Z"
    },
    "papermill": {
     "duration": 0.055041,
     "end_time": "2022-12-21T11:36:30.174877",
     "exception": false,
     "start_time": "2022-12-21T11:36:30.119836",
     "status": "completed"
    },
    "tags": []
   },
   "outputs": [],
   "source": [
    "# Imputate missing values of age wrt Parch, SibSp, Parch, Pclass\n",
    "data['Age'] = data.groupby(['Parch', 'SibSp', 'Pclass'])['Age'].apply(lambda i:i.fillna(i.median()))\n",
    "data['Age'] = data['Age'].fillna(data['Age'].median())\n",
    "\n",
    "# delete cabin data becuase it contains % missing data\n",
    "data = data.drop('Cabin', axis=1)\n",
    "\n",
    "# fill missing values in Embarked with mode\n",
    "data.Embarked = data.Embarked.fillna('S')\n",
    "\n",
    "# Fill missing values in Fare with median\n",
    "data['Fare'] = data['Fare'].fillna(data['Fare'].median())\n"
   ]
  },
  {
   "cell_type": "code",
   "execution_count": 15,
   "id": "accd493f",
   "metadata": {
    "execution": {
     "iopub.execute_input": "2022-12-21T11:36:30.218248Z",
     "iopub.status.busy": "2022-12-21T11:36:30.217872Z",
     "iopub.status.idle": "2022-12-21T11:36:30.228431Z",
     "shell.execute_reply": "2022-12-21T11:36:30.227328Z"
    },
    "papermill": {
     "duration": 0.036442,
     "end_time": "2022-12-21T11:36:30.232077",
     "exception": false,
     "start_time": "2022-12-21T11:36:30.195635",
     "status": "completed"
    },
    "tags": []
   },
   "outputs": [
    {
     "name": "stdout",
     "output_type": "stream",
     "text": [
      "Missing Values afer imputation \n",
      "\n"
     ]
    },
    {
     "data": {
      "text/plain": [
       "PassengerId     0.000000\n",
       "Survived       31.932773\n",
       "Pclass          0.000000\n",
       "Name            0.000000\n",
       "Sex             0.000000\n",
       "Age             0.000000\n",
       "SibSp           0.000000\n",
       "Parch           0.000000\n",
       "Ticket          0.000000\n",
       "Fare            0.000000\n",
       "Embarked        0.000000\n",
       "source          0.000000\n",
       "dtype: float64"
      ]
     },
     "execution_count": 15,
     "metadata": {},
     "output_type": "execute_result"
    }
   ],
   "source": [
    "print('Missing Values afer imputation \\n')\n",
    "(data.isnull().sum()/data.shape[0]) * 100"
   ]
  },
  {
   "cell_type": "markdown",
   "id": "81371e9f",
   "metadata": {
    "papermill": {
     "duration": 0.020804,
     "end_time": "2022-12-21T11:36:30.274508",
     "exception": false,
     "start_time": "2022-12-21T11:36:30.253704",
     "status": "completed"
    },
    "tags": []
   },
   "source": [
    "* ### Outliers"
   ]
  },
  {
   "cell_type": "code",
   "execution_count": 16,
   "id": "ca794ab8",
   "metadata": {
    "execution": {
     "iopub.execute_input": "2022-12-21T11:36:30.318802Z",
     "iopub.status.busy": "2022-12-21T11:36:30.317529Z",
     "iopub.status.idle": "2022-12-21T11:36:30.349678Z",
     "shell.execute_reply": "2022-12-21T11:36:30.348454Z"
    },
    "papermill": {
     "duration": 0.056739,
     "end_time": "2022-12-21T11:36:30.352062",
     "exception": false,
     "start_time": "2022-12-21T11:36:30.295323",
     "status": "completed"
    },
    "tags": []
   },
   "outputs": [
    {
     "name": "stdout",
     "output_type": "stream",
     "text": [
      "Outliers \n",
      "\n",
      "\n"
     ]
    },
    {
     "data": {
      "text/html": [
       "<div>\n",
       "<style scoped>\n",
       "    .dataframe tbody tr th:only-of-type {\n",
       "        vertical-align: middle;\n",
       "    }\n",
       "\n",
       "    .dataframe tbody tr th {\n",
       "        vertical-align: top;\n",
       "    }\n",
       "\n",
       "    .dataframe thead th {\n",
       "        text-align: right;\n",
       "    }\n",
       "</style>\n",
       "<table border=\"1\" class=\"dataframe\">\n",
       "  <thead>\n",
       "    <tr style=\"text-align: right;\">\n",
       "      <th></th>\n",
       "      <th>PassengerId</th>\n",
       "      <th>Survived</th>\n",
       "      <th>Pclass</th>\n",
       "      <th>Name</th>\n",
       "      <th>Sex</th>\n",
       "      <th>Age</th>\n",
       "      <th>SibSp</th>\n",
       "      <th>Parch</th>\n",
       "      <th>Ticket</th>\n",
       "      <th>Fare</th>\n",
       "      <th>Cabin</th>\n",
       "      <th>Embarked</th>\n",
       "      <th>source</th>\n",
       "    </tr>\n",
       "  </thead>\n",
       "  <tbody>\n",
       "    <tr>\n",
       "      <th>27</th>\n",
       "      <td>28</td>\n",
       "      <td>0</td>\n",
       "      <td>1</td>\n",
       "      <td>Fortune, Mr. Charles Alexander</td>\n",
       "      <td>male</td>\n",
       "      <td>19.0</td>\n",
       "      <td>3</td>\n",
       "      <td>2</td>\n",
       "      <td>19950</td>\n",
       "      <td>263.00</td>\n",
       "      <td>C23 C25 C27</td>\n",
       "      <td>S</td>\n",
       "      <td>train</td>\n",
       "    </tr>\n",
       "    <tr>\n",
       "      <th>88</th>\n",
       "      <td>89</td>\n",
       "      <td>1</td>\n",
       "      <td>1</td>\n",
       "      <td>Fortune, Miss. Mabel Helen</td>\n",
       "      <td>female</td>\n",
       "      <td>23.0</td>\n",
       "      <td>3</td>\n",
       "      <td>2</td>\n",
       "      <td>19950</td>\n",
       "      <td>263.00</td>\n",
       "      <td>C23 C25 C27</td>\n",
       "      <td>S</td>\n",
       "      <td>train</td>\n",
       "    </tr>\n",
       "    <tr>\n",
       "      <th>159</th>\n",
       "      <td>160</td>\n",
       "      <td>0</td>\n",
       "      <td>3</td>\n",
       "      <td>Sage, Master. Thomas Henry</td>\n",
       "      <td>male</td>\n",
       "      <td>NaN</td>\n",
       "      <td>8</td>\n",
       "      <td>2</td>\n",
       "      <td>CA. 2343</td>\n",
       "      <td>69.55</td>\n",
       "      <td>NaN</td>\n",
       "      <td>S</td>\n",
       "      <td>train</td>\n",
       "    </tr>\n",
       "    <tr>\n",
       "      <th>180</th>\n",
       "      <td>181</td>\n",
       "      <td>0</td>\n",
       "      <td>3</td>\n",
       "      <td>Sage, Miss. Constance Gladys</td>\n",
       "      <td>female</td>\n",
       "      <td>NaN</td>\n",
       "      <td>8</td>\n",
       "      <td>2</td>\n",
       "      <td>CA. 2343</td>\n",
       "      <td>69.55</td>\n",
       "      <td>NaN</td>\n",
       "      <td>S</td>\n",
       "      <td>train</td>\n",
       "    </tr>\n",
       "    <tr>\n",
       "      <th>201</th>\n",
       "      <td>202</td>\n",
       "      <td>0</td>\n",
       "      <td>3</td>\n",
       "      <td>Sage, Mr. Frederick</td>\n",
       "      <td>male</td>\n",
       "      <td>NaN</td>\n",
       "      <td>8</td>\n",
       "      <td>2</td>\n",
       "      <td>CA. 2343</td>\n",
       "      <td>69.55</td>\n",
       "      <td>NaN</td>\n",
       "      <td>S</td>\n",
       "      <td>train</td>\n",
       "    </tr>\n",
       "    <tr>\n",
       "      <th>324</th>\n",
       "      <td>325</td>\n",
       "      <td>0</td>\n",
       "      <td>3</td>\n",
       "      <td>Sage, Mr. George John Jr</td>\n",
       "      <td>male</td>\n",
       "      <td>NaN</td>\n",
       "      <td>8</td>\n",
       "      <td>2</td>\n",
       "      <td>CA. 2343</td>\n",
       "      <td>69.55</td>\n",
       "      <td>NaN</td>\n",
       "      <td>S</td>\n",
       "      <td>train</td>\n",
       "    </tr>\n",
       "    <tr>\n",
       "      <th>341</th>\n",
       "      <td>342</td>\n",
       "      <td>1</td>\n",
       "      <td>1</td>\n",
       "      <td>Fortune, Miss. Alice Elizabeth</td>\n",
       "      <td>female</td>\n",
       "      <td>24.0</td>\n",
       "      <td>3</td>\n",
       "      <td>2</td>\n",
       "      <td>19950</td>\n",
       "      <td>263.00</td>\n",
       "      <td>C23 C25 C27</td>\n",
       "      <td>S</td>\n",
       "      <td>train</td>\n",
       "    </tr>\n",
       "    <tr>\n",
       "      <th>792</th>\n",
       "      <td>793</td>\n",
       "      <td>0</td>\n",
       "      <td>3</td>\n",
       "      <td>Sage, Miss. Stella Anna</td>\n",
       "      <td>female</td>\n",
       "      <td>NaN</td>\n",
       "      <td>8</td>\n",
       "      <td>2</td>\n",
       "      <td>CA. 2343</td>\n",
       "      <td>69.55</td>\n",
       "      <td>NaN</td>\n",
       "      <td>S</td>\n",
       "      <td>train</td>\n",
       "    </tr>\n",
       "    <tr>\n",
       "      <th>846</th>\n",
       "      <td>847</td>\n",
       "      <td>0</td>\n",
       "      <td>3</td>\n",
       "      <td>Sage, Mr. Douglas Bullen</td>\n",
       "      <td>male</td>\n",
       "      <td>NaN</td>\n",
       "      <td>8</td>\n",
       "      <td>2</td>\n",
       "      <td>CA. 2343</td>\n",
       "      <td>69.55</td>\n",
       "      <td>NaN</td>\n",
       "      <td>S</td>\n",
       "      <td>train</td>\n",
       "    </tr>\n",
       "    <tr>\n",
       "      <th>863</th>\n",
       "      <td>864</td>\n",
       "      <td>0</td>\n",
       "      <td>3</td>\n",
       "      <td>Sage, Miss. Dorothy Edith \"Dolly\"</td>\n",
       "      <td>female</td>\n",
       "      <td>NaN</td>\n",
       "      <td>8</td>\n",
       "      <td>2</td>\n",
       "      <td>CA. 2343</td>\n",
       "      <td>69.55</td>\n",
       "      <td>NaN</td>\n",
       "      <td>S</td>\n",
       "      <td>train</td>\n",
       "    </tr>\n",
       "  </tbody>\n",
       "</table>\n",
       "</div>"
      ],
      "text/plain": [
       "     PassengerId  Survived  Pclass                               Name     Sex  \\\n",
       "27            28         0       1     Fortune, Mr. Charles Alexander    male   \n",
       "88            89         1       1         Fortune, Miss. Mabel Helen  female   \n",
       "159          160         0       3         Sage, Master. Thomas Henry    male   \n",
       "180          181         0       3       Sage, Miss. Constance Gladys  female   \n",
       "201          202         0       3                Sage, Mr. Frederick    male   \n",
       "324          325         0       3           Sage, Mr. George John Jr    male   \n",
       "341          342         1       1     Fortune, Miss. Alice Elizabeth  female   \n",
       "792          793         0       3            Sage, Miss. Stella Anna  female   \n",
       "846          847         0       3           Sage, Mr. Douglas Bullen    male   \n",
       "863          864         0       3  Sage, Miss. Dorothy Edith \"Dolly\"  female   \n",
       "\n",
       "      Age  SibSp  Parch    Ticket    Fare        Cabin Embarked source  \n",
       "27   19.0      3      2     19950  263.00  C23 C25 C27        S  train  \n",
       "88   23.0      3      2     19950  263.00  C23 C25 C27        S  train  \n",
       "159   NaN      8      2  CA. 2343   69.55          NaN        S  train  \n",
       "180   NaN      8      2  CA. 2343   69.55          NaN        S  train  \n",
       "201   NaN      8      2  CA. 2343   69.55          NaN        S  train  \n",
       "324   NaN      8      2  CA. 2343   69.55          NaN        S  train  \n",
       "341  24.0      3      2     19950  263.00  C23 C25 C27        S  train  \n",
       "792   NaN      8      2  CA. 2343   69.55          NaN        S  train  \n",
       "846   NaN      8      2  CA. 2343   69.55          NaN        S  train  \n",
       "863   NaN      8      2  CA. 2343   69.55          NaN        S  train  "
      ]
     },
     "execution_count": 16,
     "metadata": {},
     "output_type": "execute_result"
    }
   ],
   "source": [
    "# Outlier detection \n",
    "\n",
    "def detect_outliers(df,n,features):\n",
    "    \"\"\"\n",
    "    Takes a dataframe df of features and returns a list of the indices\n",
    "    corresponding to the observations containing more than n outliers according\n",
    "    to the Tukey method.\n",
    "    \"\"\"\n",
    "    outlier_indices = []\n",
    "    \n",
    "    # iterate over features(columns)\n",
    "    for col in features:\n",
    "        # 1st quartile (25%)\n",
    "        Q1 = np.percentile(df[col], 25)\n",
    "        # 3rd quartile (75%)\n",
    "        Q3 = np.percentile(df[col],75)\n",
    "        # Interquartile range (IQR)\n",
    "        IQR = Q3 - Q1\n",
    "        \n",
    "        # outlier step\n",
    "        outlier_step = 1.5 * IQR\n",
    "        \n",
    "        # Determine a list of indices of outliers for feature col\n",
    "        outlier_list_col = df[(df[col] < Q1 - outlier_step) | (df[col] > Q3 + outlier_step )].index\n",
    "        \n",
    "        # append the found outlier indices for col to the list of outlier indices \n",
    "        outlier_indices.extend(outlier_list_col)\n",
    "        \n",
    "    # select observations containing more than 2 outliers\n",
    "    outlier_indices = Counter(outlier_indices)        \n",
    "    multiple_outliers = list( k for k, v in outlier_indices.items() if v > n )\n",
    "    return multiple_outliers\n",
    "\n",
    "# detect outliers from Age, SibSp , Parch and Fare\n",
    "Outliers_to_drop = detect_outliers(train,2,[\"Age\",\"SibSp\",\"Parch\",\"Fare\"])\n",
    "\n",
    "#  Show the outliers rows\n",
    "print(\"Outliers \\n\\n\")\n",
    "train.loc[Outliers_to_drop]\n",
    "#  Show the outliers rows"
   ]
  },
  {
   "cell_type": "code",
   "execution_count": 17,
   "id": "befca091",
   "metadata": {
    "execution": {
     "iopub.execute_input": "2022-12-21T11:36:30.396947Z",
     "iopub.status.busy": "2022-12-21T11:36:30.396197Z",
     "iopub.status.idle": "2022-12-21T11:36:30.402037Z",
     "shell.execute_reply": "2022-12-21T11:36:30.401283Z"
    },
    "papermill": {
     "duration": 0.030494,
     "end_time": "2022-12-21T11:36:30.404035",
     "exception": false,
     "start_time": "2022-12-21T11:36:30.373541",
     "status": "completed"
    },
    "tags": []
   },
   "outputs": [],
   "source": [
    "# Drop outliers\n",
    "train = train.drop(Outliers_to_drop, axis = 0).reset_index(drop=True)"
   ]
  },
  {
   "cell_type": "code",
   "execution_count": 18,
   "id": "3fba3ea0",
   "metadata": {
    "execution": {
     "iopub.execute_input": "2022-12-21T11:36:30.447782Z",
     "iopub.status.busy": "2022-12-21T11:36:30.446956Z",
     "iopub.status.idle": "2022-12-21T11:36:30.462180Z",
     "shell.execute_reply": "2022-12-21T11:36:30.461439Z"
    },
    "papermill": {
     "duration": 0.039476,
     "end_time": "2022-12-21T11:36:30.464354",
     "exception": false,
     "start_time": "2022-12-21T11:36:30.424878",
     "status": "completed"
    },
    "tags": []
   },
   "outputs": [
    {
     "data": {
      "text/html": [
       "<div>\n",
       "<style scoped>\n",
       "    .dataframe tbody tr th:only-of-type {\n",
       "        vertical-align: middle;\n",
       "    }\n",
       "\n",
       "    .dataframe tbody tr th {\n",
       "        vertical-align: top;\n",
       "    }\n",
       "\n",
       "    .dataframe thead th {\n",
       "        text-align: right;\n",
       "    }\n",
       "</style>\n",
       "<table border=\"1\" class=\"dataframe\">\n",
       "  <thead>\n",
       "    <tr style=\"text-align: right;\">\n",
       "      <th></th>\n",
       "      <th>PassengerId</th>\n",
       "      <th>Survived</th>\n",
       "      <th>Pclass</th>\n",
       "      <th>Name</th>\n",
       "      <th>Sex</th>\n",
       "      <th>Age</th>\n",
       "      <th>SibSp</th>\n",
       "      <th>Parch</th>\n",
       "      <th>Ticket</th>\n",
       "      <th>Fare</th>\n",
       "      <th>Embarked</th>\n",
       "      <th>source</th>\n",
       "    </tr>\n",
       "  </thead>\n",
       "  <tbody>\n",
       "    <tr>\n",
       "      <th>0</th>\n",
       "      <td>1</td>\n",
       "      <td>0.0</td>\n",
       "      <td>3</td>\n",
       "      <td>Braund, Mr. Owen Harris</td>\n",
       "      <td>0</td>\n",
       "      <td>22.0</td>\n",
       "      <td>1</td>\n",
       "      <td>0</td>\n",
       "      <td>A/5 21171</td>\n",
       "      <td>7.2500</td>\n",
       "      <td>S</td>\n",
       "      <td>train</td>\n",
       "    </tr>\n",
       "    <tr>\n",
       "      <th>1</th>\n",
       "      <td>2</td>\n",
       "      <td>1.0</td>\n",
       "      <td>1</td>\n",
       "      <td>Cumings, Mrs. John Bradley (Florence Briggs Th...</td>\n",
       "      <td>1</td>\n",
       "      <td>38.0</td>\n",
       "      <td>1</td>\n",
       "      <td>0</td>\n",
       "      <td>PC 17599</td>\n",
       "      <td>71.2833</td>\n",
       "      <td>C</td>\n",
       "      <td>train</td>\n",
       "    </tr>\n",
       "    <tr>\n",
       "      <th>2</th>\n",
       "      <td>3</td>\n",
       "      <td>1.0</td>\n",
       "      <td>3</td>\n",
       "      <td>Heikkinen, Miss. Laina</td>\n",
       "      <td>1</td>\n",
       "      <td>26.0</td>\n",
       "      <td>0</td>\n",
       "      <td>0</td>\n",
       "      <td>STON/O2. 3101282</td>\n",
       "      <td>7.9250</td>\n",
       "      <td>S</td>\n",
       "      <td>train</td>\n",
       "    </tr>\n",
       "    <tr>\n",
       "      <th>3</th>\n",
       "      <td>4</td>\n",
       "      <td>1.0</td>\n",
       "      <td>1</td>\n",
       "      <td>Futrelle, Mrs. Jacques Heath (Lily May Peel)</td>\n",
       "      <td>1</td>\n",
       "      <td>35.0</td>\n",
       "      <td>1</td>\n",
       "      <td>0</td>\n",
       "      <td>113803</td>\n",
       "      <td>53.1000</td>\n",
       "      <td>S</td>\n",
       "      <td>train</td>\n",
       "    </tr>\n",
       "    <tr>\n",
       "      <th>4</th>\n",
       "      <td>5</td>\n",
       "      <td>0.0</td>\n",
       "      <td>3</td>\n",
       "      <td>Allen, Mr. William Henry</td>\n",
       "      <td>0</td>\n",
       "      <td>35.0</td>\n",
       "      <td>0</td>\n",
       "      <td>0</td>\n",
       "      <td>373450</td>\n",
       "      <td>8.0500</td>\n",
       "      <td>S</td>\n",
       "      <td>train</td>\n",
       "    </tr>\n",
       "  </tbody>\n",
       "</table>\n",
       "</div>"
      ],
      "text/plain": [
       "   PassengerId  Survived  Pclass  \\\n",
       "0            1       0.0       3   \n",
       "1            2       1.0       1   \n",
       "2            3       1.0       3   \n",
       "3            4       1.0       1   \n",
       "4            5       0.0       3   \n",
       "\n",
       "                                                Name  Sex   Age  SibSp  Parch  \\\n",
       "0                            Braund, Mr. Owen Harris    0  22.0      1      0   \n",
       "1  Cumings, Mrs. John Bradley (Florence Briggs Th...    1  38.0      1      0   \n",
       "2                             Heikkinen, Miss. Laina    1  26.0      0      0   \n",
       "3       Futrelle, Mrs. Jacques Heath (Lily May Peel)    1  35.0      1      0   \n",
       "4                           Allen, Mr. William Henry    0  35.0      0      0   \n",
       "\n",
       "             Ticket     Fare Embarked source  \n",
       "0         A/5 21171   7.2500        S  train  \n",
       "1          PC 17599  71.2833        C  train  \n",
       "2  STON/O2. 3101282   7.9250        S  train  \n",
       "3            113803  53.1000        S  train  \n",
       "4            373450   8.0500        S  train  "
      ]
     },
     "execution_count": 18,
     "metadata": {},
     "output_type": "execute_result"
    }
   ],
   "source": [
    "data.head()"
   ]
  },
  {
   "cell_type": "markdown",
   "id": "146e1913",
   "metadata": {
    "papermill": {
     "duration": 0.021215,
     "end_time": "2022-12-21T11:36:30.506986",
     "exception": false,
     "start_time": "2022-12-21T11:36:30.485771",
     "status": "completed"
    },
    "tags": []
   },
   "source": [
    "#### Veriable Identification\n",
    "* Numeric Data\n",
    "* Categorical Data"
   ]
  },
  {
   "cell_type": "code",
   "execution_count": 19,
   "id": "aa308be6",
   "metadata": {
    "execution": {
     "iopub.execute_input": "2022-12-21T11:36:30.552145Z",
     "iopub.status.busy": "2022-12-21T11:36:30.551547Z",
     "iopub.status.idle": "2022-12-21T11:36:30.555070Z",
     "shell.execute_reply": "2022-12-21T11:36:30.554397Z"
    },
    "papermill": {
     "duration": 0.02845,
     "end_time": "2022-12-21T11:36:30.557065",
     "exception": false,
     "start_time": "2022-12-21T11:36:30.528615",
     "status": "completed"
    },
    "tags": []
   },
   "outputs": [],
   "source": [
    "# # assign male and female to 0,1 in Sex\n",
    "# data['Sex'] = data['Sex'].map({0:'male', 1:'female'})\n",
    "\n",
    "# # assign 1st, 2nd, 3rd class to Pclass\n",
    "# data['Pclass'] = data['Pclass'].map({1:'Upper', 2:'Middle', 3:'Lower'})"
   ]
  },
  {
   "cell_type": "code",
   "execution_count": 20,
   "id": "00abc6a6",
   "metadata": {
    "execution": {
     "iopub.execute_input": "2022-12-21T11:36:30.602426Z",
     "iopub.status.busy": "2022-12-21T11:36:30.601738Z",
     "iopub.status.idle": "2022-12-21T11:36:30.609042Z",
     "shell.execute_reply": "2022-12-21T11:36:30.608386Z"
    },
    "papermill": {
     "duration": 0.032214,
     "end_time": "2022-12-21T11:36:30.611059",
     "exception": false,
     "start_time": "2022-12-21T11:36:30.578845",
     "status": "completed"
    },
    "tags": []
   },
   "outputs": [],
   "source": [
    "# Separating Numeric and categorical Data\n",
    "num_df = data.select_dtypes('number')\n",
    "cat_df = data.select_dtypes('object')"
   ]
  },
  {
   "cell_type": "code",
   "execution_count": 21,
   "id": "c9183217",
   "metadata": {
    "execution": {
     "iopub.execute_input": "2022-12-21T11:36:30.655146Z",
     "iopub.status.busy": "2022-12-21T11:36:30.654514Z",
     "iopub.status.idle": "2022-12-21T11:36:30.667644Z",
     "shell.execute_reply": "2022-12-21T11:36:30.666553Z"
    },
    "papermill": {
     "duration": 0.037339,
     "end_time": "2022-12-21T11:36:30.669651",
     "exception": false,
     "start_time": "2022-12-21T11:36:30.632312",
     "status": "completed"
    },
    "tags": []
   },
   "outputs": [
    {
     "data": {
      "text/html": [
       "<div>\n",
       "<style scoped>\n",
       "    .dataframe tbody tr th:only-of-type {\n",
       "        vertical-align: middle;\n",
       "    }\n",
       "\n",
       "    .dataframe tbody tr th {\n",
       "        vertical-align: top;\n",
       "    }\n",
       "\n",
       "    .dataframe thead th {\n",
       "        text-align: right;\n",
       "    }\n",
       "</style>\n",
       "<table border=\"1\" class=\"dataframe\">\n",
       "  <thead>\n",
       "    <tr style=\"text-align: right;\">\n",
       "      <th></th>\n",
       "      <th>PassengerId</th>\n",
       "      <th>Survived</th>\n",
       "      <th>Pclass</th>\n",
       "      <th>Sex</th>\n",
       "      <th>Age</th>\n",
       "      <th>SibSp</th>\n",
       "      <th>Parch</th>\n",
       "      <th>Fare</th>\n",
       "    </tr>\n",
       "  </thead>\n",
       "  <tbody>\n",
       "    <tr>\n",
       "      <th>0</th>\n",
       "      <td>1</td>\n",
       "      <td>0.0</td>\n",
       "      <td>3</td>\n",
       "      <td>0</td>\n",
       "      <td>22.0</td>\n",
       "      <td>1</td>\n",
       "      <td>0</td>\n",
       "      <td>7.2500</td>\n",
       "    </tr>\n",
       "    <tr>\n",
       "      <th>1</th>\n",
       "      <td>2</td>\n",
       "      <td>1.0</td>\n",
       "      <td>1</td>\n",
       "      <td>1</td>\n",
       "      <td>38.0</td>\n",
       "      <td>1</td>\n",
       "      <td>0</td>\n",
       "      <td>71.2833</td>\n",
       "    </tr>\n",
       "    <tr>\n",
       "      <th>2</th>\n",
       "      <td>3</td>\n",
       "      <td>1.0</td>\n",
       "      <td>3</td>\n",
       "      <td>1</td>\n",
       "      <td>26.0</td>\n",
       "      <td>0</td>\n",
       "      <td>0</td>\n",
       "      <td>7.9250</td>\n",
       "    </tr>\n",
       "    <tr>\n",
       "      <th>3</th>\n",
       "      <td>4</td>\n",
       "      <td>1.0</td>\n",
       "      <td>1</td>\n",
       "      <td>1</td>\n",
       "      <td>35.0</td>\n",
       "      <td>1</td>\n",
       "      <td>0</td>\n",
       "      <td>53.1000</td>\n",
       "    </tr>\n",
       "    <tr>\n",
       "      <th>4</th>\n",
       "      <td>5</td>\n",
       "      <td>0.0</td>\n",
       "      <td>3</td>\n",
       "      <td>0</td>\n",
       "      <td>35.0</td>\n",
       "      <td>0</td>\n",
       "      <td>0</td>\n",
       "      <td>8.0500</td>\n",
       "    </tr>\n",
       "  </tbody>\n",
       "</table>\n",
       "</div>"
      ],
      "text/plain": [
       "   PassengerId  Survived  Pclass  Sex   Age  SibSp  Parch     Fare\n",
       "0            1       0.0       3    0  22.0      1      0   7.2500\n",
       "1            2       1.0       1    1  38.0      1      0  71.2833\n",
       "2            3       1.0       3    1  26.0      0      0   7.9250\n",
       "3            4       1.0       1    1  35.0      1      0  53.1000\n",
       "4            5       0.0       3    0  35.0      0      0   8.0500"
      ]
     },
     "execution_count": 21,
     "metadata": {},
     "output_type": "execute_result"
    }
   ],
   "source": [
    "#Numeric Data\n",
    "num_df.head()"
   ]
  },
  {
   "cell_type": "code",
   "execution_count": 22,
   "id": "3a73d82b",
   "metadata": {
    "execution": {
     "iopub.execute_input": "2022-12-21T11:36:30.714353Z",
     "iopub.status.busy": "2022-12-21T11:36:30.713971Z",
     "iopub.status.idle": "2022-12-21T11:36:30.725520Z",
     "shell.execute_reply": "2022-12-21T11:36:30.724452Z"
    },
    "papermill": {
     "duration": 0.036337,
     "end_time": "2022-12-21T11:36:30.727612",
     "exception": false,
     "start_time": "2022-12-21T11:36:30.691275",
     "status": "completed"
    },
    "tags": []
   },
   "outputs": [
    {
     "data": {
      "text/html": [
       "<div>\n",
       "<style scoped>\n",
       "    .dataframe tbody tr th:only-of-type {\n",
       "        vertical-align: middle;\n",
       "    }\n",
       "\n",
       "    .dataframe tbody tr th {\n",
       "        vertical-align: top;\n",
       "    }\n",
       "\n",
       "    .dataframe thead th {\n",
       "        text-align: right;\n",
       "    }\n",
       "</style>\n",
       "<table border=\"1\" class=\"dataframe\">\n",
       "  <thead>\n",
       "    <tr style=\"text-align: right;\">\n",
       "      <th></th>\n",
       "      <th>Name</th>\n",
       "      <th>Ticket</th>\n",
       "      <th>Embarked</th>\n",
       "      <th>source</th>\n",
       "    </tr>\n",
       "  </thead>\n",
       "  <tbody>\n",
       "    <tr>\n",
       "      <th>0</th>\n",
       "      <td>Braund, Mr. Owen Harris</td>\n",
       "      <td>A/5 21171</td>\n",
       "      <td>S</td>\n",
       "      <td>train</td>\n",
       "    </tr>\n",
       "    <tr>\n",
       "      <th>1</th>\n",
       "      <td>Cumings, Mrs. John Bradley (Florence Briggs Th...</td>\n",
       "      <td>PC 17599</td>\n",
       "      <td>C</td>\n",
       "      <td>train</td>\n",
       "    </tr>\n",
       "    <tr>\n",
       "      <th>2</th>\n",
       "      <td>Heikkinen, Miss. Laina</td>\n",
       "      <td>STON/O2. 3101282</td>\n",
       "      <td>S</td>\n",
       "      <td>train</td>\n",
       "    </tr>\n",
       "    <tr>\n",
       "      <th>3</th>\n",
       "      <td>Futrelle, Mrs. Jacques Heath (Lily May Peel)</td>\n",
       "      <td>113803</td>\n",
       "      <td>S</td>\n",
       "      <td>train</td>\n",
       "    </tr>\n",
       "    <tr>\n",
       "      <th>4</th>\n",
       "      <td>Allen, Mr. William Henry</td>\n",
       "      <td>373450</td>\n",
       "      <td>S</td>\n",
       "      <td>train</td>\n",
       "    </tr>\n",
       "  </tbody>\n",
       "</table>\n",
       "</div>"
      ],
      "text/plain": [
       "                                                Name            Ticket  \\\n",
       "0                            Braund, Mr. Owen Harris         A/5 21171   \n",
       "1  Cumings, Mrs. John Bradley (Florence Briggs Th...          PC 17599   \n",
       "2                             Heikkinen, Miss. Laina  STON/O2. 3101282   \n",
       "3       Futrelle, Mrs. Jacques Heath (Lily May Peel)            113803   \n",
       "4                           Allen, Mr. William Henry            373450   \n",
       "\n",
       "  Embarked source  \n",
       "0        S  train  \n",
       "1        C  train  \n",
       "2        S  train  \n",
       "3        S  train  \n",
       "4        S  train  "
      ]
     },
     "execution_count": 22,
     "metadata": {},
     "output_type": "execute_result"
    }
   ],
   "source": [
    "cat_df.head()"
   ]
  },
  {
   "cell_type": "markdown",
   "id": "7a996ed3",
   "metadata": {
    "papermill": {
     "duration": 0.020952,
     "end_time": "2022-12-21T11:36:30.769604",
     "exception": false,
     "start_time": "2022-12-21T11:36:30.748652",
     "status": "completed"
    },
    "tags": []
   },
   "source": [
    "* # *Data Visualization*\n",
    "* Numeric Data\n",
    "* Categorical Data"
   ]
  },
  {
   "cell_type": "code",
   "execution_count": 23,
   "id": "8d2ca0f5",
   "metadata": {
    "execution": {
     "iopub.execute_input": "2022-12-21T11:36:30.813870Z",
     "iopub.status.busy": "2022-12-21T11:36:30.813297Z",
     "iopub.status.idle": "2022-12-21T11:36:31.264072Z",
     "shell.execute_reply": "2022-12-21T11:36:31.263028Z"
    },
    "papermill": {
     "duration": 0.476334,
     "end_time": "2022-12-21T11:36:31.266805",
     "exception": false,
     "start_time": "2022-12-21T11:36:30.790471",
     "status": "completed"
    },
    "tags": []
   },
   "outputs": [
    {
     "data": {
      "text/plain": [
       "Text(0.5, 1.0, 'Correlation of Survived with  Numeric Data\\n')"
      ]
     },
     "execution_count": 23,
     "metadata": {},
     "output_type": "execute_result"
    },
    {
     "data": {
      "image/png": "[encoded data removed]",
      "text/plain": [
       "<Figure size 432x288 with 2 Axes>"
      ]
     },
     "metadata": {},
     "output_type": "display_data"
    }
   ],
   "source": [
    "# Check Correlation\n",
    "ax = sns.heatmap(data=train[num_df.columns[1:]].corr(), cmap='YlOrBr', fmt='.2f', annot=True)\n",
    "ax.set_title('Correlation of Survived with  Numeric Data\\n', fontsize=20)"
   ]
  },
  {
   "cell_type": "markdown",
   "id": "0fe194fc",
   "metadata": {
    "papermill": {
     "duration": 0.022485,
     "end_time": "2022-12-21T11:36:31.312568",
     "exception": false,
     "start_time": "2022-12-21T11:36:31.290083",
     "status": "completed"
    },
    "tags": []
   },
   "source": [
    "### Realizations\n",
    "* Only **Fare** seems to have a **positive** correlation wirh surviving.\n",
    "* **Pclass** has the **worst** correlation of all with suriving"
   ]
  },
  {
   "cell_type": "code",
   "execution_count": 24,
   "id": "d80e17f4",
   "metadata": {
    "execution": {
     "iopub.execute_input": "2022-12-21T11:36:31.359590Z",
     "iopub.status.busy": "2022-12-21T11:36:31.359179Z",
     "iopub.status.idle": "2022-12-21T11:36:32.163866Z",
     "shell.execute_reply": "2022-12-21T11:36:32.162629Z"
    },
    "papermill": {
     "duration": 0.83096,
     "end_time": "2022-12-21T11:36:32.166124",
     "exception": false,
     "start_time": "2022-12-21T11:36:31.335164",
     "status": "completed"
    },
    "tags": []
   },
   "outputs": [
    {
     "data": {
      "text/plain": [
       "<seaborn.axisgrid.FacetGrid at 0x7fb1ebc86e50>"
      ]
     },
     "execution_count": 24,
     "metadata": {},
     "output_type": "execute_result"
    },
    {
     "data": {
      "image/png": "[encoded data removed]",
      "text/plain": [
       "<Figure size 432x216 with 2 Axes>"
      ]
     },
     "metadata": {},
     "output_type": "display_data"
    }
   ],
   "source": [
    "#  Age Vs Survived\n",
    "ax = sns.FacetGrid(train, col='Survived', margin_titles=True)\n",
    "ax = ax.map(sns.distplot, 'Age')\n",
    "ax.set_ylabels('Survival Probability')\n",
    "# ax.set_titles(['Age Survived', 'Age Not Survived'])\n",
    "ax.despine(offset=3, trim=True)"
   ]
  },
  {
   "cell_type": "code",
   "execution_count": 25,
   "id": "151ec15a",
   "metadata": {
    "execution": {
     "iopub.execute_input": "2022-12-21T11:36:32.214040Z",
     "iopub.status.busy": "2022-12-21T11:36:32.213645Z",
     "iopub.status.idle": "2022-12-21T11:36:32.522929Z",
     "shell.execute_reply": "2022-12-21T11:36:32.522030Z"
    },
    "papermill": {
     "duration": 0.335726,
     "end_time": "2022-12-21T11:36:32.525057",
     "exception": false,
     "start_time": "2022-12-21T11:36:32.189331",
     "status": "completed"
    },
    "tags": []
   },
   "outputs": [
    {
     "data": {
      "text/plain": [
       "<matplotlib.legend.Legend at 0x7fb1ec138f90>"
      ]
     },
     "execution_count": 25,
     "metadata": {},
     "output_type": "execute_result"
    },
    {
     "data": {
      "image/png": "[encoded data removed]",
      "text/plain": [
       "<Figure size 432x288 with 1 Axes>"
      ]
     },
     "metadata": {},
     "output_type": "display_data"
    }
   ],
   "source": [
    "# Explore Age Distro\n",
    "ax = sns.kdeplot(num_df[num_df[\"Survived\"] == 0]['Age'], color='b', shade=True)\n",
    "ax = sns.kdeplot(num_df[num_df[\"Survived\"] == 1]['Age'], color='r', shade=True)\n",
    "ax.set_xlabel(\"Age\")\n",
    "ax.set_ylabel(\"Survival Probability\")\n",
    "ax.set_title('Age Distribution based on Survived/Not Survived\\n', fontsize=15)\n",
    "sns.despine(offset=3, trim=True)\n",
    "ax.legend(['Not Survived', 'Survived'])"
   ]
  },
  {
   "cell_type": "code",
   "execution_count": 26,
   "id": "1367005a",
   "metadata": {
    "execution": {
     "iopub.execute_input": "2022-12-21T11:36:32.574063Z",
     "iopub.status.busy": "2022-12-21T11:36:32.573297Z",
     "iopub.status.idle": "2022-12-21T11:36:32.985064Z",
     "shell.execute_reply": "2022-12-21T11:36:32.984298Z"
    },
    "papermill": {
     "duration": 0.438409,
     "end_time": "2022-12-21T11:36:32.987181",
     "exception": false,
     "start_time": "2022-12-21T11:36:32.548772",
     "status": "completed"
    },
    "tags": []
   },
   "outputs": [
    {
     "data": {
      "image/png": "[encoded data removed]",
      "text/plain": [
       "<Figure size 432x288 with 1 Axes>"
      ]
     },
     "metadata": {},
     "output_type": "display_data"
    }
   ],
   "source": [
    "# Explore Survived based on SibSp\n",
    "ax = sns.barplot(x='SibSp', y='Survived', data=train)\n",
    "ax.set_title('SibSp Vs Survived', fontsize=15)\n",
    "sns.despine(offset=5, trim=True)\n"
   ]
  },
  {
   "cell_type": "code",
   "execution_count": 27,
   "id": "db4fd5a3",
   "metadata": {
    "execution": {
     "iopub.execute_input": "2022-12-21T11:36:33.036097Z",
     "iopub.status.busy": "2022-12-21T11:36:33.035546Z",
     "iopub.status.idle": "2022-12-21T11:36:33.425740Z",
     "shell.execute_reply": "2022-12-21T11:36:33.424965Z"
    },
    "papermill": {
     "duration": 0.417155,
     "end_time": "2022-12-21T11:36:33.427693",
     "exception": false,
     "start_time": "2022-12-21T11:36:33.010538",
     "status": "completed"
    },
    "tags": []
   },
   "outputs": [
    {
     "data": {
      "image/png": "[encoded data removed]",
      "text/plain": [
       "<Figure size 432x288 with 1 Axes>"
      ]
     },
     "metadata": {},
     "output_type": "display_data"
    }
   ],
   "source": [
    "# Explore Survived based on parch\n",
    "ax = sns.barplot(x='Parch', y='Survived', data=train)\n",
    "ax.set_title('Parch Vs Survived', fontsize=15)\n",
    "sns.despine(offset=5, trim=True)"
   ]
  },
  {
   "cell_type": "code",
   "execution_count": 28,
   "id": "6f51458c",
   "metadata": {
    "execution": {
     "iopub.execute_input": "2022-12-21T11:36:33.478224Z",
     "iopub.status.busy": "2022-12-21T11:36:33.477611Z",
     "iopub.status.idle": "2022-12-21T11:36:34.051444Z",
     "shell.execute_reply": "2022-12-21T11:36:34.050674Z"
    },
    "papermill": {
     "duration": 0.601453,
     "end_time": "2022-12-21T11:36:34.053510",
     "exception": false,
     "start_time": "2022-12-21T11:36:33.452057",
     "status": "completed"
    },
    "tags": []
   },
   "outputs": [
    {
     "data": {
      "image/png": "[encoded data removed]",
      "text/plain": [
       "<Figure size 432x288 with 1 Axes>"
      ]
     },
     "metadata": {},
     "output_type": "display_data"
    }
   ],
   "source": [
    "ax = sns.histplot(num_df['Fare'], color='m', label=\"Skewness : %.2f\"%(num_df[\"Fare\"].skew()), kde=True)\n",
    "ax.set_ylabel('Number of Passeners')\n",
    "ax.set_title('Fare Distribution', fontsize=15)\n",
    "ax = ax.legend(loc=\"best\")\n",
    "sns.despine(offset=5, trim=True)\n",
    "\n"
   ]
  },
  {
   "cell_type": "code",
   "execution_count": 29,
   "id": "bcb1c3c5",
   "metadata": {
    "execution": {
     "iopub.execute_input": "2022-12-21T11:36:34.105414Z",
     "iopub.status.busy": "2022-12-21T11:36:34.104808Z",
     "iopub.status.idle": "2022-12-21T11:36:34.111532Z",
     "shell.execute_reply": "2022-12-21T11:36:34.110733Z"
    },
    "papermill": {
     "duration": 0.035064,
     "end_time": "2022-12-21T11:36:34.113521",
     "exception": false,
     "start_time": "2022-12-21T11:36:34.078457",
     "status": "completed"
    },
    "tags": []
   },
   "outputs": [],
   "source": [
    "# Applying Log to reduce skewness\n",
    "data['Fare'] = data['Fare'].apply(lambda i:np.log(i) if i > 0 else 0)"
   ]
  },
  {
   "cell_type": "code",
   "execution_count": 30,
   "id": "ad1d3ecf",
   "metadata": {
    "execution": {
     "iopub.execute_input": "2022-12-21T11:36:34.165475Z",
     "iopub.status.busy": "2022-12-21T11:36:34.164857Z",
     "iopub.status.idle": "2022-12-21T11:36:34.521913Z",
     "shell.execute_reply": "2022-12-21T11:36:34.521090Z"
    },
    "papermill": {
     "duration": 0.38569,
     "end_time": "2022-12-21T11:36:34.523968",
     "exception": false,
     "start_time": "2022-12-21T11:36:34.138278",
     "status": "completed"
    },
    "tags": []
   },
   "outputs": [
    {
     "data": {
      "image/png": "[encoded data removed]",
      "text/plain": [
       "<Figure size 432x288 with 1 Axes>"
      ]
     },
     "metadata": {},
     "output_type": "display_data"
    }
   ],
   "source": [
    "ax = sns.histplot(data['Fare'], color='m', label=\"Skewness : %.2f\"%(data[\"Fare\"].skew()), kde=True)\n",
    "ax.set_ylabel('Number of Passeners')\n",
    "ax.set_title('Fare Distribution', fontsize=15)\n",
    "ax = ax.legend(loc=\"best\")\n",
    "sns.despine(offset=5, trim=True)"
   ]
  },
  {
   "cell_type": "markdown",
   "id": "51e4f788",
   "metadata": {
    "papermill": {
     "duration": 0.02503,
     "end_time": "2022-12-21T11:36:34.574280",
     "exception": false,
     "start_time": "2022-12-21T11:36:34.549250",
     "status": "completed"
    },
    "tags": []
   },
   "source": [
    "### Realizations\n",
    "* Seems like there are more chances of **survivial** those who are **younger**, also we can clearly see there a peak from (0-5) **children** in 2nd chart **indecating** more chances of **surviving**.\n",
    "* Passengers with **1 or 2 sibSp** have heigher chance of **surviving**\n",
    "* **Small families** have more chance to **survive**, more than **single (Parch 0)**, medium (Parch 3,4) and large families (Parch 5,6 ). be carefull with 3 Parch as it has **standard deviation** \n",
    "* Fare is largly **skewed** towords **right** we fix that with **np.log** and skewness clearly **reduced after log transformation**. "
   ]
  },
  {
   "cell_type": "code",
   "execution_count": 31,
   "id": "7316a199",
   "metadata": {
    "execution": {
     "iopub.execute_input": "2022-12-21T11:36:34.627407Z",
     "iopub.status.busy": "2022-12-21T11:36:34.626790Z",
     "iopub.status.idle": "2022-12-21T11:36:34.887350Z",
     "shell.execute_reply": "2022-12-21T11:36:34.886191Z"
    },
    "papermill": {
     "duration": 0.289894,
     "end_time": "2022-12-21T11:36:34.889850",
     "exception": false,
     "start_time": "2022-12-21T11:36:34.599956",
     "status": "completed"
    },
    "tags": []
   },
   "outputs": [
    {
     "data": {
      "image/png": "[encoded data removed]",
      "text/plain": [
       "<Figure size 432x288 with 1 Axes>"
      ]
     },
     "metadata": {},
     "output_type": "display_data"
    }
   ],
   "source": [
    "#Explore categorical Data\n",
    "\n",
    "#Explore Survived based on Sex\n",
    "ax = sns.barplot(x='Sex', y='Survived',data=data)\n",
    "ax.set_title('Sex Vs Survived', fontsize=15)\n",
    "ax.set_ylabel('Survival Probability')\n",
    "ax.set_xticklabels(['male', 'female'])\n",
    "sns.despine(offset=5, trim=True)"
   ]
  },
  {
   "cell_type": "code",
   "execution_count": 32,
   "id": "db607a79",
   "metadata": {
    "execution": {
     "iopub.execute_input": "2022-12-21T11:36:34.942524Z",
     "iopub.status.busy": "2022-12-21T11:36:34.942075Z",
     "iopub.status.idle": "2022-12-21T11:36:35.239539Z",
     "shell.execute_reply": "2022-12-21T11:36:35.238489Z"
    },
    "papermill": {
     "duration": 0.326487,
     "end_time": "2022-12-21T11:36:35.241686",
     "exception": false,
     "start_time": "2022-12-21T11:36:34.915199",
     "status": "completed"
    },
    "tags": []
   },
   "outputs": [
    {
     "data": {
      "image/png": "[encoded data removed]",
      "text/plain": [
       "<Figure size 432x288 with 1 Axes>"
      ]
     },
     "metadata": {},
     "output_type": "display_data"
    }
   ],
   "source": [
    "# Explore Survived with Pclass\n",
    "ax = sns.barplot(x='Pclass', y='Survived', data=train)\n",
    "ax.set_title('Pclass Vs Survived', fontsize=15)\n",
    "ax.set_ylabel('Survival Probability')\n",
    "ax.set_xticklabels(['Upper', 'Middle', 'Lower'])\n",
    "sns.despine(offset=5, trim=True)"
   ]
  },
  {
   "cell_type": "code",
   "execution_count": 33,
   "id": "96424e29",
   "metadata": {
    "execution": {
     "iopub.execute_input": "2022-12-21T11:36:35.297097Z",
     "iopub.status.busy": "2022-12-21T11:36:35.296644Z",
     "iopub.status.idle": "2022-12-21T11:36:35.588802Z",
     "shell.execute_reply": "2022-12-21T11:36:35.587919Z"
    },
    "papermill": {
     "duration": 0.322081,
     "end_time": "2022-12-21T11:36:35.590848",
     "exception": false,
     "start_time": "2022-12-21T11:36:35.268767",
     "status": "completed"
    },
    "tags": []
   },
   "outputs": [
    {
     "data": {
      "image/png": "[encoded data removed]",
      "text/plain": [
       "<Figure size 432x288 with 1 Axes>"
      ]
     },
     "metadata": {},
     "output_type": "display_data"
    }
   ],
   "source": [
    "# Explore Survived with Embarked\n",
    "ax = sns.barplot(x='Embarked', y='Survived', data=train)\n",
    "ax.set_title('Embarked Vs Survived', fontsize=15)\n",
    "ax.set_ylabel('Survival Probability')\n",
    "sns.despine(offset=5, trim=True)"
   ]
  },
  {
   "cell_type": "code",
   "execution_count": 34,
   "id": "e7c4bcd3",
   "metadata": {
    "execution": {
     "iopub.execute_input": "2022-12-21T11:36:35.645574Z",
     "iopub.status.busy": "2022-12-21T11:36:35.644864Z",
     "iopub.status.idle": "2022-12-21T11:36:36.043400Z",
     "shell.execute_reply": "2022-12-21T11:36:36.042341Z"
    },
    "papermill": {
     "duration": 0.428303,
     "end_time": "2022-12-21T11:36:36.045906",
     "exception": false,
     "start_time": "2022-12-21T11:36:35.617603",
     "status": "completed"
    },
    "tags": []
   },
   "outputs": [
    {
     "data": {
      "image/png": "[encoded data removed]",
      "text/plain": [
       "<Figure size 432x288 with 1 Axes>"
      ]
     },
     "metadata": {},
     "output_type": "display_data"
    }
   ],
   "source": [
    "# Explore Survived with Pclass and Sex\n",
    "ax = sns.barplot(x='Pclass', y='Survived', hue='Sex', data=train)\n",
    "ax.set_title('Pclass Vs Survived with Sex', fontsize=15)\n",
    "ax.set_ylabel('Survival Probability')\n",
    "ax.set_xticklabels(['Upper', 'Middle', 'Lower'])\n",
    "sns.despine(offset=5, trim=True)"
   ]
  },
  {
   "cell_type": "code",
   "execution_count": 35,
   "id": "6e25c38a",
   "metadata": {
    "execution": {
     "iopub.execute_input": "2022-12-21T11:36:36.099997Z",
     "iopub.status.busy": "2022-12-21T11:36:36.099582Z",
     "iopub.status.idle": "2022-12-21T11:36:36.789456Z",
     "shell.execute_reply": "2022-12-21T11:36:36.788335Z"
    },
    "papermill": {
     "duration": 0.72007,
     "end_time": "2022-12-21T11:36:36.791760",
     "exception": false,
     "start_time": "2022-12-21T11:36:36.071690",
     "status": "completed"
    },
    "tags": []
   },
   "outputs": [
    {
     "data": {
      "image/png": "[encoded data removed]",
      "text/plain": [
       "<Figure size 1296x432 with 3 Axes>"
      ]
     },
     "metadata": {},
     "output_type": "display_data"
    }
   ],
   "source": [
    "# Explore Survived with Pclass and Embarked\n",
    "ax = sns.catplot(data=data, x='Pclass', col='Embarked', kind='count', height=6)\n",
    "ax.despine(offset=3, trim=True)\n",
    "ax = ax.set_ylabels('Count')"
   ]
  },
  {
   "cell_type": "markdown",
   "id": "e6d4ccc1",
   "metadata": {
    "papermill": {
     "duration": 0.027677,
     "end_time": "2022-12-21T11:36:36.847076",
     "exception": false,
     "start_time": "2022-12-21T11:36:36.819399",
     "status": "completed"
    },
    "tags": []
   },
   "source": [
    "### Realizations\n",
    "* **Female passengers** have higher chance of **surviving**, So **Sex**, might play an **important role** in the prediction of the survival.\n",
    "* **Upper Class** passengers have higher chance of **surviving**\n",
    "* **Upper Class Female** passengers have higher chance of **surviving**\n",
    "* Passengers coming from **Cherbourg** (C) have higher chance of **surviving**, because most **Upper class** passengers are coming from **Cherbourg** (C), where as **lower** and **Middle** class are from **Southampton** (S) and **Queenstown** (Q) respectivley."
   ]
  },
  {
   "cell_type": "markdown",
   "id": "84206afa",
   "metadata": {
    "papermill": {
     "duration": 0.027478,
     "end_time": "2022-12-21T11:36:36.902302",
     "exception": false,
     "start_time": "2022-12-21T11:36:36.874824",
     "status": "completed"
    },
    "tags": []
   },
   "source": [
    "* ### **Future Engeneering**"
   ]
  },
  {
   "cell_type": "code",
   "execution_count": 36,
   "id": "7aa1e332",
   "metadata": {
    "execution": {
     "iopub.execute_input": "2022-12-21T11:36:36.961145Z",
     "iopub.status.busy": "2022-12-21T11:36:36.960749Z",
     "iopub.status.idle": "2022-12-21T11:36:36.976682Z",
     "shell.execute_reply": "2022-12-21T11:36:36.975931Z"
    },
    "papermill": {
     "duration": 0.047848,
     "end_time": "2022-12-21T11:36:36.978744",
     "exception": false,
     "start_time": "2022-12-21T11:36:36.930896",
     "status": "completed"
    },
    "tags": []
   },
   "outputs": [
    {
     "data": {
      "text/html": [
       "<div>\n",
       "<style scoped>\n",
       "    .dataframe tbody tr th:only-of-type {\n",
       "        vertical-align: middle;\n",
       "    }\n",
       "\n",
       "    .dataframe tbody tr th {\n",
       "        vertical-align: top;\n",
       "    }\n",
       "\n",
       "    .dataframe thead th {\n",
       "        text-align: right;\n",
       "    }\n",
       "</style>\n",
       "<table border=\"1\" class=\"dataframe\">\n",
       "  <thead>\n",
       "    <tr style=\"text-align: right;\">\n",
       "      <th></th>\n",
       "      <th>PassengerId</th>\n",
       "      <th>Survived</th>\n",
       "      <th>Pclass</th>\n",
       "      <th>Name</th>\n",
       "      <th>Sex</th>\n",
       "      <th>Age</th>\n",
       "      <th>SibSp</th>\n",
       "      <th>Parch</th>\n",
       "      <th>Ticket</th>\n",
       "      <th>Fare</th>\n",
       "      <th>Embarked</th>\n",
       "      <th>source</th>\n",
       "    </tr>\n",
       "  </thead>\n",
       "  <tbody>\n",
       "    <tr>\n",
       "      <th>0</th>\n",
       "      <td>1</td>\n",
       "      <td>0.0</td>\n",
       "      <td>3</td>\n",
       "      <td>Braund, Mr. Owen Harris</td>\n",
       "      <td>0</td>\n",
       "      <td>22.0</td>\n",
       "      <td>1</td>\n",
       "      <td>0</td>\n",
       "      <td>A/5 21171</td>\n",
       "      <td>1.981001</td>\n",
       "      <td>S</td>\n",
       "      <td>train</td>\n",
       "    </tr>\n",
       "    <tr>\n",
       "      <th>1</th>\n",
       "      <td>2</td>\n",
       "      <td>1.0</td>\n",
       "      <td>1</td>\n",
       "      <td>Cumings, Mrs. John Bradley (Florence Briggs Th...</td>\n",
       "      <td>1</td>\n",
       "      <td>38.0</td>\n",
       "      <td>1</td>\n",
       "      <td>0</td>\n",
       "      <td>PC 17599</td>\n",
       "      <td>4.266662</td>\n",
       "      <td>C</td>\n",
       "      <td>train</td>\n",
       "    </tr>\n",
       "    <tr>\n",
       "      <th>2</th>\n",
       "      <td>3</td>\n",
       "      <td>1.0</td>\n",
       "      <td>3</td>\n",
       "      <td>Heikkinen, Miss. Laina</td>\n",
       "      <td>1</td>\n",
       "      <td>26.0</td>\n",
       "      <td>0</td>\n",
       "      <td>0</td>\n",
       "      <td>STON/O2. 3101282</td>\n",
       "      <td>2.070022</td>\n",
       "      <td>S</td>\n",
       "      <td>train</td>\n",
       "    </tr>\n",
       "    <tr>\n",
       "      <th>3</th>\n",
       "      <td>4</td>\n",
       "      <td>1.0</td>\n",
       "      <td>1</td>\n",
       "      <td>Futrelle, Mrs. Jacques Heath (Lily May Peel)</td>\n",
       "      <td>1</td>\n",
       "      <td>35.0</td>\n",
       "      <td>1</td>\n",
       "      <td>0</td>\n",
       "      <td>113803</td>\n",
       "      <td>3.972177</td>\n",
       "      <td>S</td>\n",
       "      <td>train</td>\n",
       "    </tr>\n",
       "    <tr>\n",
       "      <th>4</th>\n",
       "      <td>5</td>\n",
       "      <td>0.0</td>\n",
       "      <td>3</td>\n",
       "      <td>Allen, Mr. William Henry</td>\n",
       "      <td>0</td>\n",
       "      <td>35.0</td>\n",
       "      <td>0</td>\n",
       "      <td>0</td>\n",
       "      <td>373450</td>\n",
       "      <td>2.085672</td>\n",
       "      <td>S</td>\n",
       "      <td>train</td>\n",
       "    </tr>\n",
       "  </tbody>\n",
       "</table>\n",
       "</div>"
      ],
      "text/plain": [
       "   PassengerId  Survived  Pclass  \\\n",
       "0            1       0.0       3   \n",
       "1            2       1.0       1   \n",
       "2            3       1.0       3   \n",
       "3            4       1.0       1   \n",
       "4            5       0.0       3   \n",
       "\n",
       "                                                Name  Sex   Age  SibSp  Parch  \\\n",
       "0                            Braund, Mr. Owen Harris    0  22.0      1      0   \n",
       "1  Cumings, Mrs. John Bradley (Florence Briggs Th...    1  38.0      1      0   \n",
       "2                             Heikkinen, Miss. Laina    1  26.0      0      0   \n",
       "3       Futrelle, Mrs. Jacques Heath (Lily May Peel)    1  35.0      1      0   \n",
       "4                           Allen, Mr. William Henry    0  35.0      0      0   \n",
       "\n",
       "             Ticket      Fare Embarked source  \n",
       "0         A/5 21171  1.981001        S  train  \n",
       "1          PC 17599  4.266662        C  train  \n",
       "2  STON/O2. 3101282  2.070022        S  train  \n",
       "3            113803  3.972177        S  train  \n",
       "4            373450  2.085672        S  train  "
      ]
     },
     "execution_count": 36,
     "metadata": {},
     "output_type": "execute_result"
    }
   ],
   "source": [
    "data.head()"
   ]
  },
  {
   "cell_type": "code",
   "execution_count": 37,
   "id": "5a24d63b",
   "metadata": {
    "execution": {
     "iopub.execute_input": "2022-12-21T11:36:37.039250Z",
     "iopub.status.busy": "2022-12-21T11:36:37.038555Z",
     "iopub.status.idle": "2022-12-21T11:36:37.046252Z",
     "shell.execute_reply": "2022-12-21T11:36:37.045189Z"
    },
    "papermill": {
     "duration": 0.039166,
     "end_time": "2022-12-21T11:36:37.048692",
     "exception": false,
     "start_time": "2022-12-21T11:36:37.009526",
     "status": "completed"
    },
    "tags": []
   },
   "outputs": [
    {
     "data": {
      "text/plain": [
       "0                              Braund, Mr. Owen Harris\n",
       "1    Cumings, Mrs. John Bradley (Florence Briggs Th...\n",
       "2                               Heikkinen, Miss. Laina\n",
       "3         Futrelle, Mrs. Jacques Heath (Lily May Peel)\n",
       "4                             Allen, Mr. William Henry\n",
       "Name: Name, dtype: object"
      ]
     },
     "execution_count": 37,
     "metadata": {},
     "output_type": "execute_result"
    }
   ],
   "source": [
    "data['Name'].head()"
   ]
  },
  {
   "cell_type": "markdown",
   "id": "79eee2a9",
   "metadata": {
    "papermill": {
     "duration": 0.028256,
     "end_time": "2022-12-21T11:36:37.104209",
     "exception": false,
     "start_time": "2022-12-21T11:36:37.075953",
     "status": "completed"
    },
    "tags": []
   },
   "source": [
    "### Name Title\n",
    "* We have different **titles** with names (**Mr/Miss/Lady**) etc.\n",
    "* Since some passenger with **distingused title** may be preferred during the **evacuation**, it is interesting to add them to the model."
   ]
  },
  {
   "cell_type": "code",
   "execution_count": 38,
   "id": "ff4c1e2c",
   "metadata": {
    "execution": {
     "iopub.execute_input": "2022-12-21T11:36:37.161811Z",
     "iopub.status.busy": "2022-12-21T11:36:37.161356Z",
     "iopub.status.idle": "2022-12-21T11:36:37.171373Z",
     "shell.execute_reply": "2022-12-21T11:36:37.170635Z"
    },
    "papermill": {
     "duration": 0.040906,
     "end_time": "2022-12-21T11:36:37.173421",
     "exception": false,
     "start_time": "2022-12-21T11:36:37.132515",
     "status": "completed"
    },
    "tags": []
   },
   "outputs": [
    {
     "data": {
      "text/plain": [
       "array(['Mr', 'Mrs', 'Miss', 'Master', 'Don', 'Rev', 'Dr', 'Mme', 'Ms',\n",
       "       'Major', 'Lady', 'Sir', 'Mlle', 'Col', 'Capt', 'the Countess',\n",
       "       'Jonkheer', 'Dona'], dtype=object)"
      ]
     },
     "execution_count": 38,
     "metadata": {},
     "output_type": "execute_result"
    }
   ],
   "source": [
    "## Finding Titles\n",
    "data['Title'] = data['Name'].apply(lambda i:i.rsplit(',')[1].split('.')[0].strip())\n",
    "data['Title'].unique()"
   ]
  },
  {
   "cell_type": "code",
   "execution_count": 39,
   "id": "443a05b4",
   "metadata": {
    "execution": {
     "iopub.execute_input": "2022-12-21T11:36:37.234441Z",
     "iopub.status.busy": "2022-12-21T11:36:37.234021Z",
     "iopub.status.idle": "2022-12-21T11:36:37.551984Z",
     "shell.execute_reply": "2022-12-21T11:36:37.551026Z"
    },
    "papermill": {
     "duration": 0.352672,
     "end_time": "2022-12-21T11:36:37.554411",
     "exception": false,
     "start_time": "2022-12-21T11:36:37.201739",
     "status": "completed"
    },
    "tags": []
   },
   "outputs": [
    {
     "data": {
      "image/png": "[encoded data removed]",
      "text/plain": [
       "<Figure size 432x288 with 1 Axes>"
      ]
     },
     "metadata": {},
     "output_type": "display_data"
    }
   ],
   "source": [
    "# Lets see Titles\n",
    "ax = sns.countplot(data=data, x='Title')\n",
    "ax.set_title('Titles', fontsize=15)\n",
    "ax.set_ylabel('Number of Passengers')\n",
    "sns.despine(offset=3, trim=True)\n",
    "ax = plt.setp(ax.get_xticklabels(), rotation=40)\n"
   ]
  },
  {
   "cell_type": "code",
   "execution_count": 40,
   "id": "37285eec",
   "metadata": {
    "execution": {
     "iopub.execute_input": "2022-12-21T11:36:37.616523Z",
     "iopub.status.busy": "2022-12-21T11:36:37.615146Z",
     "iopub.status.idle": "2022-12-21T11:36:38.215354Z",
     "shell.execute_reply": "2022-12-21T11:36:38.214174Z"
    },
    "papermill": {
     "duration": 0.633546,
     "end_time": "2022-12-21T11:36:38.217928",
     "exception": false,
     "start_time": "2022-12-21T11:36:37.584382",
     "status": "completed"
    },
    "tags": []
   },
   "outputs": [
    {
     "data": {
      "image/png": "[encoded data removed]",
      "text/plain": [
       "<Figure size 432x288 with 1 Axes>"
      ]
     },
     "metadata": {},
     "output_type": "display_data"
    }
   ],
   "source": [
    "ax = sns.barplot(data=data[data['source'] == 'train'], x='Title', y='Survived')\n",
    "ax.set_title('Title Vs Survived', fontsize=15)\n",
    "ax.set_ylabel('Survival Probability')\n",
    "sns.despine(offset=3, trim=True)"
   ]
  },
  {
   "cell_type": "markdown",
   "id": "fb5690cd",
   "metadata": {
    "papermill": {
     "duration": 0.03761,
     "end_time": "2022-12-21T11:36:38.286478",
     "exception": false,
     "start_time": "2022-12-21T11:36:38.248868",
     "status": "completed"
    },
    "tags": []
   },
   "source": [
    "### Realizations\n",
    "* total **17 titles**, but they can be **reduced**, lets convert them into **title categories**.\n",
    "* It looks like the **rare titles** have more chances of **surviving**."
   ]
  },
  {
   "cell_type": "code",
   "execution_count": 41,
   "id": "55b55178",
   "metadata": {
    "execution": {
     "iopub.execute_input": "2022-12-21T11:36:38.357048Z",
     "iopub.status.busy": "2022-12-21T11:36:38.356240Z",
     "iopub.status.idle": "2022-12-21T11:36:38.367214Z",
     "shell.execute_reply": "2022-12-21T11:36:38.366228Z"
    },
    "papermill": {
     "duration": 0.045821,
     "end_time": "2022-12-21T11:36:38.369839",
     "exception": false,
     "start_time": "2022-12-21T11:36:38.324018",
     "status": "completed"
    },
    "tags": []
   },
   "outputs": [],
   "source": [
    "# Convert Title into categries\n",
    "data['Title'] = data['Title'].replace(['Don', 'Rev', 'Dr', 'Mme', 'Ms',\n",
    "       'Major', 'Lady', 'Sir', 'Mlle', 'Col', 'the Countess', 'Jonkheer',\n",
    "       'Dona'], 'others')\n",
    "data['Title'] = data['Title'].map({'Mr':0, 'Mrs':1, 'Miss':1, 'Master':2, 'others':3})"
   ]
  },
  {
   "cell_type": "code",
   "execution_count": 42,
   "id": "ebd9da89",
   "metadata": {
    "execution": {
     "iopub.execute_input": "2022-12-21T11:36:38.430877Z",
     "iopub.status.busy": "2022-12-21T11:36:38.430481Z",
     "iopub.status.idle": "2022-12-21T11:36:38.662635Z",
     "shell.execute_reply": "2022-12-21T11:36:38.661396Z"
    },
    "papermill": {
     "duration": 0.266235,
     "end_time": "2022-12-21T11:36:38.665634",
     "exception": false,
     "start_time": "2022-12-21T11:36:38.399399",
     "status": "completed"
    },
    "tags": []
   },
   "outputs": [
    {
     "data": {
      "image/png": "[encoded data removed]",
      "text/plain": [
       "<Figure size 432x288 with 1 Axes>"
      ]
     },
     "metadata": {},
     "output_type": "display_data"
    }
   ],
   "source": [
    "ax = sns.countplot(data=data, x='Title')\n",
    "ax.set_ylabel('Number of Passengers')\n",
    "ax.set_title('Title Vs Survived', fontsize=15)\n",
    "ax = ax.set_xticklabels(['Mr', 'Mrs-Miss', 'Master', 'others'])\n",
    "sns.despine(offset=3, trim=True)\n"
   ]
  },
  {
   "cell_type": "code",
   "execution_count": 43,
   "id": "f2fe21fb",
   "metadata": {
    "execution": {
     "iopub.execute_input": "2022-12-21T11:36:38.729036Z",
     "iopub.status.busy": "2022-12-21T11:36:38.728541Z",
     "iopub.status.idle": "2022-12-21T11:36:39.262567Z",
     "shell.execute_reply": "2022-12-21T11:36:39.261316Z"
    },
    "papermill": {
     "duration": 0.568021,
     "end_time": "2022-12-21T11:36:39.265306",
     "exception": false,
     "start_time": "2022-12-21T11:36:38.697285",
     "status": "completed"
    },
    "tags": []
   },
   "outputs": [
    {
     "data": {
      "image/png": "[encoded data removed]",
      "text/plain": [
       "<Figure size 432x288 with 1 Axes>"
      ]
     },
     "metadata": {},
     "output_type": "display_data"
    }
   ],
   "source": [
    "# Drop Name columns we don't need that now\n",
    "ax = sns.barplot(data=data[data['source'] == 'train'], x='Title', y='Survived')\n",
    "ax.set_title('Title Vs Survived', fontsize=15)\n",
    "ax.set_ylabel('Survival Probability')\n",
    "ax = ax.set_xticklabels(['Mr', 'Mrs-Miss', 'Master', 'others'])\n",
    "sns.despine(offset=3, trim=True)\n"
   ]
  },
  {
   "cell_type": "markdown",
   "id": "6aefcfe8",
   "metadata": {
    "papermill": {
     "duration": 0.029893,
     "end_time": "2022-12-21T11:36:39.326010",
     "exception": false,
     "start_time": "2022-12-21T11:36:39.296117",
     "status": "completed"
    },
    "tags": []
   },
   "source": [
    "### Realizations\n",
    "* Women and Children First"
   ]
  },
  {
   "cell_type": "code",
   "execution_count": 44,
   "id": "08e17a60",
   "metadata": {
    "execution": {
     "iopub.execute_input": "2022-12-21T11:36:39.388884Z",
     "iopub.status.busy": "2022-12-21T11:36:39.388118Z",
     "iopub.status.idle": "2022-12-21T11:36:39.394339Z",
     "shell.execute_reply": "2022-12-21T11:36:39.393129Z"
    },
    "papermill": {
     "duration": 0.041016,
     "end_time": "2022-12-21T11:36:39.397264",
     "exception": false,
     "start_time": "2022-12-21T11:36:39.356248",
     "status": "completed"
    },
    "tags": []
   },
   "outputs": [],
   "source": [
    "# Lets create new Feature called family size. +1 for passenger himself\n",
    "data['Fsize'] = data['SibSp'] + data['Parch'] + 1 "
   ]
  },
  {
   "cell_type": "code",
   "execution_count": 45,
   "id": "062d888f",
   "metadata": {
    "execution": {
     "iopub.execute_input": "2022-12-21T11:36:39.460424Z",
     "iopub.status.busy": "2022-12-21T11:36:39.459956Z",
     "iopub.status.idle": "2022-12-21T11:36:39.956972Z",
     "shell.execute_reply": "2022-12-21T11:36:39.956073Z"
    },
    "papermill": {
     "duration": 0.531231,
     "end_time": "2022-12-21T11:36:39.959265",
     "exception": false,
     "start_time": "2022-12-21T11:36:39.428034",
     "status": "completed"
    },
    "tags": []
   },
   "outputs": [
    {
     "data": {
      "image/png": "[encoded data removed]",
      "text/plain": [
       "<Figure size 432x288 with 1 Axes>"
      ]
     },
     "metadata": {},
     "output_type": "display_data"
    }
   ],
   "source": [
    "ax = sns.pointplot(x='Fsize', y='Survived', data=data[data['source'] == 'train'])\n",
    "ax.set_title('Fsize Vs Survived', fontsize=15)\n",
    "ax.set_ylabel(\"Survival Probability\")\n",
    "sns.despine(offset=3, trim=True)"
   ]
  },
  {
   "cell_type": "markdown",
   "id": "1f709fcd",
   "metadata": {
    "papermill": {
     "duration": 0.029601,
     "end_time": "2022-12-21T11:36:40.018946",
     "exception": false,
     "start_time": "2022-12-21T11:36:39.989345",
     "status": "completed"
    },
    "tags": []
   },
   "source": [
    "### Realizations\n",
    "* Family size seems to be **important**, larger family size has **worst chance of surviving**."
   ]
  },
  {
   "cell_type": "code",
   "execution_count": 46,
   "id": "fdbe6094",
   "metadata": {
    "execution": {
     "iopub.execute_input": "2022-12-21T11:36:40.081397Z",
     "iopub.status.busy": "2022-12-21T11:36:40.080652Z",
     "iopub.status.idle": "2022-12-21T11:36:40.088885Z",
     "shell.execute_reply": "2022-12-21T11:36:40.087947Z"
    },
    "papermill": {
     "duration": 0.04226,
     "end_time": "2022-12-21T11:36:40.091205",
     "exception": false,
     "start_time": "2022-12-21T11:36:40.048945",
     "status": "completed"
    },
    "tags": []
   },
   "outputs": [],
   "source": [
    "#Lets Create Family Category\n",
    "def f_size(i):\n",
    "    if i ==1:\n",
    "        return 'Single'\n",
    "    if i ==2:\n",
    "        return 'SmallF'\n",
    "    if i==3 or i == 4:\n",
    "        return 'MedF'\n",
    "    if i>4:\n",
    "        return 'LargeF'\n",
    "    else:\n",
    "        return 'nan'\n",
    "data['Fsize'] = data['Fsize'].apply(lambda i:f_size(i))"
   ]
  },
  {
   "cell_type": "code",
   "execution_count": 47,
   "id": "a9cf5f1d",
   "metadata": {
    "execution": {
     "iopub.execute_input": "2022-12-21T11:36:40.153287Z",
     "iopub.status.busy": "2022-12-21T11:36:40.152630Z",
     "iopub.status.idle": "2022-12-21T11:36:40.483306Z",
     "shell.execute_reply": "2022-12-21T11:36:40.482182Z"
    },
    "papermill": {
     "duration": 0.364378,
     "end_time": "2022-12-21T11:36:40.485553",
     "exception": false,
     "start_time": "2022-12-21T11:36:40.121175",
     "status": "completed"
    },
    "tags": []
   },
   "outputs": [
    {
     "data": {
      "image/png": "[encoded data removed]",
      "text/plain": [
       "<Figure size 432x288 with 1 Axes>"
      ]
     },
     "metadata": {},
     "output_type": "display_data"
    }
   ],
   "source": [
    "ax = sns.barplot(x='Fsize',y=\"Survived\",data=data[data['source'] == 'train'])\n",
    "ax.set_title('Fsize Vs Survived', fontsize=15)\n",
    "ax.set_ylabel(\"Survival Probability\")\n",
    "sns.despine(offset=3, trim=True)\n"
   ]
  },
  {
   "cell_type": "markdown",
   "id": "e32c589e",
   "metadata": {
    "papermill": {
     "duration": 0.031755,
     "end_time": "2022-12-21T11:36:40.547102",
     "exception": false,
     "start_time": "2022-12-21T11:36:40.515347",
     "status": "completed"
    },
    "tags": []
   },
   "source": [
    "### Realizations\n",
    "* It looks like **Med and Small Families** have more chances of **surviving**."
   ]
  },
  {
   "cell_type": "code",
   "execution_count": 48,
   "id": "17063004",
   "metadata": {
    "execution": {
     "iopub.execute_input": "2022-12-21T11:36:40.609382Z",
     "iopub.status.busy": "2022-12-21T11:36:40.608987Z",
     "iopub.status.idle": "2022-12-21T11:36:40.617359Z",
     "shell.execute_reply": "2022-12-21T11:36:40.616307Z"
    },
    "papermill": {
     "duration": 0.041894,
     "end_time": "2022-12-21T11:36:40.619575",
     "exception": false,
     "start_time": "2022-12-21T11:36:40.577681",
     "status": "completed"
    },
    "tags": []
   },
   "outputs": [],
   "source": [
    "# Lets Deal with Ticket\n",
    "data['Ticket'] = data.Ticket.apply(lambda i:i.replace('/', '',).replace('.', '').strip().split(' ')[0])\n",
    "data['Ticket'] = data.Ticket.apply(lambda i:'X' if i.isdigit() else i)"
   ]
  },
  {
   "cell_type": "markdown",
   "id": "5df76284",
   "metadata": {
    "papermill": {
     "duration": 0.028797,
     "end_time": "2022-12-21T11:36:40.677836",
     "exception": false,
     "start_time": "2022-12-21T11:36:40.649039",
     "status": "completed"
    },
    "tags": []
   },
   "source": [
    "* ### **Variable transformation**"
   ]
  },
  {
   "cell_type": "code",
   "execution_count": 49,
   "id": "ed391eef",
   "metadata": {
    "execution": {
     "iopub.execute_input": "2022-12-21T11:36:40.739417Z",
     "iopub.status.busy": "2022-12-21T11:36:40.738995Z",
     "iopub.status.idle": "2022-12-21T11:36:40.752084Z",
     "shell.execute_reply": "2022-12-21T11:36:40.751347Z"
    },
    "papermill": {
     "duration": 0.047262,
     "end_time": "2022-12-21T11:36:40.754643",
     "exception": false,
     "start_time": "2022-12-21T11:36:40.707381",
     "status": "completed"
    },
    "tags": []
   },
   "outputs": [],
   "source": [
    "# Label Encoding \n",
    "data=pd.get_dummies(data=data, columns=['Pclass', 'Sex','Ticket', 'Embarked','Title', 'Fsize'],\n",
    "                     prefix=['Pc', 'Sex','Tkt', 'Em','T', 'Fm'])"
   ]
  },
  {
   "cell_type": "code",
   "execution_count": 50,
   "id": "6aed0b7b",
   "metadata": {
    "execution": {
     "iopub.execute_input": "2022-12-21T11:36:40.816189Z",
     "iopub.status.busy": "2022-12-21T11:36:40.815038Z",
     "iopub.status.idle": "2022-12-21T11:36:40.843420Z",
     "shell.execute_reply": "2022-12-21T11:36:40.842254Z"
    },
    "papermill": {
     "duration": 0.061613,
     "end_time": "2022-12-21T11:36:40.845691",
     "exception": false,
     "start_time": "2022-12-21T11:36:40.784078",
     "status": "completed"
    },
    "tags": []
   },
   "outputs": [
    {
     "data": {
      "text/html": [
       "<div>\n",
       "<style scoped>\n",
       "    .dataframe tbody tr th:only-of-type {\n",
       "        vertical-align: middle;\n",
       "    }\n",
       "\n",
       "    .dataframe tbody tr th {\n",
       "        vertical-align: top;\n",
       "    }\n",
       "\n",
       "    .dataframe thead th {\n",
       "        text-align: right;\n",
       "    }\n",
       "</style>\n",
       "<table border=\"1\" class=\"dataframe\">\n",
       "  <thead>\n",
       "    <tr style=\"text-align: right;\">\n",
       "      <th></th>\n",
       "      <th>Survived</th>\n",
       "      <th>Age</th>\n",
       "      <th>Fare</th>\n",
       "      <th>Pc_1</th>\n",
       "      <th>Pc_2</th>\n",
       "      <th>Pc_3</th>\n",
       "      <th>Sex_0</th>\n",
       "      <th>Sex_1</th>\n",
       "      <th>Tkt_A</th>\n",
       "      <th>Tkt_A4</th>\n",
       "      <th>...</th>\n",
       "      <th>Em_Q</th>\n",
       "      <th>Em_S</th>\n",
       "      <th>T_0.0</th>\n",
       "      <th>T_1.0</th>\n",
       "      <th>T_2.0</th>\n",
       "      <th>T_3.0</th>\n",
       "      <th>Fm_LargeF</th>\n",
       "      <th>Fm_MedF</th>\n",
       "      <th>Fm_Single</th>\n",
       "      <th>Fm_SmallF</th>\n",
       "    </tr>\n",
       "  </thead>\n",
       "  <tbody>\n",
       "    <tr>\n",
       "      <th>0</th>\n",
       "      <td>0.0</td>\n",
       "      <td>22.0</td>\n",
       "      <td>1.981001</td>\n",
       "      <td>0</td>\n",
       "      <td>0</td>\n",
       "      <td>1</td>\n",
       "      <td>1</td>\n",
       "      <td>0</td>\n",
       "      <td>0</td>\n",
       "      <td>0</td>\n",
       "      <td>...</td>\n",
       "      <td>0</td>\n",
       "      <td>1</td>\n",
       "      <td>1</td>\n",
       "      <td>0</td>\n",
       "      <td>0</td>\n",
       "      <td>0</td>\n",
       "      <td>0</td>\n",
       "      <td>0</td>\n",
       "      <td>0</td>\n",
       "      <td>1</td>\n",
       "    </tr>\n",
       "    <tr>\n",
       "      <th>1</th>\n",
       "      <td>1.0</td>\n",
       "      <td>38.0</td>\n",
       "      <td>4.266662</td>\n",
       "      <td>1</td>\n",
       "      <td>0</td>\n",
       "      <td>0</td>\n",
       "      <td>0</td>\n",
       "      <td>1</td>\n",
       "      <td>0</td>\n",
       "      <td>0</td>\n",
       "      <td>...</td>\n",
       "      <td>0</td>\n",
       "      <td>0</td>\n",
       "      <td>0</td>\n",
       "      <td>1</td>\n",
       "      <td>0</td>\n",
       "      <td>0</td>\n",
       "      <td>0</td>\n",
       "      <td>0</td>\n",
       "      <td>0</td>\n",
       "      <td>1</td>\n",
       "    </tr>\n",
       "    <tr>\n",
       "      <th>2</th>\n",
       "      <td>1.0</td>\n",
       "      <td>26.0</td>\n",
       "      <td>2.070022</td>\n",
       "      <td>0</td>\n",
       "      <td>0</td>\n",
       "      <td>1</td>\n",
       "      <td>0</td>\n",
       "      <td>1</td>\n",
       "      <td>0</td>\n",
       "      <td>0</td>\n",
       "      <td>...</td>\n",
       "      <td>0</td>\n",
       "      <td>1</td>\n",
       "      <td>0</td>\n",
       "      <td>1</td>\n",
       "      <td>0</td>\n",
       "      <td>0</td>\n",
       "      <td>0</td>\n",
       "      <td>0</td>\n",
       "      <td>1</td>\n",
       "      <td>0</td>\n",
       "    </tr>\n",
       "    <tr>\n",
       "      <th>3</th>\n",
       "      <td>1.0</td>\n",
       "      <td>35.0</td>\n",
       "      <td>3.972177</td>\n",
       "      <td>1</td>\n",
       "      <td>0</td>\n",
       "      <td>0</td>\n",
       "      <td>0</td>\n",
       "      <td>1</td>\n",
       "      <td>0</td>\n",
       "      <td>0</td>\n",
       "      <td>...</td>\n",
       "      <td>0</td>\n",
       "      <td>1</td>\n",
       "      <td>0</td>\n",
       "      <td>1</td>\n",
       "      <td>0</td>\n",
       "      <td>0</td>\n",
       "      <td>0</td>\n",
       "      <td>0</td>\n",
       "      <td>0</td>\n",
       "      <td>1</td>\n",
       "    </tr>\n",
       "    <tr>\n",
       "      <th>4</th>\n",
       "      <td>0.0</td>\n",
       "      <td>35.0</td>\n",
       "      <td>2.085672</td>\n",
       "      <td>0</td>\n",
       "      <td>0</td>\n",
       "      <td>1</td>\n",
       "      <td>1</td>\n",
       "      <td>0</td>\n",
       "      <td>0</td>\n",
       "      <td>0</td>\n",
       "      <td>...</td>\n",
       "      <td>0</td>\n",
       "      <td>1</td>\n",
       "      <td>1</td>\n",
       "      <td>0</td>\n",
       "      <td>0</td>\n",
       "      <td>0</td>\n",
       "      <td>0</td>\n",
       "      <td>0</td>\n",
       "      <td>1</td>\n",
       "      <td>0</td>\n",
       "    </tr>\n",
       "  </tbody>\n",
       "</table>\n",
       "<p>5 rows × 56 columns</p>\n",
       "</div>"
      ],
      "text/plain": [
       "   Survived   Age      Fare  Pc_1  Pc_2  Pc_3  Sex_0  Sex_1  Tkt_A  Tkt_A4  \\\n",
       "0       0.0  22.0  1.981001     0     0     1      1      0      0       0   \n",
       "1       1.0  38.0  4.266662     1     0     0      0      1      0       0   \n",
       "2       1.0  26.0  2.070022     0     0     1      0      1      0       0   \n",
       "3       1.0  35.0  3.972177     1     0     0      0      1      0       0   \n",
       "4       0.0  35.0  2.085672     0     0     1      1      0      0       0   \n",
       "\n",
       "   ...  Em_Q  Em_S  T_0.0  T_1.0  T_2.0  T_3.0  Fm_LargeF  Fm_MedF  Fm_Single  \\\n",
       "0  ...     0     1      1      0      0      0          0        0          0   \n",
       "1  ...     0     0      0      1      0      0          0        0          0   \n",
       "2  ...     0     1      0      1      0      0          0        0          1   \n",
       "3  ...     0     1      0      1      0      0          0        0          0   \n",
       "4  ...     0     1      1      0      0      0          0        0          1   \n",
       "\n",
       "   Fm_SmallF  \n",
       "0          1  \n",
       "1          1  \n",
       "2          0  \n",
       "3          1  \n",
       "4          0  \n",
       "\n",
       "[5 rows x 56 columns]"
      ]
     },
     "execution_count": 50,
     "metadata": {},
     "output_type": "execute_result"
    }
   ],
   "source": [
    "# Unncessery Columns \n",
    "test_ids = data[data['source'] == 'test']['PassengerId']\n",
    "final_data = data.drop(['PassengerId', 'Name','SibSp','Parch'], axis=1)\n",
    "\n",
    "# Separate Train and test data\n",
    "final_train = final_data[final_data['source'] == 'train']\n",
    "final_test = final_data[final_data['source'] == 'test']\n",
    "final_train = final_train.drop('source', axis=1)\n",
    "final_test = final_test.drop(['source','Survived'], axis=1)\n",
    "final_train.head()"
   ]
  },
  {
   "cell_type": "markdown",
   "id": "b592789e",
   "metadata": {
    "papermill": {
     "duration": 0.02904,
     "end_time": "2022-12-21T11:36:40.904304",
     "exception": false,
     "start_time": "2022-12-21T11:36:40.875264",
     "status": "completed"
    },
    "tags": []
   },
   "source": [
    "# *Machine Learning Models*\n",
    "![Explantion](https://en.proft.me/media/science/ml_types2.png)\n",
    "Let's divide our dataset into two variables.\n",
    "* **X** as the features we defined earlier. \n",
    "* **y** as the **Survived** the target value we want to predict.\n",
    "### Assumptions:\n",
    "* This is a **Classification** problem.\n",
    "* Train test **split 8:2** ratio respectively.\n",
    "\n",
    "### Classification Models\n",
    "* SVC\n",
    "* Decision Tree\n",
    "* AdaBoost\n",
    "* Random Forest\n",
    "* Naïve Bayes\n",
    "* Extra Trees\n",
    "* Gradient Boosting\n",
    "* Multiple layer perceprton (neural network)\n",
    "* KNN\n",
    "* Logistic regression\n",
    "* Linear Discriminant Analysis"
   ]
  },
  {
   "cell_type": "code",
   "execution_count": 51,
   "id": "e3db07a5",
   "metadata": {
    "execution": {
     "iopub.execute_input": "2022-12-21T11:36:40.965590Z",
     "iopub.status.busy": "2022-12-21T11:36:40.965180Z",
     "iopub.status.idle": "2022-12-21T11:36:40.981854Z",
     "shell.execute_reply": "2022-12-21T11:36:40.980620Z"
    },
    "papermill": {
     "duration": 0.050752,
     "end_time": "2022-12-21T11:36:40.984751",
     "exception": false,
     "start_time": "2022-12-21T11:36:40.933999",
     "status": "completed"
    },
    "tags": []
   },
   "outputs": [
    {
     "name": "stdout",
     "output_type": "stream",
     "text": [
      "X_train shape: (668, 55)\n",
      "y_train shape: (668,)\n",
      "X_test shape: (223, 55)\n"
     ]
    }
   ],
   "source": [
    "## Spliting and Scaling\n",
    "features = final_train.columns[1:]\n",
    "X = StandardScaler().fit_transform(final_train.drop('Survived', axis =1))\n",
    "y = final_train['Survived'].values\n",
    "\n",
    "X_train, X_test, y_train, y_test = train_test_split(X, y, test_size = 0.25, random_state = 20)\n",
    "\n",
    "print('X_train shape: {}'.format(X_train.shape))\n",
    "print('y_train shape: {}'.format(y_train.shape))\n",
    "print('X_test shape: {}'.format(X_test.shape))\n",
    "\n",
    "def cross_val(model, X, y, cv):\n",
    "    scores = CVS(model, X_train, y_train, cv=cv, n_jobs=4, scoring='accuracy')\n",
    "    return (scores.mean(), scores.std())"
   ]
  },
  {
   "cell_type": "markdown",
   "id": "22acae91",
   "metadata": {
    "papermill": {
     "duration": 0.0295,
     "end_time": "2022-12-21T11:36:41.044983",
     "exception": false,
     "start_time": "2022-12-21T11:36:41.015483",
     "status": "completed"
    },
    "tags": []
   },
   "source": [
    "* ### Models\n"
   ]
  },
  {
   "cell_type": "code",
   "execution_count": 52,
   "id": "6bff7a8c",
   "metadata": {
    "execution": {
     "iopub.execute_input": "2022-12-21T11:36:41.107969Z",
     "iopub.status.busy": "2022-12-21T11:36:41.106923Z",
     "iopub.status.idle": "2022-12-21T11:36:45.338587Z",
     "shell.execute_reply": "2022-12-21T11:36:45.336097Z"
    },
    "papermill": {
     "duration": 4.266041,
     "end_time": "2022-12-21T11:36:45.341107",
     "exception": false,
     "start_time": "2022-12-21T11:36:41.075066",
     "status": "completed"
    },
    "tags": []
   },
   "outputs": [],
   "source": [
    "# Cross validate model with Kfold stratified cross val\n",
    "kfold = StratifiedKFold(n_splits=10)\n",
    "r_s = 2\n",
    "classifiers = []\n",
    "\n",
    "# Algos\n",
    "classifiers.append(KNeighborsClassifier())\n",
    "classifiers.append(LinearDiscriminantAnalysis())\n",
    "classifiers.append(SVC(random_state=r_s))\n",
    "classifiers.append(DecisionTreeClassifier(random_state=r_s))\n",
    "classifiers.append(RandomForestClassifier(random_state=r_s))\n",
    "classifiers.append(ExtraTreesClassifier(random_state=r_s))\n",
    "classifiers.append(LogisticRegression(random_state=r_s))\n",
    "classifiers.append(GradientBoostingClassifier(random_state=r_s))\n",
    "classifiers.append(AdaBoostClassifier(\n",
    "    DecisionTreeClassifier(random_state=r_s),random_state=r_s,learning_rate=0.1))\n",
    "\n",
    "\n",
    "score_results = [cross_val(model,X_train, y_train, kfold) for model in classifiers]"
   ]
  },
  {
   "cell_type": "code",
   "execution_count": 53,
   "id": "f0df7d47",
   "metadata": {
    "execution": {
     "iopub.execute_input": "2022-12-21T11:36:45.403523Z",
     "iopub.status.busy": "2022-12-21T11:36:45.402780Z",
     "iopub.status.idle": "2022-12-21T11:36:45.419130Z",
     "shell.execute_reply": "2022-12-21T11:36:45.417919Z"
    },
    "papermill": {
     "duration": 0.050168,
     "end_time": "2022-12-21T11:36:45.421346",
     "exception": false,
     "start_time": "2022-12-21T11:36:45.371178",
     "status": "completed"
    },
    "tags": []
   },
   "outputs": [
    {
     "data": {
      "text/html": [
       "<div>\n",
       "<style scoped>\n",
       "    .dataframe tbody tr th:only-of-type {\n",
       "        vertical-align: middle;\n",
       "    }\n",
       "\n",
       "    .dataframe tbody tr th {\n",
       "        vertical-align: top;\n",
       "    }\n",
       "\n",
       "    .dataframe thead th {\n",
       "        text-align: right;\n",
       "    }\n",
       "</style>\n",
       "<table border=\"1\" class=\"dataframe\">\n",
       "  <thead>\n",
       "    <tr style=\"text-align: right;\">\n",
       "      <th></th>\n",
       "      <th>CrossValMeans</th>\n",
       "      <th>CrossValerrors</th>\n",
       "    </tr>\n",
       "    <tr>\n",
       "      <th>Algorithm</th>\n",
       "      <th></th>\n",
       "      <th></th>\n",
       "    </tr>\n",
       "  </thead>\n",
       "  <tbody>\n",
       "    <tr>\n",
       "      <th>KNeighboors</th>\n",
       "      <td>79.20</td>\n",
       "      <td>4.77</td>\n",
       "    </tr>\n",
       "    <tr>\n",
       "      <th>LinearDiscriminantAnalysis</th>\n",
       "      <td>79.64</td>\n",
       "      <td>3.11</td>\n",
       "    </tr>\n",
       "    <tr>\n",
       "      <th>SVC</th>\n",
       "      <td>80.10</td>\n",
       "      <td>3.16</td>\n",
       "    </tr>\n",
       "    <tr>\n",
       "      <th>DecisionTree</th>\n",
       "      <td>80.69</td>\n",
       "      <td>4.40</td>\n",
       "    </tr>\n",
       "    <tr>\n",
       "      <th>RandomForest</th>\n",
       "      <td>80.23</td>\n",
       "      <td>4.18</td>\n",
       "    </tr>\n",
       "    <tr>\n",
       "      <th>ExtraTrees</th>\n",
       "      <td>79.49</td>\n",
       "      <td>3.71</td>\n",
       "    </tr>\n",
       "    <tr>\n",
       "      <th>LogisticRegression</th>\n",
       "      <td>80.09</td>\n",
       "      <td>2.85</td>\n",
       "    </tr>\n",
       "    <tr>\n",
       "      <th>GradientBoosting</th>\n",
       "      <td>82.64</td>\n",
       "      <td>4.15</td>\n",
       "    </tr>\n",
       "    <tr>\n",
       "      <th>AdaBoost</th>\n",
       "      <td>79.20</td>\n",
       "      <td>2.83</td>\n",
       "    </tr>\n",
       "  </tbody>\n",
       "</table>\n",
       "</div>"
      ],
      "text/plain": [
       "                            CrossValMeans  CrossValerrors\n",
       "Algorithm                                                \n",
       "KNeighboors                         79.20            4.77\n",
       "LinearDiscriminantAnalysis          79.64            3.11\n",
       "SVC                                 80.10            3.16\n",
       "DecisionTree                        80.69            4.40\n",
       "RandomForest                        80.23            4.18\n",
       "ExtraTrees                          79.49            3.71\n",
       "LogisticRegression                  80.09            2.85\n",
       "GradientBoosting                    82.64            4.15\n",
       "AdaBoost                            79.20            2.83"
      ]
     },
     "execution_count": 53,
     "metadata": {},
     "output_type": "execute_result"
    }
   ],
   "source": [
    "# Convert algo scores into Dataframe\n",
    "algo_df=pd.DataFrame({\"CrossValMeans\":[float(\"{:.2f}\".format(score[0]*100)) for score in score_results],\n",
    "                      \"CrossValerrors\":[float(\"{:.2f}\".format(score[1]*100)) for score in score_results],\n",
    "                      \"Algorithm\":[\"KNeighboors\",\"LinearDiscriminantAnalysis\",\"SVC\",\n",
    "                                  \"DecisionTree\",\"RandomForest\",\"ExtraTrees\",\n",
    "                                   \"LogisticRegression\",\"GradientBoosting\",\"AdaBoost\"]})\n",
    "# Check df\n",
    "algo_df=algo_df.set_index('Algorithm')\n",
    "algo_df"
   ]
  },
  {
   "cell_type": "code",
   "execution_count": 54,
   "id": "08a89772",
   "metadata": {
    "execution": {
     "iopub.execute_input": "2022-12-21T11:36:45.489336Z",
     "iopub.status.busy": "2022-12-21T11:36:45.488441Z",
     "iopub.status.idle": "2022-12-21T11:36:45.815213Z",
     "shell.execute_reply": "2022-12-21T11:36:45.813960Z"
    },
    "papermill": {
     "duration": 0.363643,
     "end_time": "2022-12-21T11:36:45.818876",
     "exception": false,
     "start_time": "2022-12-21T11:36:45.455233",
     "status": "completed"
    },
    "tags": []
   },
   "outputs": [
    {
     "data": {
      "text/plain": [
       "Text(0.5, 1.0, 'Cross validation scores')"
      ]
     },
     "execution_count": 54,
     "metadata": {},
     "output_type": "execute_result"
    },
    {
     "data": {
      "image/png": "[encoded data removed]",
      "text/plain": [
       "<Figure size 432x288 with 1 Axes>"
      ]
     },
     "metadata": {},
     "output_type": "display_data"
    }
   ],
   "source": [
    "ax = sns.barplot(\"CrossValMeans\",algo_df.index,data = algo_df,**{'xerr':algo_df['CrossValerrors']})\n",
    "ax.set_xlabel(\"Mean Accuracy\")\n",
    "ax.set_title(\"Cross validation scores\", fontsize=15)\n"
   ]
  },
  {
   "cell_type": "markdown",
   "id": "6aa132bc",
   "metadata": {
    "papermill": {
     "duration": 0.032828,
     "end_time": "2022-12-21T11:36:45.894719",
     "exception": false,
     "start_time": "2022-12-21T11:36:45.861891",
     "status": "completed"
    },
    "tags": []
   },
   "source": [
    "### Realizations\n",
    "* **GradientBoosting** has the **highest** accuracy.\n",
    "* I chose **GradientBoosting**, **SVC**, **RandomForest** and **LogesticRegression**."
   ]
  },
  {
   "cell_type": "markdown",
   "id": "c096d177",
   "metadata": {
    "papermill": {
     "duration": 0.030576,
     "end_time": "2022-12-21T11:36:45.958835",
     "exception": false,
     "start_time": "2022-12-21T11:36:45.928259",
     "status": "completed"
    },
    "tags": []
   },
   "source": [
    "## Random Forest\n",
    "Documentation remaining."
   ]
  },
  {
   "cell_type": "code",
   "execution_count": 55,
   "id": "88c9183f",
   "metadata": {
    "execution": {
     "iopub.execute_input": "2022-12-21T11:36:46.029096Z",
     "iopub.status.busy": "2022-12-21T11:36:46.028149Z",
     "iopub.status.idle": "2022-12-21T11:36:46.671289Z",
     "shell.execute_reply": "2022-12-21T11:36:46.670135Z"
    },
    "papermill": {
     "duration": 0.684349,
     "end_time": "2022-12-21T11:36:46.673830",
     "exception": false,
     "start_time": "2022-12-21T11:36:45.989481",
     "status": "completed"
    },
    "tags": []
   },
   "outputs": [
    {
     "data": {
      "text/plain": [
       "array([1., 0., 0., 0., 1., 0., 0., 0., 1., 0., 1., 0., 1., 0., 1., 0., 0.,\n",
       "       1., 1., 1., 1., 0., 1., 0., 0., 1., 0., 0., 0., 0., 0., 1., 0., 1.,\n",
       "       0., 0., 0., 1., 0., 0., 1., 0., 0., 0., 1., 0., 0., 0., 1., 1., 0.,\n",
       "       1., 0., 1., 0., 0., 0., 0., 0., 0., 1., 0., 0., 0., 1., 1., 1., 1.,\n",
       "       0., 1., 1., 1., 0., 1., 1., 0., 0., 0., 0., 0., 0., 0., 0., 0., 0.,\n",
       "       0., 0., 0., 0., 0., 1., 1., 1., 0., 1., 1., 1., 0., 0., 0., 0., 1.,\n",
       "       1., 0., 0., 0., 0., 0., 0., 0., 0., 0., 0., 0., 0., 0., 0., 0., 1.,\n",
       "       0., 0., 0., 1., 0., 0., 1., 0., 0., 0., 1., 1., 0., 1., 0., 0., 0.,\n",
       "       0., 1., 0., 0., 0., 1., 0., 0., 0., 0., 0., 0., 1., 0., 0., 0., 0.,\n",
       "       1., 1., 1., 1., 1., 0., 1., 0., 1., 1., 0., 0., 0., 0., 0., 0., 1.,\n",
       "       0., 0., 1., 0., 0., 0., 1., 0., 0., 0., 0., 1., 0., 0., 1., 1., 0.,\n",
       "       0., 1., 1., 1., 1., 0., 1., 0., 1., 0., 1., 1., 1., 1., 0., 0., 0.,\n",
       "       0., 1., 1., 0., 1., 0., 0., 0., 1., 0., 0., 1., 0., 0., 0., 0., 1.,\n",
       "       0., 0.])"
      ]
     },
     "execution_count": 55,
     "metadata": {},
     "output_type": "execute_result"
    }
   ],
   "source": [
    "\n",
    "## Model\n",
    "model = RandomForestClassifier(n_estimators=300,random_state=10,)\n",
    "\n",
    "# Fit\n",
    "model.fit(X_train, y_train)\n",
    "\n",
    "# Predict\n",
    "y_predict = model.predict(X_test)\n",
    "\n",
    "y_predict"
   ]
  },
  {
   "cell_type": "code",
   "execution_count": 56,
   "id": "b2f81783",
   "metadata": {
    "execution": {
     "iopub.execute_input": "2022-12-21T11:36:46.740554Z",
     "iopub.status.busy": "2022-12-21T11:36:46.739673Z",
     "iopub.status.idle": "2022-12-21T11:36:46.747167Z",
     "shell.execute_reply": "2022-12-21T11:36:46.746215Z"
    },
    "papermill": {
     "duration": 0.04307,
     "end_time": "2022-12-21T11:36:46.749259",
     "exception": false,
     "start_time": "2022-12-21T11:36:46.706189",
     "status": "completed"
    },
    "tags": []
   },
   "outputs": [
    {
     "data": {
      "text/plain": [
       "0.8251121076233184"
      ]
     },
     "execution_count": 56,
     "metadata": {},
     "output_type": "execute_result"
    }
   ],
   "source": [
    "accuracy_score(y_test, y_predict)"
   ]
  },
  {
   "cell_type": "code",
   "execution_count": 57,
   "id": "b4d5d277",
   "metadata": {
    "execution": {
     "iopub.execute_input": "2022-12-21T11:36:46.812931Z",
     "iopub.status.busy": "2022-12-21T11:36:46.812516Z",
     "iopub.status.idle": "2022-12-21T11:36:47.786594Z",
     "shell.execute_reply": "2022-12-21T11:36:47.785472Z"
    },
    "papermill": {
     "duration": 1.008447,
     "end_time": "2022-12-21T11:36:47.788933",
     "exception": false,
     "start_time": "2022-12-21T11:36:46.780486",
     "status": "completed"
    },
    "tags": []
   },
   "outputs": [
    {
     "name": "stdout",
     "output_type": "stream",
     "text": [
      "0.219298            Age\n",
      "0.218597           Fare\n",
      "0.028040           Pc_1\n",
      "0.018673           Pc_2\n",
      "0.045094           Pc_3\n",
      "0.078401          Sex_0\n",
      "0.063008          Sex_1\n",
      "0.000000          Tkt_A\n",
      "0.000274         Tkt_A4\n",
      "0.003965         Tkt_A5\n",
      "0.000000        Tkt_AQ3\n",
      "0.000000        Tkt_AQ4\n",
      "0.000046         Tkt_AS\n",
      "0.000934          Tkt_C\n",
      "0.004911         Tkt_CA\n",
      "0.000070    Tkt_CASOTON\n",
      "0.000000         Tkt_FC\n",
      "0.000485        Tkt_FCC\n",
      "0.000048         Tkt_Fa\n",
      "0.001390       Tkt_LINE\n",
      "0.000000         Tkt_LP\n",
      "0.007007         Tkt_PC\n",
      "0.000058         Tkt_PP\n",
      "0.000136        Tkt_PPP\n",
      "0.000000         Tkt_SC\n",
      "0.000000       Tkt_SCA3\n",
      "0.000046       Tkt_SCA4\n",
      "0.000345       Tkt_SCAH\n",
      "0.000115       Tkt_SCOW\n",
      "0.000734    Tkt_SCPARIS\n",
      "0.000254    Tkt_SCParis\n",
      "0.000871        Tkt_SOC\n",
      "0.000000        Tkt_SOP\n",
      "0.002494       Tkt_SOPP\n",
      "0.000115    Tkt_SOTONO2\n",
      "0.003340    Tkt_SOTONOQ\n",
      "0.000151         Tkt_SP\n",
      "0.007170      Tkt_STONO\n",
      "0.001786     Tkt_STONO2\n",
      "0.000000     Tkt_STONOQ\n",
      "0.003202       Tkt_SWPP\n",
      "0.003809         Tkt_WC\n",
      "0.000708        Tkt_WEP\n",
      "0.012376          Tkt_X\n",
      "0.011640           Em_C\n",
      "0.009621           Em_Q\n",
      "0.014523           Em_S\n",
      "0.087481          T_0.0\n",
      "0.062661          T_1.0\n",
      "0.013855          T_2.0\n",
      "0.003869          T_3.0\n",
      "0.022738      Fm_LargeF\n",
      "0.016360        Fm_MedF\n",
      "0.016324      Fm_Single\n",
      "0.012977      Fm_SmallF\n",
      "dtype: object\n"
     ]
    },
    {
     "data": {
      "text/plain": [
       "Text(0.5, 1.0, ' feature importance')"
      ]
     },
     "execution_count": 57,
     "metadata": {},
     "output_type": "execute_result"
    },
    {
     "data": {
      "image/png": "[encoded data removed]",
      "text/plain": [
       "<Figure size 576x720 with 1 Axes>"
      ]
     },
     "metadata": {},
     "output_type": "display_data"
    }
   ],
   "source": [
    "# vasulization of model's perfomance\n",
    "R_FI = pd.Series(features, model.feature_importances_)\n",
    "print(R_FI)\n",
    "\n",
    "plt.figure(figsize = (8,10))\n",
    "ax = sns.barplot(model.feature_importances_, features, )\n",
    "ax.set_xlabel(\"Relative importance\",fontsize=12)\n",
    "ax.set_ylabel(\"Features\",fontsize=15)\n",
    "ax.tick_params(labelsize=5)\n",
    "ax.set_title(\" feature importance\")"
   ]
  },
  {
   "cell_type": "markdown",
   "id": "0fffd348",
   "metadata": {
    "papermill": {
     "duration": 0.031224,
     "end_time": "2022-12-21T11:36:47.851006",
     "exception": false,
     "start_time": "2022-12-21T11:36:47.819782",
     "status": "completed"
    },
    "tags": []
   },
   "source": [
    "### Realizations\n",
    "* **Age, Fare, Family size, Titles** are mostly the **important** features"
   ]
  },
  {
   "cell_type": "code",
   "execution_count": 58,
   "id": "3093674c",
   "metadata": {
    "execution": {
     "iopub.execute_input": "2022-12-21T11:36:47.915293Z",
     "iopub.status.busy": "2022-12-21T11:36:47.914923Z",
     "iopub.status.idle": "2022-12-21T11:36:47.992222Z",
     "shell.execute_reply": "2022-12-21T11:36:47.991108Z"
    },
    "papermill": {
     "duration": 0.112022,
     "end_time": "2022-12-21T11:36:47.994602",
     "exception": false,
     "start_time": "2022-12-21T11:36:47.882580",
     "status": "completed"
    },
    "tags": []
   },
   "outputs": [
    {
     "data": {
      "text/html": [
       "<div>\n",
       "<style scoped>\n",
       "    .dataframe tbody tr th:only-of-type {\n",
       "        vertical-align: middle;\n",
       "    }\n",
       "\n",
       "    .dataframe tbody tr th {\n",
       "        vertical-align: top;\n",
       "    }\n",
       "\n",
       "    .dataframe thead th {\n",
       "        text-align: right;\n",
       "    }\n",
       "</style>\n",
       "<table border=\"1\" class=\"dataframe\">\n",
       "  <thead>\n",
       "    <tr style=\"text-align: right;\">\n",
       "      <th></th>\n",
       "      <th>PassengerId</th>\n",
       "      <th>Survived</th>\n",
       "    </tr>\n",
       "  </thead>\n",
       "  <tbody>\n",
       "    <tr>\n",
       "      <th>0</th>\n",
       "      <td>892</td>\n",
       "      <td>0</td>\n",
       "    </tr>\n",
       "    <tr>\n",
       "      <th>1</th>\n",
       "      <td>893</td>\n",
       "      <td>0</td>\n",
       "    </tr>\n",
       "    <tr>\n",
       "      <th>2</th>\n",
       "      <td>894</td>\n",
       "      <td>0</td>\n",
       "    </tr>\n",
       "    <tr>\n",
       "      <th>3</th>\n",
       "      <td>895</td>\n",
       "      <td>0</td>\n",
       "    </tr>\n",
       "    <tr>\n",
       "      <th>4</th>\n",
       "      <td>896</td>\n",
       "      <td>0</td>\n",
       "    </tr>\n",
       "  </tbody>\n",
       "</table>\n",
       "</div>"
      ],
      "text/plain": [
       "   PassengerId  Survived\n",
       "0          892         0\n",
       "1          893         0\n",
       "2          894         0\n",
       "3          895         0\n",
       "4          896         0"
      ]
     },
     "execution_count": 58,
     "metadata": {},
     "output_type": "execute_result"
    }
   ],
   "source": [
    "# Predict Test Data\n",
    "\n",
    "# Scaling Test Data\n",
    "test = StandardScaler().fit_transform(final_test)\n",
    "\n",
    "#Predict data and convert it into series\n",
    "test_Survived = pd.Series(model.predict(test), name=\"Survived\")\n",
    "\n",
    "# Convert it into Dataframe\n",
    "test_ids = test_ids.reset_index(drop=True)\n",
    "results = pd.concat([test_ids,test_Survived],axis=1)\n",
    "\n",
    "# Check Data\n",
    "results['PassengerId']=results['PassengerId'].astype(int)\n",
    "results['Survived']=results['Survived'].astype(int)\n",
    "results.head()"
   ]
  },
  {
   "cell_type": "code",
   "execution_count": 59,
   "id": "60da2681",
   "metadata": {
    "execution": {
     "iopub.execute_input": "2022-12-21T11:36:48.059644Z",
     "iopub.status.busy": "2022-12-21T11:36:48.058737Z",
     "iopub.status.idle": "2022-12-21T11:36:48.066858Z",
     "shell.execute_reply": "2022-12-21T11:36:48.066112Z"
    },
    "papermill": {
     "duration": 0.04298,
     "end_time": "2022-12-21T11:36:48.068997",
     "exception": false,
     "start_time": "2022-12-21T11:36:48.026017",
     "status": "completed"
    },
    "tags": []
   },
   "outputs": [],
   "source": [
    "# Save File\n",
    "results.to_csv('titanic_submission.csv', index=False)"
   ]
  },
  {
   "cell_type": "code",
   "execution_count": null,
   "id": "0fc9698d",
   "metadata": {
    "papermill": {
     "duration": 0.03162,
     "end_time": "2022-12-21T11:36:48.132866",
     "exception": false,
     "start_time": "2022-12-21T11:36:48.101246",
     "status": "completed"
    },
    "tags": []
   },
   "outputs": [],
   "source": []
  }
 ],
 "metadata": {
  "kernelspec": {
   "display_name": "Python 3",
   "language": "python",
   "name": "python3"
  },
  "language_info": {
   "codemirror_mode": {
    "name": "ipython",
    "version": 3
   },
   "file_extension": ".py",
   "mimetype": "text/x-python",
   "name": "python",
   "nbconvert_exporter": "python",
   "pygments_lexer": "ipython3",
   "version": "3.7.12"
  },
  "papermill": {
   "default_parameters": {},
   "duration": 34.286126,
   "end_time": "2022-12-21T11:36:50.784818",
   "environment_variables": {},
   "exception": null,
   "input_path": "__notebook__.ipynb",
   "output_path": "__notebook__.ipynb",
   "parameters": {},
   "start_time": "2022-12-21T11:36:16.498692",
   "version": "2.3.4"
  }
 },
 "nbformat": 4,
 "nbformat_minor": 5
}
