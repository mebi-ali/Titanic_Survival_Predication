{
 "cells": [
  {
   "cell_type": "markdown",
   "id": "7c9e3553",
   "metadata": {
    "_cell_guid": "b1076dfc-b9ad-4769-8c92-a6c4dae69d19",
    "_uuid": "8f2839f25d086af736a60e9eeb907d3b93b6e0e5",
    "execution": {
     "iopub.execute_input": "2022-12-02T18:13:06.723663Z",
     "iopub.status.busy": "2022-12-02T18:13:06.722752Z",
     "iopub.status.idle": "2022-12-02T18:13:06.753192Z",
     "shell.execute_reply": "2022-12-02T18:13:06.752034Z",
     "shell.execute_reply.started": "2022-12-02T18:13:06.723556Z"
    },
    "papermill": {
     "duration": 0.005963,
     "end_time": "2022-12-06T00:43:11.866431",
     "exception": false,
     "start_time": "2022-12-06T00:43:11.860468",
     "status": "completed"
    },
    "tags": []
   },
   "source": [
    "# Titanic - Machine Learning from Disaster\n",
    "\n",
    "## Probelem Statement\n",
    "\n",
    "The sinking of the Titanic is one of the most infamous shipwrecks in history.\n",
    "\n",
    "On April 15, 1912, during her maiden voyage, the widely considered “unsinkable” RMS Titanic sank after colliding with an iceberg. Unfortunately, there weren’t enough lifeboats for everyone onboard, resulting in the death of 1502 out of 2224 passengers and crew.\n",
    "\n",
    "While there was some element of luck involved in surviving, it seems some groups of people were more likely to survive than others.\n",
    "\n",
    "In this challenge, we ask you to build a predictive model that answers the question: “what sorts of people were more likely to survive?” using passenger data (ie name, age, gender, socio-economic class, etc).\n",
    "\n",
    "## Statement Analysis\n",
    "* Supervised Machine Learning Problem.\n",
    "* The Target Value is **Survived**.\n",
    "\n",
    "## Goal\n",
    "Using this model, We will try to understand what sort of people were more likely to **survive** than others."
   ]
  },
  {
   "cell_type": "markdown",
   "id": "0df97aa3",
   "metadata": {
    "papermill": {
     "duration": 0.004439,
     "end_time": "2022-12-06T00:43:11.875842",
     "exception": false,
     "start_time": "2022-12-06T00:43:11.871403",
     "status": "completed"
    },
    "tags": []
   },
   "source": [
    "# Hypothesis Generation\n",
    "* Females have more chance of surviving.\n",
    "* Children have more chance of surviving.\n",
    "* Upper Class (VIPS) have more chance of surviving.\n",
    "* People with less siblings have more chance of surviving.\n",
    "* Person with no family/sibings have more chance of surviving.\n",
    "* Swimmers have more chance of surviving.\n"
   ]
  },
  {
   "cell_type": "markdown",
   "id": "0fc5b9e9",
   "metadata": {
    "papermill": {
     "duration": 0.004381,
     "end_time": "2022-12-06T00:43:11.884898",
     "exception": false,
     "start_time": "2022-12-06T00:43:11.880517",
     "status": "completed"
    },
    "tags": []
   },
   "source": [
    "\n",
    "# Libraries"
   ]
  },
  {
   "cell_type": "code",
   "execution_count": 1,
   "id": "df39ed9d",
   "metadata": {
    "execution": {
     "iopub.execute_input": "2022-12-06T00:43:11.897121Z",
     "iopub.status.busy": "2022-12-06T00:43:11.895810Z",
     "iopub.status.idle": "2022-12-06T00:43:12.950742Z",
     "shell.execute_reply": "2022-12-06T00:43:12.949306Z"
    },
    "papermill": {
     "duration": 1.064154,
     "end_time": "2022-12-06T00:43:12.953707",
     "exception": false,
     "start_time": "2022-12-06T00:43:11.889553",
     "status": "completed"
    },
    "tags": []
   },
   "outputs": [],
   "source": [
    "# This Python 3 environment comes with many helpful analytics libraries installed\n",
    "# It is defined by the kaggle/python Docker image: https://github.com/kaggle/docker-python\n",
    "# For example, here's several helpful packages to load\n",
    "\n",
    "import os # Path to file\n",
    "import numpy as np # linear algebra\n",
    "import pandas as pd # data processing, CSV file I/O (e.g. pd.read_csv)\n",
    "import matplotlib.pyplot  as plt # Data visulization\n",
    "import seaborn as sns  # Data visulization\n",
    "import warnings # warning filter\n",
    "%matplotlib inline\n",
    "sns.set(style=\"darkgrid\")\n"
   ]
  },
  {
   "cell_type": "code",
   "execution_count": 2,
   "id": "43d3bd53",
   "metadata": {
    "execution": {
     "iopub.execute_input": "2022-12-06T00:43:12.964787Z",
     "iopub.status.busy": "2022-12-06T00:43:12.964451Z",
     "iopub.status.idle": "2022-12-06T00:43:12.971477Z",
     "shell.execute_reply": "2022-12-06T00:43:12.970400Z"
    },
    "papermill": {
     "duration": 0.014942,
     "end_time": "2022-12-06T00:43:12.973699",
     "exception": false,
     "start_time": "2022-12-06T00:43:12.958757",
     "status": "completed"
    },
    "tags": []
   },
   "outputs": [
    {
     "name": "stdout",
     "output_type": "stream",
     "text": [
      "/kaggle/input/titanic/train.csv\n",
      "/kaggle/input/titanic/test.csv\n",
      "/kaggle/input/titanic/gender_submission.csv\n"
     ]
    }
   ],
   "source": [
    "\n",
    "# Input data files are available in the read-only \"../input/\" directory\n",
    "# For example, running this (by clicking run or pressing Shift+Enter) will list all files under the input directory\n",
    "\n",
    "for dirname, _, filenames in os.walk('/kaggle/input'):\n",
    "    for filename in filenames:\n",
    "        print(os.path.join(dirname, filename))\n",
    "\n",
    "# You can write up to 20GB to the current directory (/kaggle/working/) that gets preserved as output when you create a version using \"Save & Run All\" \n",
    "# You can also write temporary files to /kaggle/temp/, but they won't be saved outside of the current session"
   ]
  },
  {
   "cell_type": "code",
   "execution_count": 3,
   "id": "072cdf4a",
   "metadata": {
    "execution": {
     "iopub.execute_input": "2022-12-06T00:43:12.984431Z",
     "iopub.status.busy": "2022-12-06T00:43:12.984107Z",
     "iopub.status.idle": "2022-12-06T00:43:13.012210Z",
     "shell.execute_reply": "2022-12-06T00:43:13.011227Z"
    },
    "papermill": {
     "duration": 0.03639,
     "end_time": "2022-12-06T00:43:13.014857",
     "exception": false,
     "start_time": "2022-12-06T00:43:12.978467",
     "status": "completed"
    },
    "tags": []
   },
   "outputs": [],
   "source": [
    "# Loading Data.\n",
    "train = pd.read_csv('/kaggle/input/titanic/train.csv')\n",
    "test = pd.read_csv('/kaggle/input/titanic/test.csv')\n"
   ]
  },
  {
   "cell_type": "code",
   "execution_count": 4,
   "id": "0452a72d",
   "metadata": {
    "execution": {
     "iopub.execute_input": "2022-12-06T00:43:13.027467Z",
     "iopub.status.busy": "2022-12-06T00:43:13.026416Z",
     "iopub.status.idle": "2022-12-06T00:43:13.074188Z",
     "shell.execute_reply": "2022-12-06T00:43:13.072784Z"
    },
    "papermill": {
     "duration": 0.057236,
     "end_time": "2022-12-06T00:43:13.077012",
     "exception": false,
     "start_time": "2022-12-06T00:43:13.019776",
     "status": "completed"
    },
    "tags": []
   },
   "outputs": [
    {
     "name": "stdout",
     "output_type": "stream",
     "text": [
      "Train Dataset (row, col): (891, 12) \n",
      "\n",
      "\n",
      "Train Dataset Information:\n",
      "\n",
      "<class 'pandas.core.frame.DataFrame'>\n",
      "RangeIndex: 891 entries, 0 to 890\n",
      "Data columns (total 12 columns):\n",
      " #   Column       Non-Null Count  Dtype  \n",
      "---  ------       --------------  -----  \n",
      " 0   PassengerId  891 non-null    int64  \n",
      " 1   Survived     891 non-null    int64  \n",
      " 2   Pclass       891 non-null    int64  \n",
      " 3   Name         891 non-null    object \n",
      " 4   Sex          891 non-null    object \n",
      " 5   Age          714 non-null    float64\n",
      " 6   SibSp        891 non-null    int64  \n",
      " 7   Parch        891 non-null    int64  \n",
      " 8   Ticket       891 non-null    object \n",
      " 9   Fare         891 non-null    float64\n",
      " 10  Cabin        204 non-null    object \n",
      " 11  Embarked     889 non-null    object \n",
      "dtypes: float64(2), int64(5), object(5)\n",
      "memory usage: 83.7+ KB\n",
      "None\n",
      "\n",
      "Test Dataset (row, col): (418, 11) \n",
      "\n",
      "\n",
      "Test Dataset Information:\n",
      "\n",
      "<class 'pandas.core.frame.DataFrame'>\n",
      "RangeIndex: 418 entries, 0 to 417\n",
      "Data columns (total 11 columns):\n",
      " #   Column       Non-Null Count  Dtype  \n",
      "---  ------       --------------  -----  \n",
      " 0   PassengerId  418 non-null    int64  \n",
      " 1   Pclass       418 non-null    int64  \n",
      " 2   Name         418 non-null    object \n",
      " 3   Sex          418 non-null    object \n",
      " 4   Age          332 non-null    float64\n",
      " 5   SibSp        418 non-null    int64  \n",
      " 6   Parch        418 non-null    int64  \n",
      " 7   Ticket       418 non-null    object \n",
      " 8   Fare         417 non-null    float64\n",
      " 9   Cabin        91 non-null     object \n",
      " 10  Embarked     418 non-null    object \n",
      "dtypes: float64(2), int64(4), object(5)\n",
      "memory usage: 36.0+ KB\n",
      "None\n",
      "\n",
      "Train Dataset Values:\n",
      "\n"
     ]
    },
    {
     "data": {
      "text/plain": [
       "PassengerId    [1, 2, 3, 4, 5, 6, 7, 8, 9, 10, 11, 12, 13, 14...\n",
       "Survived                                                  [0, 1]\n",
       "Pclass                                                 [3, 1, 2]\n",
       "Name           [Braund, Mr. Owen Harris, Cumings, Mrs. John B...\n",
       "Sex                                               [male, female]\n",
       "Age            [22.0, 38.0, 26.0, 35.0, nan, 54.0, 2.0, 27.0,...\n",
       "SibSp                                      [1, 0, 3, 4, 2, 5, 8]\n",
       "Parch                                      [0, 1, 2, 5, 3, 4, 6]\n",
       "Ticket         [A/5 21171, PC 17599, STON/O2. 3101282, 113803...\n",
       "Fare           [7.25, 71.2833, 7.925, 53.1, 8.05, 8.4583, 51....\n",
       "Cabin          [nan, C85, C123, E46, G6, C103, D56, A6, C23 C...\n",
       "Embarked                                          [S, C, Q, nan]\n",
       "dtype: object"
      ]
     },
     "execution_count": 4,
     "metadata": {},
     "output_type": "execute_result"
    }
   ],
   "source": [
    "# lets check data\n",
    "print(f'Train Dataset (row, col): {train.shape} \\n')\n",
    "print('\\nTrain Dataset Information:\\n')\n",
    "print(train.info())\n",
    "\n",
    "print(f'\\nTest Dataset (row, col): {test.shape} \\n')\n",
    "print('\\nTest Dataset Information:\\n')\n",
    "print(test.info())\n",
    "\n",
    "print('\\nTrain Dataset Values:\\n')\n",
    "train.apply(lambda x:x.unique())\n"
   ]
  },
  {
   "cell_type": "markdown",
   "id": "bae891d8",
   "metadata": {
    "papermill": {
     "duration": 0.004681,
     "end_time": "2022-12-06T00:43:13.086828",
     "exception": false,
     "start_time": "2022-12-06T00:43:13.082147",
     "status": "completed"
    },
    "tags": []
   },
   "source": [
    "## About Dataset\n",
    "\n",
    "This dataset is named Titanic Survival. The dataset contains a set of **891** records under **12** attributes:\n",
    "\n",
    "## Column Name and their Description\n",
    "\n",
    "* **PassengerId**: Unique passenger ID.\n",
    "* **Name** : name of passenger.\n",
    "* **Pclass** : Ticket class (A proxy for **socio-economic status** (SES)).\n",
    "* **Sex** : gender of passenger.\n",
    "* **Age** : age of passenger.\n",
    "* **SibSp**: number of siblings/spouse of passenger.\n",
    "* **Parch** : number of parents of passenger.\n",
    "* **Ticket** : ticket number.\n",
    "* **Fare** :Passenger fare.\n",
    "* **Cabin** : Cabin number.\n",
    "* **Embarked** : Port of Embarkation.\n",
    "\n",
    "## Variable Notes\n",
    "**Pclass**: A proxy for socio-economic status (SES)\n",
    "* 1st = Upper\n",
    "* 2nd = Middle\n",
    "* 3rd = Lower\n",
    "\n",
    "**Age**: Age is fractional if less than 1. If the age is estimated, is it in the form of xx.5\n",
    "\n",
    "**sibsp**: The dataset defines family relations in this way...\n",
    "* **Sibling** = brother, sister, stepbrother, stepsister\n",
    "* **Spouse** = husband, wife (mistresses and fiancés were ignored)\n",
    "\n",
    "**parch**: The dataset defines family relations in this way...\n",
    "* **Parent** = mother, father\n",
    "* **Child** = daughter, son, stepdaughter, stepson\n",
    "Some children travelled only with a nanny, therefore **parch=0** for them.\n"
   ]
  },
  {
   "cell_type": "markdown",
   "id": "d0220c35",
   "metadata": {
    "papermill": {
     "duration": 0.004779,
     "end_time": "2022-12-06T00:43:13.096423",
     "exception": false,
     "start_time": "2022-12-06T00:43:13.091644",
     "status": "completed"
    },
    "tags": []
   },
   "source": [
    "# Data Analysis\n",
    "Lets combine both datasets since both are similier"
   ]
  },
  {
   "cell_type": "code",
   "execution_count": 5,
   "id": "b76631ca",
   "metadata": {
    "execution": {
     "iopub.execute_input": "2022-12-06T00:43:13.108188Z",
     "iopub.status.busy": "2022-12-06T00:43:13.107536Z",
     "iopub.status.idle": "2022-12-06T00:43:13.119835Z",
     "shell.execute_reply": "2022-12-06T00:43:13.118446Z"
    },
    "papermill": {
     "duration": 0.021712,
     "end_time": "2022-12-06T00:43:13.122986",
     "exception": false,
     "start_time": "2022-12-06T00:43:13.101274",
     "status": "completed"
    },
    "tags": []
   },
   "outputs": [
    {
     "name": "stdout",
     "output_type": "stream",
     "text": [
      "After combining the datasets:  (1309, 13)\n"
     ]
    }
   ],
   "source": [
    "# Combining Datasets\n",
    "train['source'] = 'train'\n",
    "test['source'] = 'test'\n",
    "data = pd.concat([train, test], ignore_index=True)\n",
    "print('After combining the datasets: ', data.shape)"
   ]
  },
  {
   "cell_type": "code",
   "execution_count": 6,
   "id": "d7d307c2",
   "metadata": {
    "execution": {
     "iopub.execute_input": "2022-12-06T00:43:13.136770Z",
     "iopub.status.busy": "2022-12-06T00:43:13.136406Z",
     "iopub.status.idle": "2022-12-06T00:43:13.148453Z",
     "shell.execute_reply": "2022-12-06T00:43:13.147480Z"
    },
    "papermill": {
     "duration": 0.022179,
     "end_time": "2022-12-06T00:43:13.150828",
     "exception": false,
     "start_time": "2022-12-06T00:43:13.128649",
     "status": "completed"
    },
    "tags": []
   },
   "outputs": [],
   "source": [
    "# Check Dupicates\n",
    "data.drop_duplicates(inplace=True)"
   ]
  },
  {
   "cell_type": "code",
   "execution_count": 7,
   "id": "5ac26948",
   "metadata": {
    "execution": {
     "iopub.execute_input": "2022-12-06T00:43:13.163141Z",
     "iopub.status.busy": "2022-12-06T00:43:13.162212Z",
     "iopub.status.idle": "2022-12-06T00:43:13.214912Z",
     "shell.execute_reply": "2022-12-06T00:43:13.213765Z"
    },
    "papermill": {
     "duration": 0.061194,
     "end_time": "2022-12-06T00:43:13.217214",
     "exception": false,
     "start_time": "2022-12-06T00:43:13.156020",
     "status": "completed"
    },
    "tags": []
   },
   "outputs": [
    {
     "data": {
      "text/html": [
       "<div>\n",
       "<style scoped>\n",
       "    .dataframe tbody tr th:only-of-type {\n",
       "        vertical-align: middle;\n",
       "    }\n",
       "\n",
       "    .dataframe tbody tr th {\n",
       "        vertical-align: top;\n",
       "    }\n",
       "\n",
       "    .dataframe thead th {\n",
       "        text-align: right;\n",
       "    }\n",
       "</style>\n",
       "<table border=\"1\" class=\"dataframe\">\n",
       "  <thead>\n",
       "    <tr style=\"text-align: right;\">\n",
       "      <th></th>\n",
       "      <th>PassengerId</th>\n",
       "      <th>Survived</th>\n",
       "      <th>Pclass</th>\n",
       "      <th>Name</th>\n",
       "      <th>Sex</th>\n",
       "      <th>Age</th>\n",
       "      <th>SibSp</th>\n",
       "      <th>Parch</th>\n",
       "      <th>Ticket</th>\n",
       "      <th>Fare</th>\n",
       "      <th>Cabin</th>\n",
       "      <th>Embarked</th>\n",
       "      <th>source</th>\n",
       "    </tr>\n",
       "  </thead>\n",
       "  <tbody>\n",
       "    <tr>\n",
       "      <th>count</th>\n",
       "      <td>1309.000000</td>\n",
       "      <td>891.000000</td>\n",
       "      <td>1309.000000</td>\n",
       "      <td>1309</td>\n",
       "      <td>1309</td>\n",
       "      <td>1046.000000</td>\n",
       "      <td>1309.000000</td>\n",
       "      <td>1309.000000</td>\n",
       "      <td>1309</td>\n",
       "      <td>1308.000000</td>\n",
       "      <td>295</td>\n",
       "      <td>1307</td>\n",
       "      <td>1309</td>\n",
       "    </tr>\n",
       "    <tr>\n",
       "      <th>unique</th>\n",
       "      <td>NaN</td>\n",
       "      <td>NaN</td>\n",
       "      <td>NaN</td>\n",
       "      <td>1307</td>\n",
       "      <td>2</td>\n",
       "      <td>NaN</td>\n",
       "      <td>NaN</td>\n",
       "      <td>NaN</td>\n",
       "      <td>929</td>\n",
       "      <td>NaN</td>\n",
       "      <td>186</td>\n",
       "      <td>3</td>\n",
       "      <td>2</td>\n",
       "    </tr>\n",
       "    <tr>\n",
       "      <th>top</th>\n",
       "      <td>NaN</td>\n",
       "      <td>NaN</td>\n",
       "      <td>NaN</td>\n",
       "      <td>Connolly, Miss. Kate</td>\n",
       "      <td>male</td>\n",
       "      <td>NaN</td>\n",
       "      <td>NaN</td>\n",
       "      <td>NaN</td>\n",
       "      <td>CA. 2343</td>\n",
       "      <td>NaN</td>\n",
       "      <td>C23 C25 C27</td>\n",
       "      <td>S</td>\n",
       "      <td>train</td>\n",
       "    </tr>\n",
       "    <tr>\n",
       "      <th>freq</th>\n",
       "      <td>NaN</td>\n",
       "      <td>NaN</td>\n",
       "      <td>NaN</td>\n",
       "      <td>2</td>\n",
       "      <td>843</td>\n",
       "      <td>NaN</td>\n",
       "      <td>NaN</td>\n",
       "      <td>NaN</td>\n",
       "      <td>11</td>\n",
       "      <td>NaN</td>\n",
       "      <td>6</td>\n",
       "      <td>914</td>\n",
       "      <td>891</td>\n",
       "    </tr>\n",
       "    <tr>\n",
       "      <th>mean</th>\n",
       "      <td>655.000000</td>\n",
       "      <td>0.383838</td>\n",
       "      <td>2.294882</td>\n",
       "      <td>NaN</td>\n",
       "      <td>NaN</td>\n",
       "      <td>29.881138</td>\n",
       "      <td>0.498854</td>\n",
       "      <td>0.385027</td>\n",
       "      <td>NaN</td>\n",
       "      <td>33.295479</td>\n",
       "      <td>NaN</td>\n",
       "      <td>NaN</td>\n",
       "      <td>NaN</td>\n",
       "    </tr>\n",
       "    <tr>\n",
       "      <th>std</th>\n",
       "      <td>378.020061</td>\n",
       "      <td>0.486592</td>\n",
       "      <td>0.837836</td>\n",
       "      <td>NaN</td>\n",
       "      <td>NaN</td>\n",
       "      <td>14.413493</td>\n",
       "      <td>1.041658</td>\n",
       "      <td>0.865560</td>\n",
       "      <td>NaN</td>\n",
       "      <td>51.758668</td>\n",
       "      <td>NaN</td>\n",
       "      <td>NaN</td>\n",
       "      <td>NaN</td>\n",
       "    </tr>\n",
       "    <tr>\n",
       "      <th>min</th>\n",
       "      <td>1.000000</td>\n",
       "      <td>0.000000</td>\n",
       "      <td>1.000000</td>\n",
       "      <td>NaN</td>\n",
       "      <td>NaN</td>\n",
       "      <td>0.170000</td>\n",
       "      <td>0.000000</td>\n",
       "      <td>0.000000</td>\n",
       "      <td>NaN</td>\n",
       "      <td>0.000000</td>\n",
       "      <td>NaN</td>\n",
       "      <td>NaN</td>\n",
       "      <td>NaN</td>\n",
       "    </tr>\n",
       "    <tr>\n",
       "      <th>25%</th>\n",
       "      <td>328.000000</td>\n",
       "      <td>0.000000</td>\n",
       "      <td>2.000000</td>\n",
       "      <td>NaN</td>\n",
       "      <td>NaN</td>\n",
       "      <td>21.000000</td>\n",
       "      <td>0.000000</td>\n",
       "      <td>0.000000</td>\n",
       "      <td>NaN</td>\n",
       "      <td>7.895800</td>\n",
       "      <td>NaN</td>\n",
       "      <td>NaN</td>\n",
       "      <td>NaN</td>\n",
       "    </tr>\n",
       "    <tr>\n",
       "      <th>50%</th>\n",
       "      <td>655.000000</td>\n",
       "      <td>0.000000</td>\n",
       "      <td>3.000000</td>\n",
       "      <td>NaN</td>\n",
       "      <td>NaN</td>\n",
       "      <td>28.000000</td>\n",
       "      <td>0.000000</td>\n",
       "      <td>0.000000</td>\n",
       "      <td>NaN</td>\n",
       "      <td>14.454200</td>\n",
       "      <td>NaN</td>\n",
       "      <td>NaN</td>\n",
       "      <td>NaN</td>\n",
       "    </tr>\n",
       "    <tr>\n",
       "      <th>75%</th>\n",
       "      <td>982.000000</td>\n",
       "      <td>1.000000</td>\n",
       "      <td>3.000000</td>\n",
       "      <td>NaN</td>\n",
       "      <td>NaN</td>\n",
       "      <td>39.000000</td>\n",
       "      <td>1.000000</td>\n",
       "      <td>0.000000</td>\n",
       "      <td>NaN</td>\n",
       "      <td>31.275000</td>\n",
       "      <td>NaN</td>\n",
       "      <td>NaN</td>\n",
       "      <td>NaN</td>\n",
       "    </tr>\n",
       "    <tr>\n",
       "      <th>max</th>\n",
       "      <td>1309.000000</td>\n",
       "      <td>1.000000</td>\n",
       "      <td>3.000000</td>\n",
       "      <td>NaN</td>\n",
       "      <td>NaN</td>\n",
       "      <td>80.000000</td>\n",
       "      <td>8.000000</td>\n",
       "      <td>9.000000</td>\n",
       "      <td>NaN</td>\n",
       "      <td>512.329200</td>\n",
       "      <td>NaN</td>\n",
       "      <td>NaN</td>\n",
       "      <td>NaN</td>\n",
       "    </tr>\n",
       "  </tbody>\n",
       "</table>\n",
       "</div>"
      ],
      "text/plain": [
       "        PassengerId    Survived       Pclass                  Name   Sex  \\\n",
       "count   1309.000000  891.000000  1309.000000                  1309  1309   \n",
       "unique          NaN         NaN          NaN                  1307     2   \n",
       "top             NaN         NaN          NaN  Connolly, Miss. Kate  male   \n",
       "freq            NaN         NaN          NaN                     2   843   \n",
       "mean     655.000000    0.383838     2.294882                   NaN   NaN   \n",
       "std      378.020061    0.486592     0.837836                   NaN   NaN   \n",
       "min        1.000000    0.000000     1.000000                   NaN   NaN   \n",
       "25%      328.000000    0.000000     2.000000                   NaN   NaN   \n",
       "50%      655.000000    0.000000     3.000000                   NaN   NaN   \n",
       "75%      982.000000    1.000000     3.000000                   NaN   NaN   \n",
       "max     1309.000000    1.000000     3.000000                   NaN   NaN   \n",
       "\n",
       "                Age        SibSp        Parch    Ticket         Fare  \\\n",
       "count   1046.000000  1309.000000  1309.000000      1309  1308.000000   \n",
       "unique          NaN          NaN          NaN       929          NaN   \n",
       "top             NaN          NaN          NaN  CA. 2343          NaN   \n",
       "freq            NaN          NaN          NaN        11          NaN   \n",
       "mean      29.881138     0.498854     0.385027       NaN    33.295479   \n",
       "std       14.413493     1.041658     0.865560       NaN    51.758668   \n",
       "min        0.170000     0.000000     0.000000       NaN     0.000000   \n",
       "25%       21.000000     0.000000     0.000000       NaN     7.895800   \n",
       "50%       28.000000     0.000000     0.000000       NaN    14.454200   \n",
       "75%       39.000000     1.000000     0.000000       NaN    31.275000   \n",
       "max       80.000000     8.000000     9.000000       NaN   512.329200   \n",
       "\n",
       "              Cabin Embarked source  \n",
       "count           295     1307   1309  \n",
       "unique          186        3      2  \n",
       "top     C23 C25 C27        S  train  \n",
       "freq              6      914    891  \n",
       "mean            NaN      NaN    NaN  \n",
       "std             NaN      NaN    NaN  \n",
       "min             NaN      NaN    NaN  \n",
       "25%             NaN      NaN    NaN  \n",
       "50%             NaN      NaN    NaN  \n",
       "75%             NaN      NaN    NaN  \n",
       "max             NaN      NaN    NaN  "
      ]
     },
     "execution_count": 7,
     "metadata": {},
     "output_type": "execute_result"
    }
   ],
   "source": [
    "# Data Summery\n",
    "data.describe(include=[object, np.number])\n"
   ]
  },
  {
   "cell_type": "markdown",
   "id": "7f426b33",
   "metadata": {
    "papermill": {
     "duration": 0.005068,
     "end_time": "2022-12-06T00:43:13.227887",
     "exception": false,
     "start_time": "2022-12-06T00:43:13.222819",
     "status": "completed"
    },
    "tags": []
   },
   "source": [
    "### Observations\n",
    "* Average pessanger's age is almost **30**.\n",
    "* Average pessanger's Pclass is **Middle Class**.\n",
    "* Most pessangers are **Male**.\n",
    "* Most pessangers have **single sibings/spouse**.\n",
    "* Most pessangers are **single travelers**.\n",
    "* Average Fare is **33$**.\n"
   ]
  },
  {
   "cell_type": "markdown",
   "id": "b6bdd634",
   "metadata": {
    "papermill": {
     "duration": 0.005223,
     "end_time": "2022-12-06T00:43:13.238335",
     "exception": false,
     "start_time": "2022-12-06T00:43:13.233112",
     "status": "completed"
    },
    "tags": []
   },
   "source": [
    "# Data Exploration\n",
    "Below are the steps involved to understand, clean and prepare your data for building your predictive model:\n",
    "\n",
    "* Missing values treatment\n",
    "* Variable Identification\n",
    "* Univariate Analysis\n",
    "* Bi-variate Analysis\n",
    "* Outlier treatment\n",
    "* Variable transformation\n",
    "* Variable creation"
   ]
  },
  {
   "cell_type": "markdown",
   "id": "76d35e07",
   "metadata": {
    "papermill": {
     "duration": 0.004944,
     "end_time": "2022-12-06T00:43:13.248454",
     "exception": false,
     "start_time": "2022-12-06T00:43:13.243510",
     "status": "completed"
    },
    "tags": []
   },
   "source": [
    "* ### Missing Values"
   ]
  },
  {
   "cell_type": "code",
   "execution_count": 8,
   "id": "031fb5db",
   "metadata": {
    "execution": {
     "iopub.execute_input": "2022-12-06T00:43:13.260909Z",
     "iopub.status.busy": "2022-12-06T00:43:13.260509Z",
     "iopub.status.idle": "2022-12-06T00:43:13.270524Z",
     "shell.execute_reply": "2022-12-06T00:43:13.269507Z"
    },
    "papermill": {
     "duration": 0.019061,
     "end_time": "2022-12-06T00:43:13.272633",
     "exception": false,
     "start_time": "2022-12-06T00:43:13.253572",
     "status": "completed"
    },
    "tags": []
   },
   "outputs": [
    {
     "data": {
      "text/plain": [
       "PassengerId     0.000000\n",
       "Survived       31.932773\n",
       "Pclass          0.000000\n",
       "Name            0.000000\n",
       "Sex             0.000000\n",
       "Age            20.091673\n",
       "SibSp           0.000000\n",
       "Parch           0.000000\n",
       "Ticket          0.000000\n",
       "Fare            0.076394\n",
       "Cabin          77.463713\n",
       "Embarked        0.152788\n",
       "source          0.000000\n",
       "dtype: float64"
      ]
     },
     "execution_count": 8,
     "metadata": {},
     "output_type": "execute_result"
    }
   ],
   "source": [
    "# Missing values\n",
    "(data.isnull().sum()/data.shape[0]) * 100"
   ]
  },
  {
   "cell_type": "markdown",
   "id": "147c6d7e",
   "metadata": {
    "papermill": {
     "duration": 0.005296,
     "end_time": "2022-12-06T00:43:13.283352",
     "exception": false,
     "start_time": "2022-12-06T00:43:13.278056",
     "status": "completed"
    },
    "tags": []
   },
   "source": [
    "* Age has **20%** missing values.\n",
    "* Cabin has **77%** missing values."
   ]
  },
  {
   "cell_type": "code",
   "execution_count": 9,
   "id": "032cb79c",
   "metadata": {
    "execution": {
     "iopub.execute_input": "2022-12-06T00:43:13.295698Z",
     "iopub.status.busy": "2022-12-06T00:43:13.295003Z",
     "iopub.status.idle": "2022-12-06T00:43:13.712498Z",
     "shell.execute_reply": "2022-12-06T00:43:13.710726Z"
    },
    "papermill": {
     "duration": 0.426782,
     "end_time": "2022-12-06T00:43:13.715503",
     "exception": false,
     "start_time": "2022-12-06T00:43:13.288721",
     "status": "completed"
    },
    "tags": []
   },
   "outputs": [
    {
     "data": {
      "text/plain": [
       "<AxesSubplot:xlabel='Age', ylabel='Count'>"
      ]
     },
     "execution_count": 9,
     "metadata": {},
     "output_type": "execute_result"
    },
    {
     "data": {
      "image/png": "[encoded data removed]",
      "text/plain": [
       "<Figure size 432x288 with 1 Axes>"
      ]
     },
     "metadata": {},
     "output_type": "display_data"
    }
   ],
   "source": [
    "# Lets Impute missing values\n",
    "\n",
    "# Age is numeric\n",
    "# ax = sns.boxplot(data=data, x='Age')\n",
    "# plt.title('Age Box Plot')\n",
    "\n",
    "sns.histplot(data=data, x=data['Age'], bins=80)"
   ]
  },
  {
   "cell_type": "markdown",
   "id": "a3599aa3",
   "metadata": {
    "papermill": {
     "duration": 0.006721,
     "end_time": "2022-12-06T00:43:13.728661",
     "exception": false,
     "start_time": "2022-12-06T00:43:13.721940",
     "status": "completed"
    },
    "tags": []
   },
   "source": [
    "### Observations\n",
    "* Age is slightly **positive skewed** and after age of 66 all are  **outliers**.\n",
    "\n",
    "### Outlier Detection Method\n",
    "* Boxplot\n",
    "* Z-score\n",
    "* IQR\n",
    "\n",
    "### Handling Outliers\n",
    "\n",
    "1. Quantile based flooring and capping\n",
    "2. Mean/Median/Mode\n",
    "3. Removing (not recommended)"
   ]
  },
  {
   "cell_type": "code",
   "execution_count": 10,
   "id": "bef62ac4",
   "metadata": {
    "execution": {
     "iopub.execute_input": "2022-12-06T00:43:13.744443Z",
     "iopub.status.busy": "2022-12-06T00:43:13.743567Z",
     "iopub.status.idle": "2022-12-06T00:43:14.144669Z",
     "shell.execute_reply": "2022-12-06T00:43:14.143908Z"
    },
    "papermill": {
     "duration": 0.412371,
     "end_time": "2022-12-06T00:43:14.146797",
     "exception": false,
     "start_time": "2022-12-06T00:43:13.734426",
     "status": "completed"
    },
    "tags": []
   },
   "outputs": [
    {
     "data": {
      "text/plain": [
       "<AxesSubplot:xlabel='Age', ylabel='Count'>"
      ]
     },
     "execution_count": 10,
     "metadata": {},
     "output_type": "execute_result"
    },
    {
     "data": {
      "image/png": "[encoded data removed]",
      "text/plain": [
       "<Figure size 432x288 with 1 Axes>"
      ]
     },
     "metadata": {},
     "output_type": "display_data"
    }
   ],
   "source": [
    "# Lets imputate missing value with median\n",
    "data[data['Age'] >= 70] = np.nan\n",
    "data['Age'] = data['Age'].fillna(np.nanmedian(data.Age))\n",
    "sns.histplot(data=data, x=data['Age'], bins=70, kde=True)"
   ]
  }
 ],
 "metadata": {
  "kernelspec": {
   "display_name": "Python 3",
   "language": "python",
   "name": "python3"
  },
  "language_info": {
   "codemirror_mode": {
    "name": "ipython",
    "version": 3
   },
   "file_extension": ".py",
   "mimetype": "text/x-python",
   "name": "python",
   "nbconvert_exporter": "python",
   "pygments_lexer": "ipython3",
   "version": "3.7.12"
  },
  "papermill": {
   "default_parameters": {},
   "duration": 11.159871,
   "end_time": "2022-12-06T00:43:14.874697",
   "environment_variables": {},
   "exception": null,
   "input_path": "__notebook__.ipynb",
   "output_path": "__notebook__.ipynb",
   "parameters": {},
   "start_time": "2022-12-06T00:43:03.714826",
   "version": "2.3.4"
  }
 },
 "nbformat": 4,
 "nbformat_minor": 5
}
