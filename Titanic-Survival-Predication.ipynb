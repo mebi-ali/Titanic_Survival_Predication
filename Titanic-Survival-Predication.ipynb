{
 "cells": [
  {
   "cell_type": "markdown",
   "id": "0671a303",
   "metadata": {
    "_cell_guid": "b1076dfc-b9ad-4769-8c92-a6c4dae69d19",
    "_uuid": "8f2839f25d086af736a60e9eeb907d3b93b6e0e5",
    "execution": {
     "iopub.execute_input": "2022-12-02T18:13:06.723663Z",
     "iopub.status.busy": "2022-12-02T18:13:06.722752Z",
     "iopub.status.idle": "2022-12-02T18:13:06.753192Z",
     "shell.execute_reply": "2022-12-02T18:13:06.752034Z",
     "shell.execute_reply.started": "2022-12-02T18:13:06.723556Z"
    },
    "papermill": {
     "duration": 0.015518,
     "end_time": "2022-12-19T19:41:18.687253",
     "exception": false,
     "start_time": "2022-12-19T19:41:18.671735",
     "status": "completed"
    },
    "tags": []
   },
   "source": [
    "# *Titanic - Machine Learning from Disaster*\n",
    "\n",
    "## Probelem Statement\n",
    "\n",
    "The sinking of the Titanic is one of the most infamous shipwrecks in history.\n",
    "\n",
    "On April 15, 1912, during her maiden voyage, the widely considered “unsinkable” RMS Titanic sank after colliding with an iceberg. Unfortunately, there weren’t enough lifeboats for everyone onboard, resulting in the death of 1502 out of 2224 passengers and crew.\n",
    "\n",
    "While there was some element of luck involved in surviving, it seems some groups of people were more likely to survive than others.\n",
    "\n",
    "In this challenge, we ask you to build a predictive model that answers the question: “what sorts of people were more likely to survive?” using passenger data (ie name, age, gender, socio-economic class, etc).\n",
    "\n",
    "## Statement Analysis\n",
    "* Supervised Machine Learning Problem.\n",
    "* The Target Value is **Survived**.\n",
    "\n",
    "## Goal\n",
    "Using this model, We will try to understand what sort of people were more likely to **survive** than others."
   ]
  },
  {
   "cell_type": "markdown",
   "id": "f935e4fb",
   "metadata": {
    "papermill": {
     "duration": 0.014228,
     "end_time": "2022-12-19T19:41:18.716429",
     "exception": false,
     "start_time": "2022-12-19T19:41:18.702201",
     "status": "completed"
    },
    "tags": []
   },
   "source": [
    "# *Hypothesis Generation*\n",
    "* Females have more chance of surviving.\n",
    "* Children have more chance of surviving.\n",
    "* Upper Class (VIPS) have more chance of surviving.\n",
    "* People with less siblings have more chance of surviving.\n",
    "* Person with no family/sibings have more chance of surviving.\n",
    "* Swimmers have more chance of surviving.\n"
   ]
  },
  {
   "cell_type": "markdown",
   "id": "c6bec340",
   "metadata": {
    "papermill": {
     "duration": 0.014125,
     "end_time": "2022-12-19T19:41:18.745204",
     "exception": false,
     "start_time": "2022-12-19T19:41:18.731079",
     "status": "completed"
    },
    "tags": []
   },
   "source": [
    "# *Libraries*"
   ]
  },
  {
   "cell_type": "code",
   "execution_count": 1,
   "id": "b14e220a",
   "metadata": {
    "execution": {
     "iopub.execute_input": "2022-12-19T19:41:18.776404Z",
     "iopub.status.busy": "2022-12-19T19:41:18.775630Z",
     "iopub.status.idle": "2022-12-19T19:41:20.247772Z",
     "shell.execute_reply": "2022-12-19T19:41:20.246441Z"
    },
    "papermill": {
     "duration": 1.491676,
     "end_time": "2022-12-19T19:41:20.251347",
     "exception": false,
     "start_time": "2022-12-19T19:41:18.759671",
     "status": "completed"
    },
    "tags": []
   },
   "outputs": [],
   "source": [
    "# This Python 3 environment comes with many helpful analytics libraries installed\n",
    "# It is defined by the kaggle/python Docker image: https://github.com/kaggle/docker-python\n",
    "# For example, here's several helpful packages to load\n",
    "\n",
    "import os # Path to file\n",
    "import numpy as np # linear algebra\n",
    "import pandas as pd # data processing, CSV file I/O (e.g. pd.read_csv)\n",
    "import matplotlib.pyplot  as plt # Data visulization\n",
    "import seaborn as sns  # Data visulization\n",
    "import warnings # warning filter\n",
    "%matplotlib inline\n",
    "\n",
    "# Import Coounter\n",
    "from collections import Counter\n",
    "\n",
    "# Scaling Libraries\n",
    "from sklearn.preprocessing import OneHotEncoder, LabelEncoder, StandardScaler\n",
    "\n",
    "# Machine Learning Models\n",
    "from sklearn.ensemble import RandomForestClassifier, AdaBoostClassifier, GradientBoostingClassifier, ExtraTreesClassifier, VotingClassifier\n",
    "from sklearn.discriminant_analysis import LinearDiscriminantAnalysis\n",
    "from sklearn.linear_model import LogisticRegression\n",
    "from sklearn.neighbors import KNeighborsClassifier\n",
    "from sklearn.tree import DecisionTreeClassifier\n",
    "from sklearn.neural_network import MLPClassifier\n",
    "from sklearn.svm import SVC\n",
    "\n",
    "# Score Matrics\n",
    "from sklearn.metrics import roc_curve, auc\n",
    "from sklearn.model_selection import GridSearchCV, cross_val_score as CVS, StratifiedKFold, learning_curve\n",
    "\n",
    "## Setting Seaborn\n",
    "sns.set(style='white', context='paper', palette='cividis')\n",
    "\n",
    "# Warnings\n",
    "import warnings\n",
    "warnings.filterwarnings('ignore')"
   ]
  },
  {
   "cell_type": "code",
   "execution_count": 2,
   "id": "0199ccad",
   "metadata": {
    "execution": {
     "iopub.execute_input": "2022-12-19T19:41:20.284848Z",
     "iopub.status.busy": "2022-12-19T19:41:20.284118Z",
     "iopub.status.idle": "2022-12-19T19:41:20.293021Z",
     "shell.execute_reply": "2022-12-19T19:41:20.291583Z"
    },
    "papermill": {
     "duration": 0.029046,
     "end_time": "2022-12-19T19:41:20.296058",
     "exception": false,
     "start_time": "2022-12-19T19:41:20.267012",
     "status": "completed"
    },
    "tags": []
   },
   "outputs": [
    {
     "name": "stdout",
     "output_type": "stream",
     "text": [
      "/kaggle/input/titanic/train.csv\n",
      "/kaggle/input/titanic/test.csv\n",
      "/kaggle/input/titanic/gender_submission.csv\n"
     ]
    }
   ],
   "source": [
    "\n",
    "# Input data files are available in the read-only \"../input/\" directory\n",
    "# For example, running this (by clicking run or pressing Shift+Enter) will list all files under the input directory\n",
    "\n",
    "for dirname, _, filenames in os.walk('/kaggle/input'):\n",
    "    for filename in filenames:\n",
    "        print(os.path.join(dirname, filename))\n",
    "\n",
    "# You can write up to 20GB to the current directory (/kaggle/working/) that gets preserved as output when you create a version using \"Save & Run All\" \n",
    "# You can also write temporary files to /kaggle/temp/, but they won't be saved outside of the current session"
   ]
  },
  {
   "cell_type": "code",
   "execution_count": 3,
   "id": "9b96be96",
   "metadata": {
    "execution": {
     "iopub.execute_input": "2022-12-19T19:41:20.336257Z",
     "iopub.status.busy": "2022-12-19T19:41:20.335879Z",
     "iopub.status.idle": "2022-12-19T19:41:20.365230Z",
     "shell.execute_reply": "2022-12-19T19:41:20.364201Z"
    },
    "papermill": {
     "duration": 0.053284,
     "end_time": "2022-12-19T19:41:20.367683",
     "exception": false,
     "start_time": "2022-12-19T19:41:20.314399",
     "status": "completed"
    },
    "tags": []
   },
   "outputs": [],
   "source": [
    "# Loading Data.\n",
    "train = pd.read_csv('/kaggle/input/titanic/train.csv')\n",
    "test = pd.read_csv('/kaggle/input/titanic/test.csv')\n"
   ]
  },
  {
   "cell_type": "code",
   "execution_count": 4,
   "id": "c4a35100",
   "metadata": {
    "execution": {
     "iopub.execute_input": "2022-12-19T19:41:20.406109Z",
     "iopub.status.busy": "2022-12-19T19:41:20.404740Z",
     "iopub.status.idle": "2022-12-19T19:41:20.451372Z",
     "shell.execute_reply": "2022-12-19T19:41:20.449626Z"
    },
    "papermill": {
     "duration": 0.065369,
     "end_time": "2022-12-19T19:41:20.453527",
     "exception": false,
     "start_time": "2022-12-19T19:41:20.388158",
     "status": "completed"
    },
    "tags": []
   },
   "outputs": [
    {
     "name": "stdout",
     "output_type": "stream",
     "text": [
      "Train Dataset (row, col): (891, 12) \n",
      "\n",
      "\n",
      "Train Dataset Information:\n",
      "\n",
      "<class 'pandas.core.frame.DataFrame'>\n",
      "RangeIndex: 891 entries, 0 to 890\n",
      "Data columns (total 12 columns):\n",
      " #   Column       Non-Null Count  Dtype  \n",
      "---  ------       --------------  -----  \n",
      " 0   PassengerId  891 non-null    int64  \n",
      " 1   Survived     891 non-null    int64  \n",
      " 2   Pclass       891 non-null    int64  \n",
      " 3   Name         891 non-null    object \n",
      " 4   Sex          891 non-null    object \n",
      " 5   Age          714 non-null    float64\n",
      " 6   SibSp        891 non-null    int64  \n",
      " 7   Parch        891 non-null    int64  \n",
      " 8   Ticket       891 non-null    object \n",
      " 9   Fare         891 non-null    float64\n",
      " 10  Cabin        204 non-null    object \n",
      " 11  Embarked     889 non-null    object \n",
      "dtypes: float64(2), int64(5), object(5)\n",
      "memory usage: 83.7+ KB\n",
      "None\n",
      "\n",
      "Test Dataset (row, col): (418, 11) \n",
      "\n",
      "\n",
      "Test Dataset Information:\n",
      "\n",
      "<class 'pandas.core.frame.DataFrame'>\n",
      "RangeIndex: 418 entries, 0 to 417\n",
      "Data columns (total 11 columns):\n",
      " #   Column       Non-Null Count  Dtype  \n",
      "---  ------       --------------  -----  \n",
      " 0   PassengerId  418 non-null    int64  \n",
      " 1   Pclass       418 non-null    int64  \n",
      " 2   Name         418 non-null    object \n",
      " 3   Sex          418 non-null    object \n",
      " 4   Age          332 non-null    float64\n",
      " 5   SibSp        418 non-null    int64  \n",
      " 6   Parch        418 non-null    int64  \n",
      " 7   Ticket       418 non-null    object \n",
      " 8   Fare         417 non-null    float64\n",
      " 9   Cabin        91 non-null     object \n",
      " 10  Embarked     418 non-null    object \n",
      "dtypes: float64(2), int64(4), object(5)\n",
      "memory usage: 36.0+ KB\n",
      "None\n",
      "\n",
      "Train Dataset Values:\n",
      "\n"
     ]
    },
    {
     "data": {
      "text/plain": [
       "PassengerId    [1, 2, 3, 4, 5, 6, 7, 8, 9, 10, 11, 12, 13, 14...\n",
       "Survived                                                  [0, 1]\n",
       "Pclass                                                 [3, 1, 2]\n",
       "Name           [Braund, Mr. Owen Harris, Cumings, Mrs. John B...\n",
       "Sex                                               [male, female]\n",
       "Age            [22.0, 38.0, 26.0, 35.0, nan, 54.0, 2.0, 27.0,...\n",
       "SibSp                                      [1, 0, 3, 4, 2, 5, 8]\n",
       "Parch                                      [0, 1, 2, 5, 3, 4, 6]\n",
       "Ticket         [A/5 21171, PC 17599, STON/O2. 3101282, 113803...\n",
       "Fare           [7.25, 71.2833, 7.925, 53.1, 8.05, 8.4583, 51....\n",
       "Cabin          [nan, C85, C123, E46, G6, C103, D56, A6, C23 C...\n",
       "Embarked                                          [S, C, Q, nan]\n",
       "dtype: object"
      ]
     },
     "execution_count": 4,
     "metadata": {},
     "output_type": "execute_result"
    }
   ],
   "source": [
    "# lets check data\n",
    "print(f'Train Dataset (row, col): {train.shape} \\n')\n",
    "print('\\nTrain Dataset Information:\\n')\n",
    "print(train.info())\n",
    "\n",
    "print(f'\\nTest Dataset (row, col): {test.shape} \\n')\n",
    "print('\\nTest Dataset Information:\\n')\n",
    "print(test.info())\n",
    "\n",
    "print('\\nTrain Dataset Values:\\n')\n",
    "train.apply(lambda x:x.unique())\n"
   ]
  },
  {
   "cell_type": "markdown",
   "id": "c31fd4b9",
   "metadata": {
    "papermill": {
     "duration": 0.015681,
     "end_time": "2022-12-19T19:41:20.488018",
     "exception": false,
     "start_time": "2022-12-19T19:41:20.472337",
     "status": "completed"
    },
    "tags": []
   },
   "source": [
    "## About Dataset\n",
    "\n",
    "This dataset is named Titanic Survival. The dataset contains a set of **891** records under **12** attributes:\n",
    "\n",
    "## Column Name and their Description\n",
    "\n",
    "* **PassengerId**: Unique passenger ID.\n",
    "* **Name** : name of passenger.\n",
    "* **Pclass** : Ticket class (A proxy for **socio-economic status** (SES)).\n",
    "* **Sex** : gender of passenger.\n",
    "* **Age** : age of passenger.\n",
    "* **SibSp**: number of siblings/spouse of passenger.\n",
    "* **Parch** : number of parents of passenger.\n",
    "* **Ticket** : ticket number.\n",
    "* **Fare** :Passenger fare.\n",
    "* **Cabin** : Cabin number.\n",
    "* **Embarked** : Port of Embarkation.\n",
    "\n",
    "## Variable Notes\n",
    "**Pclass**: A proxy for socio-economic status (SES)\n",
    "* 1st = Upper\n",
    "* 2nd = Middle\n",
    "* 3rd = Lower\n",
    "\n",
    "**Age**: Age is fractional if less than 1. If the age is estimated, is it in the form of xx.5\n",
    "\n",
    "**sibsp**: The dataset defines family relations in this way...\n",
    "* **Sibling** = brother, sister, stepbrother, stepsister\n",
    "* **Spouse** = husband, wife (mistresses and fiancés were ignored)\n",
    "\n",
    "**parch**: The dataset defines family relations in this way...\n",
    "* **Parent** = mother, father\n",
    "* **Child** = daughter, son, stepdaughter, stepson\n",
    "* Some children travelled only with a nanny, therefore **parch=0** for them.\n"
   ]
  },
  {
   "cell_type": "markdown",
   "id": "fc65cca7",
   "metadata": {
    "papermill": {
     "duration": 0.015194,
     "end_time": "2022-12-19T19:41:20.518728",
     "exception": false,
     "start_time": "2022-12-19T19:41:20.503534",
     "status": "completed"
    },
    "tags": []
   },
   "source": [
    "# *Future Analysis*\n",
    "\n"
   ]
  },
  {
   "cell_type": "code",
   "execution_count": 5,
   "id": "e9e2388e",
   "metadata": {
    "execution": {
     "iopub.execute_input": "2022-12-19T19:41:20.552881Z",
     "iopub.status.busy": "2022-12-19T19:41:20.552506Z",
     "iopub.status.idle": "2022-12-19T19:41:20.563997Z",
     "shell.execute_reply": "2022-12-19T19:41:20.562496Z"
    },
    "papermill": {
     "duration": 0.030838,
     "end_time": "2022-12-19T19:41:20.566775",
     "exception": false,
     "start_time": "2022-12-19T19:41:20.535937",
     "status": "completed"
    },
    "tags": []
   },
   "outputs": [],
   "source": [
    "# Check Dupicates\n",
    "train.drop_duplicates(inplace=True)"
   ]
  },
  {
   "cell_type": "code",
   "execution_count": 6,
   "id": "42d5e73e",
   "metadata": {
    "execution": {
     "iopub.execute_input": "2022-12-19T19:41:20.600352Z",
     "iopub.status.busy": "2022-12-19T19:41:20.599960Z",
     "iopub.status.idle": "2022-12-19T19:41:20.647052Z",
     "shell.execute_reply": "2022-12-19T19:41:20.646084Z"
    },
    "papermill": {
     "duration": 0.067883,
     "end_time": "2022-12-19T19:41:20.649678",
     "exception": false,
     "start_time": "2022-12-19T19:41:20.581795",
     "status": "completed"
    },
    "tags": []
   },
   "outputs": [
    {
     "data": {
      "text/html": [
       "<div>\n",
       "<style scoped>\n",
       "    .dataframe tbody tr th:only-of-type {\n",
       "        vertical-align: middle;\n",
       "    }\n",
       "\n",
       "    .dataframe tbody tr th {\n",
       "        vertical-align: top;\n",
       "    }\n",
       "\n",
       "    .dataframe thead th {\n",
       "        text-align: right;\n",
       "    }\n",
       "</style>\n",
       "<table border=\"1\" class=\"dataframe\">\n",
       "  <thead>\n",
       "    <tr style=\"text-align: right;\">\n",
       "      <th></th>\n",
       "      <th>PassengerId</th>\n",
       "      <th>Survived</th>\n",
       "      <th>Pclass</th>\n",
       "      <th>Name</th>\n",
       "      <th>Sex</th>\n",
       "      <th>Age</th>\n",
       "      <th>SibSp</th>\n",
       "      <th>Parch</th>\n",
       "      <th>Ticket</th>\n",
       "      <th>Fare</th>\n",
       "      <th>Cabin</th>\n",
       "      <th>Embarked</th>\n",
       "    </tr>\n",
       "  </thead>\n",
       "  <tbody>\n",
       "    <tr>\n",
       "      <th>count</th>\n",
       "      <td>891.000000</td>\n",
       "      <td>891.000000</td>\n",
       "      <td>891.000000</td>\n",
       "      <td>891</td>\n",
       "      <td>891</td>\n",
       "      <td>714.000000</td>\n",
       "      <td>891.000000</td>\n",
       "      <td>891.000000</td>\n",
       "      <td>891</td>\n",
       "      <td>891.000000</td>\n",
       "      <td>204</td>\n",
       "      <td>889</td>\n",
       "    </tr>\n",
       "    <tr>\n",
       "      <th>unique</th>\n",
       "      <td>NaN</td>\n",
       "      <td>NaN</td>\n",
       "      <td>NaN</td>\n",
       "      <td>891</td>\n",
       "      <td>2</td>\n",
       "      <td>NaN</td>\n",
       "      <td>NaN</td>\n",
       "      <td>NaN</td>\n",
       "      <td>681</td>\n",
       "      <td>NaN</td>\n",
       "      <td>147</td>\n",
       "      <td>3</td>\n",
       "    </tr>\n",
       "    <tr>\n",
       "      <th>top</th>\n",
       "      <td>NaN</td>\n",
       "      <td>NaN</td>\n",
       "      <td>NaN</td>\n",
       "      <td>Braund, Mr. Owen Harris</td>\n",
       "      <td>male</td>\n",
       "      <td>NaN</td>\n",
       "      <td>NaN</td>\n",
       "      <td>NaN</td>\n",
       "      <td>347082</td>\n",
       "      <td>NaN</td>\n",
       "      <td>B96 B98</td>\n",
       "      <td>S</td>\n",
       "    </tr>\n",
       "    <tr>\n",
       "      <th>freq</th>\n",
       "      <td>NaN</td>\n",
       "      <td>NaN</td>\n",
       "      <td>NaN</td>\n",
       "      <td>1</td>\n",
       "      <td>577</td>\n",
       "      <td>NaN</td>\n",
       "      <td>NaN</td>\n",
       "      <td>NaN</td>\n",
       "      <td>7</td>\n",
       "      <td>NaN</td>\n",
       "      <td>4</td>\n",
       "      <td>644</td>\n",
       "    </tr>\n",
       "    <tr>\n",
       "      <th>mean</th>\n",
       "      <td>446.000000</td>\n",
       "      <td>0.383838</td>\n",
       "      <td>2.308642</td>\n",
       "      <td>NaN</td>\n",
       "      <td>NaN</td>\n",
       "      <td>29.699118</td>\n",
       "      <td>0.523008</td>\n",
       "      <td>0.381594</td>\n",
       "      <td>NaN</td>\n",
       "      <td>32.204208</td>\n",
       "      <td>NaN</td>\n",
       "      <td>NaN</td>\n",
       "    </tr>\n",
       "    <tr>\n",
       "      <th>std</th>\n",
       "      <td>257.353842</td>\n",
       "      <td>0.486592</td>\n",
       "      <td>0.836071</td>\n",
       "      <td>NaN</td>\n",
       "      <td>NaN</td>\n",
       "      <td>14.526497</td>\n",
       "      <td>1.102743</td>\n",
       "      <td>0.806057</td>\n",
       "      <td>NaN</td>\n",
       "      <td>49.693429</td>\n",
       "      <td>NaN</td>\n",
       "      <td>NaN</td>\n",
       "    </tr>\n",
       "    <tr>\n",
       "      <th>min</th>\n",
       "      <td>1.000000</td>\n",
       "      <td>0.000000</td>\n",
       "      <td>1.000000</td>\n",
       "      <td>NaN</td>\n",
       "      <td>NaN</td>\n",
       "      <td>0.420000</td>\n",
       "      <td>0.000000</td>\n",
       "      <td>0.000000</td>\n",
       "      <td>NaN</td>\n",
       "      <td>0.000000</td>\n",
       "      <td>NaN</td>\n",
       "      <td>NaN</td>\n",
       "    </tr>\n",
       "    <tr>\n",
       "      <th>25%</th>\n",
       "      <td>223.500000</td>\n",
       "      <td>0.000000</td>\n",
       "      <td>2.000000</td>\n",
       "      <td>NaN</td>\n",
       "      <td>NaN</td>\n",
       "      <td>20.125000</td>\n",
       "      <td>0.000000</td>\n",
       "      <td>0.000000</td>\n",
       "      <td>NaN</td>\n",
       "      <td>7.910400</td>\n",
       "      <td>NaN</td>\n",
       "      <td>NaN</td>\n",
       "    </tr>\n",
       "    <tr>\n",
       "      <th>50%</th>\n",
       "      <td>446.000000</td>\n",
       "      <td>0.000000</td>\n",
       "      <td>3.000000</td>\n",
       "      <td>NaN</td>\n",
       "      <td>NaN</td>\n",
       "      <td>28.000000</td>\n",
       "      <td>0.000000</td>\n",
       "      <td>0.000000</td>\n",
       "      <td>NaN</td>\n",
       "      <td>14.454200</td>\n",
       "      <td>NaN</td>\n",
       "      <td>NaN</td>\n",
       "    </tr>\n",
       "    <tr>\n",
       "      <th>75%</th>\n",
       "      <td>668.500000</td>\n",
       "      <td>1.000000</td>\n",
       "      <td>3.000000</td>\n",
       "      <td>NaN</td>\n",
       "      <td>NaN</td>\n",
       "      <td>38.000000</td>\n",
       "      <td>1.000000</td>\n",
       "      <td>0.000000</td>\n",
       "      <td>NaN</td>\n",
       "      <td>31.000000</td>\n",
       "      <td>NaN</td>\n",
       "      <td>NaN</td>\n",
       "    </tr>\n",
       "    <tr>\n",
       "      <th>max</th>\n",
       "      <td>891.000000</td>\n",
       "      <td>1.000000</td>\n",
       "      <td>3.000000</td>\n",
       "      <td>NaN</td>\n",
       "      <td>NaN</td>\n",
       "      <td>80.000000</td>\n",
       "      <td>8.000000</td>\n",
       "      <td>6.000000</td>\n",
       "      <td>NaN</td>\n",
       "      <td>512.329200</td>\n",
       "      <td>NaN</td>\n",
       "      <td>NaN</td>\n",
       "    </tr>\n",
       "  </tbody>\n",
       "</table>\n",
       "</div>"
      ],
      "text/plain": [
       "        PassengerId    Survived      Pclass                     Name   Sex  \\\n",
       "count    891.000000  891.000000  891.000000                      891   891   \n",
       "unique          NaN         NaN         NaN                      891     2   \n",
       "top             NaN         NaN         NaN  Braund, Mr. Owen Harris  male   \n",
       "freq            NaN         NaN         NaN                        1   577   \n",
       "mean     446.000000    0.383838    2.308642                      NaN   NaN   \n",
       "std      257.353842    0.486592    0.836071                      NaN   NaN   \n",
       "min        1.000000    0.000000    1.000000                      NaN   NaN   \n",
       "25%      223.500000    0.000000    2.000000                      NaN   NaN   \n",
       "50%      446.000000    0.000000    3.000000                      NaN   NaN   \n",
       "75%      668.500000    1.000000    3.000000                      NaN   NaN   \n",
       "max      891.000000    1.000000    3.000000                      NaN   NaN   \n",
       "\n",
       "               Age       SibSp       Parch  Ticket        Fare    Cabin  \\\n",
       "count   714.000000  891.000000  891.000000     891  891.000000      204   \n",
       "unique         NaN         NaN         NaN     681         NaN      147   \n",
       "top            NaN         NaN         NaN  347082         NaN  B96 B98   \n",
       "freq           NaN         NaN         NaN       7         NaN        4   \n",
       "mean     29.699118    0.523008    0.381594     NaN   32.204208      NaN   \n",
       "std      14.526497    1.102743    0.806057     NaN   49.693429      NaN   \n",
       "min       0.420000    0.000000    0.000000     NaN    0.000000      NaN   \n",
       "25%      20.125000    0.000000    0.000000     NaN    7.910400      NaN   \n",
       "50%      28.000000    0.000000    0.000000     NaN   14.454200      NaN   \n",
       "75%      38.000000    1.000000    0.000000     NaN   31.000000      NaN   \n",
       "max      80.000000    8.000000    6.000000     NaN  512.329200      NaN   \n",
       "\n",
       "       Embarked  \n",
       "count       889  \n",
       "unique        3  \n",
       "top           S  \n",
       "freq        644  \n",
       "mean        NaN  \n",
       "std         NaN  \n",
       "min         NaN  \n",
       "25%         NaN  \n",
       "50%         NaN  \n",
       "75%         NaN  \n",
       "max         NaN  "
      ]
     },
     "execution_count": 6,
     "metadata": {},
     "output_type": "execute_result"
    }
   ],
   "source": [
    "# Data Summery\n",
    "train.describe(include=[object, np.number])"
   ]
  },
  {
   "cell_type": "markdown",
   "id": "6658326a",
   "metadata": {
    "papermill": {
     "duration": 0.015289,
     "end_time": "2022-12-19T19:41:20.681213",
     "exception": false,
     "start_time": "2022-12-19T19:41:20.665924",
     "status": "completed"
    },
    "tags": []
   },
   "source": [
    "### Observations\n",
    "* Most passengers are **Lower class passengers**.\n",
    "* Most passengers are **male**.\n",
    "* Average Age of passengers is **28** oldest passenger=80, youngest=0.42 (about 5 months).\n",
    "* Most passengers are **alone**.\n",
    "* Average Fare is 14.45 pounds\n",
    "\n"
   ]
  },
  {
   "cell_type": "code",
   "execution_count": 7,
   "id": "52a1c953",
   "metadata": {
    "execution": {
     "iopub.execute_input": "2022-12-19T19:41:20.713549Z",
     "iopub.status.busy": "2022-12-19T19:41:20.713199Z",
     "iopub.status.idle": "2022-12-19T19:41:20.722212Z",
     "shell.execute_reply": "2022-12-19T19:41:20.721368Z"
    },
    "papermill": {
     "duration": 0.027872,
     "end_time": "2022-12-19T19:41:20.724341",
     "exception": false,
     "start_time": "2022-12-19T19:41:20.696469",
     "status": "completed"
    },
    "tags": []
   },
   "outputs": [
    {
     "data": {
      "text/plain": [
       "PassengerId     0.000000\n",
       "Survived        0.000000\n",
       "Pclass          0.000000\n",
       "Name            0.000000\n",
       "Sex             0.000000\n",
       "Age            19.865320\n",
       "SibSp           0.000000\n",
       "Parch           0.000000\n",
       "Ticket          0.000000\n",
       "Fare            0.000000\n",
       "Cabin          77.104377\n",
       "Embarked        0.224467\n",
       "dtype: float64"
      ]
     },
     "execution_count": 7,
     "metadata": {},
     "output_type": "execute_result"
    }
   ],
   "source": [
    "# Missing values\n",
    "(train.isnull().sum()/train.shape[0]) * 100"
   ]
  },
  {
   "cell_type": "markdown",
   "id": "c196e009",
   "metadata": {
    "papermill": {
     "duration": 0.015098,
     "end_time": "2022-12-19T19:41:20.754735",
     "exception": false,
     "start_time": "2022-12-19T19:41:20.739637",
     "status": "completed"
    },
    "tags": []
   },
   "source": [
    "### Missing values\n",
    "* Age has **19.8%** missing values.\n",
    "* Cabin has **77%** missing values.\n",
    "* Embarked has **0.22%** missing values"
   ]
  },
  {
   "cell_type": "markdown",
   "id": "e071da9f",
   "metadata": {
    "papermill": {
     "duration": 0.01504,
     "end_time": "2022-12-19T19:41:20.785162",
     "exception": false,
     "start_time": "2022-12-19T19:41:20.770122",
     "status": "completed"
    },
    "tags": []
   },
   "source": [
    "* ### Data Exploration\n",
    "Lets combine both datasets since both are similier\n",
    "Below are the steps involved to understand, clean and prepare your data for building your predictive model:\n",
    "\n",
    "* Missing values treatment\n",
    "* Outlier treatment\n",
    "* Variable Identification\n",
    "* Univariate Analysis\n",
    "* Bi-variate Analysis\n",
    "* Variable transformation\n",
    "* Variable creation"
   ]
  },
  {
   "cell_type": "code",
   "execution_count": 8,
   "id": "d6bd1738",
   "metadata": {
    "execution": {
     "iopub.execute_input": "2022-12-19T19:41:20.817540Z",
     "iopub.status.busy": "2022-12-19T19:41:20.817145Z",
     "iopub.status.idle": "2022-12-19T19:41:20.827724Z",
     "shell.execute_reply": "2022-12-19T19:41:20.826285Z"
    },
    "papermill": {
     "duration": 0.02942,
     "end_time": "2022-12-19T19:41:20.829940",
     "exception": false,
     "start_time": "2022-12-19T19:41:20.800520",
     "status": "completed"
    },
    "tags": []
   },
   "outputs": [
    {
     "name": "stdout",
     "output_type": "stream",
     "text": [
      "After combining the datasets (row,col):  (1309, 13)\n"
     ]
    }
   ],
   "source": [
    "# Combining Datasets\n",
    "train['source'] = 'train'\n",
    "test['source'] = 'test'\n",
    "data = pd.concat([train, test], ignore_index=True)\n",
    "print('After combining the datasets (row,col): ', data.shape)"
   ]
  },
  {
   "cell_type": "markdown",
   "id": "9d04f135",
   "metadata": {
    "papermill": {
     "duration": 0.015236,
     "end_time": "2022-12-19T19:41:20.860827",
     "exception": false,
     "start_time": "2022-12-19T19:41:20.845591",
     "status": "completed"
    },
    "tags": []
   },
   "source": [
    "* ### Missing Values\n",
    "1. Numeric Values\n",
    "2. Categorial Values"
   ]
  },
  {
   "cell_type": "code",
   "execution_count": 9,
   "id": "9a034859",
   "metadata": {
    "execution": {
     "iopub.execute_input": "2022-12-19T19:41:20.893537Z",
     "iopub.status.busy": "2022-12-19T19:41:20.893148Z",
     "iopub.status.idle": "2022-12-19T19:41:20.904446Z",
     "shell.execute_reply": "2022-12-19T19:41:20.903731Z"
    },
    "papermill": {
     "duration": 0.02995,
     "end_time": "2022-12-19T19:41:20.906373",
     "exception": false,
     "start_time": "2022-12-19T19:41:20.876423",
     "status": "completed"
    },
    "tags": []
   },
   "outputs": [
    {
     "data": {
      "text/plain": [
       "PassengerId     0.000000\n",
       "Survived       31.932773\n",
       "Pclass          0.000000\n",
       "Name            0.000000\n",
       "Sex             0.000000\n",
       "Age            20.091673\n",
       "SibSp           0.000000\n",
       "Parch           0.000000\n",
       "Ticket          0.000000\n",
       "Fare            0.076394\n",
       "Cabin          77.463713\n",
       "Embarked        0.152788\n",
       "source          0.000000\n",
       "dtype: float64"
      ]
     },
     "execution_count": 9,
     "metadata": {},
     "output_type": "execute_result"
    }
   ],
   "source": [
    "# Fill empty and NaNs values with NaN\n",
    "# Missing values\n",
    "(data.isnull().sum()/data.shape[0]) * 100"
   ]
  },
  {
   "cell_type": "markdown",
   "id": "f41e3c9e",
   "metadata": {
    "papermill": {
     "duration": 0.015598,
     "end_time": "2022-12-19T19:41:20.937841",
     "exception": false,
     "start_time": "2022-12-19T19:41:20.922243",
     "status": "completed"
    },
    "tags": []
   },
   "source": [
    "* Age here is **continuies value** and also age is corelated with **parch/sibling** and since there is subpopulation in age is **children** having higher chance of **surrvival** we need visulize the age **carefully**."
   ]
  },
  {
   "cell_type": "code",
   "execution_count": 10,
   "id": "cdcad7fd",
   "metadata": {
    "execution": {
     "iopub.execute_input": "2022-12-19T19:41:20.971682Z",
     "iopub.status.busy": "2022-12-19T19:41:20.971078Z",
     "iopub.status.idle": "2022-12-19T19:41:20.982066Z",
     "shell.execute_reply": "2022-12-19T19:41:20.980167Z"
    },
    "papermill": {
     "duration": 0.030603,
     "end_time": "2022-12-19T19:41:20.984225",
     "exception": false,
     "start_time": "2022-12-19T19:41:20.953622",
     "status": "completed"
    },
    "tags": []
   },
   "outputs": [
    {
     "data": {
      "text/plain": [
       "count    1046.000000\n",
       "mean       29.881138\n",
       "std        14.413493\n",
       "min         0.170000\n",
       "25%        21.000000\n",
       "50%        28.000000\n",
       "75%        39.000000\n",
       "max        80.000000\n",
       "Name: Age, dtype: float64"
      ]
     },
     "execution_count": 10,
     "metadata": {},
     "output_type": "execute_result"
    }
   ],
   "source": [
    "# Lets deal with Age first\n",
    "data.Age.describe()\n"
   ]
  },
  {
   "cell_type": "code",
   "execution_count": 11,
   "id": "0dcac7b2",
   "metadata": {
    "execution": {
     "iopub.execute_input": "2022-12-19T19:41:21.017508Z",
     "iopub.status.busy": "2022-12-19T19:41:21.017107Z",
     "iopub.status.idle": "2022-12-19T19:41:21.295856Z",
     "shell.execute_reply": "2022-12-19T19:41:21.294938Z"
    },
    "papermill": {
     "duration": 0.297681,
     "end_time": "2022-12-19T19:41:21.297812",
     "exception": false,
     "start_time": "2022-12-19T19:41:21.000131",
     "status": "completed"
    },
    "tags": []
   },
   "outputs": [
    {
     "data": {
      "image/png": "[encoded data removed]",
      "text/plain": [
       "<Figure size 432x288 with 1 Axes>"
      ]
     },
     "metadata": {},
     "output_type": "display_data"
    }
   ],
   "source": [
    "# Age Distribution\n",
    "ax = sns.histplot(x=data['Age'], bins=10, kde=True)\n",
    "ax.set_ylabel('Number of Passengers')\n",
    "ax.set_title('Age Distribution', fontsize=20)\n",
    "sns.despine(offset=5, trim=True)\n"
   ]
  },
  {
   "cell_type": "code",
   "execution_count": 12,
   "id": "f7d84de2",
   "metadata": {
    "execution": {
     "iopub.execute_input": "2022-12-19T19:41:21.332497Z",
     "iopub.status.busy": "2022-12-19T19:41:21.331842Z",
     "iopub.status.idle": "2022-12-19T19:41:22.648025Z",
     "shell.execute_reply": "2022-12-19T19:41:22.646910Z"
    },
    "papermill": {
     "duration": 1.33591,
     "end_time": "2022-12-19T19:41:22.650231",
     "exception": false,
     "start_time": "2022-12-19T19:41:21.314321",
     "status": "completed"
    },
    "tags": []
   },
   "outputs": [
    {
     "data": {
      "text/plain": [
       "<seaborn.axisgrid.FacetGrid at 0x7f13dcf67150>"
      ]
     },
     "execution_count": 12,
     "metadata": {},
     "output_type": "execute_result"
    },
    {
     "data": {
      "image/png": "[encoded data removed]",
      "text/plain": [
       "<Figure size 360x360 with 1 Axes>"
      ]
     },
     "metadata": {},
     "output_type": "display_data"
    },
    {
     "data": {
      "image/png": "[encoded data removed]",
      "text/plain": [
       "<Figure size 397.305x360 with 1 Axes>"
      ]
     },
     "metadata": {},
     "output_type": "display_data"
    },
    {
     "data": {
      "image/png": "[encoded data removed]",
      "text/plain": [
       "<Figure size 360x360 with 1 Axes>"
      ]
     },
     "metadata": {},
     "output_type": "display_data"
    },
    {
     "data": {
      "image/png": "[encoded data removed]",
      "text/plain": [
       "<Figure size 360x360 with 1 Axes>"
      ]
     },
     "metadata": {},
     "output_type": "display_data"
    }
   ],
   "source": [
    "# Explore Age\n",
    "\n",
    "ax = sns.catplot(y=\"Age\",x=\"Sex\",data=data,kind=\"box\")\n",
    "ax.despine(offset=1, trim=True)\n",
    "ax = sns.catplot(y=\"Age\",x=\"Sex\",hue=\"Pclass\", data=data,kind=\"box\")\n",
    "ax.despine(offset=1, trim=True)\n",
    "ax = sns.catplot(y=\"Age\",x=\"Parch\", data=data,kind=\"box\")\n",
    "ax.despine(offset=1, trim=True)\n",
    "ax = sns.catplot(y=\"Age\",x=\"SibSp\", data=data,kind=\"box\")\n",
    "ax.despine(offset=1, trim=True)\n",
    "\n"
   ]
  },
  {
   "cell_type": "markdown",
   "id": "da8ac94e",
   "metadata": {
    "papermill": {
     "duration": 0.016552,
     "end_time": "2022-12-19T19:41:22.684024",
     "exception": false,
     "start_time": "2022-12-19T19:41:22.667472",
     "status": "completed"
    },
    "tags": []
   },
   "source": [
    "## Observations\n",
    "* Age and **Sex** has almost **same distribution**.\n",
    "* **1st class** passenger are **older** then **2nd class**, and 2nd are **older** then **3rd class**.\n",
    "* Person having more **parents/children** are **older**.\n",
    "* Person having more **siblings/spouse** are **younger**."
   ]
  },
  {
   "cell_type": "code",
   "execution_count": 13,
   "id": "df6f816c",
   "metadata": {
    "execution": {
     "iopub.execute_input": "2022-12-19T19:41:22.719058Z",
     "iopub.status.busy": "2022-12-19T19:41:22.718653Z",
     "iopub.status.idle": "2022-12-19T19:41:22.989609Z",
     "shell.execute_reply": "2022-12-19T19:41:22.988898Z"
    },
    "papermill": {
     "duration": 0.290719,
     "end_time": "2022-12-19T19:41:22.991434",
     "exception": false,
     "start_time": "2022-12-19T19:41:22.700715",
     "status": "completed"
    },
    "tags": []
   },
   "outputs": [
    {
     "data": {
      "text/plain": [
       "Text(0.5, 1.0, 'Correlation of Age\\n')"
      ]
     },
     "execution_count": 13,
     "metadata": {},
     "output_type": "execute_result"
    },
    {
     "data": {
      "image/png": "[encoded data removed]",
      "text/plain": [
       "<Figure size 432x288 with 2 Axes>"
      ]
     },
     "metadata": {},
     "output_type": "display_data"
    }
   ],
   "source": [
    "# Convert Sex 0, 1 into male female\n",
    "data['Sex'] = data['Sex'].map({'male': 0, 'female': 1})\n",
    "ax = sns.heatmap(data=data[['Age','Sex','Pclass', 'Parch', 'SibSp']].corr(), cmap='gist_heat' , annot=True)\n",
    "ax.set_title('Correlation of Age\\n', fontsize=20)"
   ]
  },
  {
   "cell_type": "markdown",
   "id": "b3d64359",
   "metadata": {
    "papermill": {
     "duration": 0.017926,
     "end_time": "2022-12-19T19:41:23.026683",
     "exception": false,
     "start_time": "2022-12-19T19:41:23.008757",
     "status": "completed"
    },
    "tags": []
   },
   "source": [
    "### Observations\n",
    "* Above heatmap **confirms the catplots except Parch**. age is not correlated with sex, But **negativly correlated with Parch, Pclass, SibSp**"
   ]
  },
  {
   "cell_type": "code",
   "execution_count": 14,
   "id": "36a72b5b",
   "metadata": {
    "execution": {
     "iopub.execute_input": "2022-12-19T19:41:23.063765Z",
     "iopub.status.busy": "2022-12-19T19:41:23.062557Z",
     "iopub.status.idle": "2022-12-19T19:41:23.088857Z",
     "shell.execute_reply": "2022-12-19T19:41:23.087439Z"
    },
    "papermill": {
     "duration": 0.047146,
     "end_time": "2022-12-19T19:41:23.091312",
     "exception": false,
     "start_time": "2022-12-19T19:41:23.044166",
     "status": "completed"
    },
    "tags": []
   },
   "outputs": [],
   "source": [
    "# Imputate missing values of age wrt Parch, SibSp, Parch, Pclass\n",
    "data['Age'] = data.groupby(['Parch', 'SibSp', 'Pclass'])['Age'].apply(lambda i:i.fillna(i.median()))\n",
    "data['Age'] = data['Age'].fillna(data['Age'].median())\n",
    "\n",
    "# delete cabin data becuase it contains % missing data\n",
    "data = data.drop('Cabin', axis=1)\n",
    "\n",
    "# fill missing values in Embarked with mode\n",
    "data.Embarked = data.Embarked.fillna('S')\n",
    "\n",
    "# Fill missing values in Fare with median\n",
    "data['Fare'] = data['Fare'].fillna(data['Fare'].median())\n"
   ]
  },
  {
   "cell_type": "code",
   "execution_count": 15,
   "id": "936e5764",
   "metadata": {
    "execution": {
     "iopub.execute_input": "2022-12-19T19:41:23.127457Z",
     "iopub.status.busy": "2022-12-19T19:41:23.127094Z",
     "iopub.status.idle": "2022-12-19T19:41:23.135730Z",
     "shell.execute_reply": "2022-12-19T19:41:23.135092Z"
    },
    "papermill": {
     "duration": 0.031426,
     "end_time": "2022-12-19T19:41:23.139943",
     "exception": false,
     "start_time": "2022-12-19T19:41:23.108517",
     "status": "completed"
    },
    "tags": []
   },
   "outputs": [
    {
     "name": "stdout",
     "output_type": "stream",
     "text": [
      "Missing Values afer imputation \n",
      "\n"
     ]
    },
    {
     "data": {
      "text/plain": [
       "PassengerId     0.000000\n",
       "Survived       31.932773\n",
       "Pclass          0.000000\n",
       "Name            0.000000\n",
       "Sex             0.000000\n",
       "Age             0.000000\n",
       "SibSp           0.000000\n",
       "Parch           0.000000\n",
       "Ticket          0.000000\n",
       "Fare            0.000000\n",
       "Embarked        0.000000\n",
       "source          0.000000\n",
       "dtype: float64"
      ]
     },
     "execution_count": 15,
     "metadata": {},
     "output_type": "execute_result"
    }
   ],
   "source": [
    "print('Missing Values afer imputation \\n')\n",
    "(data.isnull().sum()/data.shape[0]) * 100"
   ]
  },
  {
   "cell_type": "markdown",
   "id": "e2bd21c1",
   "metadata": {
    "papermill": {
     "duration": 0.017327,
     "end_time": "2022-12-19T19:41:23.175406",
     "exception": false,
     "start_time": "2022-12-19T19:41:23.158079",
     "status": "completed"
    },
    "tags": []
   },
   "source": [
    "* ### Outliers"
   ]
  },
  {
   "cell_type": "code",
   "execution_count": 16,
   "id": "1072d701",
   "metadata": {
    "execution": {
     "iopub.execute_input": "2022-12-19T19:41:23.213325Z",
     "iopub.status.busy": "2022-12-19T19:41:23.212371Z",
     "iopub.status.idle": "2022-12-19T19:41:23.241362Z",
     "shell.execute_reply": "2022-12-19T19:41:23.240708Z"
    },
    "papermill": {
     "duration": 0.050555,
     "end_time": "2022-12-19T19:41:23.243409",
     "exception": false,
     "start_time": "2022-12-19T19:41:23.192854",
     "status": "completed"
    },
    "tags": []
   },
   "outputs": [
    {
     "name": "stdout",
     "output_type": "stream",
     "text": [
      "Outliers \n",
      "\n",
      "\n"
     ]
    },
    {
     "data": {
      "text/html": [
       "<div>\n",
       "<style scoped>\n",
       "    .dataframe tbody tr th:only-of-type {\n",
       "        vertical-align: middle;\n",
       "    }\n",
       "\n",
       "    .dataframe tbody tr th {\n",
       "        vertical-align: top;\n",
       "    }\n",
       "\n",
       "    .dataframe thead th {\n",
       "        text-align: right;\n",
       "    }\n",
       "</style>\n",
       "<table border=\"1\" class=\"dataframe\">\n",
       "  <thead>\n",
       "    <tr style=\"text-align: right;\">\n",
       "      <th></th>\n",
       "      <th>PassengerId</th>\n",
       "      <th>Survived</th>\n",
       "      <th>Pclass</th>\n",
       "      <th>Name</th>\n",
       "      <th>Sex</th>\n",
       "      <th>Age</th>\n",
       "      <th>SibSp</th>\n",
       "      <th>Parch</th>\n",
       "      <th>Ticket</th>\n",
       "      <th>Fare</th>\n",
       "      <th>Embarked</th>\n",
       "      <th>source</th>\n",
       "    </tr>\n",
       "  </thead>\n",
       "  <tbody>\n",
       "    <tr>\n",
       "      <th>438</th>\n",
       "      <td>439</td>\n",
       "      <td>0.0</td>\n",
       "      <td>1</td>\n",
       "      <td>Fortune, Mr. Mark</td>\n",
       "      <td>0</td>\n",
       "      <td>64.0</td>\n",
       "      <td>1</td>\n",
       "      <td>4</td>\n",
       "      <td>19950</td>\n",
       "      <td>263.0000</td>\n",
       "      <td>S</td>\n",
       "      <td>train</td>\n",
       "    </tr>\n",
       "    <tr>\n",
       "      <th>587</th>\n",
       "      <td>588</td>\n",
       "      <td>1.0</td>\n",
       "      <td>1</td>\n",
       "      <td>Frolicher-Stehli, Mr. Maxmillian</td>\n",
       "      <td>0</td>\n",
       "      <td>60.0</td>\n",
       "      <td>1</td>\n",
       "      <td>1</td>\n",
       "      <td>13567</td>\n",
       "      <td>79.2000</td>\n",
       "      <td>C</td>\n",
       "      <td>train</td>\n",
       "    </tr>\n",
       "    <tr>\n",
       "      <th>745</th>\n",
       "      <td>746</td>\n",
       "      <td>0.0</td>\n",
       "      <td>1</td>\n",
       "      <td>Crosby, Capt. Edward Gifford</td>\n",
       "      <td>0</td>\n",
       "      <td>70.0</td>\n",
       "      <td>1</td>\n",
       "      <td>1</td>\n",
       "      <td>WE/P 5735</td>\n",
       "      <td>71.0000</td>\n",
       "      <td>S</td>\n",
       "      <td>train</td>\n",
       "    </tr>\n",
       "    <tr>\n",
       "      <th>960</th>\n",
       "      <td>961</td>\n",
       "      <td>NaN</td>\n",
       "      <td>1</td>\n",
       "      <td>Fortune, Mrs. Mark (Mary McDougald)</td>\n",
       "      <td>1</td>\n",
       "      <td>60.0</td>\n",
       "      <td>1</td>\n",
       "      <td>4</td>\n",
       "      <td>19950</td>\n",
       "      <td>263.0000</td>\n",
       "      <td>S</td>\n",
       "      <td>test</td>\n",
       "    </tr>\n",
       "    <tr>\n",
       "      <th>1033</th>\n",
       "      <td>1034</td>\n",
       "      <td>NaN</td>\n",
       "      <td>1</td>\n",
       "      <td>Ryerson, Mr. Arthur Larned</td>\n",
       "      <td>0</td>\n",
       "      <td>61.0</td>\n",
       "      <td>1</td>\n",
       "      <td>3</td>\n",
       "      <td>PC 17608</td>\n",
       "      <td>262.3750</td>\n",
       "      <td>C</td>\n",
       "      <td>test</td>\n",
       "    </tr>\n",
       "    <tr>\n",
       "      <th>1070</th>\n",
       "      <td>1071</td>\n",
       "      <td>NaN</td>\n",
       "      <td>1</td>\n",
       "      <td>Compton, Mrs. Alexander Taylor (Mary Eliza Ing...</td>\n",
       "      <td>1</td>\n",
       "      <td>64.0</td>\n",
       "      <td>0</td>\n",
       "      <td>2</td>\n",
       "      <td>PC 17756</td>\n",
       "      <td>83.1583</td>\n",
       "      <td>C</td>\n",
       "      <td>test</td>\n",
       "    </tr>\n",
       "    <tr>\n",
       "      <th>27</th>\n",
       "      <td>28</td>\n",
       "      <td>0.0</td>\n",
       "      <td>1</td>\n",
       "      <td>Fortune, Mr. Charles Alexander</td>\n",
       "      <td>0</td>\n",
       "      <td>19.0</td>\n",
       "      <td>3</td>\n",
       "      <td>2</td>\n",
       "      <td>19950</td>\n",
       "      <td>263.0000</td>\n",
       "      <td>S</td>\n",
       "      <td>train</td>\n",
       "    </tr>\n",
       "    <tr>\n",
       "      <th>88</th>\n",
       "      <td>89</td>\n",
       "      <td>1.0</td>\n",
       "      <td>1</td>\n",
       "      <td>Fortune, Miss. Mabel Helen</td>\n",
       "      <td>1</td>\n",
       "      <td>23.0</td>\n",
       "      <td>3</td>\n",
       "      <td>2</td>\n",
       "      <td>19950</td>\n",
       "      <td>263.0000</td>\n",
       "      <td>S</td>\n",
       "      <td>train</td>\n",
       "    </tr>\n",
       "    <tr>\n",
       "      <th>159</th>\n",
       "      <td>160</td>\n",
       "      <td>0.0</td>\n",
       "      <td>3</td>\n",
       "      <td>Sage, Master. Thomas Henry</td>\n",
       "      <td>0</td>\n",
       "      <td>14.5</td>\n",
       "      <td>8</td>\n",
       "      <td>2</td>\n",
       "      <td>CA. 2343</td>\n",
       "      <td>69.5500</td>\n",
       "      <td>S</td>\n",
       "      <td>train</td>\n",
       "    </tr>\n",
       "    <tr>\n",
       "      <th>180</th>\n",
       "      <td>181</td>\n",
       "      <td>0.0</td>\n",
       "      <td>3</td>\n",
       "      <td>Sage, Miss. Constance Gladys</td>\n",
       "      <td>1</td>\n",
       "      <td>14.5</td>\n",
       "      <td>8</td>\n",
       "      <td>2</td>\n",
       "      <td>CA. 2343</td>\n",
       "      <td>69.5500</td>\n",
       "      <td>S</td>\n",
       "      <td>train</td>\n",
       "    </tr>\n",
       "    <tr>\n",
       "      <th>201</th>\n",
       "      <td>202</td>\n",
       "      <td>0.0</td>\n",
       "      <td>3</td>\n",
       "      <td>Sage, Mr. Frederick</td>\n",
       "      <td>0</td>\n",
       "      <td>14.5</td>\n",
       "      <td>8</td>\n",
       "      <td>2</td>\n",
       "      <td>CA. 2343</td>\n",
       "      <td>69.5500</td>\n",
       "      <td>S</td>\n",
       "      <td>train</td>\n",
       "    </tr>\n",
       "    <tr>\n",
       "      <th>324</th>\n",
       "      <td>325</td>\n",
       "      <td>0.0</td>\n",
       "      <td>3</td>\n",
       "      <td>Sage, Mr. George John Jr</td>\n",
       "      <td>0</td>\n",
       "      <td>14.5</td>\n",
       "      <td>8</td>\n",
       "      <td>2</td>\n",
       "      <td>CA. 2343</td>\n",
       "      <td>69.5500</td>\n",
       "      <td>S</td>\n",
       "      <td>train</td>\n",
       "    </tr>\n",
       "    <tr>\n",
       "      <th>341</th>\n",
       "      <td>342</td>\n",
       "      <td>1.0</td>\n",
       "      <td>1</td>\n",
       "      <td>Fortune, Miss. Alice Elizabeth</td>\n",
       "      <td>1</td>\n",
       "      <td>24.0</td>\n",
       "      <td>3</td>\n",
       "      <td>2</td>\n",
       "      <td>19950</td>\n",
       "      <td>263.0000</td>\n",
       "      <td>S</td>\n",
       "      <td>train</td>\n",
       "    </tr>\n",
       "    <tr>\n",
       "      <th>792</th>\n",
       "      <td>793</td>\n",
       "      <td>0.0</td>\n",
       "      <td>3</td>\n",
       "      <td>Sage, Miss. Stella Anna</td>\n",
       "      <td>1</td>\n",
       "      <td>14.5</td>\n",
       "      <td>8</td>\n",
       "      <td>2</td>\n",
       "      <td>CA. 2343</td>\n",
       "      <td>69.5500</td>\n",
       "      <td>S</td>\n",
       "      <td>train</td>\n",
       "    </tr>\n",
       "    <tr>\n",
       "      <th>846</th>\n",
       "      <td>847</td>\n",
       "      <td>0.0</td>\n",
       "      <td>3</td>\n",
       "      <td>Sage, Mr. Douglas Bullen</td>\n",
       "      <td>0</td>\n",
       "      <td>14.5</td>\n",
       "      <td>8</td>\n",
       "      <td>2</td>\n",
       "      <td>CA. 2343</td>\n",
       "      <td>69.5500</td>\n",
       "      <td>S</td>\n",
       "      <td>train</td>\n",
       "    </tr>\n",
       "    <tr>\n",
       "      <th>863</th>\n",
       "      <td>864</td>\n",
       "      <td>0.0</td>\n",
       "      <td>3</td>\n",
       "      <td>Sage, Miss. Dorothy Edith \"Dolly\"</td>\n",
       "      <td>1</td>\n",
       "      <td>14.5</td>\n",
       "      <td>8</td>\n",
       "      <td>2</td>\n",
       "      <td>CA. 2343</td>\n",
       "      <td>69.5500</td>\n",
       "      <td>S</td>\n",
       "      <td>train</td>\n",
       "    </tr>\n",
       "    <tr>\n",
       "      <th>944</th>\n",
       "      <td>945</td>\n",
       "      <td>NaN</td>\n",
       "      <td>1</td>\n",
       "      <td>Fortune, Miss. Ethel Flora</td>\n",
       "      <td>1</td>\n",
       "      <td>28.0</td>\n",
       "      <td>3</td>\n",
       "      <td>2</td>\n",
       "      <td>19950</td>\n",
       "      <td>263.0000</td>\n",
       "      <td>S</td>\n",
       "      <td>test</td>\n",
       "    </tr>\n",
       "    <tr>\n",
       "      <th>1079</th>\n",
       "      <td>1080</td>\n",
       "      <td>NaN</td>\n",
       "      <td>3</td>\n",
       "      <td>Sage, Miss. Ada</td>\n",
       "      <td>1</td>\n",
       "      <td>14.5</td>\n",
       "      <td>8</td>\n",
       "      <td>2</td>\n",
       "      <td>CA. 2343</td>\n",
       "      <td>69.5500</td>\n",
       "      <td>S</td>\n",
       "      <td>test</td>\n",
       "    </tr>\n",
       "    <tr>\n",
       "      <th>1251</th>\n",
       "      <td>1252</td>\n",
       "      <td>NaN</td>\n",
       "      <td>3</td>\n",
       "      <td>Sage, Master. William Henry</td>\n",
       "      <td>0</td>\n",
       "      <td>14.5</td>\n",
       "      <td>8</td>\n",
       "      <td>2</td>\n",
       "      <td>CA. 2343</td>\n",
       "      <td>69.5500</td>\n",
       "      <td>S</td>\n",
       "      <td>test</td>\n",
       "    </tr>\n",
       "  </tbody>\n",
       "</table>\n",
       "</div>"
      ],
      "text/plain": [
       "      PassengerId  Survived  Pclass  \\\n",
       "438           439       0.0       1   \n",
       "587           588       1.0       1   \n",
       "745           746       0.0       1   \n",
       "960           961       NaN       1   \n",
       "1033         1034       NaN       1   \n",
       "1070         1071       NaN       1   \n",
       "27             28       0.0       1   \n",
       "88             89       1.0       1   \n",
       "159           160       0.0       3   \n",
       "180           181       0.0       3   \n",
       "201           202       0.0       3   \n",
       "324           325       0.0       3   \n",
       "341           342       1.0       1   \n",
       "792           793       0.0       3   \n",
       "846           847       0.0       3   \n",
       "863           864       0.0       3   \n",
       "944           945       NaN       1   \n",
       "1079         1080       NaN       3   \n",
       "1251         1252       NaN       3   \n",
       "\n",
       "                                                   Name  Sex   Age  SibSp  \\\n",
       "438                                   Fortune, Mr. Mark    0  64.0      1   \n",
       "587                    Frolicher-Stehli, Mr. Maxmillian    0  60.0      1   \n",
       "745                        Crosby, Capt. Edward Gifford    0  70.0      1   \n",
       "960                 Fortune, Mrs. Mark (Mary McDougald)    1  60.0      1   \n",
       "1033                         Ryerson, Mr. Arthur Larned    0  61.0      1   \n",
       "1070  Compton, Mrs. Alexander Taylor (Mary Eliza Ing...    1  64.0      0   \n",
       "27                       Fortune, Mr. Charles Alexander    0  19.0      3   \n",
       "88                           Fortune, Miss. Mabel Helen    1  23.0      3   \n",
       "159                          Sage, Master. Thomas Henry    0  14.5      8   \n",
       "180                        Sage, Miss. Constance Gladys    1  14.5      8   \n",
       "201                                 Sage, Mr. Frederick    0  14.5      8   \n",
       "324                            Sage, Mr. George John Jr    0  14.5      8   \n",
       "341                      Fortune, Miss. Alice Elizabeth    1  24.0      3   \n",
       "792                             Sage, Miss. Stella Anna    1  14.5      8   \n",
       "846                            Sage, Mr. Douglas Bullen    0  14.5      8   \n",
       "863                   Sage, Miss. Dorothy Edith \"Dolly\"    1  14.5      8   \n",
       "944                          Fortune, Miss. Ethel Flora    1  28.0      3   \n",
       "1079                                    Sage, Miss. Ada    1  14.5      8   \n",
       "1251                        Sage, Master. William Henry    0  14.5      8   \n",
       "\n",
       "      Parch     Ticket      Fare Embarked source  \n",
       "438       4      19950  263.0000        S  train  \n",
       "587       1      13567   79.2000        C  train  \n",
       "745       1  WE/P 5735   71.0000        S  train  \n",
       "960       4      19950  263.0000        S   test  \n",
       "1033      3   PC 17608  262.3750        C   test  \n",
       "1070      2   PC 17756   83.1583        C   test  \n",
       "27        2      19950  263.0000        S  train  \n",
       "88        2      19950  263.0000        S  train  \n",
       "159       2   CA. 2343   69.5500        S  train  \n",
       "180       2   CA. 2343   69.5500        S  train  \n",
       "201       2   CA. 2343   69.5500        S  train  \n",
       "324       2   CA. 2343   69.5500        S  train  \n",
       "341       2      19950  263.0000        S  train  \n",
       "792       2   CA. 2343   69.5500        S  train  \n",
       "846       2   CA. 2343   69.5500        S  train  \n",
       "863       2   CA. 2343   69.5500        S  train  \n",
       "944       2      19950  263.0000        S   test  \n",
       "1079      2   CA. 2343   69.5500        S   test  \n",
       "1251      2   CA. 2343   69.5500        S   test  "
      ]
     },
     "execution_count": 16,
     "metadata": {},
     "output_type": "execute_result"
    }
   ],
   "source": [
    "# Outlier detection \n",
    "\n",
    "def detect_outliers(df,n,features):\n",
    "    \"\"\"\n",
    "    Takes a dataframe df of features and returns a list of the indices\n",
    "    corresponding to the observations containing more than n outliers according\n",
    "    to the Tukey method.\n",
    "    \"\"\"\n",
    "    outlier_indices = []\n",
    "    \n",
    "    # iterate over features(columns)\n",
    "    for col in features:\n",
    "        # 1st quartile (25%)\n",
    "        Q1 = np.percentile(df[col], 25)\n",
    "        # 3rd quartile (75%)\n",
    "        Q3 = np.percentile(df[col],75)\n",
    "        # Interquartile range (IQR)\n",
    "        IQR = Q3 - Q1\n",
    "        \n",
    "        # outlier step\n",
    "        outlier_step = 1.5 * IQR\n",
    "        \n",
    "        # Determine a list of indices of outliers for feature col\n",
    "        outlier_list_col = df[(df[col] < Q1 - outlier_step) | (df[col] > Q3 + outlier_step )].index\n",
    "        \n",
    "        # append the found outlier indices for col to the list of outlier indices \n",
    "        outlier_indices.extend(outlier_list_col)\n",
    "        \n",
    "    # select observations containing more than 2 outliers\n",
    "    outlier_indices = Counter(outlier_indices)        \n",
    "    multiple_outliers = list( k for k, v in outlier_indices.items() if v > n )\n",
    "    return multiple_outliers\n",
    "\n",
    "# detect outliers from Age, SibSp , Parch and Fare\n",
    "Outliers_to_drop = detect_outliers(data,2,[\"Age\",\"SibSp\",\"Parch\",\"Fare\"])\n",
    "\n",
    "#  Show the outliers rows\n",
    "print(\"Outliers \\n\\n\")\n",
    "data.loc[Outliers_to_drop]\n",
    "#  Show the outliers rows"
   ]
  },
  {
   "cell_type": "code",
   "execution_count": 17,
   "id": "e8d37af0",
   "metadata": {
    "execution": {
     "iopub.execute_input": "2022-12-19T19:41:23.281624Z",
     "iopub.status.busy": "2022-12-19T19:41:23.280674Z",
     "iopub.status.idle": "2022-12-19T19:41:23.287598Z",
     "shell.execute_reply": "2022-12-19T19:41:23.286138Z"
    },
    "papermill": {
     "duration": 0.028348,
     "end_time": "2022-12-19T19:41:23.289772",
     "exception": false,
     "start_time": "2022-12-19T19:41:23.261424",
     "status": "completed"
    },
    "tags": []
   },
   "outputs": [],
   "source": [
    "# Drop outliers\n",
    "data = data.drop(Outliers_to_drop, axis = 0).reset_index(drop=True)"
   ]
  },
  {
   "cell_type": "code",
   "execution_count": 18,
   "id": "bb3c02ff",
   "metadata": {
    "execution": {
     "iopub.execute_input": "2022-12-19T19:41:23.328265Z",
     "iopub.status.busy": "2022-12-19T19:41:23.327358Z",
     "iopub.status.idle": "2022-12-19T19:41:23.344028Z",
     "shell.execute_reply": "2022-12-19T19:41:23.342616Z"
    },
    "papermill": {
     "duration": 0.038007,
     "end_time": "2022-12-19T19:41:23.345932",
     "exception": false,
     "start_time": "2022-12-19T19:41:23.307925",
     "status": "completed"
    },
    "tags": []
   },
   "outputs": [
    {
     "data": {
      "text/html": [
       "<div>\n",
       "<style scoped>\n",
       "    .dataframe tbody tr th:only-of-type {\n",
       "        vertical-align: middle;\n",
       "    }\n",
       "\n",
       "    .dataframe tbody tr th {\n",
       "        vertical-align: top;\n",
       "    }\n",
       "\n",
       "    .dataframe thead th {\n",
       "        text-align: right;\n",
       "    }\n",
       "</style>\n",
       "<table border=\"1\" class=\"dataframe\">\n",
       "  <thead>\n",
       "    <tr style=\"text-align: right;\">\n",
       "      <th></th>\n",
       "      <th>PassengerId</th>\n",
       "      <th>Survived</th>\n",
       "      <th>Pclass</th>\n",
       "      <th>Name</th>\n",
       "      <th>Sex</th>\n",
       "      <th>Age</th>\n",
       "      <th>SibSp</th>\n",
       "      <th>Parch</th>\n",
       "      <th>Ticket</th>\n",
       "      <th>Fare</th>\n",
       "      <th>Embarked</th>\n",
       "      <th>source</th>\n",
       "    </tr>\n",
       "  </thead>\n",
       "  <tbody>\n",
       "    <tr>\n",
       "      <th>0</th>\n",
       "      <td>1</td>\n",
       "      <td>0.0</td>\n",
       "      <td>3</td>\n",
       "      <td>Braund, Mr. Owen Harris</td>\n",
       "      <td>0</td>\n",
       "      <td>22.0</td>\n",
       "      <td>1</td>\n",
       "      <td>0</td>\n",
       "      <td>A/5 21171</td>\n",
       "      <td>7.2500</td>\n",
       "      <td>S</td>\n",
       "      <td>train</td>\n",
       "    </tr>\n",
       "    <tr>\n",
       "      <th>1</th>\n",
       "      <td>2</td>\n",
       "      <td>1.0</td>\n",
       "      <td>1</td>\n",
       "      <td>Cumings, Mrs. John Bradley (Florence Briggs Th...</td>\n",
       "      <td>1</td>\n",
       "      <td>38.0</td>\n",
       "      <td>1</td>\n",
       "      <td>0</td>\n",
       "      <td>PC 17599</td>\n",
       "      <td>71.2833</td>\n",
       "      <td>C</td>\n",
       "      <td>train</td>\n",
       "    </tr>\n",
       "    <tr>\n",
       "      <th>2</th>\n",
       "      <td>3</td>\n",
       "      <td>1.0</td>\n",
       "      <td>3</td>\n",
       "      <td>Heikkinen, Miss. Laina</td>\n",
       "      <td>1</td>\n",
       "      <td>26.0</td>\n",
       "      <td>0</td>\n",
       "      <td>0</td>\n",
       "      <td>STON/O2. 3101282</td>\n",
       "      <td>7.9250</td>\n",
       "      <td>S</td>\n",
       "      <td>train</td>\n",
       "    </tr>\n",
       "    <tr>\n",
       "      <th>3</th>\n",
       "      <td>4</td>\n",
       "      <td>1.0</td>\n",
       "      <td>1</td>\n",
       "      <td>Futrelle, Mrs. Jacques Heath (Lily May Peel)</td>\n",
       "      <td>1</td>\n",
       "      <td>35.0</td>\n",
       "      <td>1</td>\n",
       "      <td>0</td>\n",
       "      <td>113803</td>\n",
       "      <td>53.1000</td>\n",
       "      <td>S</td>\n",
       "      <td>train</td>\n",
       "    </tr>\n",
       "    <tr>\n",
       "      <th>4</th>\n",
       "      <td>5</td>\n",
       "      <td>0.0</td>\n",
       "      <td>3</td>\n",
       "      <td>Allen, Mr. William Henry</td>\n",
       "      <td>0</td>\n",
       "      <td>35.0</td>\n",
       "      <td>0</td>\n",
       "      <td>0</td>\n",
       "      <td>373450</td>\n",
       "      <td>8.0500</td>\n",
       "      <td>S</td>\n",
       "      <td>train</td>\n",
       "    </tr>\n",
       "  </tbody>\n",
       "</table>\n",
       "</div>"
      ],
      "text/plain": [
       "   PassengerId  Survived  Pclass  \\\n",
       "0            1       0.0       3   \n",
       "1            2       1.0       1   \n",
       "2            3       1.0       3   \n",
       "3            4       1.0       1   \n",
       "4            5       0.0       3   \n",
       "\n",
       "                                                Name  Sex   Age  SibSp  Parch  \\\n",
       "0                            Braund, Mr. Owen Harris    0  22.0      1      0   \n",
       "1  Cumings, Mrs. John Bradley (Florence Briggs Th...    1  38.0      1      0   \n",
       "2                             Heikkinen, Miss. Laina    1  26.0      0      0   \n",
       "3       Futrelle, Mrs. Jacques Heath (Lily May Peel)    1  35.0      1      0   \n",
       "4                           Allen, Mr. William Henry    0  35.0      0      0   \n",
       "\n",
       "             Ticket     Fare Embarked source  \n",
       "0         A/5 21171   7.2500        S  train  \n",
       "1          PC 17599  71.2833        C  train  \n",
       "2  STON/O2. 3101282   7.9250        S  train  \n",
       "3            113803  53.1000        S  train  \n",
       "4            373450   8.0500        S  train  "
      ]
     },
     "execution_count": 18,
     "metadata": {},
     "output_type": "execute_result"
    }
   ],
   "source": [
    "data.head()"
   ]
  },
  {
   "cell_type": "markdown",
   "id": "1692b3ee",
   "metadata": {
    "papermill": {
     "duration": 0.01761,
     "end_time": "2022-12-19T19:41:23.381529",
     "exception": false,
     "start_time": "2022-12-19T19:41:23.363919",
     "status": "completed"
    },
    "tags": []
   },
   "source": [
    "#### Veriable Identification\n",
    "* Numeric Data\n",
    "* Categorical Data"
   ]
  },
  {
   "cell_type": "code",
   "execution_count": 19,
   "id": "6caf5416",
   "metadata": {
    "execution": {
     "iopub.execute_input": "2022-12-19T19:41:23.419964Z",
     "iopub.status.busy": "2022-12-19T19:41:23.419345Z",
     "iopub.status.idle": "2022-12-19T19:41:23.424158Z",
     "shell.execute_reply": "2022-12-19T19:41:23.422979Z"
    },
    "papermill": {
     "duration": 0.026448,
     "end_time": "2022-12-19T19:41:23.425962",
     "exception": false,
     "start_time": "2022-12-19T19:41:23.399514",
     "status": "completed"
    },
    "tags": []
   },
   "outputs": [],
   "source": [
    "# # assign male and female to 0,1 in Sex\n",
    "# data['Sex'] = data['Sex'].map({0:'male', 1:'female'})\n",
    "\n",
    "# # assign 1st, 2nd, 3rd class to Pclass\n",
    "# data['Pclass'] = data['Pclass'].map({1:'Upper', 2:'Middle', 3:'Lower'})"
   ]
  },
  {
   "cell_type": "code",
   "execution_count": 20,
   "id": "baf5b0be",
   "metadata": {
    "execution": {
     "iopub.execute_input": "2022-12-19T19:41:23.464098Z",
     "iopub.status.busy": "2022-12-19T19:41:23.463747Z",
     "iopub.status.idle": "2022-12-19T19:41:23.471559Z",
     "shell.execute_reply": "2022-12-19T19:41:23.469865Z"
    },
    "papermill": {
     "duration": 0.029698,
     "end_time": "2022-12-19T19:41:23.473898",
     "exception": false,
     "start_time": "2022-12-19T19:41:23.444200",
     "status": "completed"
    },
    "tags": []
   },
   "outputs": [],
   "source": [
    "# Separating Numeric and categorical Data\n",
    "num_df = data.select_dtypes('number')\n",
    "cat_df = data.select_dtypes('object')"
   ]
  },
  {
   "cell_type": "code",
   "execution_count": 21,
   "id": "c7d0f236",
   "metadata": {
    "execution": {
     "iopub.execute_input": "2022-12-19T19:41:23.513158Z",
     "iopub.status.busy": "2022-12-19T19:41:23.512178Z",
     "iopub.status.idle": "2022-12-19T19:41:23.525001Z",
     "shell.execute_reply": "2022-12-19T19:41:23.523450Z"
    },
    "papermill": {
     "duration": 0.035291,
     "end_time": "2022-12-19T19:41:23.527827",
     "exception": false,
     "start_time": "2022-12-19T19:41:23.492536",
     "status": "completed"
    },
    "tags": []
   },
   "outputs": [
    {
     "data": {
      "text/html": [
       "<div>\n",
       "<style scoped>\n",
       "    .dataframe tbody tr th:only-of-type {\n",
       "        vertical-align: middle;\n",
       "    }\n",
       "\n",
       "    .dataframe tbody tr th {\n",
       "        vertical-align: top;\n",
       "    }\n",
       "\n",
       "    .dataframe thead th {\n",
       "        text-align: right;\n",
       "    }\n",
       "</style>\n",
       "<table border=\"1\" class=\"dataframe\">\n",
       "  <thead>\n",
       "    <tr style=\"text-align: right;\">\n",
       "      <th></th>\n",
       "      <th>PassengerId</th>\n",
       "      <th>Survived</th>\n",
       "      <th>Pclass</th>\n",
       "      <th>Sex</th>\n",
       "      <th>Age</th>\n",
       "      <th>SibSp</th>\n",
       "      <th>Parch</th>\n",
       "      <th>Fare</th>\n",
       "    </tr>\n",
       "  </thead>\n",
       "  <tbody>\n",
       "    <tr>\n",
       "      <th>0</th>\n",
       "      <td>1</td>\n",
       "      <td>0.0</td>\n",
       "      <td>3</td>\n",
       "      <td>0</td>\n",
       "      <td>22.0</td>\n",
       "      <td>1</td>\n",
       "      <td>0</td>\n",
       "      <td>7.2500</td>\n",
       "    </tr>\n",
       "    <tr>\n",
       "      <th>1</th>\n",
       "      <td>2</td>\n",
       "      <td>1.0</td>\n",
       "      <td>1</td>\n",
       "      <td>1</td>\n",
       "      <td>38.0</td>\n",
       "      <td>1</td>\n",
       "      <td>0</td>\n",
       "      <td>71.2833</td>\n",
       "    </tr>\n",
       "    <tr>\n",
       "      <th>2</th>\n",
       "      <td>3</td>\n",
       "      <td>1.0</td>\n",
       "      <td>3</td>\n",
       "      <td>1</td>\n",
       "      <td>26.0</td>\n",
       "      <td>0</td>\n",
       "      <td>0</td>\n",
       "      <td>7.9250</td>\n",
       "    </tr>\n",
       "    <tr>\n",
       "      <th>3</th>\n",
       "      <td>4</td>\n",
       "      <td>1.0</td>\n",
       "      <td>1</td>\n",
       "      <td>1</td>\n",
       "      <td>35.0</td>\n",
       "      <td>1</td>\n",
       "      <td>0</td>\n",
       "      <td>53.1000</td>\n",
       "    </tr>\n",
       "    <tr>\n",
       "      <th>4</th>\n",
       "      <td>5</td>\n",
       "      <td>0.0</td>\n",
       "      <td>3</td>\n",
       "      <td>0</td>\n",
       "      <td>35.0</td>\n",
       "      <td>0</td>\n",
       "      <td>0</td>\n",
       "      <td>8.0500</td>\n",
       "    </tr>\n",
       "  </tbody>\n",
       "</table>\n",
       "</div>"
      ],
      "text/plain": [
       "   PassengerId  Survived  Pclass  Sex   Age  SibSp  Parch     Fare\n",
       "0            1       0.0       3    0  22.0      1      0   7.2500\n",
       "1            2       1.0       1    1  38.0      1      0  71.2833\n",
       "2            3       1.0       3    1  26.0      0      0   7.9250\n",
       "3            4       1.0       1    1  35.0      1      0  53.1000\n",
       "4            5       0.0       3    0  35.0      0      0   8.0500"
      ]
     },
     "execution_count": 21,
     "metadata": {},
     "output_type": "execute_result"
    }
   ],
   "source": [
    "#Numeric Data\n",
    "num_df.head()"
   ]
  },
  {
   "cell_type": "code",
   "execution_count": 22,
   "id": "45b6451a",
   "metadata": {
    "execution": {
     "iopub.execute_input": "2022-12-19T19:41:23.568140Z",
     "iopub.status.busy": "2022-12-19T19:41:23.567555Z",
     "iopub.status.idle": "2022-12-19T19:41:23.577586Z",
     "shell.execute_reply": "2022-12-19T19:41:23.576357Z"
    },
    "papermill": {
     "duration": 0.033009,
     "end_time": "2022-12-19T19:41:23.579835",
     "exception": false,
     "start_time": "2022-12-19T19:41:23.546826",
     "status": "completed"
    },
    "tags": []
   },
   "outputs": [
    {
     "data": {
      "text/html": [
       "<div>\n",
       "<style scoped>\n",
       "    .dataframe tbody tr th:only-of-type {\n",
       "        vertical-align: middle;\n",
       "    }\n",
       "\n",
       "    .dataframe tbody tr th {\n",
       "        vertical-align: top;\n",
       "    }\n",
       "\n",
       "    .dataframe thead th {\n",
       "        text-align: right;\n",
       "    }\n",
       "</style>\n",
       "<table border=\"1\" class=\"dataframe\">\n",
       "  <thead>\n",
       "    <tr style=\"text-align: right;\">\n",
       "      <th></th>\n",
       "      <th>Name</th>\n",
       "      <th>Ticket</th>\n",
       "      <th>Embarked</th>\n",
       "      <th>source</th>\n",
       "    </tr>\n",
       "  </thead>\n",
       "  <tbody>\n",
       "    <tr>\n",
       "      <th>0</th>\n",
       "      <td>Braund, Mr. Owen Harris</td>\n",
       "      <td>A/5 21171</td>\n",
       "      <td>S</td>\n",
       "      <td>train</td>\n",
       "    </tr>\n",
       "    <tr>\n",
       "      <th>1</th>\n",
       "      <td>Cumings, Mrs. John Bradley (Florence Briggs Th...</td>\n",
       "      <td>PC 17599</td>\n",
       "      <td>C</td>\n",
       "      <td>train</td>\n",
       "    </tr>\n",
       "    <tr>\n",
       "      <th>2</th>\n",
       "      <td>Heikkinen, Miss. Laina</td>\n",
       "      <td>STON/O2. 3101282</td>\n",
       "      <td>S</td>\n",
       "      <td>train</td>\n",
       "    </tr>\n",
       "    <tr>\n",
       "      <th>3</th>\n",
       "      <td>Futrelle, Mrs. Jacques Heath (Lily May Peel)</td>\n",
       "      <td>113803</td>\n",
       "      <td>S</td>\n",
       "      <td>train</td>\n",
       "    </tr>\n",
       "    <tr>\n",
       "      <th>4</th>\n",
       "      <td>Allen, Mr. William Henry</td>\n",
       "      <td>373450</td>\n",
       "      <td>S</td>\n",
       "      <td>train</td>\n",
       "    </tr>\n",
       "  </tbody>\n",
       "</table>\n",
       "</div>"
      ],
      "text/plain": [
       "                                                Name            Ticket  \\\n",
       "0                            Braund, Mr. Owen Harris         A/5 21171   \n",
       "1  Cumings, Mrs. John Bradley (Florence Briggs Th...          PC 17599   \n",
       "2                             Heikkinen, Miss. Laina  STON/O2. 3101282   \n",
       "3       Futrelle, Mrs. Jacques Heath (Lily May Peel)            113803   \n",
       "4                           Allen, Mr. William Henry            373450   \n",
       "\n",
       "  Embarked source  \n",
       "0        S  train  \n",
       "1        C  train  \n",
       "2        S  train  \n",
       "3        S  train  \n",
       "4        S  train  "
      ]
     },
     "execution_count": 22,
     "metadata": {},
     "output_type": "execute_result"
    }
   ],
   "source": [
    "cat_df.head()"
   ]
  },
  {
   "cell_type": "markdown",
   "id": "2ac9358d",
   "metadata": {
    "papermill": {
     "duration": 0.019296,
     "end_time": "2022-12-19T19:41:23.618162",
     "exception": false,
     "start_time": "2022-12-19T19:41:23.598866",
     "status": "completed"
    },
    "tags": []
   },
   "source": [
    "* # *Data Visualization*\n",
    "* Numeric Data\n",
    "* Categorical Data"
   ]
  },
  {
   "cell_type": "code",
   "execution_count": 23,
   "id": "e0796e49",
   "metadata": {
    "execution": {
     "iopub.execute_input": "2022-12-19T19:41:23.658053Z",
     "iopub.status.busy": "2022-12-19T19:41:23.657624Z",
     "iopub.status.idle": "2022-12-19T19:41:24.008645Z",
     "shell.execute_reply": "2022-12-19T19:41:24.007627Z"
    },
    "papermill": {
     "duration": 0.37435,
     "end_time": "2022-12-19T19:41:24.011663",
     "exception": false,
     "start_time": "2022-12-19T19:41:23.637313",
     "status": "completed"
    },
    "tags": []
   },
   "outputs": [
    {
     "data": {
      "text/plain": [
       "Text(0.5, 1.0, 'Correlation of Survived with  Numeric Data\\n')"
      ]
     },
     "execution_count": 23,
     "metadata": {},
     "output_type": "execute_result"
    },
    {
     "data": {
      "image/png": "[encoded data removed]",
      "text/plain": [
       "<Figure size 432x288 with 2 Axes>"
      ]
     },
     "metadata": {},
     "output_type": "display_data"
    }
   ],
   "source": [
    "# Check Correlation\n",
    "ax = sns.heatmap(data=train[num_df.columns[1:]].corr(), cmap='YlOrBr', fmt='.2f', annot=True)\n",
    "ax.set_title('Correlation of Survived with  Numeric Data\\n', fontsize=20)"
   ]
  },
  {
   "cell_type": "markdown",
   "id": "69411b57",
   "metadata": {
    "papermill": {
     "duration": 0.02106,
     "end_time": "2022-12-19T19:41:24.053035",
     "exception": false,
     "start_time": "2022-12-19T19:41:24.031975",
     "status": "completed"
    },
    "tags": []
   },
   "source": [
    "### Realizations\n",
    "* Only **Fare** seems to have a **positive** correlation wirh surviving.\n",
    "* **Pclass** has the **worst** correlation of all with suriving"
   ]
  },
  {
   "cell_type": "code",
   "execution_count": 24,
   "id": "4a33d85a",
   "metadata": {
    "execution": {
     "iopub.execute_input": "2022-12-19T19:41:24.096984Z",
     "iopub.status.busy": "2022-12-19T19:41:24.096554Z",
     "iopub.status.idle": "2022-12-19T19:41:24.877904Z",
     "shell.execute_reply": "2022-12-19T19:41:24.876168Z"
    },
    "papermill": {
     "duration": 0.80688,
     "end_time": "2022-12-19T19:41:24.881135",
     "exception": false,
     "start_time": "2022-12-19T19:41:24.074255",
     "status": "completed"
    },
    "tags": []
   },
   "outputs": [
    {
     "data": {
      "text/plain": [
       "<seaborn.axisgrid.FacetGrid at 0x7f13dca59910>"
      ]
     },
     "execution_count": 24,
     "metadata": {},
     "output_type": "execute_result"
    },
    {
     "data": {
      "image/png": "[encoded data removed]",
      "text/plain": [
       "<Figure size 432x216 with 2 Axes>"
      ]
     },
     "metadata": {},
     "output_type": "display_data"
    }
   ],
   "source": [
    "#  Age Vs Survived\n",
    "ax = sns.FacetGrid(train, col='Survived', margin_titles=True)\n",
    "ax = ax.map(sns.distplot, 'Age')\n",
    "ax.set_ylabels('Survival Probability')\n",
    "# ax.set_titles(['Age Survived', 'Age Not Survived'])\n",
    "ax.despine(offset=3, trim=True)"
   ]
  },
  {
   "cell_type": "code",
   "execution_count": 25,
   "id": "83511da7",
   "metadata": {
    "execution": {
     "iopub.execute_input": "2022-12-19T19:41:24.931371Z",
     "iopub.status.busy": "2022-12-19T19:41:24.929922Z",
     "iopub.status.idle": "2022-12-19T19:41:25.163475Z",
     "shell.execute_reply": "2022-12-19T19:41:25.161961Z"
    },
    "papermill": {
     "duration": 0.261334,
     "end_time": "2022-12-19T19:41:25.165521",
     "exception": false,
     "start_time": "2022-12-19T19:41:24.904187",
     "status": "completed"
    },
    "tags": []
   },
   "outputs": [
    {
     "data": {
      "text/plain": [
       "<matplotlib.legend.Legend at 0x7f13dcfbe210>"
      ]
     },
     "execution_count": 25,
     "metadata": {},
     "output_type": "execute_result"
    },
    {
     "data": {
      "image/png": "[encoded data removed]",
      "text/plain": [
       "<Figure size 432x288 with 1 Axes>"
      ]
     },
     "metadata": {},
     "output_type": "display_data"
    }
   ],
   "source": [
    "# Explore Age Distro\n",
    "ax = sns.kdeplot(num_df[num_df[\"Survived\"] == 0]['Age'], color='b', shade=True)\n",
    "ax = sns.kdeplot(num_df[num_df[\"Survived\"] == 1]['Age'], color='r', shade=True)\n",
    "ax.set_xlabel(\"Age\")\n",
    "ax.set_ylabel(\"Survival Probability\")\n",
    "ax.set_title('Age Distribution based on Survived/Not Survived\\n', fontsize=15)\n",
    "sns.despine(offset=3, trim=True)\n",
    "ax.legend(['Not Survived', 'Survived'])"
   ]
  },
  {
   "cell_type": "code",
   "execution_count": 26,
   "id": "695d7c54",
   "metadata": {
    "execution": {
     "iopub.execute_input": "2022-12-19T19:41:25.207627Z",
     "iopub.status.busy": "2022-12-19T19:41:25.207287Z",
     "iopub.status.idle": "2022-12-19T19:41:25.550957Z",
     "shell.execute_reply": "2022-12-19T19:41:25.549895Z"
    },
    "papermill": {
     "duration": 0.367658,
     "end_time": "2022-12-19T19:41:25.553529",
     "exception": false,
     "start_time": "2022-12-19T19:41:25.185871",
     "status": "completed"
    },
    "tags": []
   },
   "outputs": [
    {
     "data": {
      "image/png": "[encoded data removed]",
      "text/plain": [
       "<Figure size 432x288 with 1 Axes>"
      ]
     },
     "metadata": {},
     "output_type": "display_data"
    }
   ],
   "source": [
    "# Explore Survived based on SibSp\n",
    "ax = sns.barplot(x='SibSp', y='Survived', data=train)\n",
    "ax.set_title('SibSp Vs Survived', fontsize=15)\n",
    "sns.despine(offset=5, trim=True)\n"
   ]
  },
  {
   "cell_type": "code",
   "execution_count": 27,
   "id": "471cd0a0",
   "metadata": {
    "execution": {
     "iopub.execute_input": "2022-12-19T19:41:25.599167Z",
     "iopub.status.busy": "2022-12-19T19:41:25.598443Z",
     "iopub.status.idle": "2022-12-19T19:41:25.915057Z",
     "shell.execute_reply": "2022-12-19T19:41:25.913971Z"
    },
    "papermill": {
     "duration": 0.341313,
     "end_time": "2022-12-19T19:41:25.916943",
     "exception": false,
     "start_time": "2022-12-19T19:41:25.575630",
     "status": "completed"
    },
    "tags": []
   },
   "outputs": [
    {
     "data": {
      "image/png": "[encoded data removed]",
      "text/plain": [
       "<Figure size 432x288 with 1 Axes>"
      ]
     },
     "metadata": {},
     "output_type": "display_data"
    }
   ],
   "source": [
    "# Explore Survived based on parch\n",
    "ax = sns.barplot(x='Parch', y='Survived', data=train)\n",
    "ax.set_title('Parch Vs Survived', fontsize=15)\n",
    "sns.despine(offset=5, trim=True)"
   ]
  },
  {
   "cell_type": "code",
   "execution_count": 28,
   "id": "e8256c44",
   "metadata": {
    "execution": {
     "iopub.execute_input": "2022-12-19T19:41:25.962124Z",
     "iopub.status.busy": "2022-12-19T19:41:25.961446Z",
     "iopub.status.idle": "2022-12-19T19:41:26.446907Z",
     "shell.execute_reply": "2022-12-19T19:41:26.445859Z"
    },
    "papermill": {
     "duration": 0.510998,
     "end_time": "2022-12-19T19:41:26.449225",
     "exception": false,
     "start_time": "2022-12-19T19:41:25.938227",
     "status": "completed"
    },
    "tags": []
   },
   "outputs": [
    {
     "data": {
      "image/png": "[encoded data removed]",
      "text/plain": [
       "<Figure size 432x288 with 1 Axes>"
      ]
     },
     "metadata": {},
     "output_type": "display_data"
    }
   ],
   "source": [
    "ax = sns.histplot(num_df['Fare'], color='m', label=\"Skewness : %.2f\"%(num_df[\"Fare\"].skew()), kde=True)\n",
    "ax.set_ylabel('Number of Passeners')\n",
    "ax.set_title('Fare Distribution', fontsize=15)\n",
    "ax = ax.legend(loc=\"best\")\n",
    "sns.despine(offset=5, trim=True)\n",
    "\n"
   ]
  },
  {
   "cell_type": "code",
   "execution_count": 29,
   "id": "d3524790",
   "metadata": {
    "execution": {
     "iopub.execute_input": "2022-12-19T19:41:26.492360Z",
     "iopub.status.busy": "2022-12-19T19:41:26.491941Z",
     "iopub.status.idle": "2022-12-19T19:41:26.500087Z",
     "shell.execute_reply": "2022-12-19T19:41:26.499082Z"
    },
    "papermill": {
     "duration": 0.032488,
     "end_time": "2022-12-19T19:41:26.502410",
     "exception": false,
     "start_time": "2022-12-19T19:41:26.469922",
     "status": "completed"
    },
    "tags": []
   },
   "outputs": [],
   "source": [
    "# Applying Log to reduce skewness\n",
    "data['Fare'] = data['Fare'].apply(lambda i:np.log(i) if i > 0 else 0)"
   ]
  },
  {
   "cell_type": "code",
   "execution_count": 30,
   "id": "a3aa976b",
   "metadata": {
    "execution": {
     "iopub.execute_input": "2022-12-19T19:41:26.547438Z",
     "iopub.status.busy": "2022-12-19T19:41:26.546618Z",
     "iopub.status.idle": "2022-12-19T19:41:26.833647Z",
     "shell.execute_reply": "2022-12-19T19:41:26.832643Z"
    },
    "papermill": {
     "duration": 0.31277,
     "end_time": "2022-12-19T19:41:26.836145",
     "exception": false,
     "start_time": "2022-12-19T19:41:26.523375",
     "status": "completed"
    },
    "tags": []
   },
   "outputs": [
    {
     "data": {
      "image/png": "[encoded data removed]",
      "text/plain": [
       "<Figure size 432x288 with 1 Axes>"
      ]
     },
     "metadata": {},
     "output_type": "display_data"
    }
   ],
   "source": [
    "ax = sns.histplot(data['Fare'], color='m', label=\"Skewness : %.2f\"%(data[\"Fare\"].skew()), kde=True)\n",
    "ax.set_ylabel('Number of Passeners')\n",
    "ax.set_title('Fare Distribution', fontsize=15)\n",
    "ax = ax.legend(loc=\"best\")\n",
    "sns.despine(offset=5, trim=True)"
   ]
  },
  {
   "cell_type": "markdown",
   "id": "1d4dd7c7",
   "metadata": {
    "papermill": {
     "duration": 0.020647,
     "end_time": "2022-12-19T19:41:26.878521",
     "exception": false,
     "start_time": "2022-12-19T19:41:26.857874",
     "status": "completed"
    },
    "tags": []
   },
   "source": [
    "### Realizations\n",
    "* Seems like there are more chances of **survivial** those who are **younger**, also we can clearly see there a peak from (0-5) **children** in 2nd chart **indecating** more chances of **surviving**.\n",
    "* Passengers with **1 or 2 sibSp** have heigher chance of **surviving**\n",
    "* **Small families** have more chance to **survive**, more than **single (Parch 0)**, medium (Parch 3,4) and large families (Parch 5,6 ). be carefull with 3 Parch as it has **standard deviation** \n",
    "* Fare is largly **skewed** towords **right** we fix that with **np.log** and skewness clearly **reduced after log transformation**. "
   ]
  },
  {
   "cell_type": "code",
   "execution_count": 31,
   "id": "48e11645",
   "metadata": {
    "execution": {
     "iopub.execute_input": "2022-12-19T19:41:26.922002Z",
     "iopub.status.busy": "2022-12-19T19:41:26.921190Z",
     "iopub.status.idle": "2022-12-19T19:41:27.109682Z",
     "shell.execute_reply": "2022-12-19T19:41:27.108884Z"
    },
    "papermill": {
     "duration": 0.212194,
     "end_time": "2022-12-19T19:41:27.111467",
     "exception": false,
     "start_time": "2022-12-19T19:41:26.899273",
     "status": "completed"
    },
    "tags": []
   },
   "outputs": [
    {
     "data": {
      "image/png": "[encoded data removed]",
      "text/plain": [
       "<Figure size 432x288 with 1 Axes>"
      ]
     },
     "metadata": {},
     "output_type": "display_data"
    }
   ],
   "source": [
    "#Explore categorical Data\n",
    "\n",
    "#Explore Survived based on Sex\n",
    "ax = sns.barplot(x='Sex', y='Survived',data=data)\n",
    "ax.set_title('Sex Vs Survived', fontsize=15)\n",
    "ax.set_ylabel('Survival Probability')\n",
    "ax.set_xticklabels(['male', 'female'])\n",
    "sns.despine(offset=5, trim=True)"
   ]
  },
  {
   "cell_type": "code",
   "execution_count": 32,
   "id": "3429a6fa",
   "metadata": {
    "execution": {
     "iopub.execute_input": "2022-12-19T19:41:27.160496Z",
     "iopub.status.busy": "2022-12-19T19:41:27.159880Z",
     "iopub.status.idle": "2022-12-19T19:41:27.378528Z",
     "shell.execute_reply": "2022-12-19T19:41:27.377758Z"
    },
    "papermill": {
     "duration": 0.246479,
     "end_time": "2022-12-19T19:41:27.380436",
     "exception": false,
     "start_time": "2022-12-19T19:41:27.133957",
     "status": "completed"
    },
    "tags": []
   },
   "outputs": [
    {
     "data": {
      "image/png": "[encoded data removed]",
      "text/plain": [
       "<Figure size 432x288 with 1 Axes>"
      ]
     },
     "metadata": {},
     "output_type": "display_data"
    }
   ],
   "source": [
    "# Explore Survived with Pclass\n",
    "ax = sns.barplot(x='Pclass', y='Survived', data=train)\n",
    "ax.set_title('Pclass Vs Survived', fontsize=15)\n",
    "ax.set_ylabel('Survival Probability')\n",
    "ax.set_xticklabels(['Upper', 'Middle', 'Lower'])\n",
    "sns.despine(offset=5, trim=True)"
   ]
  },
  {
   "cell_type": "code",
   "execution_count": 33,
   "id": "46f625d1",
   "metadata": {
    "execution": {
     "iopub.execute_input": "2022-12-19T19:41:27.425015Z",
     "iopub.status.busy": "2022-12-19T19:41:27.424682Z",
     "iopub.status.idle": "2022-12-19T19:41:27.644281Z",
     "shell.execute_reply": "2022-12-19T19:41:27.643535Z"
    },
    "papermill": {
     "duration": 0.244295,
     "end_time": "2022-12-19T19:41:27.646189",
     "exception": false,
     "start_time": "2022-12-19T19:41:27.401894",
     "status": "completed"
    },
    "tags": []
   },
   "outputs": [
    {
     "data": {
      "image/png": "[encoded data removed]",
      "text/plain": [
       "<Figure size 432x288 with 1 Axes>"
      ]
     },
     "metadata": {},
     "output_type": "display_data"
    }
   ],
   "source": [
    "# Explore Survived with Embarked\n",
    "ax = sns.barplot(x='Embarked', y='Survived', data=train)\n",
    "ax.set_title('Embarked Vs Survived', fontsize=15)\n",
    "ax.set_ylabel('Survival Probability')\n",
    "sns.despine(offset=5, trim=True)"
   ]
  },
  {
   "cell_type": "code",
   "execution_count": 34,
   "id": "ecb90bcc",
   "metadata": {
    "execution": {
     "iopub.execute_input": "2022-12-19T19:41:27.693216Z",
     "iopub.status.busy": "2022-12-19T19:41:27.692541Z",
     "iopub.status.idle": "2022-12-19T19:41:27.998668Z",
     "shell.execute_reply": "2022-12-19T19:41:27.997526Z"
    },
    "papermill": {
     "duration": 0.332269,
     "end_time": "2022-12-19T19:41:28.000642",
     "exception": false,
     "start_time": "2022-12-19T19:41:27.668373",
     "status": "completed"
    },
    "tags": []
   },
   "outputs": [
    {
     "data": {
      "image/png": "[encoded data removed]",
      "text/plain": [
       "<Figure size 432x288 with 1 Axes>"
      ]
     },
     "metadata": {},
     "output_type": "display_data"
    }
   ],
   "source": [
    "# Explore Survived with Pclass and Sex\n",
    "ax = sns.barplot(x='Pclass', y='Survived', hue='Sex', data=train)\n",
    "ax.set_title('Pclass Vs Survived with Sex', fontsize=15)\n",
    "ax.set_ylabel('Survival Probability')\n",
    "ax.set_xticklabels(['Upper', 'Middle', 'Lower'])\n",
    "sns.despine(offset=5, trim=True)"
   ]
  },
  {
   "cell_type": "code",
   "execution_count": 35,
   "id": "b0b7b664",
   "metadata": {
    "execution": {
     "iopub.execute_input": "2022-12-19T19:41:28.046766Z",
     "iopub.status.busy": "2022-12-19T19:41:28.046188Z",
     "iopub.status.idle": "2022-12-19T19:41:28.579505Z",
     "shell.execute_reply": "2022-12-19T19:41:28.578424Z"
    },
    "papermill": {
     "duration": 0.559026,
     "end_time": "2022-12-19T19:41:28.581831",
     "exception": false,
     "start_time": "2022-12-19T19:41:28.022805",
     "status": "completed"
    },
    "tags": []
   },
   "outputs": [
    {
     "data": {
      "image/png": "[encoded data removed]",
      "text/plain": [
       "<Figure size 1296x432 with 3 Axes>"
      ]
     },
     "metadata": {},
     "output_type": "display_data"
    }
   ],
   "source": [
    "# Explore Survived with Pclass and Embarked\n",
    "ax = sns.catplot(data=data, x='Pclass', col='Embarked', kind='count', height=6)\n",
    "ax.despine(offset=3, trim=True)\n",
    "ax = ax.set_ylabels('Count')"
   ]
  },
  {
   "cell_type": "markdown",
   "id": "e5a77d14",
   "metadata": {
    "papermill": {
     "duration": 0.022203,
     "end_time": "2022-12-19T19:41:28.626809",
     "exception": false,
     "start_time": "2022-12-19T19:41:28.604606",
     "status": "completed"
    },
    "tags": []
   },
   "source": [
    "### Realizations\n",
    "* **Female passengers** have higher chance of **surviving**, So **Sex**, might play an **important role** in the prediction of the survival.\n",
    "* **Upper Class** passengers have higher chance of **surviving**\n",
    "* **Upper Class Female** passengers have higher chance of **surviving**\n",
    "* Passengers coming from **Cherbourg** (C) have higher chance of **surviving**, because most **Upper class** passengers are coming from **Cherbourg** (C), where as **lower** and **Middle** class are from **Southampton** (S) and **Queenstown** (Q) respectivley."
   ]
  },
  {
   "cell_type": "markdown",
   "id": "1eb89ed1",
   "metadata": {
    "papermill": {
     "duration": 0.022129,
     "end_time": "2022-12-19T19:41:28.671294",
     "exception": false,
     "start_time": "2022-12-19T19:41:28.649165",
     "status": "completed"
    },
    "tags": []
   },
   "source": [
    "* ### **Future Engeneering**"
   ]
  },
  {
   "cell_type": "code",
   "execution_count": 36,
   "id": "dfbdc0d5",
   "metadata": {
    "execution": {
     "iopub.execute_input": "2022-12-19T19:41:28.717918Z",
     "iopub.status.busy": "2022-12-19T19:41:28.717559Z",
     "iopub.status.idle": "2022-12-19T19:41:28.733398Z",
     "shell.execute_reply": "2022-12-19T19:41:28.732542Z"
    },
    "papermill": {
     "duration": 0.041266,
     "end_time": "2022-12-19T19:41:28.735064",
     "exception": false,
     "start_time": "2022-12-19T19:41:28.693798",
     "status": "completed"
    },
    "tags": []
   },
   "outputs": [
    {
     "data": {
      "text/html": [
       "<div>\n",
       "<style scoped>\n",
       "    .dataframe tbody tr th:only-of-type {\n",
       "        vertical-align: middle;\n",
       "    }\n",
       "\n",
       "    .dataframe tbody tr th {\n",
       "        vertical-align: top;\n",
       "    }\n",
       "\n",
       "    .dataframe thead th {\n",
       "        text-align: right;\n",
       "    }\n",
       "</style>\n",
       "<table border=\"1\" class=\"dataframe\">\n",
       "  <thead>\n",
       "    <tr style=\"text-align: right;\">\n",
       "      <th></th>\n",
       "      <th>PassengerId</th>\n",
       "      <th>Survived</th>\n",
       "      <th>Pclass</th>\n",
       "      <th>Name</th>\n",
       "      <th>Sex</th>\n",
       "      <th>Age</th>\n",
       "      <th>SibSp</th>\n",
       "      <th>Parch</th>\n",
       "      <th>Ticket</th>\n",
       "      <th>Fare</th>\n",
       "      <th>Embarked</th>\n",
       "      <th>source</th>\n",
       "    </tr>\n",
       "  </thead>\n",
       "  <tbody>\n",
       "    <tr>\n",
       "      <th>0</th>\n",
       "      <td>1</td>\n",
       "      <td>0.0</td>\n",
       "      <td>3</td>\n",
       "      <td>Braund, Mr. Owen Harris</td>\n",
       "      <td>0</td>\n",
       "      <td>22.0</td>\n",
       "      <td>1</td>\n",
       "      <td>0</td>\n",
       "      <td>A/5 21171</td>\n",
       "      <td>1.981001</td>\n",
       "      <td>S</td>\n",
       "      <td>train</td>\n",
       "    </tr>\n",
       "    <tr>\n",
       "      <th>1</th>\n",
       "      <td>2</td>\n",
       "      <td>1.0</td>\n",
       "      <td>1</td>\n",
       "      <td>Cumings, Mrs. John Bradley (Florence Briggs Th...</td>\n",
       "      <td>1</td>\n",
       "      <td>38.0</td>\n",
       "      <td>1</td>\n",
       "      <td>0</td>\n",
       "      <td>PC 17599</td>\n",
       "      <td>4.266662</td>\n",
       "      <td>C</td>\n",
       "      <td>train</td>\n",
       "    </tr>\n",
       "    <tr>\n",
       "      <th>2</th>\n",
       "      <td>3</td>\n",
       "      <td>1.0</td>\n",
       "      <td>3</td>\n",
       "      <td>Heikkinen, Miss. Laina</td>\n",
       "      <td>1</td>\n",
       "      <td>26.0</td>\n",
       "      <td>0</td>\n",
       "      <td>0</td>\n",
       "      <td>STON/O2. 3101282</td>\n",
       "      <td>2.070022</td>\n",
       "      <td>S</td>\n",
       "      <td>train</td>\n",
       "    </tr>\n",
       "    <tr>\n",
       "      <th>3</th>\n",
       "      <td>4</td>\n",
       "      <td>1.0</td>\n",
       "      <td>1</td>\n",
       "      <td>Futrelle, Mrs. Jacques Heath (Lily May Peel)</td>\n",
       "      <td>1</td>\n",
       "      <td>35.0</td>\n",
       "      <td>1</td>\n",
       "      <td>0</td>\n",
       "      <td>113803</td>\n",
       "      <td>3.972177</td>\n",
       "      <td>S</td>\n",
       "      <td>train</td>\n",
       "    </tr>\n",
       "    <tr>\n",
       "      <th>4</th>\n",
       "      <td>5</td>\n",
       "      <td>0.0</td>\n",
       "      <td>3</td>\n",
       "      <td>Allen, Mr. William Henry</td>\n",
       "      <td>0</td>\n",
       "      <td>35.0</td>\n",
       "      <td>0</td>\n",
       "      <td>0</td>\n",
       "      <td>373450</td>\n",
       "      <td>2.085672</td>\n",
       "      <td>S</td>\n",
       "      <td>train</td>\n",
       "    </tr>\n",
       "  </tbody>\n",
       "</table>\n",
       "</div>"
      ],
      "text/plain": [
       "   PassengerId  Survived  Pclass  \\\n",
       "0            1       0.0       3   \n",
       "1            2       1.0       1   \n",
       "2            3       1.0       3   \n",
       "3            4       1.0       1   \n",
       "4            5       0.0       3   \n",
       "\n",
       "                                                Name  Sex   Age  SibSp  Parch  \\\n",
       "0                            Braund, Mr. Owen Harris    0  22.0      1      0   \n",
       "1  Cumings, Mrs. John Bradley (Florence Briggs Th...    1  38.0      1      0   \n",
       "2                             Heikkinen, Miss. Laina    1  26.0      0      0   \n",
       "3       Futrelle, Mrs. Jacques Heath (Lily May Peel)    1  35.0      1      0   \n",
       "4                           Allen, Mr. William Henry    0  35.0      0      0   \n",
       "\n",
       "             Ticket      Fare Embarked source  \n",
       "0         A/5 21171  1.981001        S  train  \n",
       "1          PC 17599  4.266662        C  train  \n",
       "2  STON/O2. 3101282  2.070022        S  train  \n",
       "3            113803  3.972177        S  train  \n",
       "4            373450  2.085672        S  train  "
      ]
     },
     "execution_count": 36,
     "metadata": {},
     "output_type": "execute_result"
    }
   ],
   "source": [
    "data.head()"
   ]
  },
  {
   "cell_type": "code",
   "execution_count": 37,
   "id": "4c70e970",
   "metadata": {
    "execution": {
     "iopub.execute_input": "2022-12-19T19:41:28.784089Z",
     "iopub.status.busy": "2022-12-19T19:41:28.783409Z",
     "iopub.status.idle": "2022-12-19T19:41:28.790927Z",
     "shell.execute_reply": "2022-12-19T19:41:28.789749Z"
    },
    "papermill": {
     "duration": 0.034769,
     "end_time": "2022-12-19T19:41:28.793190",
     "exception": false,
     "start_time": "2022-12-19T19:41:28.758421",
     "status": "completed"
    },
    "tags": []
   },
   "outputs": [
    {
     "data": {
      "text/plain": [
       "0                              Braund, Mr. Owen Harris\n",
       "1    Cumings, Mrs. John Bradley (Florence Briggs Th...\n",
       "2                               Heikkinen, Miss. Laina\n",
       "3         Futrelle, Mrs. Jacques Heath (Lily May Peel)\n",
       "4                             Allen, Mr. William Henry\n",
       "Name: Name, dtype: object"
      ]
     },
     "execution_count": 37,
     "metadata": {},
     "output_type": "execute_result"
    }
   ],
   "source": [
    "data['Name'].head()"
   ]
  },
  {
   "cell_type": "markdown",
   "id": "5119f9bd",
   "metadata": {
    "papermill": {
     "duration": 0.022375,
     "end_time": "2022-12-19T19:41:28.839258",
     "exception": false,
     "start_time": "2022-12-19T19:41:28.816883",
     "status": "completed"
    },
    "tags": []
   },
   "source": [
    "### Name Title\n",
    "* We have different **titles** with names (**Mr/Miss/Lady**) etc.\n",
    "* Since some passenger with **distingused title** may be preferred during the **evacuation**, it is interesting to add them to the model."
   ]
  },
  {
   "cell_type": "code",
   "execution_count": 38,
   "id": "f8e6342f",
   "metadata": {
    "execution": {
     "iopub.execute_input": "2022-12-19T19:41:28.887443Z",
     "iopub.status.busy": "2022-12-19T19:41:28.886751Z",
     "iopub.status.idle": "2022-12-19T19:41:28.896483Z",
     "shell.execute_reply": "2022-12-19T19:41:28.895029Z"
    },
    "papermill": {
     "duration": 0.037419,
     "end_time": "2022-12-19T19:41:28.899174",
     "exception": false,
     "start_time": "2022-12-19T19:41:28.861755",
     "status": "completed"
    },
    "tags": []
   },
   "outputs": [
    {
     "data": {
      "text/plain": [
       "array(['Mr', 'Mrs', 'Miss', 'Master', 'Don', 'Rev', 'Dr', 'Mme', 'Ms',\n",
       "       'Major', 'Lady', 'Sir', 'Mlle', 'Col', 'the Countess', 'Jonkheer',\n",
       "       'Dona'], dtype=object)"
      ]
     },
     "execution_count": 38,
     "metadata": {},
     "output_type": "execute_result"
    }
   ],
   "source": [
    "## Finding Titles\n",
    "data['Title'] = data['Name'].apply(lambda i:i.rsplit(',')[1].split('.')[0].strip())\n",
    "data['Title'].unique()"
   ]
  },
  {
   "cell_type": "code",
   "execution_count": 39,
   "id": "7f60d25e",
   "metadata": {
    "execution": {
     "iopub.execute_input": "2022-12-19T19:41:28.948325Z",
     "iopub.status.busy": "2022-12-19T19:41:28.946877Z",
     "iopub.status.idle": "2022-12-19T19:41:29.227552Z",
     "shell.execute_reply": "2022-12-19T19:41:29.226856Z"
    },
    "papermill": {
     "duration": 0.306709,
     "end_time": "2022-12-19T19:41:29.229812",
     "exception": false,
     "start_time": "2022-12-19T19:41:28.923103",
     "status": "completed"
    },
    "tags": []
   },
   "outputs": [
    {
     "data": {
      "image/png": "[encoded data removed]",
      "text/plain": [
       "<Figure size 432x288 with 1 Axes>"
      ]
     },
     "metadata": {},
     "output_type": "display_data"
    }
   ],
   "source": [
    "# Lets see Titles\n",
    "ax = sns.countplot(data=data, x='Title')\n",
    "ax.set_title('Titles', fontsize=15)\n",
    "ax.set_ylabel('Number of Passengers')\n",
    "sns.despine(offset=3, trim=True)\n",
    "ax = plt.setp(ax.get_xticklabels(), rotation=40)\n"
   ]
  },
  {
   "cell_type": "code",
   "execution_count": 40,
   "id": "353af225",
   "metadata": {
    "execution": {
     "iopub.execute_input": "2022-12-19T19:41:29.278783Z",
     "iopub.status.busy": "2022-12-19T19:41:29.277922Z",
     "iopub.status.idle": "2022-12-19T19:41:29.728937Z",
     "shell.execute_reply": "2022-12-19T19:41:29.727930Z"
    },
    "papermill": {
     "duration": 0.477871,
     "end_time": "2022-12-19T19:41:29.731310",
     "exception": false,
     "start_time": "2022-12-19T19:41:29.253439",
     "status": "completed"
    },
    "tags": []
   },
   "outputs": [
    {
     "data": {
      "image/png": "[encoded data removed]",
      "text/plain": [
       "<Figure size 432x288 with 1 Axes>"
      ]
     },
     "metadata": {},
     "output_type": "display_data"
    }
   ],
   "source": [
    "ax = sns.barplot(data=data[data['source'] == 'train'], x='Title', y='Survived')\n",
    "ax.set_title('Title Vs Survived', fontsize=15)\n",
    "ax.set_ylabel('Survival Probability')\n",
    "sns.despine(offset=3, trim=True)"
   ]
  },
  {
   "cell_type": "markdown",
   "id": "1f810e91",
   "metadata": {
    "papermill": {
     "duration": 0.022906,
     "end_time": "2022-12-19T19:41:29.777614",
     "exception": false,
     "start_time": "2022-12-19T19:41:29.754708",
     "status": "completed"
    },
    "tags": []
   },
   "source": [
    "### Realizations\n",
    "* total **17 titles**, but they can be **reduced**, lets convert them into **title categories**.\n",
    "* It looks like the **rare titles** have more chances of **surviving**."
   ]
  },
  {
   "cell_type": "code",
   "execution_count": 41,
   "id": "e23acb05",
   "metadata": {
    "execution": {
     "iopub.execute_input": "2022-12-19T19:41:29.825827Z",
     "iopub.status.busy": "2022-12-19T19:41:29.825223Z",
     "iopub.status.idle": "2022-12-19T19:41:29.834291Z",
     "shell.execute_reply": "2022-12-19T19:41:29.833148Z"
    },
    "papermill": {
     "duration": 0.03581,
     "end_time": "2022-12-19T19:41:29.836634",
     "exception": false,
     "start_time": "2022-12-19T19:41:29.800824",
     "status": "completed"
    },
    "tags": []
   },
   "outputs": [],
   "source": [
    "# Convert Title into categries\n",
    "data['Title'] = data['Title'].replace(['Don', 'Rev', 'Dr', 'Mme', 'Ms',\n",
    "       'Major', 'Lady', 'Sir', 'Mlle', 'Col', 'the Countess', 'Jonkheer',\n",
    "       'Dona'], 'others')\n",
    "data['Title'] = data['Title'].map({'Mr':0, 'Mrs':1, 'Miss':1, 'Master':2, 'others':3})"
   ]
  },
  {
   "cell_type": "code",
   "execution_count": 42,
   "id": "702775b5",
   "metadata": {
    "execution": {
     "iopub.execute_input": "2022-12-19T19:41:29.885108Z",
     "iopub.status.busy": "2022-12-19T19:41:29.884769Z",
     "iopub.status.idle": "2022-12-19T19:41:30.061203Z",
     "shell.execute_reply": "2022-12-19T19:41:30.060061Z"
    },
    "papermill": {
     "duration": 0.203721,
     "end_time": "2022-12-19T19:41:30.063747",
     "exception": false,
     "start_time": "2022-12-19T19:41:29.860026",
     "status": "completed"
    },
    "tags": []
   },
   "outputs": [
    {
     "data": {
      "image/png": "[encoded data removed]",
      "text/plain": [
       "<Figure size 432x288 with 1 Axes>"
      ]
     },
     "metadata": {},
     "output_type": "display_data"
    }
   ],
   "source": [
    "ax = sns.countplot(data=data, x='Title')\n",
    "ax.set_ylabel('Number of Passengers')\n",
    "ax.set_title('Title Vs Survived', fontsize=15)\n",
    "ax = ax.set_xticklabels(['Mr', 'Mrs-Miss', 'Master', 'others'])\n",
    "sns.despine(offset=3, trim=True)\n"
   ]
  },
  {
   "cell_type": "code",
   "execution_count": 43,
   "id": "45a863cb",
   "metadata": {
    "execution": {
     "iopub.execute_input": "2022-12-19T19:41:30.115219Z",
     "iopub.status.busy": "2022-12-19T19:41:30.114614Z",
     "iopub.status.idle": "2022-12-19T19:41:30.598428Z",
     "shell.execute_reply": "2022-12-19T19:41:30.597793Z"
    },
    "papermill": {
     "duration": 0.510949,
     "end_time": "2022-12-19T19:41:30.600227",
     "exception": false,
     "start_time": "2022-12-19T19:41:30.089278",
     "status": "completed"
    },
    "tags": []
   },
   "outputs": [
    {
     "data": {
      "image/png": "[encoded data removed]",
      "text/plain": [
       "<Figure size 432x288 with 1 Axes>"
      ]
     },
     "metadata": {},
     "output_type": "display_data"
    }
   ],
   "source": [
    "# Drop Name columns we don't need that now\n",
    "ax = sns.barplot(data=data[data['source'] == 'train'], x='Title', y='Survived')\n",
    "ax.set_title('Title Vs Survived', fontsize=15)\n",
    "ax.set_ylabel('Survival Probability')\n",
    "ax = ax.set_xticklabels(['Mr', 'Mrs-Miss', 'Master', 'others'])\n",
    "sns.despine(offset=3, trim=True)\n"
   ]
  },
  {
   "cell_type": "markdown",
   "id": "1c3b4bef",
   "metadata": {
    "papermill": {
     "duration": 0.025888,
     "end_time": "2022-12-19T19:41:30.651388",
     "exception": false,
     "start_time": "2022-12-19T19:41:30.625500",
     "status": "completed"
    },
    "tags": []
   },
   "source": [
    "### Realizations\n",
    "* Women and Children First"
   ]
  },
  {
   "cell_type": "code",
   "execution_count": 44,
   "id": "9d1e0bc9",
   "metadata": {
    "execution": {
     "iopub.execute_input": "2022-12-19T19:41:30.701726Z",
     "iopub.status.busy": "2022-12-19T19:41:30.701009Z",
     "iopub.status.idle": "2022-12-19T19:41:30.708295Z",
     "shell.execute_reply": "2022-12-19T19:41:30.706479Z"
    },
    "papermill": {
     "duration": 0.035344,
     "end_time": "2022-12-19T19:41:30.711017",
     "exception": false,
     "start_time": "2022-12-19T19:41:30.675673",
     "status": "completed"
    },
    "tags": []
   },
   "outputs": [],
   "source": [
    "# Lets create new Feature called family size. +1 for passenger himself\n",
    "data['Fsize'] = data['SibSp'] + data['Parch'] + 1 "
   ]
  },
  {
   "cell_type": "code",
   "execution_count": 45,
   "id": "078f4140",
   "metadata": {
    "execution": {
     "iopub.execute_input": "2022-12-19T19:41:30.761491Z",
     "iopub.status.busy": "2022-12-19T19:41:30.761075Z",
     "iopub.status.idle": "2022-12-19T19:41:31.130431Z",
     "shell.execute_reply": "2022-12-19T19:41:31.128822Z"
    },
    "papermill": {
     "duration": 0.397978,
     "end_time": "2022-12-19T19:41:31.133164",
     "exception": false,
     "start_time": "2022-12-19T19:41:30.735186",
     "status": "completed"
    },
    "tags": []
   },
   "outputs": [
    {
     "data": {
      "image/png": "[encoded data removed]",
      "text/plain": [
       "<Figure size 432x288 with 1 Axes>"
      ]
     },
     "metadata": {},
     "output_type": "display_data"
    }
   ],
   "source": [
    "ax = sns.pointplot(x='Fsize', y='Survived', data=data[data['source'] == 'train'])\n",
    "ax.set_title('Fsize Vs Survived', fontsize=15)\n",
    "ax.set_ylabel(\"Survival Probability\")\n",
    "sns.despine(offset=3, trim=True)"
   ]
  },
  {
   "cell_type": "markdown",
   "id": "703a20f3",
   "metadata": {
    "papermill": {
     "duration": 0.024587,
     "end_time": "2022-12-19T19:41:31.184163",
     "exception": false,
     "start_time": "2022-12-19T19:41:31.159576",
     "status": "completed"
    },
    "tags": []
   },
   "source": [
    "### Realizations\n",
    "* Family size seems to be **important**, larger family size has **worst chance of surviving**."
   ]
  },
  {
   "cell_type": "code",
   "execution_count": 46,
   "id": "ea7b8fcf",
   "metadata": {
    "execution": {
     "iopub.execute_input": "2022-12-19T19:41:31.235296Z",
     "iopub.status.busy": "2022-12-19T19:41:31.234964Z",
     "iopub.status.idle": "2022-12-19T19:41:31.241770Z",
     "shell.execute_reply": "2022-12-19T19:41:31.241095Z"
    },
    "papermill": {
     "duration": 0.034699,
     "end_time": "2022-12-19T19:41:31.243550",
     "exception": false,
     "start_time": "2022-12-19T19:41:31.208851",
     "status": "completed"
    },
    "tags": []
   },
   "outputs": [],
   "source": [
    "#Lets Create Family Category\n",
    "def f_size(i):\n",
    "    if i ==1:\n",
    "        return 'Single'\n",
    "    if i ==2:\n",
    "        return 'SmallF'\n",
    "    if i==3 or i == 4:\n",
    "        return 'MedF'\n",
    "    if i>4:\n",
    "        return 'LargeF'\n",
    "    else:\n",
    "        return 'nan'\n",
    "data['Fsize'] = data['Fsize'].apply(lambda i:f_size(i))"
   ]
  },
  {
   "cell_type": "code",
   "execution_count": 47,
   "id": "4e294d03",
   "metadata": {
    "execution": {
     "iopub.execute_input": "2022-12-19T19:41:31.296822Z",
     "iopub.status.busy": "2022-12-19T19:41:31.296272Z",
     "iopub.status.idle": "2022-12-19T19:41:31.555108Z",
     "shell.execute_reply": "2022-12-19T19:41:31.553756Z"
    },
    "papermill": {
     "duration": 0.289482,
     "end_time": "2022-12-19T19:41:31.557989",
     "exception": false,
     "start_time": "2022-12-19T19:41:31.268507",
     "status": "completed"
    },
    "tags": []
   },
   "outputs": [
    {
     "data": {
      "image/png": "[encoded data removed]",
      "text/plain": [
       "<Figure size 432x288 with 1 Axes>"
      ]
     },
     "metadata": {},
     "output_type": "display_data"
    }
   ],
   "source": [
    "ax = sns.barplot(x='Fsize',y=\"Survived\",data=data[data['source'] == 'train'])\n",
    "ax.set_title('Fsize Vs Survived', fontsize=15)\n",
    "ax.set_ylabel(\"Survival Probability\")\n",
    "sns.despine(offset=3, trim=True)\n"
   ]
  },
  {
   "cell_type": "markdown",
   "id": "c030022a",
   "metadata": {
    "papermill": {
     "duration": 0.025047,
     "end_time": "2022-12-19T19:41:31.607637",
     "exception": false,
     "start_time": "2022-12-19T19:41:31.582590",
     "status": "completed"
    },
    "tags": []
   },
   "source": [
    "### Realizations\n",
    "* It looks like **Med and Small Families** have more chances of **surviving**."
   ]
  },
  {
   "cell_type": "code",
   "execution_count": 48,
   "id": "01f74144",
   "metadata": {
    "execution": {
     "iopub.execute_input": "2022-12-19T19:41:31.660589Z",
     "iopub.status.busy": "2022-12-19T19:41:31.660223Z",
     "iopub.status.idle": "2022-12-19T19:41:31.669143Z",
     "shell.execute_reply": "2022-12-19T19:41:31.667688Z"
    },
    "papermill": {
     "duration": 0.037922,
     "end_time": "2022-12-19T19:41:31.671445",
     "exception": false,
     "start_time": "2022-12-19T19:41:31.633523",
     "status": "completed"
    },
    "tags": []
   },
   "outputs": [],
   "source": [
    "# Lets Deal with Ticket\n",
    "data['Ticket'] = data.Ticket.apply(lambda i:i.replace('/', '',).replace('.', '').strip().split(' ')[0])\n",
    "data['Ticket'] = data.Ticket.apply(lambda i:'X' if i.isdigit() else i)"
   ]
  },
  {
   "cell_type": "markdown",
   "id": "e4f0c01f",
   "metadata": {
    "papermill": {
     "duration": 0.025989,
     "end_time": "2022-12-19T19:41:31.723717",
     "exception": false,
     "start_time": "2022-12-19T19:41:31.697728",
     "status": "completed"
    },
    "tags": []
   },
   "source": [
    "* ### **Variable transformation**"
   ]
  },
  {
   "cell_type": "code",
   "execution_count": 49,
   "id": "69e96435",
   "metadata": {
    "execution": {
     "iopub.execute_input": "2022-12-19T19:41:31.777655Z",
     "iopub.status.busy": "2022-12-19T19:41:31.777266Z",
     "iopub.status.idle": "2022-12-19T19:41:31.792159Z",
     "shell.execute_reply": "2022-12-19T19:41:31.790352Z"
    },
    "papermill": {
     "duration": 0.044366,
     "end_time": "2022-12-19T19:41:31.794834",
     "exception": false,
     "start_time": "2022-12-19T19:41:31.750468",
     "status": "completed"
    },
    "tags": []
   },
   "outputs": [],
   "source": [
    "# Label Encoding \n",
    "data=pd.get_dummies(data=data, columns=['Pclass', 'Sex','Ticket', 'Embarked','Title', 'Fsize'],\n",
    "                     prefix=['Pc', 'Sex','Tkt', 'Em','T', 'Fm'])"
   ]
  },
  {
   "cell_type": "code",
   "execution_count": 50,
   "id": "3de32ec2",
   "metadata": {
    "execution": {
     "iopub.execute_input": "2022-12-19T19:41:31.847131Z",
     "iopub.status.busy": "2022-12-19T19:41:31.846724Z",
     "iopub.status.idle": "2022-12-19T19:41:31.874090Z",
     "shell.execute_reply": "2022-12-19T19:41:31.872724Z"
    },
    "papermill": {
     "duration": 0.056555,
     "end_time": "2022-12-19T19:41:31.876442",
     "exception": false,
     "start_time": "2022-12-19T19:41:31.819887",
     "status": "completed"
    },
    "tags": []
   },
   "outputs": [
    {
     "data": {
      "text/html": [
       "<div>\n",
       "<style scoped>\n",
       "    .dataframe tbody tr th:only-of-type {\n",
       "        vertical-align: middle;\n",
       "    }\n",
       "\n",
       "    .dataframe tbody tr th {\n",
       "        vertical-align: top;\n",
       "    }\n",
       "\n",
       "    .dataframe thead th {\n",
       "        text-align: right;\n",
       "    }\n",
       "</style>\n",
       "<table border=\"1\" class=\"dataframe\">\n",
       "  <thead>\n",
       "    <tr style=\"text-align: right;\">\n",
       "      <th></th>\n",
       "      <th>Age</th>\n",
       "      <th>Fare</th>\n",
       "      <th>Pc_1</th>\n",
       "      <th>Pc_2</th>\n",
       "      <th>Pc_3</th>\n",
       "      <th>Sex_0</th>\n",
       "      <th>Sex_1</th>\n",
       "      <th>Tkt_A</th>\n",
       "      <th>Tkt_A4</th>\n",
       "      <th>Tkt_A5</th>\n",
       "      <th>...</th>\n",
       "      <th>Em_Q</th>\n",
       "      <th>Em_S</th>\n",
       "      <th>T_0</th>\n",
       "      <th>T_1</th>\n",
       "      <th>T_2</th>\n",
       "      <th>T_3</th>\n",
       "      <th>Fm_LargeF</th>\n",
       "      <th>Fm_MedF</th>\n",
       "      <th>Fm_Single</th>\n",
       "      <th>Fm_SmallF</th>\n",
       "    </tr>\n",
       "  </thead>\n",
       "  <tbody>\n",
       "    <tr>\n",
       "      <th>878</th>\n",
       "      <td>34.5</td>\n",
       "      <td>2.057860</td>\n",
       "      <td>0</td>\n",
       "      <td>0</td>\n",
       "      <td>1</td>\n",
       "      <td>1</td>\n",
       "      <td>0</td>\n",
       "      <td>0</td>\n",
       "      <td>0</td>\n",
       "      <td>0</td>\n",
       "      <td>...</td>\n",
       "      <td>1</td>\n",
       "      <td>0</td>\n",
       "      <td>1</td>\n",
       "      <td>0</td>\n",
       "      <td>0</td>\n",
       "      <td>0</td>\n",
       "      <td>0</td>\n",
       "      <td>0</td>\n",
       "      <td>1</td>\n",
       "      <td>0</td>\n",
       "    </tr>\n",
       "    <tr>\n",
       "      <th>879</th>\n",
       "      <td>47.0</td>\n",
       "      <td>1.945910</td>\n",
       "      <td>0</td>\n",
       "      <td>0</td>\n",
       "      <td>1</td>\n",
       "      <td>0</td>\n",
       "      <td>1</td>\n",
       "      <td>0</td>\n",
       "      <td>0</td>\n",
       "      <td>0</td>\n",
       "      <td>...</td>\n",
       "      <td>0</td>\n",
       "      <td>1</td>\n",
       "      <td>0</td>\n",
       "      <td>1</td>\n",
       "      <td>0</td>\n",
       "      <td>0</td>\n",
       "      <td>0</td>\n",
       "      <td>0</td>\n",
       "      <td>0</td>\n",
       "      <td>1</td>\n",
       "    </tr>\n",
       "    <tr>\n",
       "      <th>880</th>\n",
       "      <td>62.0</td>\n",
       "      <td>2.270836</td>\n",
       "      <td>0</td>\n",
       "      <td>1</td>\n",
       "      <td>0</td>\n",
       "      <td>1</td>\n",
       "      <td>0</td>\n",
       "      <td>0</td>\n",
       "      <td>0</td>\n",
       "      <td>0</td>\n",
       "      <td>...</td>\n",
       "      <td>1</td>\n",
       "      <td>0</td>\n",
       "      <td>1</td>\n",
       "      <td>0</td>\n",
       "      <td>0</td>\n",
       "      <td>0</td>\n",
       "      <td>0</td>\n",
       "      <td>0</td>\n",
       "      <td>1</td>\n",
       "      <td>0</td>\n",
       "    </tr>\n",
       "    <tr>\n",
       "      <th>881</th>\n",
       "      <td>27.0</td>\n",
       "      <td>2.159003</td>\n",
       "      <td>0</td>\n",
       "      <td>0</td>\n",
       "      <td>1</td>\n",
       "      <td>1</td>\n",
       "      <td>0</td>\n",
       "      <td>0</td>\n",
       "      <td>0</td>\n",
       "      <td>0</td>\n",
       "      <td>...</td>\n",
       "      <td>0</td>\n",
       "      <td>1</td>\n",
       "      <td>1</td>\n",
       "      <td>0</td>\n",
       "      <td>0</td>\n",
       "      <td>0</td>\n",
       "      <td>0</td>\n",
       "      <td>0</td>\n",
       "      <td>1</td>\n",
       "      <td>0</td>\n",
       "    </tr>\n",
       "    <tr>\n",
       "      <th>882</th>\n",
       "      <td>22.0</td>\n",
       "      <td>2.508582</td>\n",
       "      <td>0</td>\n",
       "      <td>0</td>\n",
       "      <td>1</td>\n",
       "      <td>0</td>\n",
       "      <td>1</td>\n",
       "      <td>0</td>\n",
       "      <td>0</td>\n",
       "      <td>0</td>\n",
       "      <td>...</td>\n",
       "      <td>0</td>\n",
       "      <td>1</td>\n",
       "      <td>0</td>\n",
       "      <td>1</td>\n",
       "      <td>0</td>\n",
       "      <td>0</td>\n",
       "      <td>0</td>\n",
       "      <td>1</td>\n",
       "      <td>0</td>\n",
       "      <td>0</td>\n",
       "    </tr>\n",
       "  </tbody>\n",
       "</table>\n",
       "<p>5 rows × 55 columns</p>\n",
       "</div>"
      ],
      "text/plain": [
       "      Age      Fare  Pc_1  Pc_2  Pc_3  Sex_0  Sex_1  Tkt_A  Tkt_A4  Tkt_A5  \\\n",
       "878  34.5  2.057860     0     0     1      1      0      0       0       0   \n",
       "879  47.0  1.945910     0     0     1      0      1      0       0       0   \n",
       "880  62.0  2.270836     0     1     0      1      0      0       0       0   \n",
       "881  27.0  2.159003     0     0     1      1      0      0       0       0   \n",
       "882  22.0  2.508582     0     0     1      0      1      0       0       0   \n",
       "\n",
       "     ...  Em_Q  Em_S  T_0  T_1  T_2  T_3  Fm_LargeF  Fm_MedF  Fm_Single  \\\n",
       "878  ...     1     0    1    0    0    0          0        0          1   \n",
       "879  ...     0     1    0    1    0    0          0        0          0   \n",
       "880  ...     1     0    1    0    0    0          0        0          1   \n",
       "881  ...     0     1    1    0    0    0          0        0          1   \n",
       "882  ...     0     1    0    1    0    0          0        1          0   \n",
       "\n",
       "     Fm_SmallF  \n",
       "878          0  \n",
       "879          1  \n",
       "880          0  \n",
       "881          0  \n",
       "882          0  \n",
       "\n",
       "[5 rows x 55 columns]"
      ]
     },
     "execution_count": 50,
     "metadata": {},
     "output_type": "execute_result"
    }
   ],
   "source": [
    "# Unncessery Columns \n",
    "final_data = data.drop(['PassengerId', 'Name','SibSp','Parch'], axis=1)\n",
    "\n",
    "# Separate Train and test data\n",
    "final_train = final_data[final_data['source'] == 'train']\n",
    "final_test = final_data[final_data['source'] == 'test']\n",
    "final_train = final_train.drop('source', axis=1)\n",
    "final_test = final_test.drop(['source','Survived'], axis=1)\n",
    "final_test.head()"
   ]
  },
  {
   "cell_type": "markdown",
   "id": "9cfdb803",
   "metadata": {
    "papermill": {
     "duration": 0.026069,
     "end_time": "2022-12-19T19:41:31.928958",
     "exception": false,
     "start_time": "2022-12-19T19:41:31.902889",
     "status": "completed"
    },
    "tags": []
   },
   "source": [
    "# *Machine Learning Models*\n",
    "![Explantion](https://en.proft.me/media/science/ml_types2.png)\n",
    "Let's divide our dataset into two variables.\n",
    "* **X** as the features we defined earlier. \n",
    "* **y** as the **Survived** the target value we want to predict.\n",
    "### Assumptions:\n",
    "* This is a **Classification** problem.\n",
    "* Train test **split 8:2** ratio respectively.\n",
    "\n",
    "### Classification Models\n",
    "* SVC\n",
    "* Decision Tree\n",
    "* AdaBoost\n",
    "* Random Forest\n",
    "* Naïve Bayes\n",
    "* Extra Trees\n",
    "* Gradient Boosting\n",
    "* Multiple layer perceprton (neural network)\n",
    "* KNN\n",
    "* Logistic regression\n",
    "* Linear Discriminant Analysis"
   ]
  },
  {
   "cell_type": "code",
   "execution_count": 51,
   "id": "b1e7bc81",
   "metadata": {
    "execution": {
     "iopub.execute_input": "2022-12-19T19:41:31.981486Z",
     "iopub.status.busy": "2022-12-19T19:41:31.981122Z",
     "iopub.status.idle": "2022-12-19T19:41:31.999969Z",
     "shell.execute_reply": "2022-12-19T19:41:31.997848Z"
    },
    "papermill": {
     "duration": 0.048654,
     "end_time": "2022-12-19T19:41:32.002549",
     "exception": false,
     "start_time": "2022-12-19T19:41:31.953895",
     "status": "completed"
    },
    "tags": []
   },
   "outputs": [
    {
     "name": "stdout",
     "output_type": "stream",
     "text": [
      "X_train shape: (878, 55)\n",
      "y_train shape: (878,)\n",
      "X_test shape: (412, 55)\n"
     ]
    }
   ],
   "source": [
    "## Spliting and Scaling\n",
    "X_train = StandardScaler().fit_transform(final_train.drop('Survived', axis =1))\n",
    "y_train = final_train['Survived'].values\n",
    "X_test = StandardScaler().fit_transform(final_test)\n",
    "print('X_train shape: {}'.format(X_train.shape))\n",
    "print('y_train shape: {}'.format(y_train.shape))\n",
    "print('X_test shape: {}'.format(X_test.shape))\n",
    "\n",
    "def cross_val(model, X, y, cv):\n",
    "    scores = CVS(model, X_train, y_train, cv=cv, n_jobs=4, scoring='accuracy')\n",
    "    return (scores.mean(), scores.std())"
   ]
  },
  {
   "cell_type": "markdown",
   "id": "c1c1d50c",
   "metadata": {
    "papermill": {
     "duration": 0.028334,
     "end_time": "2022-12-19T19:41:32.057109",
     "exception": false,
     "start_time": "2022-12-19T19:41:32.028775",
     "status": "completed"
    },
    "tags": []
   },
   "source": [
    "* ### Models\n"
   ]
  },
  {
   "cell_type": "code",
   "execution_count": 52,
   "id": "e335cacd",
   "metadata": {
    "execution": {
     "iopub.execute_input": "2022-12-19T19:41:32.112518Z",
     "iopub.status.busy": "2022-12-19T19:41:32.112135Z",
     "iopub.status.idle": "2022-12-19T19:41:36.245567Z",
     "shell.execute_reply": "2022-12-19T19:41:36.244617Z"
    },
    "papermill": {
     "duration": 4.162878,
     "end_time": "2022-12-19T19:41:36.247945",
     "exception": false,
     "start_time": "2022-12-19T19:41:32.085067",
     "status": "completed"
    },
    "tags": []
   },
   "outputs": [],
   "source": [
    "# Cross validate model with Kfold stratified cross val\n",
    "kfold = StratifiedKFold(n_splits=10)\n",
    "r_s = 2\n",
    "classifiers = []\n",
    "\n",
    "# Algos\n",
    "classifiers.append(KNeighborsClassifier())\n",
    "classifiers.append(LinearDiscriminantAnalysis())\n",
    "classifiers.append(SVC(random_state=r_s))\n",
    "classifiers.append(DecisionTreeClassifier(random_state=r_s))\n",
    "classifiers.append(RandomForestClassifier(random_state=r_s))\n",
    "classifiers.append(ExtraTreesClassifier(random_state=r_s))\n",
    "classifiers.append(LogisticRegression(random_state=r_s))\n",
    "classifiers.append(GradientBoostingClassifier(random_state=r_s))\n",
    "classifiers.append(AdaBoostClassifier(\n",
    "    DecisionTreeClassifier(random_state=r_s),random_state=r_s,learning_rate=0.1))\n",
    "\n",
    "# for model in classifiers:\n",
    "#     cross_val(model,X_train, y_train, kfold)\n",
    "\n",
    "score_results = [cross_val(model,X_train, y_train, kfold) for model in classifiers]"
   ]
  },
  {
   "cell_type": "code",
   "execution_count": 53,
   "id": "11baf24d",
   "metadata": {
    "execution": {
     "iopub.execute_input": "2022-12-19T19:41:36.303695Z",
     "iopub.status.busy": "2022-12-19T19:41:36.303336Z",
     "iopub.status.idle": "2022-12-19T19:41:36.316252Z",
     "shell.execute_reply": "2022-12-19T19:41:36.315009Z"
    },
    "papermill": {
     "duration": 0.043224,
     "end_time": "2022-12-19T19:41:36.318006",
     "exception": false,
     "start_time": "2022-12-19T19:41:36.274782",
     "status": "completed"
    },
    "tags": []
   },
   "outputs": [
    {
     "data": {
      "text/html": [
       "<div>\n",
       "<style scoped>\n",
       "    .dataframe tbody tr th:only-of-type {\n",
       "        vertical-align: middle;\n",
       "    }\n",
       "\n",
       "    .dataframe tbody tr th {\n",
       "        vertical-align: top;\n",
       "    }\n",
       "\n",
       "    .dataframe thead th {\n",
       "        text-align: right;\n",
       "    }\n",
       "</style>\n",
       "<table border=\"1\" class=\"dataframe\">\n",
       "  <thead>\n",
       "    <tr style=\"text-align: right;\">\n",
       "      <th></th>\n",
       "      <th>CrossValMeans</th>\n",
       "      <th>CrossValerrors</th>\n",
       "      <th>Algorithm</th>\n",
       "    </tr>\n",
       "  </thead>\n",
       "  <tbody>\n",
       "    <tr>\n",
       "      <th>0</th>\n",
       "      <td>0.804088</td>\n",
       "      <td>0.036983</td>\n",
       "      <td>KNeighboors</td>\n",
       "    </tr>\n",
       "    <tr>\n",
       "      <th>1</th>\n",
       "      <td>0.811063</td>\n",
       "      <td>0.055651</td>\n",
       "      <td>LinearDiscriminantAnalysis</td>\n",
       "    </tr>\n",
       "    <tr>\n",
       "      <th>2</th>\n",
       "      <td>0.812160</td>\n",
       "      <td>0.040117</td>\n",
       "      <td>SVC</td>\n",
       "    </tr>\n",
       "    <tr>\n",
       "      <th>3</th>\n",
       "      <td>0.802978</td>\n",
       "      <td>0.041544</td>\n",
       "      <td>DecisionTree</td>\n",
       "    </tr>\n",
       "    <tr>\n",
       "      <th>4</th>\n",
       "      <td>0.806466</td>\n",
       "      <td>0.053527</td>\n",
       "      <td>RandomForest</td>\n",
       "    </tr>\n",
       "    <tr>\n",
       "      <th>5</th>\n",
       "      <td>0.803043</td>\n",
       "      <td>0.039398</td>\n",
       "      <td>ExtraTrees</td>\n",
       "    </tr>\n",
       "    <tr>\n",
       "      <th>6</th>\n",
       "      <td>0.815622</td>\n",
       "      <td>0.041759</td>\n",
       "      <td>LogisticRegression</td>\n",
       "    </tr>\n",
       "    <tr>\n",
       "      <th>7</th>\n",
       "      <td>0.832615</td>\n",
       "      <td>0.043593</td>\n",
       "      <td>GradientBoosting</td>\n",
       "    </tr>\n",
       "    <tr>\n",
       "      <th>8</th>\n",
       "      <td>0.806466</td>\n",
       "      <td>0.051573</td>\n",
       "      <td>AdaBoost</td>\n",
       "    </tr>\n",
       "  </tbody>\n",
       "</table>\n",
       "</div>"
      ],
      "text/plain": [
       "   CrossValMeans  CrossValerrors                   Algorithm\n",
       "0       0.804088        0.036983                 KNeighboors\n",
       "1       0.811063        0.055651  LinearDiscriminantAnalysis\n",
       "2       0.812160        0.040117                         SVC\n",
       "3       0.802978        0.041544                DecisionTree\n",
       "4       0.806466        0.053527                RandomForest\n",
       "5       0.803043        0.039398                  ExtraTrees\n",
       "6       0.815622        0.041759          LogisticRegression\n",
       "7       0.832615        0.043593            GradientBoosting\n",
       "8       0.806466        0.051573                    AdaBoost"
      ]
     },
     "execution_count": 53,
     "metadata": {},
     "output_type": "execute_result"
    }
   ],
   "source": [
    "# Convert algo scores into Dataframe\n",
    "algo_df=pd.DataFrame({\"CrossValMeans\":[score[0] for score in score_results],\n",
    "                      \"CrossValerrors\":[score[1] for score in score_results],\n",
    "                      \"Algorithm\":[\"KNeighboors\",\"LinearDiscriminantAnalysis\",\"SVC\",\n",
    "                                  \"DecisionTree\",\"RandomForest\",\"ExtraTrees\",\n",
    "                                   \"LogisticRegression\",\"GradientBoosting\",\"AdaBoost\"]})\n",
    "# Check df\n",
    "algo_df"
   ]
  },
  {
   "cell_type": "code",
   "execution_count": 54,
   "id": "726822b1",
   "metadata": {
    "execution": {
     "iopub.execute_input": "2022-12-19T19:41:36.372136Z",
     "iopub.status.busy": "2022-12-19T19:41:36.371436Z",
     "iopub.status.idle": "2022-12-19T19:41:36.601295Z",
     "shell.execute_reply": "2022-12-19T19:41:36.600192Z"
    },
    "papermill": {
     "duration": 0.259445,
     "end_time": "2022-12-19T19:41:36.603812",
     "exception": false,
     "start_time": "2022-12-19T19:41:36.344367",
     "status": "completed"
    },
    "tags": []
   },
   "outputs": [
    {
     "data": {
      "image/png": "[encoded data removed]",
      "text/plain": [
       "<Figure size 432x288 with 1 Axes>"
      ]
     },
     "metadata": {},
     "output_type": "display_data"
    }
   ],
   "source": [
    "ax = sns.barplot(\"CrossValMeans\",\"Algorithm\",data = algo_df, orient='h',\n",
    "                 **{'xerr':algo_df['CrossValerrors']})\n",
    "ax.set_xlabel(\"Mean Accuracy\")\n",
    "ax = ax.set_title(\"Cross validation scores\")"
   ]
  },
  {
   "cell_type": "code",
   "execution_count": null,
   "id": "0e18bd8e",
   "metadata": {
    "papermill": {
     "duration": 0.026673,
     "end_time": "2022-12-19T19:41:36.657094",
     "exception": false,
     "start_time": "2022-12-19T19:41:36.630421",
     "status": "completed"
    },
    "tags": []
   },
   "outputs": [],
   "source": []
  }
 ],
 "metadata": {
  "kernelspec": {
   "display_name": "Python 3",
   "language": "python",
   "name": "python3"
  },
  "language_info": {
   "codemirror_mode": {
    "name": "ipython",
    "version": 3
   },
   "file_extension": ".py",
   "mimetype": "text/x-python",
   "name": "python",
   "nbconvert_exporter": "python",
   "pygments_lexer": "ipython3",
   "version": "3.7.12"
  },
  "papermill": {
   "default_parameters": {},
   "duration": 28.411627,
   "end_time": "2022-12-19T19:41:39.302764",
   "environment_variables": {},
   "exception": null,
   "input_path": "__notebook__.ipynb",
   "output_path": "__notebook__.ipynb",
   "parameters": {},
   "start_time": "2022-12-19T19:41:10.891137",
   "version": "2.3.4"
  }
 },
 "nbformat": 4,
 "nbformat_minor": 5
}
